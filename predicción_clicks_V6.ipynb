{
 "cells": [
  {
   "cell_type": "markdown",
   "metadata": {},
   "source": [
    "Probamos incluyendo de nuevo la columna Delay, pero pasándole primero una transformación logarítmica a aquellas columnas con una distribución asimétrica."
   ]
  },
  {
   "cell_type": "code",
   "execution_count": null,
   "metadata": {},
   "outputs": [],
   "source": [
    "import pandas as pd\n",
    "import numpy as np\n",
    "import matplotlib.pyplot as plt\n",
    "import seaborn as sns\n",
    "import plotly.express as px\n",
    "\n",
    "# Preprocessing\n",
    "from sklearn.preprocessing import MinMaxScaler\n",
    "\n",
    "# Train, Test\n",
    "from sklearn.model_selection import train_test_split\n",
    "\n",
    "# Metricas para regresiones\n",
    "from sklearn.metrics import mean_absolute_error\n",
    "from sklearn.metrics import mean_squared_error\n",
    "from sklearn.metrics import r2_score\n",
    "\n",
    "# Regresores\n",
    "from sklearn.linear_model import LinearRegression\n",
    "from sklearn.neighbors import KNeighborsRegressor\n",
    "from sklearn.neighbors import RadiusNeighborsRegressor\n",
    "from sklearn.tree import DecisionTreeRegressor\n",
    "from sklearn.ensemble import RandomForestRegressor\n",
    "from sklearn.svm import SVR\n",
    "from sklearn.ensemble import AdaBoostRegressor\n",
    "from sklearn.ensemble import GradientBoostingRegressor\n",
    "\n",
    "# Validacion\n",
    "from sklearn.model_selection import LeaveOneOut\n",
    "from sklearn.model_selection import KFold"
   ]
  },
  {
   "cell_type": "code",
   "execution_count": null,
   "metadata": {},
   "outputs": [],
   "source": [
    "df = pd.read_csv(\"Data/MeneosCompleto.csv\", delimiter=\";\")\n",
    "\n",
    "pd.set_option(\"display.precision\", 7)\n",
    "\n",
    "df.head(3)"
   ]
  },
  {
   "cell_type": "code",
   "execution_count": null,
   "metadata": {},
   "outputs": [],
   "source": [
    "def limpieza_datos(df):\n",
    "    #Limpieza de duplicados\n",
    "    df.drop_duplicates()\n",
    "\n",
    "    #Elimina las filas con valores NaN de las columnas que no son Clicks.\n",
    "    lista_columnas = df.columns.to_list()\n",
    "    lista_columnas.remove(\"Clicks\")\n",
    "\n",
    "    for columna in lista_columnas:\n",
    "        lista_indices = df[df[columna].isna() == True].index.tolist()\n",
    "        df = df.drop(index = lista_indices)\n",
    "    \n",
    "    # Creamos la columna delay que es el tiempo que transcurre entre que se envía el meneo y se publica\n",
    "    df[\"Delay\"] = df[\"Publicado\"] - df[\"Enviado\"]\n",
    "    \n",
    "    #Eliminación de columnas innecesarias\n",
    "    df = df.drop(columns=[\"Medio\", \"Publicado\", \"Enviado\", \"Positivos\", \"Anonimos\"], axis=1)\n",
    "    \n",
    "    # Separamos nuestro dataframe en uno de train, test y otro de predicción\n",
    "    df_tt = df[df[\"Clicks\"].isna() == False]\n",
    "\n",
    "    df_pred = df[df[\"Clicks\"].isna() == True]\n",
    "    df_pred.to_csv(\"Data/Datos_Pred.csv\", index=False)\n",
    "\n",
    "    # Eliminación de outliers\n",
    "    # df_tt = df_tt[df_tt[\"Meneos\"].between(50, 3000)]\n",
    "    df_tt = df_tt[df_tt[\"Negativos\"] <= 13]\n",
    "    df_tt = df_tt[df_tt[\"Comentarios\"].between(10, 150)]\n",
    "    df_tt = df_tt[df_tt[\"Karma\"].between(230, 700)]\n",
    "    # df_tt = df_tt[df_tt[\"Clicks\"].between(263, 37946)]\n",
    "\n",
    "\n",
    "    # Guardamos nuestro dataframe de train, test\n",
    "    df_tt.to_csv(\"Data/Datos_TrainTest.csv\", index=False)\n",
    "\n",
    "    return(df_tt)"
   ]
  },
  {
   "cell_type": "code",
   "execution_count": null,
   "metadata": {},
   "outputs": [],
   "source": [
    "df_tt = limpieza_datos(df)"
   ]
  },
  {
   "cell_type": "code",
   "execution_count": null,
   "metadata": {},
   "outputs": [],
   "source": [
    "df_tt.head()"
   ]
  },
  {
   "cell_type": "markdown",
   "metadata": {},
   "source": [
    "## OUTLIERS ##"
   ]
  },
  {
   "cell_type": "code",
   "execution_count": null,
   "metadata": {},
   "outputs": [],
   "source": [
    "def graficas_box(df_tt, feature, transform = None):\n",
    "    if transform == None:\n",
    "        return(px.histogram(df[feature], marginal=\"box\"))\n",
    "    else:\n",
    "        return(px.histogram(df[feature].apply(transform), marginal=\"box\"))"
   ]
  },
  {
   "cell_type": "code",
   "execution_count": null,
   "metadata": {},
   "outputs": [],
   "source": [
    "def outliers_log(feature):\n",
    "    global df_tt\n",
    "    stats = df_tt[feature].apply(np.log).describe()\n",
    "    q1 = stats[\"25%\"]\n",
    "    q3 = stats[\"75%\"]\n",
    "    ric = q3 - q1\n",
    "\n",
    "    lim_inf = q1 - 1.5*ric\n",
    "    lim_sup = q3 + 1.5*ric\n",
    "\n",
    "    df_tt[feature] = df_tt[feature].apply(np.log)\n",
    "    return(df_tt[df_tt[feature].between(lim_inf, lim_sup)])"
   ]
  },
  {
   "cell_type": "markdown",
   "metadata": {},
   "source": [
    "# Meneos #"
   ]
  },
  {
   "cell_type": "code",
   "execution_count": null,
   "metadata": {},
   "outputs": [],
   "source": [
    "graficas_box(df_tt, \"Meneos\")"
   ]
  },
  {
   "cell_type": "code",
   "execution_count": null,
   "metadata": {},
   "outputs": [],
   "source": [
    "graficas_box(df_tt, \"Meneos\", transform=np.log)"
   ]
  },
  {
   "cell_type": "code",
   "execution_count": null,
   "metadata": {},
   "outputs": [],
   "source": [
    "df_tt.shape"
   ]
  },
  {
   "cell_type": "code",
   "execution_count": null,
   "metadata": {},
   "outputs": [],
   "source": [
    "df_tt = outliers_log(\"Meneos\")"
   ]
  },
  {
   "cell_type": "code",
   "execution_count": null,
   "metadata": {},
   "outputs": [],
   "source": [
    "df_tt.shape"
   ]
  },
  {
   "cell_type": "markdown",
   "metadata": {},
   "source": [
    "# Negativos #"
   ]
  },
  {
   "cell_type": "code",
   "execution_count": null,
   "metadata": {},
   "outputs": [],
   "source": [
    "graficas_box(df_tt, \"Negativos\")"
   ]
  },
  {
   "cell_type": "code",
   "execution_count": null,
   "metadata": {},
   "outputs": [],
   "source": [
    "graficas_box(df_tt, \"Negativos\", transform = np.log)"
   ]
  },
  {
   "cell_type": "code",
   "execution_count": null,
   "metadata": {},
   "outputs": [],
   "source": [
    "df_tt = outliers_log(\"Negativos\")"
   ]
  },
  {
   "cell_type": "markdown",
   "metadata": {},
   "source": [
    "# Comentarios # "
   ]
  },
  {
   "cell_type": "code",
   "execution_count": null,
   "metadata": {},
   "outputs": [],
   "source": [
    "graficas_box(df_tt, \"Comentarios\")"
   ]
  },
  {
   "cell_type": "code",
   "execution_count": null,
   "metadata": {},
   "outputs": [],
   "source": [
    "graficas_box(df_tt, \"Comentarios\", transform = np.log)"
   ]
  },
  {
   "cell_type": "code",
   "execution_count": null,
   "metadata": {},
   "outputs": [],
   "source": [
    "df_tt = outliers_log(\"Comentarios\")"
   ]
  },
  {
   "cell_type": "code",
   "execution_count": null,
   "metadata": {},
   "outputs": [],
   "source": [
    "df_tt.shape"
   ]
  },
  {
   "cell_type": "markdown",
   "metadata": {},
   "source": [
    "# Karma #"
   ]
  },
  {
   "cell_type": "code",
   "execution_count": null,
   "metadata": {},
   "outputs": [],
   "source": [
    "graficas_box(df_tt, \"Karma\")"
   ]
  },
  {
   "cell_type": "code",
   "execution_count": null,
   "metadata": {},
   "outputs": [],
   "source": [
    "graficas_box(df_tt, \"Karma\", transform = np.log)"
   ]
  },
  {
   "cell_type": "code",
   "execution_count": null,
   "metadata": {},
   "outputs": [],
   "source": [
    "df_tt = outliers_log(\"Karma\")"
   ]
  },
  {
   "cell_type": "code",
   "execution_count": null,
   "metadata": {},
   "outputs": [],
   "source": [
    "df_tt.shape"
   ]
  },
  {
   "cell_type": "markdown",
   "metadata": {},
   "source": [
    "## Clicks ##"
   ]
  },
  {
   "cell_type": "code",
   "execution_count": null,
   "metadata": {},
   "outputs": [],
   "source": [
    "graficas_box(df_tt, \"Clicks\")"
   ]
  },
  {
   "cell_type": "code",
   "execution_count": null,
   "metadata": {},
   "outputs": [],
   "source": [
    "graficas_box(df_tt, \"Clicks\", transform = np.log)"
   ]
  },
  {
   "cell_type": "code",
   "execution_count": null,
   "metadata": {},
   "outputs": [],
   "source": [
    "df_tt = outliers_log(\"Clicks\")"
   ]
  },
  {
   "cell_type": "code",
   "execution_count": null,
   "metadata": {},
   "outputs": [],
   "source": [
    "df_tt.shape"
   ]
  },
  {
   "cell_type": "code",
   "execution_count": null,
   "metadata": {},
   "outputs": [],
   "source": [
    "df_tt[\"Negativos\"].value_counts()"
   ]
  },
  {
   "cell_type": "markdown",
   "metadata": {},
   "source": [
    "## ***VISUALIZACIONES***"
   ]
  },
  {
   "cell_type": "code",
   "execution_count": null,
   "metadata": {},
   "outputs": [],
   "source": [
    "plt.figure(figsize = (12, 8))\n",
    "sns.heatmap(data = df_tt._get_numeric_data().corr(), annot = True)\n",
    "plt.show()"
   ]
  },
  {
   "cell_type": "markdown",
   "metadata": {},
   "source": [
    "## PREPROCESAMIENTO ##"
   ]
  },
  {
   "cell_type": "code",
   "execution_count": null,
   "metadata": {},
   "outputs": [],
   "source": [
    "df_tt.head(3)"
   ]
  },
  {
   "cell_type": "code",
   "execution_count": null,
   "metadata": {},
   "outputs": [],
   "source": [
    "modelos = [LinearRegression(),\n",
    "            KNeighborsRegressor(),\n",
    "            # RadiusNeighborsRegressor(),\n",
    "            DecisionTreeRegressor(),\n",
    "            RandomForestRegressor(),\n",
    "            SVR(),\n",
    "            AdaBoostRegressor(),\n",
    "            GradientBoostingRegressor()]"
   ]
  },
  {
   "cell_type": "code",
   "execution_count": null,
   "metadata": {},
   "outputs": [],
   "source": [
    "# train, test split\n",
    "\n",
    "X = df_tt.iloc[:, 2:].drop([\"Clicks\"], axis = 1)\n",
    "y = df_tt[[\"Clicks\"]]\n",
    "\n",
    "X_train, X_test, y_train, y_test = train_test_split(X, y, test_size = 0.2, random_state=42)\n",
    "\n",
    "x_scaler = MinMaxScaler()\n",
    "X_train = x_scaler.fit_transform(X_train)\n",
    "X_test = x_scaler.transform(X_test)\n",
    "\n",
    "y_scaler = MinMaxScaler()\n",
    "y_train = y_scaler.fit_transform(y_train)\n",
    "y_test = y_scaler.transform(y_test)\n",
    "\n",
    "datos_modelos = list()\n",
    "\n",
    "for model in modelos:\n",
    "\n",
    "    model.fit(X_train, y_train.ravel())\n",
    "    yhat = model.predict(X_test)\n",
    "\n",
    "    y_test_inv = np.exp(y_scaler.inverse_transform(y_test.reshape(-1, 1)))\n",
    "    yhat_inv = np.exp(y_scaler.inverse_transform(yhat.reshape(-1, 1)))\n",
    "\n",
    "    #Metricas\n",
    "    mae = mean_absolute_error(y_test_inv, yhat_inv)\n",
    "    mse = mean_squared_error(y_test_inv, yhat_inv)\n",
    "    r2 = r2_score(y_test_inv, yhat_inv)\n",
    "\n",
    "    datos_modelos.append([str(model).strip(\"()\"), model, mae, mse, r2])\n",
    "\n",
    "df_modelo = pd.DataFrame(data = datos_modelos, columns = [\"name\", \"model\", \"mae\", \"mse\", \"r2\"])\n",
    "\n",
    "df_modelo.sort_values(\"r2\", ascending = False)\n",
    "\n"
   ]
  },
  {
   "cell_type": "code",
   "execution_count": null,
   "metadata": {},
   "outputs": [],
   "source": [
    "np.exp(0.1254725)"
   ]
  },
  {
   "cell_type": "code",
   "execution_count": null,
   "metadata": {},
   "outputs": [],
   "source": [
    "y_train.shape"
   ]
  },
  {
   "cell_type": "code",
   "execution_count": null,
   "metadata": {},
   "outputs": [],
   "source": [
    "type(y_train)"
   ]
  },
  {
   "cell_type": "code",
   "execution_count": null,
   "metadata": {},
   "outputs": [],
   "source": [
    "for i in datos_modelos:\n",
    "    datos_modelos[i][1]"
   ]
  },
  {
   "cell_type": "code",
   "execution_count": null,
   "metadata": {},
   "outputs": [],
   "source": [
    "import pickle\n",
    "import os\n",
    "\n",
    "try:\n",
    "    os.mkdir(\"modelos_clicks\")\n",
    "except: pass\n",
    "\n",
    "# Guardamos el mejor modelo y los escaladores\n",
    "\n",
    "for i in range(len(datos_modelos)):\n",
    "    modelo = datos_modelos[i][1]\n",
    "\n",
    "    with open(file = f\"modelos_clicks/{str(modelo)}.pkl\", mode = \"bw\") as file:\n",
    "        pickle.dump(modelo, file)\n",
    "    \n",
    "    print(f\"modelos_clicks/{str(modelo)}.pkl\")"
   ]
  },
  {
   "cell_type": "code",
   "execution_count": null,
   "metadata": {},
   "outputs": [],
   "source": []
  },
  {
   "cell_type": "code",
   "execution_count": null,
   "metadata": {},
   "outputs": [],
   "source": [
    "str(model)"
   ]
  },
  {
   "cell_type": "code",
   "execution_count": null,
   "metadata": {},
   "outputs": [],
   "source": []
  }
 ],
 "metadata": {
  "kernelspec": {
   "display_name": "base",
   "language": "python",
   "name": "python3"
  },
  "language_info": {
   "codemirror_mode": {
    "name": "ipython",
    "version": 3
   },
   "file_extension": ".py",
   "mimetype": "text/x-python",
   "name": "python",
   "nbconvert_exporter": "python",
   "pygments_lexer": "ipython3",
   "version": "3.11.8"
  }
 },
 "nbformat": 4,
 "nbformat_minor": 2
}
