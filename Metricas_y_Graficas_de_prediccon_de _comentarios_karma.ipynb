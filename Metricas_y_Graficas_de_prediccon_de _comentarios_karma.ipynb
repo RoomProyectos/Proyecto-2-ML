{
 "cells": [
  {
   "cell_type": "markdown",
   "metadata": {},
   "source": [
    "### Exposicion de las metricas obtenidas en la predicción de karma segun el karma actual de los comentarios."
   ]
  },
  {
   "cell_type": "code",
   "execution_count": 1,
   "metadata": {},
   "outputs": [],
   "source": [
    "import numpy as np\n",
    "import pandas as pd\n",
    "\n",
    "import plotly as plt\n",
    "import plotly as str\n",
    "import matplotlib.pyplot as plt\n",
    "import plotly.express as px\n",
    "import seaborn as sns"
   ]
  },
  {
   "cell_type": "code",
   "execution_count": 2,
   "metadata": {},
   "outputs": [],
   "source": [
    "metricas_1_5 = [\n",
    "    {'Modelo': 'LinearRegression','karma_Q3': 1.5, 'karma_Q1': 1.5, 'Bigote superior': 58, 'Bigote inferior': -22, 'MAE': 17.35527958409468, 'MSE': 3524.3815902220676, 'RMSE': 59.36650225692994, 'R2': -22.48181281609597},\n",
    "    {'Modelo': 'KNeighborsRegressor','karma_Q3': 1.5, 'karma_Q1': 1.5, 'Bigote superior': 58, 'Bigote inferior': -22, 'MAE': 9.610798384177029, 'MSE': 171.61590924481843, 'RMSE': 13.100225541753792, 'R2': -0.14342120851250484},\n",
    "    {'Modelo': 'DecisionTreeRegressor','karma_Q3': 1.5, 'karma_Q1': 1.5, 'Bigote superior': 58, 'Bigote inferior': -22, 'MAE': 11.707938027584852, 'MSE': 273.7842466561918, 'RMSE': 16.546427005737275, 'R2': -0.8241357433635506},\n",
    "    {'Modelo': 'AdaBoostRegressor','karma_Q3': 1.5, 'karma_Q1': 1.5, 'Bigote superior': 58, 'Bigote inferior': -22, 'MAE': 10.10279784649557, 'MSE': 154.21218886035678, 'RMSE': 12.41822003591323, 'R2': -0.02746585750698216},\n",
    "    {'Modelo': 'GradientBoostingRegressor','karma_Q3': 1.5, 'karma_Q1': 1.5, 'Bigote superior': 58, 'Bigote inferior': -22, 'MAE': 9.292092233264496, 'MSE': 149.94135404952226, 'RMSE': 12.245054268949659, 'R2': .0009893313053519481}]\n",
    "metricas_1_8 = [\n",
    "    {'Modelo': 'LinearRegression','karma_Q3': 1.8, 'karma_Q1': 1.8, 'Bigote superior': 64, 'Bigote inferior': -28, 'MAE': 18.403909260842937, 'MSE': 2094.2260467042743, 'RMSE': 45.7627145906389, 'R2': -11.006424277577624},\n",
    "    {'Modelo': 'KNeighborsRegressor','karma_Q3': 1.8, 'karma_Q1': 1.8, 'Bigote superior': 64, 'Bigote inferior': -28, 'MAE': 10.314301344130294, 'MSE': 200.7726503520611, 'RMSE': 14.16942660632607, 'R2': -0.15105130473099582},\n",
    "    {'Modelo': 'DecisionTreeRegressor','karma_Q3': 1.8, 'karma_Q1': 1.8, 'Bigote superior': 64, 'Bigote inferior': -28, 'MAE': 12.458078177841768, 'MSE': 318.82268582567065, 'RMSE': 17.85560656560484, 'R2': -0.8278449173927098},\n",
    "    {'Modelo': 'AdaBoostRegressor','karma_Q3': 1.8, 'karma_Q1': 1.8, 'Bigote superior': 64, 'Bigote inferior': -28, 'MAE': 11.033955980067844, 'MSE': 182.80078805141093, 'RMSE': 13.520384168040897, 'R2': -0.048016675694946054},\n",
    "    {'Modelo': 'GradientBoostingRegressor','karma_Q3': 1.8, 'karma_Q1': 1.8, 'Bigote superior': 64, 'Bigote inferior': -28, 'MAE': 9.848579308405684, 'MSE': 174.19894827860597, 'RMSE': 13.198444918951852, 'R2': 0.0012986014417165626}]\n",
    "metricas_2 = [\n",
    "    {'Modelo': 'LinearRegression','karma_Q3': 2.0, 'karma_Q1': 2.0, 'Bigote superior': 68, 'Bigote inferior': -32, 'MAE': 18.76577139269872, 'MSE': 1263.027370965061, 'RMSE': 35.53909637237645, 'R2': -5.620772763811869},\n",
    "    {'Modelo': 'KNeighborsRegressor','karma_Q3': 2.0, 'karma_Q1': 2.0, 'Bigote superior': 68, 'Bigote inferior': -32, 'MAE': 10.585008740460857, 'MSE': 217.94565417867187, 'RMSE': 14.762982563786759, 'R2': -0.14246823493204253},\n",
    "    {'Modelo': 'DecisionTreeRegressor','karma_Q3': 2.0, 'karma_Q1': 2.0, 'Bigote superior': 68, 'Bigote inferior': -32, 'MAE': 12.930112501265219, 'MSE': 348.66245281767823, 'RMSE': 18.672505263560062, 'R2': -0.8276839635037352},\n",
    "    {'Modelo': 'AdaBoostRegressor','karma_Q3': 2.0, 'karma_Q1': 2.0, 'Bigote superior': 68, 'Bigote inferior': -32, 'MAE': 10.962863827285991, 'MSE': 193.87040417984457, 'RMSE': 13.92373528116089, 'R2': -0.016266093047813346},\n",
    "    {'Modelo': 'GradientBoostingRegressor','karma_Q3': 2.0, 'karma_Q1': 2.0, 'Bigote superior': 68, 'Bigote inferior': -32, 'MAE': 10.222744822040953, 'MSE': 190.34785791347477 , 'RMSE': 13.796661114685493, 'R2': 0.0021990478634468236}]\n",
    "metricas_2_4 = [\n",
    "    {'Modelo': 'LinearRegression','karma_Q3': 2.4, 'karma_Q1': 2.4, 'Bigote superior': 76, 'Bigote inferior': -40, 'MAE': 20.793170734521254, 'MSE': 2388.225948179828, 'RMSE': 48.86947869764755, 'R2': -9.41745094359656},\n",
    "    {'Modelo': 'KNeighborsRegressor','karma_Q3': 2.4, 'karma_Q1': 2.4, 'Bigote superior': 76, 'Bigote inferior': -40, 'MAE': 11.419645384617338, 'MSE': 261.68515817579623, 'RMSE': 16.176685636303755, 'R2': -0.1414716853073883},\n",
    "    {'Modelo': 'DecisionTreeRegressor','karma_Q3': 2.4, 'karma_Q1': 2.4, 'Bigote superior': 76, 'Bigote inferior': -40, 'MAE': 14.04762790033801, 'MSE': 423.4272680404674, 'RMSE': 20.577348421030038, 'R2': -0.8469914022810627},\n",
    "    {'Modelo': 'AdaBoostRegressor','karma_Q3': 2.4, 'karma_Q1': 2.4, 'Bigote superior': 76, 'Bigote inferior': -40, 'MAE': 11.811220169149749, 'MSE': 232.3322376023912, 'RMSE': 15.24244854353759, 'R2': -0.013434130754485185},\n",
    "    {'Modelo': 'GradientBoostingRegressor','karma_Q3': 2.4, 'karma_Q1': 2.4, 'Bigote superior': 76, 'Bigote inferior': -40, 'MAE': 10.983117307478775, 'MSE': 229.11121344458275, 'RMSE': 15.136420100029687, 'R2': 0.0006159892426123026}]\n",
    "metricas_3 = [\n",
    "    {'Modelo': 'LinearRegression','karma_Q3': 3.0, 'karma_Q1': 3.0, 'Bigote superior': 89, 'Bigote inferior': -51, 'MAE': 23.35164288654165, 'MSE': 5079.315461829055, 'RMSE': 71.2693164119669, 'R2': -16.42142839962873},\n",
    "    {'Modelo': 'KNeighborsRegressor','karma_Q3': 3.0, 'karma_Q1': 3.0, 'Bigote superior': 89, 'Bigote inferior': -51, 'MAE': 12.575908941942131, 'MSE': 331.29529808346416, 'RMSE': 18.201519114718533, 'R2': -0.1363021962444464},\n",
    "    {'Modelo': 'DecisionTreeRegressor','karma_Q3': 3.0, 'karma_Q1': 3.0, 'Bigote superior': 89, 'Bigote inferior': -51, 'MAE': 15.162366468787791, 'MSE': 521.4316990733921, 'RMSE': 22.834879002819175, 'R2': -0.7884467068388561},\n",
    "    {'Modelo': 'AdaBoostRegressor','karma_Q3': 3.0, 'karma_Q1': 3.0, 'Bigote superior': 89, 'Bigote inferior': -51, 'MAE': 13.29818214271661, 'MSE': 297.7608103697654, 'RMSE': 17.255747169269878, 'R2': -0.021283020725063384},\n",
    "    {'Modelo': 'GradientBoostingRegressor','karma_Q3': 3.0, 'karma_Q1': 3.0, 'Bigote superior': 89, 'Bigote inferior': -51, 'MAE': 12.120131092594018, 'MSE': 290.90188720005244, 'RMSE': 17.055846129701465, 'R2': 0.0022422436137418122}]\n",
    "\n",
    "df_metricas_1_5 = pd.DataFrame(metricas_1_5)\n",
    "df_metricas_1_8 = pd.DataFrame(metricas_1_8)\n",
    "df_metricas_2 = pd.DataFrame(metricas_2)\n",
    "df_metricas_2_4 = pd.DataFrame(metricas_2_4)\n",
    "df_metricas_3 = pd.DataFrame(metricas_3)"
   ]
  },
  {
   "cell_type": "markdown",
   "metadata": {},
   "source": [
    "## Metricas segun cuartiles a 1.5"
   ]
  },
  {
   "cell_type": "code",
   "execution_count": 3,
   "metadata": {},
   "outputs": [
    {
     "data": {
      "text/html": [
       "<div>\n",
       "<style scoped>\n",
       "    .dataframe tbody tr th:only-of-type {\n",
       "        vertical-align: middle;\n",
       "    }\n",
       "\n",
       "    .dataframe tbody tr th {\n",
       "        vertical-align: top;\n",
       "    }\n",
       "\n",
       "    .dataframe thead th {\n",
       "        text-align: right;\n",
       "    }\n",
       "</style>\n",
       "<table border=\"1\" class=\"dataframe\">\n",
       "  <thead>\n",
       "    <tr style=\"text-align: right;\">\n",
       "      <th></th>\n",
       "      <th>Modelo</th>\n",
       "      <th>karma_Q3</th>\n",
       "      <th>karma_Q1</th>\n",
       "      <th>Bigote superior</th>\n",
       "      <th>Bigote inferior</th>\n",
       "      <th>MAE</th>\n",
       "      <th>MSE</th>\n",
       "      <th>RMSE</th>\n",
       "      <th>R2</th>\n",
       "    </tr>\n",
       "  </thead>\n",
       "  <tbody>\n",
       "    <tr>\n",
       "      <th>0</th>\n",
       "      <td>LinearRegression</td>\n",
       "      <td>1.5</td>\n",
       "      <td>1.5</td>\n",
       "      <td>58</td>\n",
       "      <td>-22</td>\n",
       "      <td>17.355280</td>\n",
       "      <td>3524.381590</td>\n",
       "      <td>59.366502</td>\n",
       "      <td>-22.481813</td>\n",
       "    </tr>\n",
       "    <tr>\n",
       "      <th>1</th>\n",
       "      <td>KNeighborsRegressor</td>\n",
       "      <td>1.5</td>\n",
       "      <td>1.5</td>\n",
       "      <td>58</td>\n",
       "      <td>-22</td>\n",
       "      <td>9.610798</td>\n",
       "      <td>171.615909</td>\n",
       "      <td>13.100226</td>\n",
       "      <td>-0.143421</td>\n",
       "    </tr>\n",
       "    <tr>\n",
       "      <th>2</th>\n",
       "      <td>DecisionTreeRegressor</td>\n",
       "      <td>1.5</td>\n",
       "      <td>1.5</td>\n",
       "      <td>58</td>\n",
       "      <td>-22</td>\n",
       "      <td>11.707938</td>\n",
       "      <td>273.784247</td>\n",
       "      <td>16.546427</td>\n",
       "      <td>-0.824136</td>\n",
       "    </tr>\n",
       "    <tr>\n",
       "      <th>3</th>\n",
       "      <td>AdaBoostRegressor</td>\n",
       "      <td>1.5</td>\n",
       "      <td>1.5</td>\n",
       "      <td>58</td>\n",
       "      <td>-22</td>\n",
       "      <td>10.102798</td>\n",
       "      <td>154.212189</td>\n",
       "      <td>12.418220</td>\n",
       "      <td>-0.027466</td>\n",
       "    </tr>\n",
       "    <tr>\n",
       "      <th>4</th>\n",
       "      <td>GradientBoostingRegressor</td>\n",
       "      <td>1.5</td>\n",
       "      <td>1.5</td>\n",
       "      <td>58</td>\n",
       "      <td>-22</td>\n",
       "      <td>9.292092</td>\n",
       "      <td>149.941354</td>\n",
       "      <td>12.245054</td>\n",
       "      <td>0.000989</td>\n",
       "    </tr>\n",
       "  </tbody>\n",
       "</table>\n",
       "</div>"
      ],
      "text/plain": [
       "                      Modelo  karma_Q3  karma_Q1  Bigote superior  \\\n",
       "0           LinearRegression       1.5       1.5               58   \n",
       "1        KNeighborsRegressor       1.5       1.5               58   \n",
       "2      DecisionTreeRegressor       1.5       1.5               58   \n",
       "3          AdaBoostRegressor       1.5       1.5               58   \n",
       "4  GradientBoostingRegressor       1.5       1.5               58   \n",
       "\n",
       "   Bigote inferior        MAE          MSE       RMSE         R2  \n",
       "0              -22  17.355280  3524.381590  59.366502 -22.481813  \n",
       "1              -22   9.610798   171.615909  13.100226  -0.143421  \n",
       "2              -22  11.707938   273.784247  16.546427  -0.824136  \n",
       "3              -22  10.102798   154.212189  12.418220  -0.027466  \n",
       "4              -22   9.292092   149.941354  12.245054   0.000989  "
      ]
     },
     "execution_count": 3,
     "metadata": {},
     "output_type": "execute_result"
    }
   ],
   "source": [
    "df_metricas_1_5"
   ]
  },
  {
   "cell_type": "code",
   "execution_count": 27,
   "metadata": {},
   "outputs": [
    {
     "data": {
      "application/vnd.plotly.v1+json": {
       "config": {
        "plotlyServerURL": "https://plot.ly"
       },
       "data": [
        {
         "branchvalues": "total",
         "customdata": [
          [
           "AdaBoostRegressor"
          ],
          [
           "KNeighborsRegressor"
          ],
          [
           "GradientBoostingRegressor"
          ],
          [
           "DecisionTreeRegressor"
          ],
          [
           "LinearRegression"
          ],
          [
           "GradientBoostingRegressor"
          ],
          [
           "AdaBoostRegressor"
          ],
          [
           "KNeighborsRegressor"
          ],
          [
           "DecisionTreeRegressor"
          ],
          [
           "LinearRegression"
          ],
          [
           "GradientBoostingRegressor"
          ],
          [
           "AdaBoostRegressor"
          ],
          [
           "KNeighborsRegressor"
          ],
          [
           "DecisionTreeRegressor"
          ],
          [
           "LinearRegression"
          ],
          [
           "GradientBoostingRegressor"
          ],
          [
           "KNeighborsRegressor"
          ],
          [
           "AdaBoostRegressor"
          ],
          [
           "DecisionTreeRegressor"
          ],
          [
           "LinearRegression"
          ],
          [
           "AdaBoostRegressor"
          ],
          [
           "DecisionTreeRegressor"
          ],
          [
           "GradientBoostingRegressor"
          ],
          [
           "KNeighborsRegressor"
          ],
          [
           "LinearRegression"
          ],
          [
           "AdaBoostRegressor"
          ],
          [
           "DecisionTreeRegressor"
          ],
          [
           "GradientBoostingRegressor"
          ],
          [
           "KNeighborsRegressor"
          ],
          [
           "LinearRegression"
          ],
          [
           "AdaBoostRegressor"
          ],
          [
           "DecisionTreeRegressor"
          ],
          [
           "GradientBoostingRegressor"
          ],
          [
           "KNeighborsRegressor"
          ],
          [
           "LinearRegression"
          ],
          [
           "AdaBoostRegressor"
          ],
          [
           "DecisionTreeRegressor"
          ],
          [
           "GradientBoostingRegressor"
          ],
          [
           "KNeighborsRegressor"
          ],
          [
           "LinearRegression"
          ],
          [
           "AdaBoostRegressor"
          ],
          [
           "DecisionTreeRegressor"
          ],
          [
           "GradientBoostingRegressor"
          ],
          [
           "KNeighborsRegressor"
          ],
          [
           "LinearRegression"
          ]
         ],
         "domain": {
          "x": [
           0,
           1
          ],
          "y": [
           0,
           1
          ]
         },
         "hovertemplate": "<b>%{hovertext}</b><br><br>labels=%{label}<br>MAE=%{value}<br>parent=%{parent}<br>id=%{id}<br>Modelo=%{customdata[0]}<extra></extra>",
         "hovertext": [
          "AdaBoostRegressor",
          "KNeighborsRegressor",
          "GradientBoostingRegressor",
          "DecisionTreeRegressor",
          "LinearRegression",
          "GradientBoostingRegressor",
          "AdaBoostRegressor",
          "KNeighborsRegressor",
          "DecisionTreeRegressor",
          "LinearRegression",
          "GradientBoostingRegressor",
          "AdaBoostRegressor",
          "KNeighborsRegressor",
          "DecisionTreeRegressor",
          "LinearRegression",
          "GradientBoostingRegressor",
          "KNeighborsRegressor",
          "AdaBoostRegressor",
          "DecisionTreeRegressor",
          "LinearRegression",
          "AdaBoostRegressor",
          "DecisionTreeRegressor",
          "GradientBoostingRegressor",
          "KNeighborsRegressor",
          "LinearRegression",
          "AdaBoostRegressor",
          "DecisionTreeRegressor",
          "GradientBoostingRegressor",
          "KNeighborsRegressor",
          "LinearRegression",
          "AdaBoostRegressor",
          "DecisionTreeRegressor",
          "GradientBoostingRegressor",
          "KNeighborsRegressor",
          "LinearRegression",
          "AdaBoostRegressor",
          "DecisionTreeRegressor",
          "GradientBoostingRegressor",
          "KNeighborsRegressor",
          "LinearRegression",
          "AdaBoostRegressor",
          "DecisionTreeRegressor",
          "GradientBoostingRegressor",
          "KNeighborsRegressor",
          "LinearRegression"
         ],
         "ids": [
          "AdaBoostRegressor/1.5/1.5/58/-22/10.10279784649557/154.21218886035678/12.41822003591323/-0.02746585750698216",
          "KNeighborsRegressor/1.5/1.5/58/-22/9.610798384177029/171.61590924481843/13.100225541753792/-0.14342120851250484",
          "GradientBoostingRegressor/1.5/1.5/58/-22/9.292092233264496/149.94135404952226/12.245054268949659/0.0009893313053519481",
          "DecisionTreeRegressor/1.5/1.5/58/-22/11.707938027584852/273.7842466561918/16.546427005737275/-0.8241357433635506",
          "LinearRegression/1.5/1.5/58/-22/17.35527958409468/3524.3815902220676/59.36650225692994/-22.48181281609597",
          "GradientBoostingRegressor/1.5/1.5/58/-22/9.292092233264496/149.94135404952226/12.245054268949659",
          "AdaBoostRegressor/1.5/1.5/58/-22/10.10279784649557/154.21218886035678/12.41822003591323",
          "KNeighborsRegressor/1.5/1.5/58/-22/9.610798384177029/171.61590924481843/13.100225541753792",
          "DecisionTreeRegressor/1.5/1.5/58/-22/11.707938027584852/273.7842466561918/16.546427005737275",
          "LinearRegression/1.5/1.5/58/-22/17.35527958409468/3524.3815902220676/59.36650225692994",
          "GradientBoostingRegressor/1.5/1.5/58/-22/9.292092233264496/149.94135404952226",
          "AdaBoostRegressor/1.5/1.5/58/-22/10.10279784649557/154.21218886035678",
          "KNeighborsRegressor/1.5/1.5/58/-22/9.610798384177029/171.61590924481843",
          "DecisionTreeRegressor/1.5/1.5/58/-22/11.707938027584852/273.7842466561918",
          "LinearRegression/1.5/1.5/58/-22/17.35527958409468/3524.3815902220676",
          "GradientBoostingRegressor/1.5/1.5/58/-22/9.292092233264496",
          "KNeighborsRegressor/1.5/1.5/58/-22/9.610798384177029",
          "AdaBoostRegressor/1.5/1.5/58/-22/10.10279784649557",
          "DecisionTreeRegressor/1.5/1.5/58/-22/11.707938027584852",
          "LinearRegression/1.5/1.5/58/-22/17.35527958409468",
          "AdaBoostRegressor/1.5/1.5/58/-22",
          "DecisionTreeRegressor/1.5/1.5/58/-22",
          "GradientBoostingRegressor/1.5/1.5/58/-22",
          "KNeighborsRegressor/1.5/1.5/58/-22",
          "LinearRegression/1.5/1.5/58/-22",
          "AdaBoostRegressor/1.5/1.5/58",
          "DecisionTreeRegressor/1.5/1.5/58",
          "GradientBoostingRegressor/1.5/1.5/58",
          "KNeighborsRegressor/1.5/1.5/58",
          "LinearRegression/1.5/1.5/58",
          "AdaBoostRegressor/1.5/1.5",
          "DecisionTreeRegressor/1.5/1.5",
          "GradientBoostingRegressor/1.5/1.5",
          "KNeighborsRegressor/1.5/1.5",
          "LinearRegression/1.5/1.5",
          "AdaBoostRegressor/1.5",
          "DecisionTreeRegressor/1.5",
          "GradientBoostingRegressor/1.5",
          "KNeighborsRegressor/1.5",
          "LinearRegression/1.5",
          "AdaBoostRegressor",
          "DecisionTreeRegressor",
          "GradientBoostingRegressor",
          "KNeighborsRegressor",
          "LinearRegression"
         ],
         "labels": [
          "-0.02746585750698216",
          "-0.14342120851250484",
          "0.0009893313053519481",
          "-0.8241357433635506",
          "-22.48181281609597",
          "12.245054268949659",
          "12.41822003591323",
          "13.100225541753792",
          "16.546427005737275",
          "59.36650225692994",
          "149.94135404952226",
          "154.21218886035678",
          "171.61590924481843",
          "273.7842466561918",
          "3524.3815902220676",
          "9.292092233264496",
          "9.610798384177029",
          "10.10279784649557",
          "11.707938027584852",
          "17.35527958409468",
          "-22",
          "-22",
          "-22",
          "-22",
          "-22",
          "58",
          "58",
          "58",
          "58",
          "58",
          "1.5",
          "1.5",
          "1.5",
          "1.5",
          "1.5",
          "1.5",
          "1.5",
          "1.5",
          "1.5",
          "1.5",
          "AdaBoostRegressor",
          "DecisionTreeRegressor",
          "GradientBoostingRegressor",
          "KNeighborsRegressor",
          "LinearRegression"
         ],
         "marker": {
          "colors": [
           "#636efa",
           "#EF553B",
           "#00cc96",
           "#ab63fa",
           "#FFA15A",
           "#00cc96",
           "#636efa",
           "#EF553B",
           "#ab63fa",
           "#FFA15A",
           "#00cc96",
           "#636efa",
           "#EF553B",
           "#ab63fa",
           "#FFA15A",
           "#00cc96",
           "#EF553B",
           "#636efa",
           "#ab63fa",
           "#FFA15A",
           "#636efa",
           "#ab63fa",
           "#00cc96",
           "#EF553B",
           "#FFA15A",
           "#636efa",
           "#ab63fa",
           "#00cc96",
           "#EF553B",
           "#FFA15A",
           "#636efa",
           "#ab63fa",
           "#00cc96",
           "#EF553B",
           "#FFA15A",
           "#636efa",
           "#ab63fa",
           "#00cc96",
           "#EF553B",
           "#FFA15A",
           "#636efa",
           "#ab63fa",
           "#00cc96",
           "#EF553B",
           "#FFA15A"
          ]
         },
         "name": "",
         "parents": [
          "AdaBoostRegressor/1.5/1.5/58/-22/10.10279784649557/154.21218886035678/12.41822003591323",
          "KNeighborsRegressor/1.5/1.5/58/-22/9.610798384177029/171.61590924481843/13.100225541753792",
          "GradientBoostingRegressor/1.5/1.5/58/-22/9.292092233264496/149.94135404952226/12.245054268949659",
          "DecisionTreeRegressor/1.5/1.5/58/-22/11.707938027584852/273.7842466561918/16.546427005737275",
          "LinearRegression/1.5/1.5/58/-22/17.35527958409468/3524.3815902220676/59.36650225692994",
          "GradientBoostingRegressor/1.5/1.5/58/-22/9.292092233264496/149.94135404952226",
          "AdaBoostRegressor/1.5/1.5/58/-22/10.10279784649557/154.21218886035678",
          "KNeighborsRegressor/1.5/1.5/58/-22/9.610798384177029/171.61590924481843",
          "DecisionTreeRegressor/1.5/1.5/58/-22/11.707938027584852/273.7842466561918",
          "LinearRegression/1.5/1.5/58/-22/17.35527958409468/3524.3815902220676",
          "GradientBoostingRegressor/1.5/1.5/58/-22/9.292092233264496",
          "AdaBoostRegressor/1.5/1.5/58/-22/10.10279784649557",
          "KNeighborsRegressor/1.5/1.5/58/-22/9.610798384177029",
          "DecisionTreeRegressor/1.5/1.5/58/-22/11.707938027584852",
          "LinearRegression/1.5/1.5/58/-22/17.35527958409468",
          "GradientBoostingRegressor/1.5/1.5/58/-22",
          "KNeighborsRegressor/1.5/1.5/58/-22",
          "AdaBoostRegressor/1.5/1.5/58/-22",
          "DecisionTreeRegressor/1.5/1.5/58/-22",
          "LinearRegression/1.5/1.5/58/-22",
          "AdaBoostRegressor/1.5/1.5/58",
          "DecisionTreeRegressor/1.5/1.5/58",
          "GradientBoostingRegressor/1.5/1.5/58",
          "KNeighborsRegressor/1.5/1.5/58",
          "LinearRegression/1.5/1.5/58",
          "AdaBoostRegressor/1.5/1.5",
          "DecisionTreeRegressor/1.5/1.5",
          "GradientBoostingRegressor/1.5/1.5",
          "KNeighborsRegressor/1.5/1.5",
          "LinearRegression/1.5/1.5",
          "AdaBoostRegressor/1.5",
          "DecisionTreeRegressor/1.5",
          "GradientBoostingRegressor/1.5",
          "KNeighborsRegressor/1.5",
          "LinearRegression/1.5",
          "AdaBoostRegressor",
          "DecisionTreeRegressor",
          "GradientBoostingRegressor",
          "KNeighborsRegressor",
          "LinearRegression",
          "",
          "",
          "",
          "",
          ""
         ],
         "type": "treemap",
         "values": [
          10.10279784649557,
          9.610798384177029,
          9.292092233264496,
          11.707938027584852,
          17.35527958409468,
          9.292092233264496,
          10.10279784649557,
          9.610798384177029,
          11.707938027584852,
          17.35527958409468,
          9.292092233264496,
          10.10279784649557,
          9.610798384177029,
          11.707938027584852,
          17.35527958409468,
          9.292092233264496,
          9.610798384177029,
          10.10279784649557,
          11.707938027584852,
          17.35527958409468,
          10.10279784649557,
          11.707938027584852,
          9.292092233264496,
          9.610798384177029,
          17.35527958409468,
          10.10279784649557,
          11.707938027584852,
          9.292092233264496,
          9.610798384177029,
          17.35527958409468,
          10.10279784649557,
          11.707938027584852,
          9.292092233264496,
          9.610798384177029,
          17.35527958409468,
          10.10279784649557,
          11.707938027584852,
          9.292092233264496,
          9.610798384177029,
          17.35527958409468,
          10.10279784649557,
          11.707938027584852,
          9.292092233264496,
          9.610798384177029,
          17.35527958409468
         ]
        }
       ],
       "layout": {
        "legend": {
         "tracegroupgap": 0
        },
        "template": {
         "data": {
          "bar": [
           {
            "error_x": {
             "color": "#2a3f5f"
            },
            "error_y": {
             "color": "#2a3f5f"
            },
            "marker": {
             "line": {
              "color": "#E5ECF6",
              "width": 0.5
             },
             "pattern": {
              "fillmode": "overlay",
              "size": 10,
              "solidity": 0.2
             }
            },
            "type": "bar"
           }
          ],
          "barpolar": [
           {
            "marker": {
             "line": {
              "color": "#E5ECF6",
              "width": 0.5
             },
             "pattern": {
              "fillmode": "overlay",
              "size": 10,
              "solidity": 0.2
             }
            },
            "type": "barpolar"
           }
          ],
          "carpet": [
           {
            "aaxis": {
             "endlinecolor": "#2a3f5f",
             "gridcolor": "white",
             "linecolor": "white",
             "minorgridcolor": "white",
             "startlinecolor": "#2a3f5f"
            },
            "baxis": {
             "endlinecolor": "#2a3f5f",
             "gridcolor": "white",
             "linecolor": "white",
             "minorgridcolor": "white",
             "startlinecolor": "#2a3f5f"
            },
            "type": "carpet"
           }
          ],
          "choropleth": [
           {
            "colorbar": {
             "outlinewidth": 0,
             "ticks": ""
            },
            "type": "choropleth"
           }
          ],
          "contour": [
           {
            "colorbar": {
             "outlinewidth": 0,
             "ticks": ""
            },
            "colorscale": [
             [
              0,
              "#0d0887"
             ],
             [
              0.1111111111111111,
              "#46039f"
             ],
             [
              0.2222222222222222,
              "#7201a8"
             ],
             [
              0.3333333333333333,
              "#9c179e"
             ],
             [
              0.4444444444444444,
              "#bd3786"
             ],
             [
              0.5555555555555556,
              "#d8576b"
             ],
             [
              0.6666666666666666,
              "#ed7953"
             ],
             [
              0.7777777777777778,
              "#fb9f3a"
             ],
             [
              0.8888888888888888,
              "#fdca26"
             ],
             [
              1,
              "#f0f921"
             ]
            ],
            "type": "contour"
           }
          ],
          "contourcarpet": [
           {
            "colorbar": {
             "outlinewidth": 0,
             "ticks": ""
            },
            "type": "contourcarpet"
           }
          ],
          "heatmap": [
           {
            "colorbar": {
             "outlinewidth": 0,
             "ticks": ""
            },
            "colorscale": [
             [
              0,
              "#0d0887"
             ],
             [
              0.1111111111111111,
              "#46039f"
             ],
             [
              0.2222222222222222,
              "#7201a8"
             ],
             [
              0.3333333333333333,
              "#9c179e"
             ],
             [
              0.4444444444444444,
              "#bd3786"
             ],
             [
              0.5555555555555556,
              "#d8576b"
             ],
             [
              0.6666666666666666,
              "#ed7953"
             ],
             [
              0.7777777777777778,
              "#fb9f3a"
             ],
             [
              0.8888888888888888,
              "#fdca26"
             ],
             [
              1,
              "#f0f921"
             ]
            ],
            "type": "heatmap"
           }
          ],
          "heatmapgl": [
           {
            "colorbar": {
             "outlinewidth": 0,
             "ticks": ""
            },
            "colorscale": [
             [
              0,
              "#0d0887"
             ],
             [
              0.1111111111111111,
              "#46039f"
             ],
             [
              0.2222222222222222,
              "#7201a8"
             ],
             [
              0.3333333333333333,
              "#9c179e"
             ],
             [
              0.4444444444444444,
              "#bd3786"
             ],
             [
              0.5555555555555556,
              "#d8576b"
             ],
             [
              0.6666666666666666,
              "#ed7953"
             ],
             [
              0.7777777777777778,
              "#fb9f3a"
             ],
             [
              0.8888888888888888,
              "#fdca26"
             ],
             [
              1,
              "#f0f921"
             ]
            ],
            "type": "heatmapgl"
           }
          ],
          "histogram": [
           {
            "marker": {
             "pattern": {
              "fillmode": "overlay",
              "size": 10,
              "solidity": 0.2
             }
            },
            "type": "histogram"
           }
          ],
          "histogram2d": [
           {
            "colorbar": {
             "outlinewidth": 0,
             "ticks": ""
            },
            "colorscale": [
             [
              0,
              "#0d0887"
             ],
             [
              0.1111111111111111,
              "#46039f"
             ],
             [
              0.2222222222222222,
              "#7201a8"
             ],
             [
              0.3333333333333333,
              "#9c179e"
             ],
             [
              0.4444444444444444,
              "#bd3786"
             ],
             [
              0.5555555555555556,
              "#d8576b"
             ],
             [
              0.6666666666666666,
              "#ed7953"
             ],
             [
              0.7777777777777778,
              "#fb9f3a"
             ],
             [
              0.8888888888888888,
              "#fdca26"
             ],
             [
              1,
              "#f0f921"
             ]
            ],
            "type": "histogram2d"
           }
          ],
          "histogram2dcontour": [
           {
            "colorbar": {
             "outlinewidth": 0,
             "ticks": ""
            },
            "colorscale": [
             [
              0,
              "#0d0887"
             ],
             [
              0.1111111111111111,
              "#46039f"
             ],
             [
              0.2222222222222222,
              "#7201a8"
             ],
             [
              0.3333333333333333,
              "#9c179e"
             ],
             [
              0.4444444444444444,
              "#bd3786"
             ],
             [
              0.5555555555555556,
              "#d8576b"
             ],
             [
              0.6666666666666666,
              "#ed7953"
             ],
             [
              0.7777777777777778,
              "#fb9f3a"
             ],
             [
              0.8888888888888888,
              "#fdca26"
             ],
             [
              1,
              "#f0f921"
             ]
            ],
            "type": "histogram2dcontour"
           }
          ],
          "mesh3d": [
           {
            "colorbar": {
             "outlinewidth": 0,
             "ticks": ""
            },
            "type": "mesh3d"
           }
          ],
          "parcoords": [
           {
            "line": {
             "colorbar": {
              "outlinewidth": 0,
              "ticks": ""
             }
            },
            "type": "parcoords"
           }
          ],
          "pie": [
           {
            "automargin": true,
            "type": "pie"
           }
          ],
          "scatter": [
           {
            "fillpattern": {
             "fillmode": "overlay",
             "size": 10,
             "solidity": 0.2
            },
            "type": "scatter"
           }
          ],
          "scatter3d": [
           {
            "line": {
             "colorbar": {
              "outlinewidth": 0,
              "ticks": ""
             }
            },
            "marker": {
             "colorbar": {
              "outlinewidth": 0,
              "ticks": ""
             }
            },
            "type": "scatter3d"
           }
          ],
          "scattercarpet": [
           {
            "marker": {
             "colorbar": {
              "outlinewidth": 0,
              "ticks": ""
             }
            },
            "type": "scattercarpet"
           }
          ],
          "scattergeo": [
           {
            "marker": {
             "colorbar": {
              "outlinewidth": 0,
              "ticks": ""
             }
            },
            "type": "scattergeo"
           }
          ],
          "scattergl": [
           {
            "marker": {
             "colorbar": {
              "outlinewidth": 0,
              "ticks": ""
             }
            },
            "type": "scattergl"
           }
          ],
          "scattermapbox": [
           {
            "marker": {
             "colorbar": {
              "outlinewidth": 0,
              "ticks": ""
             }
            },
            "type": "scattermapbox"
           }
          ],
          "scatterpolar": [
           {
            "marker": {
             "colorbar": {
              "outlinewidth": 0,
              "ticks": ""
             }
            },
            "type": "scatterpolar"
           }
          ],
          "scatterpolargl": [
           {
            "marker": {
             "colorbar": {
              "outlinewidth": 0,
              "ticks": ""
             }
            },
            "type": "scatterpolargl"
           }
          ],
          "scatterternary": [
           {
            "marker": {
             "colorbar": {
              "outlinewidth": 0,
              "ticks": ""
             }
            },
            "type": "scatterternary"
           }
          ],
          "surface": [
           {
            "colorbar": {
             "outlinewidth": 0,
             "ticks": ""
            },
            "colorscale": [
             [
              0,
              "#0d0887"
             ],
             [
              0.1111111111111111,
              "#46039f"
             ],
             [
              0.2222222222222222,
              "#7201a8"
             ],
             [
              0.3333333333333333,
              "#9c179e"
             ],
             [
              0.4444444444444444,
              "#bd3786"
             ],
             [
              0.5555555555555556,
              "#d8576b"
             ],
             [
              0.6666666666666666,
              "#ed7953"
             ],
             [
              0.7777777777777778,
              "#fb9f3a"
             ],
             [
              0.8888888888888888,
              "#fdca26"
             ],
             [
              1,
              "#f0f921"
             ]
            ],
            "type": "surface"
           }
          ],
          "table": [
           {
            "cells": {
             "fill": {
              "color": "#EBF0F8"
             },
             "line": {
              "color": "white"
             }
            },
            "header": {
             "fill": {
              "color": "#C8D4E3"
             },
             "line": {
              "color": "white"
             }
            },
            "type": "table"
           }
          ]
         },
         "layout": {
          "annotationdefaults": {
           "arrowcolor": "#2a3f5f",
           "arrowhead": 0,
           "arrowwidth": 1
          },
          "autotypenumbers": "strict",
          "coloraxis": {
           "colorbar": {
            "outlinewidth": 0,
            "ticks": ""
           }
          },
          "colorscale": {
           "diverging": [
            [
             0,
             "#8e0152"
            ],
            [
             0.1,
             "#c51b7d"
            ],
            [
             0.2,
             "#de77ae"
            ],
            [
             0.3,
             "#f1b6da"
            ],
            [
             0.4,
             "#fde0ef"
            ],
            [
             0.5,
             "#f7f7f7"
            ],
            [
             0.6,
             "#e6f5d0"
            ],
            [
             0.7,
             "#b8e186"
            ],
            [
             0.8,
             "#7fbc41"
            ],
            [
             0.9,
             "#4d9221"
            ],
            [
             1,
             "#276419"
            ]
           ],
           "sequential": [
            [
             0,
             "#0d0887"
            ],
            [
             0.1111111111111111,
             "#46039f"
            ],
            [
             0.2222222222222222,
             "#7201a8"
            ],
            [
             0.3333333333333333,
             "#9c179e"
            ],
            [
             0.4444444444444444,
             "#bd3786"
            ],
            [
             0.5555555555555556,
             "#d8576b"
            ],
            [
             0.6666666666666666,
             "#ed7953"
            ],
            [
             0.7777777777777778,
             "#fb9f3a"
            ],
            [
             0.8888888888888888,
             "#fdca26"
            ],
            [
             1,
             "#f0f921"
            ]
           ],
           "sequentialminus": [
            [
             0,
             "#0d0887"
            ],
            [
             0.1111111111111111,
             "#46039f"
            ],
            [
             0.2222222222222222,
             "#7201a8"
            ],
            [
             0.3333333333333333,
             "#9c179e"
            ],
            [
             0.4444444444444444,
             "#bd3786"
            ],
            [
             0.5555555555555556,
             "#d8576b"
            ],
            [
             0.6666666666666666,
             "#ed7953"
            ],
            [
             0.7777777777777778,
             "#fb9f3a"
            ],
            [
             0.8888888888888888,
             "#fdca26"
            ],
            [
             1,
             "#f0f921"
            ]
           ]
          },
          "colorway": [
           "#636efa",
           "#EF553B",
           "#00cc96",
           "#ab63fa",
           "#FFA15A",
           "#19d3f3",
           "#FF6692",
           "#B6E880",
           "#FF97FF",
           "#FECB52"
          ],
          "font": {
           "color": "#2a3f5f"
          },
          "geo": {
           "bgcolor": "white",
           "lakecolor": "white",
           "landcolor": "#E5ECF6",
           "showlakes": true,
           "showland": true,
           "subunitcolor": "white"
          },
          "hoverlabel": {
           "align": "left"
          },
          "hovermode": "closest",
          "mapbox": {
           "style": "light"
          },
          "paper_bgcolor": "white",
          "plot_bgcolor": "#E5ECF6",
          "polar": {
           "angularaxis": {
            "gridcolor": "white",
            "linecolor": "white",
            "ticks": ""
           },
           "bgcolor": "#E5ECF6",
           "radialaxis": {
            "gridcolor": "white",
            "linecolor": "white",
            "ticks": ""
           }
          },
          "scene": {
           "xaxis": {
            "backgroundcolor": "#E5ECF6",
            "gridcolor": "white",
            "gridwidth": 2,
            "linecolor": "white",
            "showbackground": true,
            "ticks": "",
            "zerolinecolor": "white"
           },
           "yaxis": {
            "backgroundcolor": "#E5ECF6",
            "gridcolor": "white",
            "gridwidth": 2,
            "linecolor": "white",
            "showbackground": true,
            "ticks": "",
            "zerolinecolor": "white"
           },
           "zaxis": {
            "backgroundcolor": "#E5ECF6",
            "gridcolor": "white",
            "gridwidth": 2,
            "linecolor": "white",
            "showbackground": true,
            "ticks": "",
            "zerolinecolor": "white"
           }
          },
          "shapedefaults": {
           "line": {
            "color": "#2a3f5f"
           }
          },
          "ternary": {
           "aaxis": {
            "gridcolor": "white",
            "linecolor": "white",
            "ticks": ""
           },
           "baxis": {
            "gridcolor": "white",
            "linecolor": "white",
            "ticks": ""
           },
           "bgcolor": "#E5ECF6",
           "caxis": {
            "gridcolor": "white",
            "linecolor": "white",
            "ticks": ""
           }
          },
          "title": {
           "x": 0.05
          },
          "xaxis": {
           "automargin": true,
           "gridcolor": "white",
           "linecolor": "white",
           "ticks": "",
           "title": {
            "standoff": 15
           },
           "zerolinecolor": "white",
           "zerolinewidth": 2
          },
          "yaxis": {
           "automargin": true,
           "gridcolor": "white",
           "linecolor": "white",
           "ticks": "",
           "title": {
            "standoff": 15
           },
           "zerolinecolor": "white",
           "zerolinewidth": 2
          }
         }
        },
        "title": {
         "text": "Metricas 1.5"
        }
       }
      }
     },
     "metadata": {},
     "output_type": "display_data"
    }
   ],
   "source": [
    "px.treemap(data_frame = df_metricas_1_5,\n",
    "           values     = \"MAE\",\n",
    "           path       = [\"Modelo\",\"karma_Q3\",\"karma_Q1\",\"Bigote superior\",\"Bigote inferior\",\"MAE\",\"MSE\",\"RMSE\",\"R2\"],\n",
    "           hover_name = \"Modelo\",\n",
    "           color      = \"Modelo\",\n",
    "           title      = \"Metricas 1.5\")"
   ]
  },
  {
   "cell_type": "code",
   "execution_count": 26,
   "metadata": {},
   "outputs": [
    {
     "data": {
      "application/vnd.plotly.v1+json": {
       "config": {
        "plotlyServerURL": "https://plot.ly"
       },
       "data": [
        {
         "alignmentgroup": "True",
         "customdata": [
          [
           1.5,
           1.5,
           58,
           -22,
           3524.3815902220676,
           59.36650225692994,
           -22.48181281609597
          ]
         ],
         "hovertemplate": "Modelo=%{y}<br>MAE=%{x}<br>karma_Q3=%{customdata[0]}<br>karma_Q1=%{customdata[1]}<br>Bigote superior=%{customdata[2]}<br>Bigote inferior=%{customdata[3]}<br>MSE=%{customdata[4]}<br>RMSE=%{customdata[5]}<br>R2=%{customdata[6]}<extra></extra>",
         "legendgroup": "LinearRegression",
         "marker": {
          "color": "#636efa",
          "pattern": {
           "shape": ""
          }
         },
         "name": "LinearRegression",
         "offsetgroup": "LinearRegression",
         "orientation": "h",
         "showlegend": true,
         "textposition": "auto",
         "type": "bar",
         "x": [
          17.35527958409468
         ],
         "xaxis": "x",
         "y": [
          "LinearRegression"
         ],
         "yaxis": "y"
        },
        {
         "alignmentgroup": "True",
         "customdata": [
          [
           1.5,
           1.5,
           58,
           -22,
           171.61590924481843,
           13.100225541753792,
           -0.14342120851250484
          ]
         ],
         "hovertemplate": "Modelo=%{y}<br>MAE=%{x}<br>karma_Q3=%{customdata[0]}<br>karma_Q1=%{customdata[1]}<br>Bigote superior=%{customdata[2]}<br>Bigote inferior=%{customdata[3]}<br>MSE=%{customdata[4]}<br>RMSE=%{customdata[5]}<br>R2=%{customdata[6]}<extra></extra>",
         "legendgroup": "KNeighborsRegressor",
         "marker": {
          "color": "#EF553B",
          "pattern": {
           "shape": ""
          }
         },
         "name": "KNeighborsRegressor",
         "offsetgroup": "KNeighborsRegressor",
         "orientation": "h",
         "showlegend": true,
         "textposition": "auto",
         "type": "bar",
         "x": [
          9.610798384177029
         ],
         "xaxis": "x",
         "y": [
          "KNeighborsRegressor"
         ],
         "yaxis": "y"
        },
        {
         "alignmentgroup": "True",
         "customdata": [
          [
           1.5,
           1.5,
           58,
           -22,
           273.7842466561918,
           16.546427005737275,
           -0.8241357433635506
          ]
         ],
         "hovertemplate": "Modelo=%{y}<br>MAE=%{x}<br>karma_Q3=%{customdata[0]}<br>karma_Q1=%{customdata[1]}<br>Bigote superior=%{customdata[2]}<br>Bigote inferior=%{customdata[3]}<br>MSE=%{customdata[4]}<br>RMSE=%{customdata[5]}<br>R2=%{customdata[6]}<extra></extra>",
         "legendgroup": "DecisionTreeRegressor",
         "marker": {
          "color": "#00cc96",
          "pattern": {
           "shape": ""
          }
         },
         "name": "DecisionTreeRegressor",
         "offsetgroup": "DecisionTreeRegressor",
         "orientation": "h",
         "showlegend": true,
         "textposition": "auto",
         "type": "bar",
         "x": [
          11.707938027584852
         ],
         "xaxis": "x",
         "y": [
          "DecisionTreeRegressor"
         ],
         "yaxis": "y"
        },
        {
         "alignmentgroup": "True",
         "customdata": [
          [
           1.5,
           1.5,
           58,
           -22,
           154.21218886035678,
           12.41822003591323,
           -0.02746585750698216
          ]
         ],
         "hovertemplate": "Modelo=%{y}<br>MAE=%{x}<br>karma_Q3=%{customdata[0]}<br>karma_Q1=%{customdata[1]}<br>Bigote superior=%{customdata[2]}<br>Bigote inferior=%{customdata[3]}<br>MSE=%{customdata[4]}<br>RMSE=%{customdata[5]}<br>R2=%{customdata[6]}<extra></extra>",
         "legendgroup": "AdaBoostRegressor",
         "marker": {
          "color": "#ab63fa",
          "pattern": {
           "shape": ""
          }
         },
         "name": "AdaBoostRegressor",
         "offsetgroup": "AdaBoostRegressor",
         "orientation": "h",
         "showlegend": true,
         "textposition": "auto",
         "type": "bar",
         "x": [
          10.10279784649557
         ],
         "xaxis": "x",
         "y": [
          "AdaBoostRegressor"
         ],
         "yaxis": "y"
        },
        {
         "alignmentgroup": "True",
         "customdata": [
          [
           1.5,
           1.5,
           58,
           -22,
           149.94135404952226,
           12.245054268949659,
           0.0009893313053519481
          ]
         ],
         "hovertemplate": "Modelo=%{y}<br>MAE=%{x}<br>karma_Q3=%{customdata[0]}<br>karma_Q1=%{customdata[1]}<br>Bigote superior=%{customdata[2]}<br>Bigote inferior=%{customdata[3]}<br>MSE=%{customdata[4]}<br>RMSE=%{customdata[5]}<br>R2=%{customdata[6]}<extra></extra>",
         "legendgroup": "GradientBoostingRegressor",
         "marker": {
          "color": "#FFA15A",
          "pattern": {
           "shape": ""
          }
         },
         "name": "GradientBoostingRegressor",
         "offsetgroup": "GradientBoostingRegressor",
         "orientation": "h",
         "showlegend": true,
         "textposition": "auto",
         "type": "bar",
         "x": [
          9.292092233264496
         ],
         "xaxis": "x",
         "y": [
          "GradientBoostingRegressor"
         ],
         "yaxis": "y"
        }
       ],
       "layout": {
        "barmode": "relative",
        "legend": {
         "title": {
          "text": "Modelo"
         },
         "tracegroupgap": 0
        },
        "template": {
         "data": {
          "bar": [
           {
            "error_x": {
             "color": "#2a3f5f"
            },
            "error_y": {
             "color": "#2a3f5f"
            },
            "marker": {
             "line": {
              "color": "#E5ECF6",
              "width": 0.5
             },
             "pattern": {
              "fillmode": "overlay",
              "size": 10,
              "solidity": 0.2
             }
            },
            "type": "bar"
           }
          ],
          "barpolar": [
           {
            "marker": {
             "line": {
              "color": "#E5ECF6",
              "width": 0.5
             },
             "pattern": {
              "fillmode": "overlay",
              "size": 10,
              "solidity": 0.2
             }
            },
            "type": "barpolar"
           }
          ],
          "carpet": [
           {
            "aaxis": {
             "endlinecolor": "#2a3f5f",
             "gridcolor": "white",
             "linecolor": "white",
             "minorgridcolor": "white",
             "startlinecolor": "#2a3f5f"
            },
            "baxis": {
             "endlinecolor": "#2a3f5f",
             "gridcolor": "white",
             "linecolor": "white",
             "minorgridcolor": "white",
             "startlinecolor": "#2a3f5f"
            },
            "type": "carpet"
           }
          ],
          "choropleth": [
           {
            "colorbar": {
             "outlinewidth": 0,
             "ticks": ""
            },
            "type": "choropleth"
           }
          ],
          "contour": [
           {
            "colorbar": {
             "outlinewidth": 0,
             "ticks": ""
            },
            "colorscale": [
             [
              0,
              "#0d0887"
             ],
             [
              0.1111111111111111,
              "#46039f"
             ],
             [
              0.2222222222222222,
              "#7201a8"
             ],
             [
              0.3333333333333333,
              "#9c179e"
             ],
             [
              0.4444444444444444,
              "#bd3786"
             ],
             [
              0.5555555555555556,
              "#d8576b"
             ],
             [
              0.6666666666666666,
              "#ed7953"
             ],
             [
              0.7777777777777778,
              "#fb9f3a"
             ],
             [
              0.8888888888888888,
              "#fdca26"
             ],
             [
              1,
              "#f0f921"
             ]
            ],
            "type": "contour"
           }
          ],
          "contourcarpet": [
           {
            "colorbar": {
             "outlinewidth": 0,
             "ticks": ""
            },
            "type": "contourcarpet"
           }
          ],
          "heatmap": [
           {
            "colorbar": {
             "outlinewidth": 0,
             "ticks": ""
            },
            "colorscale": [
             [
              0,
              "#0d0887"
             ],
             [
              0.1111111111111111,
              "#46039f"
             ],
             [
              0.2222222222222222,
              "#7201a8"
             ],
             [
              0.3333333333333333,
              "#9c179e"
             ],
             [
              0.4444444444444444,
              "#bd3786"
             ],
             [
              0.5555555555555556,
              "#d8576b"
             ],
             [
              0.6666666666666666,
              "#ed7953"
             ],
             [
              0.7777777777777778,
              "#fb9f3a"
             ],
             [
              0.8888888888888888,
              "#fdca26"
             ],
             [
              1,
              "#f0f921"
             ]
            ],
            "type": "heatmap"
           }
          ],
          "heatmapgl": [
           {
            "colorbar": {
             "outlinewidth": 0,
             "ticks": ""
            },
            "colorscale": [
             [
              0,
              "#0d0887"
             ],
             [
              0.1111111111111111,
              "#46039f"
             ],
             [
              0.2222222222222222,
              "#7201a8"
             ],
             [
              0.3333333333333333,
              "#9c179e"
             ],
             [
              0.4444444444444444,
              "#bd3786"
             ],
             [
              0.5555555555555556,
              "#d8576b"
             ],
             [
              0.6666666666666666,
              "#ed7953"
             ],
             [
              0.7777777777777778,
              "#fb9f3a"
             ],
             [
              0.8888888888888888,
              "#fdca26"
             ],
             [
              1,
              "#f0f921"
             ]
            ],
            "type": "heatmapgl"
           }
          ],
          "histogram": [
           {
            "marker": {
             "pattern": {
              "fillmode": "overlay",
              "size": 10,
              "solidity": 0.2
             }
            },
            "type": "histogram"
           }
          ],
          "histogram2d": [
           {
            "colorbar": {
             "outlinewidth": 0,
             "ticks": ""
            },
            "colorscale": [
             [
              0,
              "#0d0887"
             ],
             [
              0.1111111111111111,
              "#46039f"
             ],
             [
              0.2222222222222222,
              "#7201a8"
             ],
             [
              0.3333333333333333,
              "#9c179e"
             ],
             [
              0.4444444444444444,
              "#bd3786"
             ],
             [
              0.5555555555555556,
              "#d8576b"
             ],
             [
              0.6666666666666666,
              "#ed7953"
             ],
             [
              0.7777777777777778,
              "#fb9f3a"
             ],
             [
              0.8888888888888888,
              "#fdca26"
             ],
             [
              1,
              "#f0f921"
             ]
            ],
            "type": "histogram2d"
           }
          ],
          "histogram2dcontour": [
           {
            "colorbar": {
             "outlinewidth": 0,
             "ticks": ""
            },
            "colorscale": [
             [
              0,
              "#0d0887"
             ],
             [
              0.1111111111111111,
              "#46039f"
             ],
             [
              0.2222222222222222,
              "#7201a8"
             ],
             [
              0.3333333333333333,
              "#9c179e"
             ],
             [
              0.4444444444444444,
              "#bd3786"
             ],
             [
              0.5555555555555556,
              "#d8576b"
             ],
             [
              0.6666666666666666,
              "#ed7953"
             ],
             [
              0.7777777777777778,
              "#fb9f3a"
             ],
             [
              0.8888888888888888,
              "#fdca26"
             ],
             [
              1,
              "#f0f921"
             ]
            ],
            "type": "histogram2dcontour"
           }
          ],
          "mesh3d": [
           {
            "colorbar": {
             "outlinewidth": 0,
             "ticks": ""
            },
            "type": "mesh3d"
           }
          ],
          "parcoords": [
           {
            "line": {
             "colorbar": {
              "outlinewidth": 0,
              "ticks": ""
             }
            },
            "type": "parcoords"
           }
          ],
          "pie": [
           {
            "automargin": true,
            "type": "pie"
           }
          ],
          "scatter": [
           {
            "fillpattern": {
             "fillmode": "overlay",
             "size": 10,
             "solidity": 0.2
            },
            "type": "scatter"
           }
          ],
          "scatter3d": [
           {
            "line": {
             "colorbar": {
              "outlinewidth": 0,
              "ticks": ""
             }
            },
            "marker": {
             "colorbar": {
              "outlinewidth": 0,
              "ticks": ""
             }
            },
            "type": "scatter3d"
           }
          ],
          "scattercarpet": [
           {
            "marker": {
             "colorbar": {
              "outlinewidth": 0,
              "ticks": ""
             }
            },
            "type": "scattercarpet"
           }
          ],
          "scattergeo": [
           {
            "marker": {
             "colorbar": {
              "outlinewidth": 0,
              "ticks": ""
             }
            },
            "type": "scattergeo"
           }
          ],
          "scattergl": [
           {
            "marker": {
             "colorbar": {
              "outlinewidth": 0,
              "ticks": ""
             }
            },
            "type": "scattergl"
           }
          ],
          "scattermapbox": [
           {
            "marker": {
             "colorbar": {
              "outlinewidth": 0,
              "ticks": ""
             }
            },
            "type": "scattermapbox"
           }
          ],
          "scatterpolar": [
           {
            "marker": {
             "colorbar": {
              "outlinewidth": 0,
              "ticks": ""
             }
            },
            "type": "scatterpolar"
           }
          ],
          "scatterpolargl": [
           {
            "marker": {
             "colorbar": {
              "outlinewidth": 0,
              "ticks": ""
             }
            },
            "type": "scatterpolargl"
           }
          ],
          "scatterternary": [
           {
            "marker": {
             "colorbar": {
              "outlinewidth": 0,
              "ticks": ""
             }
            },
            "type": "scatterternary"
           }
          ],
          "surface": [
           {
            "colorbar": {
             "outlinewidth": 0,
             "ticks": ""
            },
            "colorscale": [
             [
              0,
              "#0d0887"
             ],
             [
              0.1111111111111111,
              "#46039f"
             ],
             [
              0.2222222222222222,
              "#7201a8"
             ],
             [
              0.3333333333333333,
              "#9c179e"
             ],
             [
              0.4444444444444444,
              "#bd3786"
             ],
             [
              0.5555555555555556,
              "#d8576b"
             ],
             [
              0.6666666666666666,
              "#ed7953"
             ],
             [
              0.7777777777777778,
              "#fb9f3a"
             ],
             [
              0.8888888888888888,
              "#fdca26"
             ],
             [
              1,
              "#f0f921"
             ]
            ],
            "type": "surface"
           }
          ],
          "table": [
           {
            "cells": {
             "fill": {
              "color": "#EBF0F8"
             },
             "line": {
              "color": "white"
             }
            },
            "header": {
             "fill": {
              "color": "#C8D4E3"
             },
             "line": {
              "color": "white"
             }
            },
            "type": "table"
           }
          ]
         },
         "layout": {
          "annotationdefaults": {
           "arrowcolor": "#2a3f5f",
           "arrowhead": 0,
           "arrowwidth": 1
          },
          "autotypenumbers": "strict",
          "coloraxis": {
           "colorbar": {
            "outlinewidth": 0,
            "ticks": ""
           }
          },
          "colorscale": {
           "diverging": [
            [
             0,
             "#8e0152"
            ],
            [
             0.1,
             "#c51b7d"
            ],
            [
             0.2,
             "#de77ae"
            ],
            [
             0.3,
             "#f1b6da"
            ],
            [
             0.4,
             "#fde0ef"
            ],
            [
             0.5,
             "#f7f7f7"
            ],
            [
             0.6,
             "#e6f5d0"
            ],
            [
             0.7,
             "#b8e186"
            ],
            [
             0.8,
             "#7fbc41"
            ],
            [
             0.9,
             "#4d9221"
            ],
            [
             1,
             "#276419"
            ]
           ],
           "sequential": [
            [
             0,
             "#0d0887"
            ],
            [
             0.1111111111111111,
             "#46039f"
            ],
            [
             0.2222222222222222,
             "#7201a8"
            ],
            [
             0.3333333333333333,
             "#9c179e"
            ],
            [
             0.4444444444444444,
             "#bd3786"
            ],
            [
             0.5555555555555556,
             "#d8576b"
            ],
            [
             0.6666666666666666,
             "#ed7953"
            ],
            [
             0.7777777777777778,
             "#fb9f3a"
            ],
            [
             0.8888888888888888,
             "#fdca26"
            ],
            [
             1,
             "#f0f921"
            ]
           ],
           "sequentialminus": [
            [
             0,
             "#0d0887"
            ],
            [
             0.1111111111111111,
             "#46039f"
            ],
            [
             0.2222222222222222,
             "#7201a8"
            ],
            [
             0.3333333333333333,
             "#9c179e"
            ],
            [
             0.4444444444444444,
             "#bd3786"
            ],
            [
             0.5555555555555556,
             "#d8576b"
            ],
            [
             0.6666666666666666,
             "#ed7953"
            ],
            [
             0.7777777777777778,
             "#fb9f3a"
            ],
            [
             0.8888888888888888,
             "#fdca26"
            ],
            [
             1,
             "#f0f921"
            ]
           ]
          },
          "colorway": [
           "#636efa",
           "#EF553B",
           "#00cc96",
           "#ab63fa",
           "#FFA15A",
           "#19d3f3",
           "#FF6692",
           "#B6E880",
           "#FF97FF",
           "#FECB52"
          ],
          "font": {
           "color": "#2a3f5f"
          },
          "geo": {
           "bgcolor": "white",
           "lakecolor": "white",
           "landcolor": "#E5ECF6",
           "showlakes": true,
           "showland": true,
           "subunitcolor": "white"
          },
          "hoverlabel": {
           "align": "left"
          },
          "hovermode": "closest",
          "mapbox": {
           "style": "light"
          },
          "paper_bgcolor": "white",
          "plot_bgcolor": "#E5ECF6",
          "polar": {
           "angularaxis": {
            "gridcolor": "white",
            "linecolor": "white",
            "ticks": ""
           },
           "bgcolor": "#E5ECF6",
           "radialaxis": {
            "gridcolor": "white",
            "linecolor": "white",
            "ticks": ""
           }
          },
          "scene": {
           "xaxis": {
            "backgroundcolor": "#E5ECF6",
            "gridcolor": "white",
            "gridwidth": 2,
            "linecolor": "white",
            "showbackground": true,
            "ticks": "",
            "zerolinecolor": "white"
           },
           "yaxis": {
            "backgroundcolor": "#E5ECF6",
            "gridcolor": "white",
            "gridwidth": 2,
            "linecolor": "white",
            "showbackground": true,
            "ticks": "",
            "zerolinecolor": "white"
           },
           "zaxis": {
            "backgroundcolor": "#E5ECF6",
            "gridcolor": "white",
            "gridwidth": 2,
            "linecolor": "white",
            "showbackground": true,
            "ticks": "",
            "zerolinecolor": "white"
           }
          },
          "shapedefaults": {
           "line": {
            "color": "#2a3f5f"
           }
          },
          "ternary": {
           "aaxis": {
            "gridcolor": "white",
            "linecolor": "white",
            "ticks": ""
           },
           "baxis": {
            "gridcolor": "white",
            "linecolor": "white",
            "ticks": ""
           },
           "bgcolor": "#E5ECF6",
           "caxis": {
            "gridcolor": "white",
            "linecolor": "white",
            "ticks": ""
           }
          },
          "title": {
           "x": 0.05
          },
          "xaxis": {
           "automargin": true,
           "gridcolor": "white",
           "linecolor": "white",
           "ticks": "",
           "title": {
            "standoff": 15
           },
           "zerolinecolor": "white",
           "zerolinewidth": 2
          },
          "yaxis": {
           "automargin": true,
           "gridcolor": "white",
           "linecolor": "white",
           "ticks": "",
           "title": {
            "standoff": 15
           },
           "zerolinecolor": "white",
           "zerolinewidth": 2
          }
         }
        },
        "title": {
         "text": "Metricas 1.5"
        },
        "xaxis": {
         "anchor": "y",
         "domain": [
          0,
          1
         ],
         "title": {
          "text": "MAE"
         }
        },
        "yaxis": {
         "anchor": "x",
         "categoryarray": [
          "GradientBoostingRegressor",
          "AdaBoostRegressor",
          "DecisionTreeRegressor",
          "KNeighborsRegressor",
          "LinearRegression"
         ],
         "categoryorder": "array",
         "domain": [
          0,
          1
         ],
         "title": {
          "text": "Modelo"
         }
        }
       }
      }
     },
     "metadata": {},
     "output_type": "display_data"
    }
   ],
   "source": [
    "px.bar(data_frame = df_metricas_1_5,\n",
    "       x          = \"MAE\",\n",
    "       y          = \"Modelo\",\n",
    "       hover_data = [\"karma_Q3\",\"karma_Q1\",\"Bigote superior\",\"Bigote inferior\",\"MAE\",\"MSE\",\"RMSE\",\"R2\"],\n",
    "       color      = \"Modelo\",\n",
    "       title      = \"Metricas 1.5\"\n",
    "      )"
   ]
  },
  {
   "cell_type": "markdown",
   "metadata": {},
   "source": [
    "## Metricas segun cuartiles a 1.8"
   ]
  },
  {
   "cell_type": "code",
   "execution_count": 6,
   "metadata": {},
   "outputs": [
    {
     "data": {
      "text/html": [
       "<div>\n",
       "<style scoped>\n",
       "    .dataframe tbody tr th:only-of-type {\n",
       "        vertical-align: middle;\n",
       "    }\n",
       "\n",
       "    .dataframe tbody tr th {\n",
       "        vertical-align: top;\n",
       "    }\n",
       "\n",
       "    .dataframe thead th {\n",
       "        text-align: right;\n",
       "    }\n",
       "</style>\n",
       "<table border=\"1\" class=\"dataframe\">\n",
       "  <thead>\n",
       "    <tr style=\"text-align: right;\">\n",
       "      <th></th>\n",
       "      <th>Modelo</th>\n",
       "      <th>karma_Q3</th>\n",
       "      <th>karma_Q1</th>\n",
       "      <th>Bigote superior</th>\n",
       "      <th>Bigote inferior</th>\n",
       "      <th>MAE</th>\n",
       "      <th>MSE</th>\n",
       "      <th>RMSE</th>\n",
       "      <th>R2</th>\n",
       "    </tr>\n",
       "  </thead>\n",
       "  <tbody>\n",
       "    <tr>\n",
       "      <th>0</th>\n",
       "      <td>LinearRegression</td>\n",
       "      <td>1.8</td>\n",
       "      <td>1.8</td>\n",
       "      <td>64</td>\n",
       "      <td>-28</td>\n",
       "      <td>18.403909</td>\n",
       "      <td>2094.226047</td>\n",
       "      <td>45.762715</td>\n",
       "      <td>-11.006424</td>\n",
       "    </tr>\n",
       "    <tr>\n",
       "      <th>1</th>\n",
       "      <td>KNeighborsRegressor</td>\n",
       "      <td>1.8</td>\n",
       "      <td>1.8</td>\n",
       "      <td>64</td>\n",
       "      <td>-28</td>\n",
       "      <td>10.314301</td>\n",
       "      <td>200.772650</td>\n",
       "      <td>14.169427</td>\n",
       "      <td>-0.151051</td>\n",
       "    </tr>\n",
       "    <tr>\n",
       "      <th>2</th>\n",
       "      <td>DecisionTreeRegressor</td>\n",
       "      <td>1.8</td>\n",
       "      <td>1.8</td>\n",
       "      <td>64</td>\n",
       "      <td>-28</td>\n",
       "      <td>12.458078</td>\n",
       "      <td>318.822686</td>\n",
       "      <td>17.855607</td>\n",
       "      <td>-0.827845</td>\n",
       "    </tr>\n",
       "    <tr>\n",
       "      <th>3</th>\n",
       "      <td>AdaBoostRegressor</td>\n",
       "      <td>1.8</td>\n",
       "      <td>1.8</td>\n",
       "      <td>64</td>\n",
       "      <td>-28</td>\n",
       "      <td>11.033956</td>\n",
       "      <td>182.800788</td>\n",
       "      <td>13.520384</td>\n",
       "      <td>-0.048017</td>\n",
       "    </tr>\n",
       "    <tr>\n",
       "      <th>4</th>\n",
       "      <td>GradientBoostingRegressor</td>\n",
       "      <td>1.8</td>\n",
       "      <td>1.8</td>\n",
       "      <td>64</td>\n",
       "      <td>-28</td>\n",
       "      <td>9.848579</td>\n",
       "      <td>174.198948</td>\n",
       "      <td>13.198445</td>\n",
       "      <td>0.001299</td>\n",
       "    </tr>\n",
       "  </tbody>\n",
       "</table>\n",
       "</div>"
      ],
      "text/plain": [
       "                      Modelo  karma_Q3  karma_Q1  Bigote superior  \\\n",
       "0           LinearRegression       1.8       1.8               64   \n",
       "1        KNeighborsRegressor       1.8       1.8               64   \n",
       "2      DecisionTreeRegressor       1.8       1.8               64   \n",
       "3          AdaBoostRegressor       1.8       1.8               64   \n",
       "4  GradientBoostingRegressor       1.8       1.8               64   \n",
       "\n",
       "   Bigote inferior        MAE          MSE       RMSE         R2  \n",
       "0              -28  18.403909  2094.226047  45.762715 -11.006424  \n",
       "1              -28  10.314301   200.772650  14.169427  -0.151051  \n",
       "2              -28  12.458078   318.822686  17.855607  -0.827845  \n",
       "3              -28  11.033956   182.800788  13.520384  -0.048017  \n",
       "4              -28   9.848579   174.198948  13.198445   0.001299  "
      ]
     },
     "execution_count": 6,
     "metadata": {},
     "output_type": "execute_result"
    }
   ],
   "source": [
    "df_metricas_1_8"
   ]
  },
  {
   "cell_type": "code",
   "execution_count": 25,
   "metadata": {},
   "outputs": [
    {
     "data": {
      "application/vnd.plotly.v1+json": {
       "config": {
        "plotlyServerURL": "https://plot.ly"
       },
       "data": [
        {
         "branchvalues": "total",
         "customdata": [
          [
           "AdaBoostRegressor"
          ],
          [
           "KNeighborsRegressor"
          ],
          [
           "GradientBoostingRegressor"
          ],
          [
           "DecisionTreeRegressor"
          ],
          [
           "LinearRegression"
          ],
          [
           "GradientBoostingRegressor"
          ],
          [
           "AdaBoostRegressor"
          ],
          [
           "KNeighborsRegressor"
          ],
          [
           "DecisionTreeRegressor"
          ],
          [
           "LinearRegression"
          ],
          [
           "GradientBoostingRegressor"
          ],
          [
           "AdaBoostRegressor"
          ],
          [
           "KNeighborsRegressor"
          ],
          [
           "DecisionTreeRegressor"
          ],
          [
           "LinearRegression"
          ],
          [
           "GradientBoostingRegressor"
          ],
          [
           "KNeighborsRegressor"
          ],
          [
           "AdaBoostRegressor"
          ],
          [
           "DecisionTreeRegressor"
          ],
          [
           "LinearRegression"
          ],
          [
           "AdaBoostRegressor"
          ],
          [
           "DecisionTreeRegressor"
          ],
          [
           "GradientBoostingRegressor"
          ],
          [
           "KNeighborsRegressor"
          ],
          [
           "LinearRegression"
          ],
          [
           "AdaBoostRegressor"
          ],
          [
           "DecisionTreeRegressor"
          ],
          [
           "GradientBoostingRegressor"
          ],
          [
           "KNeighborsRegressor"
          ],
          [
           "LinearRegression"
          ],
          [
           "AdaBoostRegressor"
          ],
          [
           "DecisionTreeRegressor"
          ],
          [
           "GradientBoostingRegressor"
          ],
          [
           "KNeighborsRegressor"
          ],
          [
           "LinearRegression"
          ],
          [
           "AdaBoostRegressor"
          ],
          [
           "DecisionTreeRegressor"
          ],
          [
           "GradientBoostingRegressor"
          ],
          [
           "KNeighborsRegressor"
          ],
          [
           "LinearRegression"
          ],
          [
           "AdaBoostRegressor"
          ],
          [
           "DecisionTreeRegressor"
          ],
          [
           "GradientBoostingRegressor"
          ],
          [
           "KNeighborsRegressor"
          ],
          [
           "LinearRegression"
          ]
         ],
         "domain": {
          "x": [
           0,
           1
          ],
          "y": [
           0,
           1
          ]
         },
         "hovertemplate": "<b>%{hovertext}</b><br><br>labels=%{label}<br>MAE=%{value}<br>parent=%{parent}<br>id=%{id}<br>Modelo=%{customdata[0]}<extra></extra>",
         "hovertext": [
          "AdaBoostRegressor",
          "KNeighborsRegressor",
          "GradientBoostingRegressor",
          "DecisionTreeRegressor",
          "LinearRegression",
          "GradientBoostingRegressor",
          "AdaBoostRegressor",
          "KNeighborsRegressor",
          "DecisionTreeRegressor",
          "LinearRegression",
          "GradientBoostingRegressor",
          "AdaBoostRegressor",
          "KNeighborsRegressor",
          "DecisionTreeRegressor",
          "LinearRegression",
          "GradientBoostingRegressor",
          "KNeighborsRegressor",
          "AdaBoostRegressor",
          "DecisionTreeRegressor",
          "LinearRegression",
          "AdaBoostRegressor",
          "DecisionTreeRegressor",
          "GradientBoostingRegressor",
          "KNeighborsRegressor",
          "LinearRegression",
          "AdaBoostRegressor",
          "DecisionTreeRegressor",
          "GradientBoostingRegressor",
          "KNeighborsRegressor",
          "LinearRegression",
          "AdaBoostRegressor",
          "DecisionTreeRegressor",
          "GradientBoostingRegressor",
          "KNeighborsRegressor",
          "LinearRegression",
          "AdaBoostRegressor",
          "DecisionTreeRegressor",
          "GradientBoostingRegressor",
          "KNeighborsRegressor",
          "LinearRegression",
          "AdaBoostRegressor",
          "DecisionTreeRegressor",
          "GradientBoostingRegressor",
          "KNeighborsRegressor",
          "LinearRegression"
         ],
         "ids": [
          "AdaBoostRegressor/1.8/1.8/64/-28/11.033955980067844/182.80078805141093/13.520384168040897/-0.048016675694946054",
          "KNeighborsRegressor/1.8/1.8/64/-28/10.314301344130294/200.7726503520611/14.16942660632607/-0.15105130473099582",
          "GradientBoostingRegressor/1.8/1.8/64/-28/9.848579308405684/174.19894827860597/13.198444918951852/0.0012986014417165626",
          "DecisionTreeRegressor/1.8/1.8/64/-28/12.458078177841768/318.82268582567065/17.85560656560484/-0.8278449173927098",
          "LinearRegression/1.8/1.8/64/-28/18.403909260842937/2094.2260467042743/45.7627145906389/-11.006424277577624",
          "GradientBoostingRegressor/1.8/1.8/64/-28/9.848579308405684/174.19894827860597/13.198444918951852",
          "AdaBoostRegressor/1.8/1.8/64/-28/11.033955980067844/182.80078805141093/13.520384168040897",
          "KNeighborsRegressor/1.8/1.8/64/-28/10.314301344130294/200.7726503520611/14.16942660632607",
          "DecisionTreeRegressor/1.8/1.8/64/-28/12.458078177841768/318.82268582567065/17.85560656560484",
          "LinearRegression/1.8/1.8/64/-28/18.403909260842937/2094.2260467042743/45.7627145906389",
          "GradientBoostingRegressor/1.8/1.8/64/-28/9.848579308405684/174.19894827860597",
          "AdaBoostRegressor/1.8/1.8/64/-28/11.033955980067844/182.80078805141093",
          "KNeighborsRegressor/1.8/1.8/64/-28/10.314301344130294/200.7726503520611",
          "DecisionTreeRegressor/1.8/1.8/64/-28/12.458078177841768/318.82268582567065",
          "LinearRegression/1.8/1.8/64/-28/18.403909260842937/2094.2260467042743",
          "GradientBoostingRegressor/1.8/1.8/64/-28/9.848579308405684",
          "KNeighborsRegressor/1.8/1.8/64/-28/10.314301344130294",
          "AdaBoostRegressor/1.8/1.8/64/-28/11.033955980067844",
          "DecisionTreeRegressor/1.8/1.8/64/-28/12.458078177841768",
          "LinearRegression/1.8/1.8/64/-28/18.403909260842937",
          "AdaBoostRegressor/1.8/1.8/64/-28",
          "DecisionTreeRegressor/1.8/1.8/64/-28",
          "GradientBoostingRegressor/1.8/1.8/64/-28",
          "KNeighborsRegressor/1.8/1.8/64/-28",
          "LinearRegression/1.8/1.8/64/-28",
          "AdaBoostRegressor/1.8/1.8/64",
          "DecisionTreeRegressor/1.8/1.8/64",
          "GradientBoostingRegressor/1.8/1.8/64",
          "KNeighborsRegressor/1.8/1.8/64",
          "LinearRegression/1.8/1.8/64",
          "AdaBoostRegressor/1.8/1.8",
          "DecisionTreeRegressor/1.8/1.8",
          "GradientBoostingRegressor/1.8/1.8",
          "KNeighborsRegressor/1.8/1.8",
          "LinearRegression/1.8/1.8",
          "AdaBoostRegressor/1.8",
          "DecisionTreeRegressor/1.8",
          "GradientBoostingRegressor/1.8",
          "KNeighborsRegressor/1.8",
          "LinearRegression/1.8",
          "AdaBoostRegressor",
          "DecisionTreeRegressor",
          "GradientBoostingRegressor",
          "KNeighborsRegressor",
          "LinearRegression"
         ],
         "labels": [
          "-0.048016675694946054",
          "-0.15105130473099582",
          "0.0012986014417165626",
          "-0.8278449173927098",
          "-11.006424277577624",
          "13.198444918951852",
          "13.520384168040897",
          "14.16942660632607",
          "17.85560656560484",
          "45.7627145906389",
          "174.19894827860597",
          "182.80078805141093",
          "200.7726503520611",
          "318.82268582567065",
          "2094.2260467042743",
          "9.848579308405684",
          "10.314301344130294",
          "11.033955980067844",
          "12.458078177841768",
          "18.403909260842937",
          "-28",
          "-28",
          "-28",
          "-28",
          "-28",
          "64",
          "64",
          "64",
          "64",
          "64",
          "1.8",
          "1.8",
          "1.8",
          "1.8",
          "1.8",
          "1.8",
          "1.8",
          "1.8",
          "1.8",
          "1.8",
          "AdaBoostRegressor",
          "DecisionTreeRegressor",
          "GradientBoostingRegressor",
          "KNeighborsRegressor",
          "LinearRegression"
         ],
         "marker": {
          "colors": [
           "#636efa",
           "#EF553B",
           "#00cc96",
           "#ab63fa",
           "#FFA15A",
           "#00cc96",
           "#636efa",
           "#EF553B",
           "#ab63fa",
           "#FFA15A",
           "#00cc96",
           "#636efa",
           "#EF553B",
           "#ab63fa",
           "#FFA15A",
           "#00cc96",
           "#EF553B",
           "#636efa",
           "#ab63fa",
           "#FFA15A",
           "#636efa",
           "#ab63fa",
           "#00cc96",
           "#EF553B",
           "#FFA15A",
           "#636efa",
           "#ab63fa",
           "#00cc96",
           "#EF553B",
           "#FFA15A",
           "#636efa",
           "#ab63fa",
           "#00cc96",
           "#EF553B",
           "#FFA15A",
           "#636efa",
           "#ab63fa",
           "#00cc96",
           "#EF553B",
           "#FFA15A",
           "#636efa",
           "#ab63fa",
           "#00cc96",
           "#EF553B",
           "#FFA15A"
          ]
         },
         "name": "",
         "parents": [
          "AdaBoostRegressor/1.8/1.8/64/-28/11.033955980067844/182.80078805141093/13.520384168040897",
          "KNeighborsRegressor/1.8/1.8/64/-28/10.314301344130294/200.7726503520611/14.16942660632607",
          "GradientBoostingRegressor/1.8/1.8/64/-28/9.848579308405684/174.19894827860597/13.198444918951852",
          "DecisionTreeRegressor/1.8/1.8/64/-28/12.458078177841768/318.82268582567065/17.85560656560484",
          "LinearRegression/1.8/1.8/64/-28/18.403909260842937/2094.2260467042743/45.7627145906389",
          "GradientBoostingRegressor/1.8/1.8/64/-28/9.848579308405684/174.19894827860597",
          "AdaBoostRegressor/1.8/1.8/64/-28/11.033955980067844/182.80078805141093",
          "KNeighborsRegressor/1.8/1.8/64/-28/10.314301344130294/200.7726503520611",
          "DecisionTreeRegressor/1.8/1.8/64/-28/12.458078177841768/318.82268582567065",
          "LinearRegression/1.8/1.8/64/-28/18.403909260842937/2094.2260467042743",
          "GradientBoostingRegressor/1.8/1.8/64/-28/9.848579308405684",
          "AdaBoostRegressor/1.8/1.8/64/-28/11.033955980067844",
          "KNeighborsRegressor/1.8/1.8/64/-28/10.314301344130294",
          "DecisionTreeRegressor/1.8/1.8/64/-28/12.458078177841768",
          "LinearRegression/1.8/1.8/64/-28/18.403909260842937",
          "GradientBoostingRegressor/1.8/1.8/64/-28",
          "KNeighborsRegressor/1.8/1.8/64/-28",
          "AdaBoostRegressor/1.8/1.8/64/-28",
          "DecisionTreeRegressor/1.8/1.8/64/-28",
          "LinearRegression/1.8/1.8/64/-28",
          "AdaBoostRegressor/1.8/1.8/64",
          "DecisionTreeRegressor/1.8/1.8/64",
          "GradientBoostingRegressor/1.8/1.8/64",
          "KNeighborsRegressor/1.8/1.8/64",
          "LinearRegression/1.8/1.8/64",
          "AdaBoostRegressor/1.8/1.8",
          "DecisionTreeRegressor/1.8/1.8",
          "GradientBoostingRegressor/1.8/1.8",
          "KNeighborsRegressor/1.8/1.8",
          "LinearRegression/1.8/1.8",
          "AdaBoostRegressor/1.8",
          "DecisionTreeRegressor/1.8",
          "GradientBoostingRegressor/1.8",
          "KNeighborsRegressor/1.8",
          "LinearRegression/1.8",
          "AdaBoostRegressor",
          "DecisionTreeRegressor",
          "GradientBoostingRegressor",
          "KNeighborsRegressor",
          "LinearRegression",
          "",
          "",
          "",
          "",
          ""
         ],
         "type": "treemap",
         "values": [
          11.033955980067844,
          10.314301344130294,
          9.848579308405684,
          12.458078177841768,
          18.403909260842937,
          9.848579308405684,
          11.033955980067844,
          10.314301344130294,
          12.458078177841768,
          18.403909260842937,
          9.848579308405684,
          11.033955980067844,
          10.314301344130294,
          12.458078177841768,
          18.403909260842937,
          9.848579308405684,
          10.314301344130294,
          11.033955980067844,
          12.458078177841768,
          18.403909260842937,
          11.033955980067844,
          12.458078177841768,
          9.848579308405684,
          10.314301344130294,
          18.403909260842937,
          11.033955980067844,
          12.458078177841768,
          9.848579308405684,
          10.314301344130294,
          18.403909260842937,
          11.033955980067844,
          12.458078177841768,
          9.848579308405684,
          10.314301344130294,
          18.403909260842937,
          11.033955980067844,
          12.458078177841768,
          9.848579308405684,
          10.314301344130294,
          18.403909260842937,
          11.033955980067844,
          12.458078177841768,
          9.848579308405684,
          10.314301344130294,
          18.403909260842937
         ]
        }
       ],
       "layout": {
        "legend": {
         "tracegroupgap": 0
        },
        "template": {
         "data": {
          "bar": [
           {
            "error_x": {
             "color": "#2a3f5f"
            },
            "error_y": {
             "color": "#2a3f5f"
            },
            "marker": {
             "line": {
              "color": "#E5ECF6",
              "width": 0.5
             },
             "pattern": {
              "fillmode": "overlay",
              "size": 10,
              "solidity": 0.2
             }
            },
            "type": "bar"
           }
          ],
          "barpolar": [
           {
            "marker": {
             "line": {
              "color": "#E5ECF6",
              "width": 0.5
             },
             "pattern": {
              "fillmode": "overlay",
              "size": 10,
              "solidity": 0.2
             }
            },
            "type": "barpolar"
           }
          ],
          "carpet": [
           {
            "aaxis": {
             "endlinecolor": "#2a3f5f",
             "gridcolor": "white",
             "linecolor": "white",
             "minorgridcolor": "white",
             "startlinecolor": "#2a3f5f"
            },
            "baxis": {
             "endlinecolor": "#2a3f5f",
             "gridcolor": "white",
             "linecolor": "white",
             "minorgridcolor": "white",
             "startlinecolor": "#2a3f5f"
            },
            "type": "carpet"
           }
          ],
          "choropleth": [
           {
            "colorbar": {
             "outlinewidth": 0,
             "ticks": ""
            },
            "type": "choropleth"
           }
          ],
          "contour": [
           {
            "colorbar": {
             "outlinewidth": 0,
             "ticks": ""
            },
            "colorscale": [
             [
              0,
              "#0d0887"
             ],
             [
              0.1111111111111111,
              "#46039f"
             ],
             [
              0.2222222222222222,
              "#7201a8"
             ],
             [
              0.3333333333333333,
              "#9c179e"
             ],
             [
              0.4444444444444444,
              "#bd3786"
             ],
             [
              0.5555555555555556,
              "#d8576b"
             ],
             [
              0.6666666666666666,
              "#ed7953"
             ],
             [
              0.7777777777777778,
              "#fb9f3a"
             ],
             [
              0.8888888888888888,
              "#fdca26"
             ],
             [
              1,
              "#f0f921"
             ]
            ],
            "type": "contour"
           }
          ],
          "contourcarpet": [
           {
            "colorbar": {
             "outlinewidth": 0,
             "ticks": ""
            },
            "type": "contourcarpet"
           }
          ],
          "heatmap": [
           {
            "colorbar": {
             "outlinewidth": 0,
             "ticks": ""
            },
            "colorscale": [
             [
              0,
              "#0d0887"
             ],
             [
              0.1111111111111111,
              "#46039f"
             ],
             [
              0.2222222222222222,
              "#7201a8"
             ],
             [
              0.3333333333333333,
              "#9c179e"
             ],
             [
              0.4444444444444444,
              "#bd3786"
             ],
             [
              0.5555555555555556,
              "#d8576b"
             ],
             [
              0.6666666666666666,
              "#ed7953"
             ],
             [
              0.7777777777777778,
              "#fb9f3a"
             ],
             [
              0.8888888888888888,
              "#fdca26"
             ],
             [
              1,
              "#f0f921"
             ]
            ],
            "type": "heatmap"
           }
          ],
          "heatmapgl": [
           {
            "colorbar": {
             "outlinewidth": 0,
             "ticks": ""
            },
            "colorscale": [
             [
              0,
              "#0d0887"
             ],
             [
              0.1111111111111111,
              "#46039f"
             ],
             [
              0.2222222222222222,
              "#7201a8"
             ],
             [
              0.3333333333333333,
              "#9c179e"
             ],
             [
              0.4444444444444444,
              "#bd3786"
             ],
             [
              0.5555555555555556,
              "#d8576b"
             ],
             [
              0.6666666666666666,
              "#ed7953"
             ],
             [
              0.7777777777777778,
              "#fb9f3a"
             ],
             [
              0.8888888888888888,
              "#fdca26"
             ],
             [
              1,
              "#f0f921"
             ]
            ],
            "type": "heatmapgl"
           }
          ],
          "histogram": [
           {
            "marker": {
             "pattern": {
              "fillmode": "overlay",
              "size": 10,
              "solidity": 0.2
             }
            },
            "type": "histogram"
           }
          ],
          "histogram2d": [
           {
            "colorbar": {
             "outlinewidth": 0,
             "ticks": ""
            },
            "colorscale": [
             [
              0,
              "#0d0887"
             ],
             [
              0.1111111111111111,
              "#46039f"
             ],
             [
              0.2222222222222222,
              "#7201a8"
             ],
             [
              0.3333333333333333,
              "#9c179e"
             ],
             [
              0.4444444444444444,
              "#bd3786"
             ],
             [
              0.5555555555555556,
              "#d8576b"
             ],
             [
              0.6666666666666666,
              "#ed7953"
             ],
             [
              0.7777777777777778,
              "#fb9f3a"
             ],
             [
              0.8888888888888888,
              "#fdca26"
             ],
             [
              1,
              "#f0f921"
             ]
            ],
            "type": "histogram2d"
           }
          ],
          "histogram2dcontour": [
           {
            "colorbar": {
             "outlinewidth": 0,
             "ticks": ""
            },
            "colorscale": [
             [
              0,
              "#0d0887"
             ],
             [
              0.1111111111111111,
              "#46039f"
             ],
             [
              0.2222222222222222,
              "#7201a8"
             ],
             [
              0.3333333333333333,
              "#9c179e"
             ],
             [
              0.4444444444444444,
              "#bd3786"
             ],
             [
              0.5555555555555556,
              "#d8576b"
             ],
             [
              0.6666666666666666,
              "#ed7953"
             ],
             [
              0.7777777777777778,
              "#fb9f3a"
             ],
             [
              0.8888888888888888,
              "#fdca26"
             ],
             [
              1,
              "#f0f921"
             ]
            ],
            "type": "histogram2dcontour"
           }
          ],
          "mesh3d": [
           {
            "colorbar": {
             "outlinewidth": 0,
             "ticks": ""
            },
            "type": "mesh3d"
           }
          ],
          "parcoords": [
           {
            "line": {
             "colorbar": {
              "outlinewidth": 0,
              "ticks": ""
             }
            },
            "type": "parcoords"
           }
          ],
          "pie": [
           {
            "automargin": true,
            "type": "pie"
           }
          ],
          "scatter": [
           {
            "fillpattern": {
             "fillmode": "overlay",
             "size": 10,
             "solidity": 0.2
            },
            "type": "scatter"
           }
          ],
          "scatter3d": [
           {
            "line": {
             "colorbar": {
              "outlinewidth": 0,
              "ticks": ""
             }
            },
            "marker": {
             "colorbar": {
              "outlinewidth": 0,
              "ticks": ""
             }
            },
            "type": "scatter3d"
           }
          ],
          "scattercarpet": [
           {
            "marker": {
             "colorbar": {
              "outlinewidth": 0,
              "ticks": ""
             }
            },
            "type": "scattercarpet"
           }
          ],
          "scattergeo": [
           {
            "marker": {
             "colorbar": {
              "outlinewidth": 0,
              "ticks": ""
             }
            },
            "type": "scattergeo"
           }
          ],
          "scattergl": [
           {
            "marker": {
             "colorbar": {
              "outlinewidth": 0,
              "ticks": ""
             }
            },
            "type": "scattergl"
           }
          ],
          "scattermapbox": [
           {
            "marker": {
             "colorbar": {
              "outlinewidth": 0,
              "ticks": ""
             }
            },
            "type": "scattermapbox"
           }
          ],
          "scatterpolar": [
           {
            "marker": {
             "colorbar": {
              "outlinewidth": 0,
              "ticks": ""
             }
            },
            "type": "scatterpolar"
           }
          ],
          "scatterpolargl": [
           {
            "marker": {
             "colorbar": {
              "outlinewidth": 0,
              "ticks": ""
             }
            },
            "type": "scatterpolargl"
           }
          ],
          "scatterternary": [
           {
            "marker": {
             "colorbar": {
              "outlinewidth": 0,
              "ticks": ""
             }
            },
            "type": "scatterternary"
           }
          ],
          "surface": [
           {
            "colorbar": {
             "outlinewidth": 0,
             "ticks": ""
            },
            "colorscale": [
             [
              0,
              "#0d0887"
             ],
             [
              0.1111111111111111,
              "#46039f"
             ],
             [
              0.2222222222222222,
              "#7201a8"
             ],
             [
              0.3333333333333333,
              "#9c179e"
             ],
             [
              0.4444444444444444,
              "#bd3786"
             ],
             [
              0.5555555555555556,
              "#d8576b"
             ],
             [
              0.6666666666666666,
              "#ed7953"
             ],
             [
              0.7777777777777778,
              "#fb9f3a"
             ],
             [
              0.8888888888888888,
              "#fdca26"
             ],
             [
              1,
              "#f0f921"
             ]
            ],
            "type": "surface"
           }
          ],
          "table": [
           {
            "cells": {
             "fill": {
              "color": "#EBF0F8"
             },
             "line": {
              "color": "white"
             }
            },
            "header": {
             "fill": {
              "color": "#C8D4E3"
             },
             "line": {
              "color": "white"
             }
            },
            "type": "table"
           }
          ]
         },
         "layout": {
          "annotationdefaults": {
           "arrowcolor": "#2a3f5f",
           "arrowhead": 0,
           "arrowwidth": 1
          },
          "autotypenumbers": "strict",
          "coloraxis": {
           "colorbar": {
            "outlinewidth": 0,
            "ticks": ""
           }
          },
          "colorscale": {
           "diverging": [
            [
             0,
             "#8e0152"
            ],
            [
             0.1,
             "#c51b7d"
            ],
            [
             0.2,
             "#de77ae"
            ],
            [
             0.3,
             "#f1b6da"
            ],
            [
             0.4,
             "#fde0ef"
            ],
            [
             0.5,
             "#f7f7f7"
            ],
            [
             0.6,
             "#e6f5d0"
            ],
            [
             0.7,
             "#b8e186"
            ],
            [
             0.8,
             "#7fbc41"
            ],
            [
             0.9,
             "#4d9221"
            ],
            [
             1,
             "#276419"
            ]
           ],
           "sequential": [
            [
             0,
             "#0d0887"
            ],
            [
             0.1111111111111111,
             "#46039f"
            ],
            [
             0.2222222222222222,
             "#7201a8"
            ],
            [
             0.3333333333333333,
             "#9c179e"
            ],
            [
             0.4444444444444444,
             "#bd3786"
            ],
            [
             0.5555555555555556,
             "#d8576b"
            ],
            [
             0.6666666666666666,
             "#ed7953"
            ],
            [
             0.7777777777777778,
             "#fb9f3a"
            ],
            [
             0.8888888888888888,
             "#fdca26"
            ],
            [
             1,
             "#f0f921"
            ]
           ],
           "sequentialminus": [
            [
             0,
             "#0d0887"
            ],
            [
             0.1111111111111111,
             "#46039f"
            ],
            [
             0.2222222222222222,
             "#7201a8"
            ],
            [
             0.3333333333333333,
             "#9c179e"
            ],
            [
             0.4444444444444444,
             "#bd3786"
            ],
            [
             0.5555555555555556,
             "#d8576b"
            ],
            [
             0.6666666666666666,
             "#ed7953"
            ],
            [
             0.7777777777777778,
             "#fb9f3a"
            ],
            [
             0.8888888888888888,
             "#fdca26"
            ],
            [
             1,
             "#f0f921"
            ]
           ]
          },
          "colorway": [
           "#636efa",
           "#EF553B",
           "#00cc96",
           "#ab63fa",
           "#FFA15A",
           "#19d3f3",
           "#FF6692",
           "#B6E880",
           "#FF97FF",
           "#FECB52"
          ],
          "font": {
           "color": "#2a3f5f"
          },
          "geo": {
           "bgcolor": "white",
           "lakecolor": "white",
           "landcolor": "#E5ECF6",
           "showlakes": true,
           "showland": true,
           "subunitcolor": "white"
          },
          "hoverlabel": {
           "align": "left"
          },
          "hovermode": "closest",
          "mapbox": {
           "style": "light"
          },
          "paper_bgcolor": "white",
          "plot_bgcolor": "#E5ECF6",
          "polar": {
           "angularaxis": {
            "gridcolor": "white",
            "linecolor": "white",
            "ticks": ""
           },
           "bgcolor": "#E5ECF6",
           "radialaxis": {
            "gridcolor": "white",
            "linecolor": "white",
            "ticks": ""
           }
          },
          "scene": {
           "xaxis": {
            "backgroundcolor": "#E5ECF6",
            "gridcolor": "white",
            "gridwidth": 2,
            "linecolor": "white",
            "showbackground": true,
            "ticks": "",
            "zerolinecolor": "white"
           },
           "yaxis": {
            "backgroundcolor": "#E5ECF6",
            "gridcolor": "white",
            "gridwidth": 2,
            "linecolor": "white",
            "showbackground": true,
            "ticks": "",
            "zerolinecolor": "white"
           },
           "zaxis": {
            "backgroundcolor": "#E5ECF6",
            "gridcolor": "white",
            "gridwidth": 2,
            "linecolor": "white",
            "showbackground": true,
            "ticks": "",
            "zerolinecolor": "white"
           }
          },
          "shapedefaults": {
           "line": {
            "color": "#2a3f5f"
           }
          },
          "ternary": {
           "aaxis": {
            "gridcolor": "white",
            "linecolor": "white",
            "ticks": ""
           },
           "baxis": {
            "gridcolor": "white",
            "linecolor": "white",
            "ticks": ""
           },
           "bgcolor": "#E5ECF6",
           "caxis": {
            "gridcolor": "white",
            "linecolor": "white",
            "ticks": ""
           }
          },
          "title": {
           "x": 0.05
          },
          "xaxis": {
           "automargin": true,
           "gridcolor": "white",
           "linecolor": "white",
           "ticks": "",
           "title": {
            "standoff": 15
           },
           "zerolinecolor": "white",
           "zerolinewidth": 2
          },
          "yaxis": {
           "automargin": true,
           "gridcolor": "white",
           "linecolor": "white",
           "ticks": "",
           "title": {
            "standoff": 15
           },
           "zerolinecolor": "white",
           "zerolinewidth": 2
          }
         }
        },
        "title": {
         "text": "Metricas 1.8"
        }
       }
      }
     },
     "metadata": {},
     "output_type": "display_data"
    }
   ],
   "source": [
    "px.treemap(data_frame = df_metricas_1_8,\n",
    "           values     = \"MAE\",\n",
    "           path       = [\"Modelo\",\"karma_Q3\",\"karma_Q1\",\"Bigote superior\",\"Bigote inferior\",\"MAE\",\"MSE\",\"RMSE\",\"R2\"],\n",
    "           hover_name = \"Modelo\",\n",
    "           color      = \"Modelo\",\n",
    "           title      = \"Metricas 1.8\")"
   ]
  },
  {
   "cell_type": "code",
   "execution_count": 29,
   "metadata": {},
   "outputs": [
    {
     "data": {
      "application/vnd.plotly.v1+json": {
       "config": {
        "plotlyServerURL": "https://plot.ly"
       },
       "data": [
        {
         "alignmentgroup": "True",
         "customdata": [
          [
           1.8,
           1.8,
           64,
           -28,
           2094.2260467042743,
           45.7627145906389,
           -11.006424277577624
          ]
         ],
         "hovertemplate": "Modelo=%{y}<br>MAE=%{x}<br>karma_Q3=%{customdata[0]}<br>karma_Q1=%{customdata[1]}<br>Bigote superior=%{customdata[2]}<br>Bigote inferior=%{customdata[3]}<br>MSE=%{customdata[4]}<br>RMSE=%{customdata[5]}<br>R2=%{customdata[6]}<extra></extra>",
         "legendgroup": "LinearRegression",
         "marker": {
          "color": "#636efa",
          "pattern": {
           "shape": ""
          }
         },
         "name": "LinearRegression",
         "offsetgroup": "LinearRegression",
         "orientation": "h",
         "showlegend": true,
         "textposition": "auto",
         "type": "bar",
         "x": [
          18.403909260842937
         ],
         "xaxis": "x",
         "y": [
          "LinearRegression"
         ],
         "yaxis": "y"
        },
        {
         "alignmentgroup": "True",
         "customdata": [
          [
           1.8,
           1.8,
           64,
           -28,
           200.7726503520611,
           14.16942660632607,
           -0.15105130473099582
          ]
         ],
         "hovertemplate": "Modelo=%{y}<br>MAE=%{x}<br>karma_Q3=%{customdata[0]}<br>karma_Q1=%{customdata[1]}<br>Bigote superior=%{customdata[2]}<br>Bigote inferior=%{customdata[3]}<br>MSE=%{customdata[4]}<br>RMSE=%{customdata[5]}<br>R2=%{customdata[6]}<extra></extra>",
         "legendgroup": "KNeighborsRegressor",
         "marker": {
          "color": "#EF553B",
          "pattern": {
           "shape": ""
          }
         },
         "name": "KNeighborsRegressor",
         "offsetgroup": "KNeighborsRegressor",
         "orientation": "h",
         "showlegend": true,
         "textposition": "auto",
         "type": "bar",
         "x": [
          10.314301344130294
         ],
         "xaxis": "x",
         "y": [
          "KNeighborsRegressor"
         ],
         "yaxis": "y"
        },
        {
         "alignmentgroup": "True",
         "customdata": [
          [
           1.8,
           1.8,
           64,
           -28,
           318.82268582567065,
           17.85560656560484,
           -0.8278449173927098
          ]
         ],
         "hovertemplate": "Modelo=%{y}<br>MAE=%{x}<br>karma_Q3=%{customdata[0]}<br>karma_Q1=%{customdata[1]}<br>Bigote superior=%{customdata[2]}<br>Bigote inferior=%{customdata[3]}<br>MSE=%{customdata[4]}<br>RMSE=%{customdata[5]}<br>R2=%{customdata[6]}<extra></extra>",
         "legendgroup": "DecisionTreeRegressor",
         "marker": {
          "color": "#00cc96",
          "pattern": {
           "shape": ""
          }
         },
         "name": "DecisionTreeRegressor",
         "offsetgroup": "DecisionTreeRegressor",
         "orientation": "h",
         "showlegend": true,
         "textposition": "auto",
         "type": "bar",
         "x": [
          12.458078177841768
         ],
         "xaxis": "x",
         "y": [
          "DecisionTreeRegressor"
         ],
         "yaxis": "y"
        },
        {
         "alignmentgroup": "True",
         "customdata": [
          [
           1.8,
           1.8,
           64,
           -28,
           182.80078805141093,
           13.520384168040897,
           -0.048016675694946054
          ]
         ],
         "hovertemplate": "Modelo=%{y}<br>MAE=%{x}<br>karma_Q3=%{customdata[0]}<br>karma_Q1=%{customdata[1]}<br>Bigote superior=%{customdata[2]}<br>Bigote inferior=%{customdata[3]}<br>MSE=%{customdata[4]}<br>RMSE=%{customdata[5]}<br>R2=%{customdata[6]}<extra></extra>",
         "legendgroup": "AdaBoostRegressor",
         "marker": {
          "color": "#ab63fa",
          "pattern": {
           "shape": ""
          }
         },
         "name": "AdaBoostRegressor",
         "offsetgroup": "AdaBoostRegressor",
         "orientation": "h",
         "showlegend": true,
         "textposition": "auto",
         "type": "bar",
         "x": [
          11.033955980067844
         ],
         "xaxis": "x",
         "y": [
          "AdaBoostRegressor"
         ],
         "yaxis": "y"
        },
        {
         "alignmentgroup": "True",
         "customdata": [
          [
           1.8,
           1.8,
           64,
           -28,
           174.19894827860597,
           13.198444918951852,
           0.0012986014417165626
          ]
         ],
         "hovertemplate": "Modelo=%{y}<br>MAE=%{x}<br>karma_Q3=%{customdata[0]}<br>karma_Q1=%{customdata[1]}<br>Bigote superior=%{customdata[2]}<br>Bigote inferior=%{customdata[3]}<br>MSE=%{customdata[4]}<br>RMSE=%{customdata[5]}<br>R2=%{customdata[6]}<extra></extra>",
         "legendgroup": "GradientBoostingRegressor",
         "marker": {
          "color": "#FFA15A",
          "pattern": {
           "shape": ""
          }
         },
         "name": "GradientBoostingRegressor",
         "offsetgroup": "GradientBoostingRegressor",
         "orientation": "h",
         "showlegend": true,
         "textposition": "auto",
         "type": "bar",
         "x": [
          9.848579308405684
         ],
         "xaxis": "x",
         "y": [
          "GradientBoostingRegressor"
         ],
         "yaxis": "y"
        }
       ],
       "layout": {
        "barmode": "relative",
        "legend": {
         "title": {
          "text": "Modelo"
         },
         "tracegroupgap": 0
        },
        "template": {
         "data": {
          "bar": [
           {
            "error_x": {
             "color": "#2a3f5f"
            },
            "error_y": {
             "color": "#2a3f5f"
            },
            "marker": {
             "line": {
              "color": "#E5ECF6",
              "width": 0.5
             },
             "pattern": {
              "fillmode": "overlay",
              "size": 10,
              "solidity": 0.2
             }
            },
            "type": "bar"
           }
          ],
          "barpolar": [
           {
            "marker": {
             "line": {
              "color": "#E5ECF6",
              "width": 0.5
             },
             "pattern": {
              "fillmode": "overlay",
              "size": 10,
              "solidity": 0.2
             }
            },
            "type": "barpolar"
           }
          ],
          "carpet": [
           {
            "aaxis": {
             "endlinecolor": "#2a3f5f",
             "gridcolor": "white",
             "linecolor": "white",
             "minorgridcolor": "white",
             "startlinecolor": "#2a3f5f"
            },
            "baxis": {
             "endlinecolor": "#2a3f5f",
             "gridcolor": "white",
             "linecolor": "white",
             "minorgridcolor": "white",
             "startlinecolor": "#2a3f5f"
            },
            "type": "carpet"
           }
          ],
          "choropleth": [
           {
            "colorbar": {
             "outlinewidth": 0,
             "ticks": ""
            },
            "type": "choropleth"
           }
          ],
          "contour": [
           {
            "colorbar": {
             "outlinewidth": 0,
             "ticks": ""
            },
            "colorscale": [
             [
              0,
              "#0d0887"
             ],
             [
              0.1111111111111111,
              "#46039f"
             ],
             [
              0.2222222222222222,
              "#7201a8"
             ],
             [
              0.3333333333333333,
              "#9c179e"
             ],
             [
              0.4444444444444444,
              "#bd3786"
             ],
             [
              0.5555555555555556,
              "#d8576b"
             ],
             [
              0.6666666666666666,
              "#ed7953"
             ],
             [
              0.7777777777777778,
              "#fb9f3a"
             ],
             [
              0.8888888888888888,
              "#fdca26"
             ],
             [
              1,
              "#f0f921"
             ]
            ],
            "type": "contour"
           }
          ],
          "contourcarpet": [
           {
            "colorbar": {
             "outlinewidth": 0,
             "ticks": ""
            },
            "type": "contourcarpet"
           }
          ],
          "heatmap": [
           {
            "colorbar": {
             "outlinewidth": 0,
             "ticks": ""
            },
            "colorscale": [
             [
              0,
              "#0d0887"
             ],
             [
              0.1111111111111111,
              "#46039f"
             ],
             [
              0.2222222222222222,
              "#7201a8"
             ],
             [
              0.3333333333333333,
              "#9c179e"
             ],
             [
              0.4444444444444444,
              "#bd3786"
             ],
             [
              0.5555555555555556,
              "#d8576b"
             ],
             [
              0.6666666666666666,
              "#ed7953"
             ],
             [
              0.7777777777777778,
              "#fb9f3a"
             ],
             [
              0.8888888888888888,
              "#fdca26"
             ],
             [
              1,
              "#f0f921"
             ]
            ],
            "type": "heatmap"
           }
          ],
          "heatmapgl": [
           {
            "colorbar": {
             "outlinewidth": 0,
             "ticks": ""
            },
            "colorscale": [
             [
              0,
              "#0d0887"
             ],
             [
              0.1111111111111111,
              "#46039f"
             ],
             [
              0.2222222222222222,
              "#7201a8"
             ],
             [
              0.3333333333333333,
              "#9c179e"
             ],
             [
              0.4444444444444444,
              "#bd3786"
             ],
             [
              0.5555555555555556,
              "#d8576b"
             ],
             [
              0.6666666666666666,
              "#ed7953"
             ],
             [
              0.7777777777777778,
              "#fb9f3a"
             ],
             [
              0.8888888888888888,
              "#fdca26"
             ],
             [
              1,
              "#f0f921"
             ]
            ],
            "type": "heatmapgl"
           }
          ],
          "histogram": [
           {
            "marker": {
             "pattern": {
              "fillmode": "overlay",
              "size": 10,
              "solidity": 0.2
             }
            },
            "type": "histogram"
           }
          ],
          "histogram2d": [
           {
            "colorbar": {
             "outlinewidth": 0,
             "ticks": ""
            },
            "colorscale": [
             [
              0,
              "#0d0887"
             ],
             [
              0.1111111111111111,
              "#46039f"
             ],
             [
              0.2222222222222222,
              "#7201a8"
             ],
             [
              0.3333333333333333,
              "#9c179e"
             ],
             [
              0.4444444444444444,
              "#bd3786"
             ],
             [
              0.5555555555555556,
              "#d8576b"
             ],
             [
              0.6666666666666666,
              "#ed7953"
             ],
             [
              0.7777777777777778,
              "#fb9f3a"
             ],
             [
              0.8888888888888888,
              "#fdca26"
             ],
             [
              1,
              "#f0f921"
             ]
            ],
            "type": "histogram2d"
           }
          ],
          "histogram2dcontour": [
           {
            "colorbar": {
             "outlinewidth": 0,
             "ticks": ""
            },
            "colorscale": [
             [
              0,
              "#0d0887"
             ],
             [
              0.1111111111111111,
              "#46039f"
             ],
             [
              0.2222222222222222,
              "#7201a8"
             ],
             [
              0.3333333333333333,
              "#9c179e"
             ],
             [
              0.4444444444444444,
              "#bd3786"
             ],
             [
              0.5555555555555556,
              "#d8576b"
             ],
             [
              0.6666666666666666,
              "#ed7953"
             ],
             [
              0.7777777777777778,
              "#fb9f3a"
             ],
             [
              0.8888888888888888,
              "#fdca26"
             ],
             [
              1,
              "#f0f921"
             ]
            ],
            "type": "histogram2dcontour"
           }
          ],
          "mesh3d": [
           {
            "colorbar": {
             "outlinewidth": 0,
             "ticks": ""
            },
            "type": "mesh3d"
           }
          ],
          "parcoords": [
           {
            "line": {
             "colorbar": {
              "outlinewidth": 0,
              "ticks": ""
             }
            },
            "type": "parcoords"
           }
          ],
          "pie": [
           {
            "automargin": true,
            "type": "pie"
           }
          ],
          "scatter": [
           {
            "fillpattern": {
             "fillmode": "overlay",
             "size": 10,
             "solidity": 0.2
            },
            "type": "scatter"
           }
          ],
          "scatter3d": [
           {
            "line": {
             "colorbar": {
              "outlinewidth": 0,
              "ticks": ""
             }
            },
            "marker": {
             "colorbar": {
              "outlinewidth": 0,
              "ticks": ""
             }
            },
            "type": "scatter3d"
           }
          ],
          "scattercarpet": [
           {
            "marker": {
             "colorbar": {
              "outlinewidth": 0,
              "ticks": ""
             }
            },
            "type": "scattercarpet"
           }
          ],
          "scattergeo": [
           {
            "marker": {
             "colorbar": {
              "outlinewidth": 0,
              "ticks": ""
             }
            },
            "type": "scattergeo"
           }
          ],
          "scattergl": [
           {
            "marker": {
             "colorbar": {
              "outlinewidth": 0,
              "ticks": ""
             }
            },
            "type": "scattergl"
           }
          ],
          "scattermapbox": [
           {
            "marker": {
             "colorbar": {
              "outlinewidth": 0,
              "ticks": ""
             }
            },
            "type": "scattermapbox"
           }
          ],
          "scatterpolar": [
           {
            "marker": {
             "colorbar": {
              "outlinewidth": 0,
              "ticks": ""
             }
            },
            "type": "scatterpolar"
           }
          ],
          "scatterpolargl": [
           {
            "marker": {
             "colorbar": {
              "outlinewidth": 0,
              "ticks": ""
             }
            },
            "type": "scatterpolargl"
           }
          ],
          "scatterternary": [
           {
            "marker": {
             "colorbar": {
              "outlinewidth": 0,
              "ticks": ""
             }
            },
            "type": "scatterternary"
           }
          ],
          "surface": [
           {
            "colorbar": {
             "outlinewidth": 0,
             "ticks": ""
            },
            "colorscale": [
             [
              0,
              "#0d0887"
             ],
             [
              0.1111111111111111,
              "#46039f"
             ],
             [
              0.2222222222222222,
              "#7201a8"
             ],
             [
              0.3333333333333333,
              "#9c179e"
             ],
             [
              0.4444444444444444,
              "#bd3786"
             ],
             [
              0.5555555555555556,
              "#d8576b"
             ],
             [
              0.6666666666666666,
              "#ed7953"
             ],
             [
              0.7777777777777778,
              "#fb9f3a"
             ],
             [
              0.8888888888888888,
              "#fdca26"
             ],
             [
              1,
              "#f0f921"
             ]
            ],
            "type": "surface"
           }
          ],
          "table": [
           {
            "cells": {
             "fill": {
              "color": "#EBF0F8"
             },
             "line": {
              "color": "white"
             }
            },
            "header": {
             "fill": {
              "color": "#C8D4E3"
             },
             "line": {
              "color": "white"
             }
            },
            "type": "table"
           }
          ]
         },
         "layout": {
          "annotationdefaults": {
           "arrowcolor": "#2a3f5f",
           "arrowhead": 0,
           "arrowwidth": 1
          },
          "autotypenumbers": "strict",
          "coloraxis": {
           "colorbar": {
            "outlinewidth": 0,
            "ticks": ""
           }
          },
          "colorscale": {
           "diverging": [
            [
             0,
             "#8e0152"
            ],
            [
             0.1,
             "#c51b7d"
            ],
            [
             0.2,
             "#de77ae"
            ],
            [
             0.3,
             "#f1b6da"
            ],
            [
             0.4,
             "#fde0ef"
            ],
            [
             0.5,
             "#f7f7f7"
            ],
            [
             0.6,
             "#e6f5d0"
            ],
            [
             0.7,
             "#b8e186"
            ],
            [
             0.8,
             "#7fbc41"
            ],
            [
             0.9,
             "#4d9221"
            ],
            [
             1,
             "#276419"
            ]
           ],
           "sequential": [
            [
             0,
             "#0d0887"
            ],
            [
             0.1111111111111111,
             "#46039f"
            ],
            [
             0.2222222222222222,
             "#7201a8"
            ],
            [
             0.3333333333333333,
             "#9c179e"
            ],
            [
             0.4444444444444444,
             "#bd3786"
            ],
            [
             0.5555555555555556,
             "#d8576b"
            ],
            [
             0.6666666666666666,
             "#ed7953"
            ],
            [
             0.7777777777777778,
             "#fb9f3a"
            ],
            [
             0.8888888888888888,
             "#fdca26"
            ],
            [
             1,
             "#f0f921"
            ]
           ],
           "sequentialminus": [
            [
             0,
             "#0d0887"
            ],
            [
             0.1111111111111111,
             "#46039f"
            ],
            [
             0.2222222222222222,
             "#7201a8"
            ],
            [
             0.3333333333333333,
             "#9c179e"
            ],
            [
             0.4444444444444444,
             "#bd3786"
            ],
            [
             0.5555555555555556,
             "#d8576b"
            ],
            [
             0.6666666666666666,
             "#ed7953"
            ],
            [
             0.7777777777777778,
             "#fb9f3a"
            ],
            [
             0.8888888888888888,
             "#fdca26"
            ],
            [
             1,
             "#f0f921"
            ]
           ]
          },
          "colorway": [
           "#636efa",
           "#EF553B",
           "#00cc96",
           "#ab63fa",
           "#FFA15A",
           "#19d3f3",
           "#FF6692",
           "#B6E880",
           "#FF97FF",
           "#FECB52"
          ],
          "font": {
           "color": "#2a3f5f"
          },
          "geo": {
           "bgcolor": "white",
           "lakecolor": "white",
           "landcolor": "#E5ECF6",
           "showlakes": true,
           "showland": true,
           "subunitcolor": "white"
          },
          "hoverlabel": {
           "align": "left"
          },
          "hovermode": "closest",
          "mapbox": {
           "style": "light"
          },
          "paper_bgcolor": "white",
          "plot_bgcolor": "#E5ECF6",
          "polar": {
           "angularaxis": {
            "gridcolor": "white",
            "linecolor": "white",
            "ticks": ""
           },
           "bgcolor": "#E5ECF6",
           "radialaxis": {
            "gridcolor": "white",
            "linecolor": "white",
            "ticks": ""
           }
          },
          "scene": {
           "xaxis": {
            "backgroundcolor": "#E5ECF6",
            "gridcolor": "white",
            "gridwidth": 2,
            "linecolor": "white",
            "showbackground": true,
            "ticks": "",
            "zerolinecolor": "white"
           },
           "yaxis": {
            "backgroundcolor": "#E5ECF6",
            "gridcolor": "white",
            "gridwidth": 2,
            "linecolor": "white",
            "showbackground": true,
            "ticks": "",
            "zerolinecolor": "white"
           },
           "zaxis": {
            "backgroundcolor": "#E5ECF6",
            "gridcolor": "white",
            "gridwidth": 2,
            "linecolor": "white",
            "showbackground": true,
            "ticks": "",
            "zerolinecolor": "white"
           }
          },
          "shapedefaults": {
           "line": {
            "color": "#2a3f5f"
           }
          },
          "ternary": {
           "aaxis": {
            "gridcolor": "white",
            "linecolor": "white",
            "ticks": ""
           },
           "baxis": {
            "gridcolor": "white",
            "linecolor": "white",
            "ticks": ""
           },
           "bgcolor": "#E5ECF6",
           "caxis": {
            "gridcolor": "white",
            "linecolor": "white",
            "ticks": ""
           }
          },
          "title": {
           "x": 0.05
          },
          "xaxis": {
           "automargin": true,
           "gridcolor": "white",
           "linecolor": "white",
           "ticks": "",
           "title": {
            "standoff": 15
           },
           "zerolinecolor": "white",
           "zerolinewidth": 2
          },
          "yaxis": {
           "automargin": true,
           "gridcolor": "white",
           "linecolor": "white",
           "ticks": "",
           "title": {
            "standoff": 15
           },
           "zerolinecolor": "white",
           "zerolinewidth": 2
          }
         }
        },
        "title": {
         "text": "Metricas 1.8"
        },
        "xaxis": {
         "anchor": "y",
         "domain": [
          0,
          1
         ],
         "title": {
          "text": "MAE"
         }
        },
        "yaxis": {
         "anchor": "x",
         "categoryarray": [
          "GradientBoostingRegressor",
          "AdaBoostRegressor",
          "DecisionTreeRegressor",
          "KNeighborsRegressor",
          "LinearRegression"
         ],
         "categoryorder": "array",
         "domain": [
          0,
          1
         ],
         "title": {
          "text": "Modelo"
         }
        }
       }
      }
     },
     "metadata": {},
     "output_type": "display_data"
    }
   ],
   "source": [
    "px.bar(data_frame = df_metricas_1_8,\n",
    "       x          = \"MAE\",\n",
    "       y          = \"Modelo\",\n",
    "       hover_data = [\"karma_Q3\",\"karma_Q1\",\"Bigote superior\",\"Bigote inferior\",\"MAE\",\"MSE\",\"RMSE\",\"R2\"],\n",
    "       color      = \"Modelo\",\n",
    "       title      = \"Metricas 1.8\"\n",
    "      )"
   ]
  },
  {
   "cell_type": "markdown",
   "metadata": {},
   "source": [
    "## Metricas segun cuartiles a 2.0"
   ]
  },
  {
   "cell_type": "code",
   "execution_count": 9,
   "metadata": {},
   "outputs": [
    {
     "data": {
      "text/html": [
       "<div>\n",
       "<style scoped>\n",
       "    .dataframe tbody tr th:only-of-type {\n",
       "        vertical-align: middle;\n",
       "    }\n",
       "\n",
       "    .dataframe tbody tr th {\n",
       "        vertical-align: top;\n",
       "    }\n",
       "\n",
       "    .dataframe thead th {\n",
       "        text-align: right;\n",
       "    }\n",
       "</style>\n",
       "<table border=\"1\" class=\"dataframe\">\n",
       "  <thead>\n",
       "    <tr style=\"text-align: right;\">\n",
       "      <th></th>\n",
       "      <th>Modelo</th>\n",
       "      <th>karma_Q3</th>\n",
       "      <th>karma_Q1</th>\n",
       "      <th>Bigote superior</th>\n",
       "      <th>Bigote inferior</th>\n",
       "      <th>MAE</th>\n",
       "      <th>MSE</th>\n",
       "      <th>RMSE</th>\n",
       "      <th>R2</th>\n",
       "    </tr>\n",
       "  </thead>\n",
       "  <tbody>\n",
       "    <tr>\n",
       "      <th>0</th>\n",
       "      <td>LinearRegression</td>\n",
       "      <td>2.0</td>\n",
       "      <td>2.0</td>\n",
       "      <td>68</td>\n",
       "      <td>-32</td>\n",
       "      <td>18.765771</td>\n",
       "      <td>1263.027371</td>\n",
       "      <td>35.539096</td>\n",
       "      <td>-5.620773</td>\n",
       "    </tr>\n",
       "    <tr>\n",
       "      <th>1</th>\n",
       "      <td>KNeighborsRegressor</td>\n",
       "      <td>2.0</td>\n",
       "      <td>2.0</td>\n",
       "      <td>68</td>\n",
       "      <td>-32</td>\n",
       "      <td>10.585009</td>\n",
       "      <td>217.945654</td>\n",
       "      <td>14.762983</td>\n",
       "      <td>-0.142468</td>\n",
       "    </tr>\n",
       "    <tr>\n",
       "      <th>2</th>\n",
       "      <td>DecisionTreeRegressor</td>\n",
       "      <td>2.0</td>\n",
       "      <td>2.0</td>\n",
       "      <td>68</td>\n",
       "      <td>-32</td>\n",
       "      <td>12.930113</td>\n",
       "      <td>348.662453</td>\n",
       "      <td>18.672505</td>\n",
       "      <td>-0.827684</td>\n",
       "    </tr>\n",
       "    <tr>\n",
       "      <th>3</th>\n",
       "      <td>AdaBoostRegressor</td>\n",
       "      <td>2.0</td>\n",
       "      <td>2.0</td>\n",
       "      <td>68</td>\n",
       "      <td>-32</td>\n",
       "      <td>10.962864</td>\n",
       "      <td>193.870404</td>\n",
       "      <td>13.923735</td>\n",
       "      <td>-0.016266</td>\n",
       "    </tr>\n",
       "    <tr>\n",
       "      <th>4</th>\n",
       "      <td>GradientBoostingRegressor</td>\n",
       "      <td>2.0</td>\n",
       "      <td>2.0</td>\n",
       "      <td>68</td>\n",
       "      <td>-32</td>\n",
       "      <td>10.222745</td>\n",
       "      <td>190.347858</td>\n",
       "      <td>13.796661</td>\n",
       "      <td>0.002199</td>\n",
       "    </tr>\n",
       "  </tbody>\n",
       "</table>\n",
       "</div>"
      ],
      "text/plain": [
       "                      Modelo  karma_Q3  karma_Q1  Bigote superior  \\\n",
       "0           LinearRegression       2.0       2.0               68   \n",
       "1        KNeighborsRegressor       2.0       2.0               68   \n",
       "2      DecisionTreeRegressor       2.0       2.0               68   \n",
       "3          AdaBoostRegressor       2.0       2.0               68   \n",
       "4  GradientBoostingRegressor       2.0       2.0               68   \n",
       "\n",
       "   Bigote inferior        MAE          MSE       RMSE        R2  \n",
       "0              -32  18.765771  1263.027371  35.539096 -5.620773  \n",
       "1              -32  10.585009   217.945654  14.762983 -0.142468  \n",
       "2              -32  12.930113   348.662453  18.672505 -0.827684  \n",
       "3              -32  10.962864   193.870404  13.923735 -0.016266  \n",
       "4              -32  10.222745   190.347858  13.796661  0.002199  "
      ]
     },
     "execution_count": 9,
     "metadata": {},
     "output_type": "execute_result"
    }
   ],
   "source": [
    "df_metricas_2"
   ]
  },
  {
   "cell_type": "code",
   "execution_count": 30,
   "metadata": {},
   "outputs": [
    {
     "data": {
      "application/vnd.plotly.v1+json": {
       "config": {
        "plotlyServerURL": "https://plot.ly"
       },
       "data": [
        {
         "branchvalues": "total",
         "customdata": [
          [
           "AdaBoostRegressor"
          ],
          [
           "KNeighborsRegressor"
          ],
          [
           "GradientBoostingRegressor"
          ],
          [
           "DecisionTreeRegressor"
          ],
          [
           "LinearRegression"
          ],
          [
           "GradientBoostingRegressor"
          ],
          [
           "AdaBoostRegressor"
          ],
          [
           "KNeighborsRegressor"
          ],
          [
           "DecisionTreeRegressor"
          ],
          [
           "LinearRegression"
          ],
          [
           "GradientBoostingRegressor"
          ],
          [
           "AdaBoostRegressor"
          ],
          [
           "KNeighborsRegressor"
          ],
          [
           "DecisionTreeRegressor"
          ],
          [
           "LinearRegression"
          ],
          [
           "GradientBoostingRegressor"
          ],
          [
           "KNeighborsRegressor"
          ],
          [
           "AdaBoostRegressor"
          ],
          [
           "DecisionTreeRegressor"
          ],
          [
           "LinearRegression"
          ],
          [
           "AdaBoostRegressor"
          ],
          [
           "DecisionTreeRegressor"
          ],
          [
           "GradientBoostingRegressor"
          ],
          [
           "KNeighborsRegressor"
          ],
          [
           "LinearRegression"
          ],
          [
           "AdaBoostRegressor"
          ],
          [
           "DecisionTreeRegressor"
          ],
          [
           "GradientBoostingRegressor"
          ],
          [
           "KNeighborsRegressor"
          ],
          [
           "LinearRegression"
          ],
          [
           "AdaBoostRegressor"
          ],
          [
           "DecisionTreeRegressor"
          ],
          [
           "GradientBoostingRegressor"
          ],
          [
           "KNeighborsRegressor"
          ],
          [
           "LinearRegression"
          ],
          [
           "AdaBoostRegressor"
          ],
          [
           "DecisionTreeRegressor"
          ],
          [
           "GradientBoostingRegressor"
          ],
          [
           "KNeighborsRegressor"
          ],
          [
           "LinearRegression"
          ],
          [
           "AdaBoostRegressor"
          ],
          [
           "DecisionTreeRegressor"
          ],
          [
           "GradientBoostingRegressor"
          ],
          [
           "KNeighborsRegressor"
          ],
          [
           "LinearRegression"
          ]
         ],
         "domain": {
          "x": [
           0,
           1
          ],
          "y": [
           0,
           1
          ]
         },
         "hovertemplate": "<b>%{hovertext}</b><br><br>labels=%{label}<br>MAE=%{value}<br>parent=%{parent}<br>id=%{id}<br>Modelo=%{customdata[0]}<extra></extra>",
         "hovertext": [
          "AdaBoostRegressor",
          "KNeighborsRegressor",
          "GradientBoostingRegressor",
          "DecisionTreeRegressor",
          "LinearRegression",
          "GradientBoostingRegressor",
          "AdaBoostRegressor",
          "KNeighborsRegressor",
          "DecisionTreeRegressor",
          "LinearRegression",
          "GradientBoostingRegressor",
          "AdaBoostRegressor",
          "KNeighborsRegressor",
          "DecisionTreeRegressor",
          "LinearRegression",
          "GradientBoostingRegressor",
          "KNeighborsRegressor",
          "AdaBoostRegressor",
          "DecisionTreeRegressor",
          "LinearRegression",
          "AdaBoostRegressor",
          "DecisionTreeRegressor",
          "GradientBoostingRegressor",
          "KNeighborsRegressor",
          "LinearRegression",
          "AdaBoostRegressor",
          "DecisionTreeRegressor",
          "GradientBoostingRegressor",
          "KNeighborsRegressor",
          "LinearRegression",
          "AdaBoostRegressor",
          "DecisionTreeRegressor",
          "GradientBoostingRegressor",
          "KNeighborsRegressor",
          "LinearRegression",
          "AdaBoostRegressor",
          "DecisionTreeRegressor",
          "GradientBoostingRegressor",
          "KNeighborsRegressor",
          "LinearRegression",
          "AdaBoostRegressor",
          "DecisionTreeRegressor",
          "GradientBoostingRegressor",
          "KNeighborsRegressor",
          "LinearRegression"
         ],
         "ids": [
          "AdaBoostRegressor/2.0/2.0/68/-32/10.962863827285991/193.87040417984457/13.92373528116089/-0.016266093047813346",
          "KNeighborsRegressor/2.0/2.0/68/-32/10.585008740460857/217.94565417867187/14.762982563786759/-0.14246823493204253",
          "GradientBoostingRegressor/2.0/2.0/68/-32/10.222744822040953/190.34785791347477/13.796661114685493/0.0021990478634468236",
          "DecisionTreeRegressor/2.0/2.0/68/-32/12.930112501265219/348.66245281767823/18.672505263560062/-0.8276839635037352",
          "LinearRegression/2.0/2.0/68/-32/18.76577139269872/1263.027370965061/35.53909637237645/-5.620772763811869",
          "GradientBoostingRegressor/2.0/2.0/68/-32/10.222744822040953/190.34785791347477/13.796661114685493",
          "AdaBoostRegressor/2.0/2.0/68/-32/10.962863827285991/193.87040417984457/13.92373528116089",
          "KNeighborsRegressor/2.0/2.0/68/-32/10.585008740460857/217.94565417867187/14.762982563786759",
          "DecisionTreeRegressor/2.0/2.0/68/-32/12.930112501265219/348.66245281767823/18.672505263560062",
          "LinearRegression/2.0/2.0/68/-32/18.76577139269872/1263.027370965061/35.53909637237645",
          "GradientBoostingRegressor/2.0/2.0/68/-32/10.222744822040953/190.34785791347477",
          "AdaBoostRegressor/2.0/2.0/68/-32/10.962863827285991/193.87040417984457",
          "KNeighborsRegressor/2.0/2.0/68/-32/10.585008740460857/217.94565417867187",
          "DecisionTreeRegressor/2.0/2.0/68/-32/12.930112501265219/348.66245281767823",
          "LinearRegression/2.0/2.0/68/-32/18.76577139269872/1263.027370965061",
          "GradientBoostingRegressor/2.0/2.0/68/-32/10.222744822040953",
          "KNeighborsRegressor/2.0/2.0/68/-32/10.585008740460857",
          "AdaBoostRegressor/2.0/2.0/68/-32/10.962863827285991",
          "DecisionTreeRegressor/2.0/2.0/68/-32/12.930112501265219",
          "LinearRegression/2.0/2.0/68/-32/18.76577139269872",
          "AdaBoostRegressor/2.0/2.0/68/-32",
          "DecisionTreeRegressor/2.0/2.0/68/-32",
          "GradientBoostingRegressor/2.0/2.0/68/-32",
          "KNeighborsRegressor/2.0/2.0/68/-32",
          "LinearRegression/2.0/2.0/68/-32",
          "AdaBoostRegressor/2.0/2.0/68",
          "DecisionTreeRegressor/2.0/2.0/68",
          "GradientBoostingRegressor/2.0/2.0/68",
          "KNeighborsRegressor/2.0/2.0/68",
          "LinearRegression/2.0/2.0/68",
          "AdaBoostRegressor/2.0/2.0",
          "DecisionTreeRegressor/2.0/2.0",
          "GradientBoostingRegressor/2.0/2.0",
          "KNeighborsRegressor/2.0/2.0",
          "LinearRegression/2.0/2.0",
          "AdaBoostRegressor/2.0",
          "DecisionTreeRegressor/2.0",
          "GradientBoostingRegressor/2.0",
          "KNeighborsRegressor/2.0",
          "LinearRegression/2.0",
          "AdaBoostRegressor",
          "DecisionTreeRegressor",
          "GradientBoostingRegressor",
          "KNeighborsRegressor",
          "LinearRegression"
         ],
         "labels": [
          "-0.016266093047813346",
          "-0.14246823493204253",
          "0.0021990478634468236",
          "-0.8276839635037352",
          "-5.620772763811869",
          "13.796661114685493",
          "13.92373528116089",
          "14.762982563786759",
          "18.672505263560062",
          "35.53909637237645",
          "190.34785791347477",
          "193.87040417984457",
          "217.94565417867187",
          "348.66245281767823",
          "1263.027370965061",
          "10.222744822040953",
          "10.585008740460857",
          "10.962863827285991",
          "12.930112501265219",
          "18.76577139269872",
          "-32",
          "-32",
          "-32",
          "-32",
          "-32",
          "68",
          "68",
          "68",
          "68",
          "68",
          "2.0",
          "2.0",
          "2.0",
          "2.0",
          "2.0",
          "2.0",
          "2.0",
          "2.0",
          "2.0",
          "2.0",
          "AdaBoostRegressor",
          "DecisionTreeRegressor",
          "GradientBoostingRegressor",
          "KNeighborsRegressor",
          "LinearRegression"
         ],
         "marker": {
          "colors": [
           "#636efa",
           "#EF553B",
           "#00cc96",
           "#ab63fa",
           "#FFA15A",
           "#00cc96",
           "#636efa",
           "#EF553B",
           "#ab63fa",
           "#FFA15A",
           "#00cc96",
           "#636efa",
           "#EF553B",
           "#ab63fa",
           "#FFA15A",
           "#00cc96",
           "#EF553B",
           "#636efa",
           "#ab63fa",
           "#FFA15A",
           "#636efa",
           "#ab63fa",
           "#00cc96",
           "#EF553B",
           "#FFA15A",
           "#636efa",
           "#ab63fa",
           "#00cc96",
           "#EF553B",
           "#FFA15A",
           "#636efa",
           "#ab63fa",
           "#00cc96",
           "#EF553B",
           "#FFA15A",
           "#636efa",
           "#ab63fa",
           "#00cc96",
           "#EF553B",
           "#FFA15A",
           "#636efa",
           "#ab63fa",
           "#00cc96",
           "#EF553B",
           "#FFA15A"
          ]
         },
         "name": "",
         "parents": [
          "AdaBoostRegressor/2.0/2.0/68/-32/10.962863827285991/193.87040417984457/13.92373528116089",
          "KNeighborsRegressor/2.0/2.0/68/-32/10.585008740460857/217.94565417867187/14.762982563786759",
          "GradientBoostingRegressor/2.0/2.0/68/-32/10.222744822040953/190.34785791347477/13.796661114685493",
          "DecisionTreeRegressor/2.0/2.0/68/-32/12.930112501265219/348.66245281767823/18.672505263560062",
          "LinearRegression/2.0/2.0/68/-32/18.76577139269872/1263.027370965061/35.53909637237645",
          "GradientBoostingRegressor/2.0/2.0/68/-32/10.222744822040953/190.34785791347477",
          "AdaBoostRegressor/2.0/2.0/68/-32/10.962863827285991/193.87040417984457",
          "KNeighborsRegressor/2.0/2.0/68/-32/10.585008740460857/217.94565417867187",
          "DecisionTreeRegressor/2.0/2.0/68/-32/12.930112501265219/348.66245281767823",
          "LinearRegression/2.0/2.0/68/-32/18.76577139269872/1263.027370965061",
          "GradientBoostingRegressor/2.0/2.0/68/-32/10.222744822040953",
          "AdaBoostRegressor/2.0/2.0/68/-32/10.962863827285991",
          "KNeighborsRegressor/2.0/2.0/68/-32/10.585008740460857",
          "DecisionTreeRegressor/2.0/2.0/68/-32/12.930112501265219",
          "LinearRegression/2.0/2.0/68/-32/18.76577139269872",
          "GradientBoostingRegressor/2.0/2.0/68/-32",
          "KNeighborsRegressor/2.0/2.0/68/-32",
          "AdaBoostRegressor/2.0/2.0/68/-32",
          "DecisionTreeRegressor/2.0/2.0/68/-32",
          "LinearRegression/2.0/2.0/68/-32",
          "AdaBoostRegressor/2.0/2.0/68",
          "DecisionTreeRegressor/2.0/2.0/68",
          "GradientBoostingRegressor/2.0/2.0/68",
          "KNeighborsRegressor/2.0/2.0/68",
          "LinearRegression/2.0/2.0/68",
          "AdaBoostRegressor/2.0/2.0",
          "DecisionTreeRegressor/2.0/2.0",
          "GradientBoostingRegressor/2.0/2.0",
          "KNeighborsRegressor/2.0/2.0",
          "LinearRegression/2.0/2.0",
          "AdaBoostRegressor/2.0",
          "DecisionTreeRegressor/2.0",
          "GradientBoostingRegressor/2.0",
          "KNeighborsRegressor/2.0",
          "LinearRegression/2.0",
          "AdaBoostRegressor",
          "DecisionTreeRegressor",
          "GradientBoostingRegressor",
          "KNeighborsRegressor",
          "LinearRegression",
          "",
          "",
          "",
          "",
          ""
         ],
         "type": "treemap",
         "values": [
          10.962863827285991,
          10.585008740460857,
          10.222744822040953,
          12.930112501265219,
          18.76577139269872,
          10.222744822040953,
          10.962863827285991,
          10.585008740460857,
          12.930112501265219,
          18.76577139269872,
          10.222744822040953,
          10.962863827285991,
          10.585008740460857,
          12.930112501265219,
          18.76577139269872,
          10.222744822040953,
          10.585008740460857,
          10.962863827285991,
          12.930112501265219,
          18.76577139269872,
          10.962863827285991,
          12.930112501265219,
          10.222744822040953,
          10.585008740460857,
          18.76577139269872,
          10.962863827285991,
          12.930112501265219,
          10.222744822040953,
          10.585008740460857,
          18.76577139269872,
          10.962863827285991,
          12.930112501265219,
          10.222744822040953,
          10.585008740460857,
          18.76577139269872,
          10.962863827285991,
          12.930112501265219,
          10.222744822040953,
          10.585008740460857,
          18.76577139269872,
          10.962863827285991,
          12.930112501265219,
          10.222744822040953,
          10.585008740460857,
          18.76577139269872
         ]
        }
       ],
       "layout": {
        "legend": {
         "tracegroupgap": 0
        },
        "template": {
         "data": {
          "bar": [
           {
            "error_x": {
             "color": "#2a3f5f"
            },
            "error_y": {
             "color": "#2a3f5f"
            },
            "marker": {
             "line": {
              "color": "#E5ECF6",
              "width": 0.5
             },
             "pattern": {
              "fillmode": "overlay",
              "size": 10,
              "solidity": 0.2
             }
            },
            "type": "bar"
           }
          ],
          "barpolar": [
           {
            "marker": {
             "line": {
              "color": "#E5ECF6",
              "width": 0.5
             },
             "pattern": {
              "fillmode": "overlay",
              "size": 10,
              "solidity": 0.2
             }
            },
            "type": "barpolar"
           }
          ],
          "carpet": [
           {
            "aaxis": {
             "endlinecolor": "#2a3f5f",
             "gridcolor": "white",
             "linecolor": "white",
             "minorgridcolor": "white",
             "startlinecolor": "#2a3f5f"
            },
            "baxis": {
             "endlinecolor": "#2a3f5f",
             "gridcolor": "white",
             "linecolor": "white",
             "minorgridcolor": "white",
             "startlinecolor": "#2a3f5f"
            },
            "type": "carpet"
           }
          ],
          "choropleth": [
           {
            "colorbar": {
             "outlinewidth": 0,
             "ticks": ""
            },
            "type": "choropleth"
           }
          ],
          "contour": [
           {
            "colorbar": {
             "outlinewidth": 0,
             "ticks": ""
            },
            "colorscale": [
             [
              0,
              "#0d0887"
             ],
             [
              0.1111111111111111,
              "#46039f"
             ],
             [
              0.2222222222222222,
              "#7201a8"
             ],
             [
              0.3333333333333333,
              "#9c179e"
             ],
             [
              0.4444444444444444,
              "#bd3786"
             ],
             [
              0.5555555555555556,
              "#d8576b"
             ],
             [
              0.6666666666666666,
              "#ed7953"
             ],
             [
              0.7777777777777778,
              "#fb9f3a"
             ],
             [
              0.8888888888888888,
              "#fdca26"
             ],
             [
              1,
              "#f0f921"
             ]
            ],
            "type": "contour"
           }
          ],
          "contourcarpet": [
           {
            "colorbar": {
             "outlinewidth": 0,
             "ticks": ""
            },
            "type": "contourcarpet"
           }
          ],
          "heatmap": [
           {
            "colorbar": {
             "outlinewidth": 0,
             "ticks": ""
            },
            "colorscale": [
             [
              0,
              "#0d0887"
             ],
             [
              0.1111111111111111,
              "#46039f"
             ],
             [
              0.2222222222222222,
              "#7201a8"
             ],
             [
              0.3333333333333333,
              "#9c179e"
             ],
             [
              0.4444444444444444,
              "#bd3786"
             ],
             [
              0.5555555555555556,
              "#d8576b"
             ],
             [
              0.6666666666666666,
              "#ed7953"
             ],
             [
              0.7777777777777778,
              "#fb9f3a"
             ],
             [
              0.8888888888888888,
              "#fdca26"
             ],
             [
              1,
              "#f0f921"
             ]
            ],
            "type": "heatmap"
           }
          ],
          "heatmapgl": [
           {
            "colorbar": {
             "outlinewidth": 0,
             "ticks": ""
            },
            "colorscale": [
             [
              0,
              "#0d0887"
             ],
             [
              0.1111111111111111,
              "#46039f"
             ],
             [
              0.2222222222222222,
              "#7201a8"
             ],
             [
              0.3333333333333333,
              "#9c179e"
             ],
             [
              0.4444444444444444,
              "#bd3786"
             ],
             [
              0.5555555555555556,
              "#d8576b"
             ],
             [
              0.6666666666666666,
              "#ed7953"
             ],
             [
              0.7777777777777778,
              "#fb9f3a"
             ],
             [
              0.8888888888888888,
              "#fdca26"
             ],
             [
              1,
              "#f0f921"
             ]
            ],
            "type": "heatmapgl"
           }
          ],
          "histogram": [
           {
            "marker": {
             "pattern": {
              "fillmode": "overlay",
              "size": 10,
              "solidity": 0.2
             }
            },
            "type": "histogram"
           }
          ],
          "histogram2d": [
           {
            "colorbar": {
             "outlinewidth": 0,
             "ticks": ""
            },
            "colorscale": [
             [
              0,
              "#0d0887"
             ],
             [
              0.1111111111111111,
              "#46039f"
             ],
             [
              0.2222222222222222,
              "#7201a8"
             ],
             [
              0.3333333333333333,
              "#9c179e"
             ],
             [
              0.4444444444444444,
              "#bd3786"
             ],
             [
              0.5555555555555556,
              "#d8576b"
             ],
             [
              0.6666666666666666,
              "#ed7953"
             ],
             [
              0.7777777777777778,
              "#fb9f3a"
             ],
             [
              0.8888888888888888,
              "#fdca26"
             ],
             [
              1,
              "#f0f921"
             ]
            ],
            "type": "histogram2d"
           }
          ],
          "histogram2dcontour": [
           {
            "colorbar": {
             "outlinewidth": 0,
             "ticks": ""
            },
            "colorscale": [
             [
              0,
              "#0d0887"
             ],
             [
              0.1111111111111111,
              "#46039f"
             ],
             [
              0.2222222222222222,
              "#7201a8"
             ],
             [
              0.3333333333333333,
              "#9c179e"
             ],
             [
              0.4444444444444444,
              "#bd3786"
             ],
             [
              0.5555555555555556,
              "#d8576b"
             ],
             [
              0.6666666666666666,
              "#ed7953"
             ],
             [
              0.7777777777777778,
              "#fb9f3a"
             ],
             [
              0.8888888888888888,
              "#fdca26"
             ],
             [
              1,
              "#f0f921"
             ]
            ],
            "type": "histogram2dcontour"
           }
          ],
          "mesh3d": [
           {
            "colorbar": {
             "outlinewidth": 0,
             "ticks": ""
            },
            "type": "mesh3d"
           }
          ],
          "parcoords": [
           {
            "line": {
             "colorbar": {
              "outlinewidth": 0,
              "ticks": ""
             }
            },
            "type": "parcoords"
           }
          ],
          "pie": [
           {
            "automargin": true,
            "type": "pie"
           }
          ],
          "scatter": [
           {
            "fillpattern": {
             "fillmode": "overlay",
             "size": 10,
             "solidity": 0.2
            },
            "type": "scatter"
           }
          ],
          "scatter3d": [
           {
            "line": {
             "colorbar": {
              "outlinewidth": 0,
              "ticks": ""
             }
            },
            "marker": {
             "colorbar": {
              "outlinewidth": 0,
              "ticks": ""
             }
            },
            "type": "scatter3d"
           }
          ],
          "scattercarpet": [
           {
            "marker": {
             "colorbar": {
              "outlinewidth": 0,
              "ticks": ""
             }
            },
            "type": "scattercarpet"
           }
          ],
          "scattergeo": [
           {
            "marker": {
             "colorbar": {
              "outlinewidth": 0,
              "ticks": ""
             }
            },
            "type": "scattergeo"
           }
          ],
          "scattergl": [
           {
            "marker": {
             "colorbar": {
              "outlinewidth": 0,
              "ticks": ""
             }
            },
            "type": "scattergl"
           }
          ],
          "scattermapbox": [
           {
            "marker": {
             "colorbar": {
              "outlinewidth": 0,
              "ticks": ""
             }
            },
            "type": "scattermapbox"
           }
          ],
          "scatterpolar": [
           {
            "marker": {
             "colorbar": {
              "outlinewidth": 0,
              "ticks": ""
             }
            },
            "type": "scatterpolar"
           }
          ],
          "scatterpolargl": [
           {
            "marker": {
             "colorbar": {
              "outlinewidth": 0,
              "ticks": ""
             }
            },
            "type": "scatterpolargl"
           }
          ],
          "scatterternary": [
           {
            "marker": {
             "colorbar": {
              "outlinewidth": 0,
              "ticks": ""
             }
            },
            "type": "scatterternary"
           }
          ],
          "surface": [
           {
            "colorbar": {
             "outlinewidth": 0,
             "ticks": ""
            },
            "colorscale": [
             [
              0,
              "#0d0887"
             ],
             [
              0.1111111111111111,
              "#46039f"
             ],
             [
              0.2222222222222222,
              "#7201a8"
             ],
             [
              0.3333333333333333,
              "#9c179e"
             ],
             [
              0.4444444444444444,
              "#bd3786"
             ],
             [
              0.5555555555555556,
              "#d8576b"
             ],
             [
              0.6666666666666666,
              "#ed7953"
             ],
             [
              0.7777777777777778,
              "#fb9f3a"
             ],
             [
              0.8888888888888888,
              "#fdca26"
             ],
             [
              1,
              "#f0f921"
             ]
            ],
            "type": "surface"
           }
          ],
          "table": [
           {
            "cells": {
             "fill": {
              "color": "#EBF0F8"
             },
             "line": {
              "color": "white"
             }
            },
            "header": {
             "fill": {
              "color": "#C8D4E3"
             },
             "line": {
              "color": "white"
             }
            },
            "type": "table"
           }
          ]
         },
         "layout": {
          "annotationdefaults": {
           "arrowcolor": "#2a3f5f",
           "arrowhead": 0,
           "arrowwidth": 1
          },
          "autotypenumbers": "strict",
          "coloraxis": {
           "colorbar": {
            "outlinewidth": 0,
            "ticks": ""
           }
          },
          "colorscale": {
           "diverging": [
            [
             0,
             "#8e0152"
            ],
            [
             0.1,
             "#c51b7d"
            ],
            [
             0.2,
             "#de77ae"
            ],
            [
             0.3,
             "#f1b6da"
            ],
            [
             0.4,
             "#fde0ef"
            ],
            [
             0.5,
             "#f7f7f7"
            ],
            [
             0.6,
             "#e6f5d0"
            ],
            [
             0.7,
             "#b8e186"
            ],
            [
             0.8,
             "#7fbc41"
            ],
            [
             0.9,
             "#4d9221"
            ],
            [
             1,
             "#276419"
            ]
           ],
           "sequential": [
            [
             0,
             "#0d0887"
            ],
            [
             0.1111111111111111,
             "#46039f"
            ],
            [
             0.2222222222222222,
             "#7201a8"
            ],
            [
             0.3333333333333333,
             "#9c179e"
            ],
            [
             0.4444444444444444,
             "#bd3786"
            ],
            [
             0.5555555555555556,
             "#d8576b"
            ],
            [
             0.6666666666666666,
             "#ed7953"
            ],
            [
             0.7777777777777778,
             "#fb9f3a"
            ],
            [
             0.8888888888888888,
             "#fdca26"
            ],
            [
             1,
             "#f0f921"
            ]
           ],
           "sequentialminus": [
            [
             0,
             "#0d0887"
            ],
            [
             0.1111111111111111,
             "#46039f"
            ],
            [
             0.2222222222222222,
             "#7201a8"
            ],
            [
             0.3333333333333333,
             "#9c179e"
            ],
            [
             0.4444444444444444,
             "#bd3786"
            ],
            [
             0.5555555555555556,
             "#d8576b"
            ],
            [
             0.6666666666666666,
             "#ed7953"
            ],
            [
             0.7777777777777778,
             "#fb9f3a"
            ],
            [
             0.8888888888888888,
             "#fdca26"
            ],
            [
             1,
             "#f0f921"
            ]
           ]
          },
          "colorway": [
           "#636efa",
           "#EF553B",
           "#00cc96",
           "#ab63fa",
           "#FFA15A",
           "#19d3f3",
           "#FF6692",
           "#B6E880",
           "#FF97FF",
           "#FECB52"
          ],
          "font": {
           "color": "#2a3f5f"
          },
          "geo": {
           "bgcolor": "white",
           "lakecolor": "white",
           "landcolor": "#E5ECF6",
           "showlakes": true,
           "showland": true,
           "subunitcolor": "white"
          },
          "hoverlabel": {
           "align": "left"
          },
          "hovermode": "closest",
          "mapbox": {
           "style": "light"
          },
          "paper_bgcolor": "white",
          "plot_bgcolor": "#E5ECF6",
          "polar": {
           "angularaxis": {
            "gridcolor": "white",
            "linecolor": "white",
            "ticks": ""
           },
           "bgcolor": "#E5ECF6",
           "radialaxis": {
            "gridcolor": "white",
            "linecolor": "white",
            "ticks": ""
           }
          },
          "scene": {
           "xaxis": {
            "backgroundcolor": "#E5ECF6",
            "gridcolor": "white",
            "gridwidth": 2,
            "linecolor": "white",
            "showbackground": true,
            "ticks": "",
            "zerolinecolor": "white"
           },
           "yaxis": {
            "backgroundcolor": "#E5ECF6",
            "gridcolor": "white",
            "gridwidth": 2,
            "linecolor": "white",
            "showbackground": true,
            "ticks": "",
            "zerolinecolor": "white"
           },
           "zaxis": {
            "backgroundcolor": "#E5ECF6",
            "gridcolor": "white",
            "gridwidth": 2,
            "linecolor": "white",
            "showbackground": true,
            "ticks": "",
            "zerolinecolor": "white"
           }
          },
          "shapedefaults": {
           "line": {
            "color": "#2a3f5f"
           }
          },
          "ternary": {
           "aaxis": {
            "gridcolor": "white",
            "linecolor": "white",
            "ticks": ""
           },
           "baxis": {
            "gridcolor": "white",
            "linecolor": "white",
            "ticks": ""
           },
           "bgcolor": "#E5ECF6",
           "caxis": {
            "gridcolor": "white",
            "linecolor": "white",
            "ticks": ""
           }
          },
          "title": {
           "x": 0.05
          },
          "xaxis": {
           "automargin": true,
           "gridcolor": "white",
           "linecolor": "white",
           "ticks": "",
           "title": {
            "standoff": 15
           },
           "zerolinecolor": "white",
           "zerolinewidth": 2
          },
          "yaxis": {
           "automargin": true,
           "gridcolor": "white",
           "linecolor": "white",
           "ticks": "",
           "title": {
            "standoff": 15
           },
           "zerolinecolor": "white",
           "zerolinewidth": 2
          }
         }
        },
        "title": {
         "text": "Metricas 2.0"
        }
       }
      }
     },
     "metadata": {},
     "output_type": "display_data"
    }
   ],
   "source": [
    "px.treemap(data_frame = df_metricas_2,\n",
    "           values     = \"MAE\",\n",
    "           path       = [\"Modelo\",\"karma_Q3\",\"karma_Q1\",\"Bigote superior\",\"Bigote inferior\",\"MAE\",\"MSE\",\"RMSE\",\"R2\"],\n",
    "           hover_name = \"Modelo\",\n",
    "           color      = \"Modelo\",\n",
    "           title      = \"Metricas 2.0\")"
   ]
  },
  {
   "cell_type": "code",
   "execution_count": 31,
   "metadata": {},
   "outputs": [
    {
     "data": {
      "application/vnd.plotly.v1+json": {
       "config": {
        "plotlyServerURL": "https://plot.ly"
       },
       "data": [
        {
         "alignmentgroup": "True",
         "customdata": [
          [
           2,
           2,
           68,
           -32,
           1263.027370965061,
           35.53909637237645,
           -5.620772763811869
          ]
         ],
         "hovertemplate": "Modelo=%{y}<br>MAE=%{x}<br>karma_Q3=%{customdata[0]}<br>karma_Q1=%{customdata[1]}<br>Bigote superior=%{customdata[2]}<br>Bigote inferior=%{customdata[3]}<br>MSE=%{customdata[4]}<br>RMSE=%{customdata[5]}<br>R2=%{customdata[6]}<extra></extra>",
         "legendgroup": "LinearRegression",
         "marker": {
          "color": "#636efa",
          "pattern": {
           "shape": ""
          }
         },
         "name": "LinearRegression",
         "offsetgroup": "LinearRegression",
         "orientation": "h",
         "showlegend": true,
         "textposition": "auto",
         "type": "bar",
         "x": [
          18.76577139269872
         ],
         "xaxis": "x",
         "y": [
          "LinearRegression"
         ],
         "yaxis": "y"
        },
        {
         "alignmentgroup": "True",
         "customdata": [
          [
           2,
           2,
           68,
           -32,
           217.94565417867187,
           14.762982563786759,
           -0.14246823493204253
          ]
         ],
         "hovertemplate": "Modelo=%{y}<br>MAE=%{x}<br>karma_Q3=%{customdata[0]}<br>karma_Q1=%{customdata[1]}<br>Bigote superior=%{customdata[2]}<br>Bigote inferior=%{customdata[3]}<br>MSE=%{customdata[4]}<br>RMSE=%{customdata[5]}<br>R2=%{customdata[6]}<extra></extra>",
         "legendgroup": "KNeighborsRegressor",
         "marker": {
          "color": "#EF553B",
          "pattern": {
           "shape": ""
          }
         },
         "name": "KNeighborsRegressor",
         "offsetgroup": "KNeighborsRegressor",
         "orientation": "h",
         "showlegend": true,
         "textposition": "auto",
         "type": "bar",
         "x": [
          10.585008740460857
         ],
         "xaxis": "x",
         "y": [
          "KNeighborsRegressor"
         ],
         "yaxis": "y"
        },
        {
         "alignmentgroup": "True",
         "customdata": [
          [
           2,
           2,
           68,
           -32,
           348.66245281767823,
           18.672505263560062,
           -0.8276839635037352
          ]
         ],
         "hovertemplate": "Modelo=%{y}<br>MAE=%{x}<br>karma_Q3=%{customdata[0]}<br>karma_Q1=%{customdata[1]}<br>Bigote superior=%{customdata[2]}<br>Bigote inferior=%{customdata[3]}<br>MSE=%{customdata[4]}<br>RMSE=%{customdata[5]}<br>R2=%{customdata[6]}<extra></extra>",
         "legendgroup": "DecisionTreeRegressor",
         "marker": {
          "color": "#00cc96",
          "pattern": {
           "shape": ""
          }
         },
         "name": "DecisionTreeRegressor",
         "offsetgroup": "DecisionTreeRegressor",
         "orientation": "h",
         "showlegend": true,
         "textposition": "auto",
         "type": "bar",
         "x": [
          12.930112501265219
         ],
         "xaxis": "x",
         "y": [
          "DecisionTreeRegressor"
         ],
         "yaxis": "y"
        },
        {
         "alignmentgroup": "True",
         "customdata": [
          [
           2,
           2,
           68,
           -32,
           193.87040417984457,
           13.92373528116089,
           -0.016266093047813346
          ]
         ],
         "hovertemplate": "Modelo=%{y}<br>MAE=%{x}<br>karma_Q3=%{customdata[0]}<br>karma_Q1=%{customdata[1]}<br>Bigote superior=%{customdata[2]}<br>Bigote inferior=%{customdata[3]}<br>MSE=%{customdata[4]}<br>RMSE=%{customdata[5]}<br>R2=%{customdata[6]}<extra></extra>",
         "legendgroup": "AdaBoostRegressor",
         "marker": {
          "color": "#ab63fa",
          "pattern": {
           "shape": ""
          }
         },
         "name": "AdaBoostRegressor",
         "offsetgroup": "AdaBoostRegressor",
         "orientation": "h",
         "showlegend": true,
         "textposition": "auto",
         "type": "bar",
         "x": [
          10.962863827285991
         ],
         "xaxis": "x",
         "y": [
          "AdaBoostRegressor"
         ],
         "yaxis": "y"
        },
        {
         "alignmentgroup": "True",
         "customdata": [
          [
           2,
           2,
           68,
           -32,
           190.34785791347477,
           13.796661114685493,
           0.0021990478634468236
          ]
         ],
         "hovertemplate": "Modelo=%{y}<br>MAE=%{x}<br>karma_Q3=%{customdata[0]}<br>karma_Q1=%{customdata[1]}<br>Bigote superior=%{customdata[2]}<br>Bigote inferior=%{customdata[3]}<br>MSE=%{customdata[4]}<br>RMSE=%{customdata[5]}<br>R2=%{customdata[6]}<extra></extra>",
         "legendgroup": "GradientBoostingRegressor",
         "marker": {
          "color": "#FFA15A",
          "pattern": {
           "shape": ""
          }
         },
         "name": "GradientBoostingRegressor",
         "offsetgroup": "GradientBoostingRegressor",
         "orientation": "h",
         "showlegend": true,
         "textposition": "auto",
         "type": "bar",
         "x": [
          10.222744822040953
         ],
         "xaxis": "x",
         "y": [
          "GradientBoostingRegressor"
         ],
         "yaxis": "y"
        }
       ],
       "layout": {
        "barmode": "relative",
        "legend": {
         "title": {
          "text": "Modelo"
         },
         "tracegroupgap": 0
        },
        "template": {
         "data": {
          "bar": [
           {
            "error_x": {
             "color": "#2a3f5f"
            },
            "error_y": {
             "color": "#2a3f5f"
            },
            "marker": {
             "line": {
              "color": "#E5ECF6",
              "width": 0.5
             },
             "pattern": {
              "fillmode": "overlay",
              "size": 10,
              "solidity": 0.2
             }
            },
            "type": "bar"
           }
          ],
          "barpolar": [
           {
            "marker": {
             "line": {
              "color": "#E5ECF6",
              "width": 0.5
             },
             "pattern": {
              "fillmode": "overlay",
              "size": 10,
              "solidity": 0.2
             }
            },
            "type": "barpolar"
           }
          ],
          "carpet": [
           {
            "aaxis": {
             "endlinecolor": "#2a3f5f",
             "gridcolor": "white",
             "linecolor": "white",
             "minorgridcolor": "white",
             "startlinecolor": "#2a3f5f"
            },
            "baxis": {
             "endlinecolor": "#2a3f5f",
             "gridcolor": "white",
             "linecolor": "white",
             "minorgridcolor": "white",
             "startlinecolor": "#2a3f5f"
            },
            "type": "carpet"
           }
          ],
          "choropleth": [
           {
            "colorbar": {
             "outlinewidth": 0,
             "ticks": ""
            },
            "type": "choropleth"
           }
          ],
          "contour": [
           {
            "colorbar": {
             "outlinewidth": 0,
             "ticks": ""
            },
            "colorscale": [
             [
              0,
              "#0d0887"
             ],
             [
              0.1111111111111111,
              "#46039f"
             ],
             [
              0.2222222222222222,
              "#7201a8"
             ],
             [
              0.3333333333333333,
              "#9c179e"
             ],
             [
              0.4444444444444444,
              "#bd3786"
             ],
             [
              0.5555555555555556,
              "#d8576b"
             ],
             [
              0.6666666666666666,
              "#ed7953"
             ],
             [
              0.7777777777777778,
              "#fb9f3a"
             ],
             [
              0.8888888888888888,
              "#fdca26"
             ],
             [
              1,
              "#f0f921"
             ]
            ],
            "type": "contour"
           }
          ],
          "contourcarpet": [
           {
            "colorbar": {
             "outlinewidth": 0,
             "ticks": ""
            },
            "type": "contourcarpet"
           }
          ],
          "heatmap": [
           {
            "colorbar": {
             "outlinewidth": 0,
             "ticks": ""
            },
            "colorscale": [
             [
              0,
              "#0d0887"
             ],
             [
              0.1111111111111111,
              "#46039f"
             ],
             [
              0.2222222222222222,
              "#7201a8"
             ],
             [
              0.3333333333333333,
              "#9c179e"
             ],
             [
              0.4444444444444444,
              "#bd3786"
             ],
             [
              0.5555555555555556,
              "#d8576b"
             ],
             [
              0.6666666666666666,
              "#ed7953"
             ],
             [
              0.7777777777777778,
              "#fb9f3a"
             ],
             [
              0.8888888888888888,
              "#fdca26"
             ],
             [
              1,
              "#f0f921"
             ]
            ],
            "type": "heatmap"
           }
          ],
          "heatmapgl": [
           {
            "colorbar": {
             "outlinewidth": 0,
             "ticks": ""
            },
            "colorscale": [
             [
              0,
              "#0d0887"
             ],
             [
              0.1111111111111111,
              "#46039f"
             ],
             [
              0.2222222222222222,
              "#7201a8"
             ],
             [
              0.3333333333333333,
              "#9c179e"
             ],
             [
              0.4444444444444444,
              "#bd3786"
             ],
             [
              0.5555555555555556,
              "#d8576b"
             ],
             [
              0.6666666666666666,
              "#ed7953"
             ],
             [
              0.7777777777777778,
              "#fb9f3a"
             ],
             [
              0.8888888888888888,
              "#fdca26"
             ],
             [
              1,
              "#f0f921"
             ]
            ],
            "type": "heatmapgl"
           }
          ],
          "histogram": [
           {
            "marker": {
             "pattern": {
              "fillmode": "overlay",
              "size": 10,
              "solidity": 0.2
             }
            },
            "type": "histogram"
           }
          ],
          "histogram2d": [
           {
            "colorbar": {
             "outlinewidth": 0,
             "ticks": ""
            },
            "colorscale": [
             [
              0,
              "#0d0887"
             ],
             [
              0.1111111111111111,
              "#46039f"
             ],
             [
              0.2222222222222222,
              "#7201a8"
             ],
             [
              0.3333333333333333,
              "#9c179e"
             ],
             [
              0.4444444444444444,
              "#bd3786"
             ],
             [
              0.5555555555555556,
              "#d8576b"
             ],
             [
              0.6666666666666666,
              "#ed7953"
             ],
             [
              0.7777777777777778,
              "#fb9f3a"
             ],
             [
              0.8888888888888888,
              "#fdca26"
             ],
             [
              1,
              "#f0f921"
             ]
            ],
            "type": "histogram2d"
           }
          ],
          "histogram2dcontour": [
           {
            "colorbar": {
             "outlinewidth": 0,
             "ticks": ""
            },
            "colorscale": [
             [
              0,
              "#0d0887"
             ],
             [
              0.1111111111111111,
              "#46039f"
             ],
             [
              0.2222222222222222,
              "#7201a8"
             ],
             [
              0.3333333333333333,
              "#9c179e"
             ],
             [
              0.4444444444444444,
              "#bd3786"
             ],
             [
              0.5555555555555556,
              "#d8576b"
             ],
             [
              0.6666666666666666,
              "#ed7953"
             ],
             [
              0.7777777777777778,
              "#fb9f3a"
             ],
             [
              0.8888888888888888,
              "#fdca26"
             ],
             [
              1,
              "#f0f921"
             ]
            ],
            "type": "histogram2dcontour"
           }
          ],
          "mesh3d": [
           {
            "colorbar": {
             "outlinewidth": 0,
             "ticks": ""
            },
            "type": "mesh3d"
           }
          ],
          "parcoords": [
           {
            "line": {
             "colorbar": {
              "outlinewidth": 0,
              "ticks": ""
             }
            },
            "type": "parcoords"
           }
          ],
          "pie": [
           {
            "automargin": true,
            "type": "pie"
           }
          ],
          "scatter": [
           {
            "fillpattern": {
             "fillmode": "overlay",
             "size": 10,
             "solidity": 0.2
            },
            "type": "scatter"
           }
          ],
          "scatter3d": [
           {
            "line": {
             "colorbar": {
              "outlinewidth": 0,
              "ticks": ""
             }
            },
            "marker": {
             "colorbar": {
              "outlinewidth": 0,
              "ticks": ""
             }
            },
            "type": "scatter3d"
           }
          ],
          "scattercarpet": [
           {
            "marker": {
             "colorbar": {
              "outlinewidth": 0,
              "ticks": ""
             }
            },
            "type": "scattercarpet"
           }
          ],
          "scattergeo": [
           {
            "marker": {
             "colorbar": {
              "outlinewidth": 0,
              "ticks": ""
             }
            },
            "type": "scattergeo"
           }
          ],
          "scattergl": [
           {
            "marker": {
             "colorbar": {
              "outlinewidth": 0,
              "ticks": ""
             }
            },
            "type": "scattergl"
           }
          ],
          "scattermapbox": [
           {
            "marker": {
             "colorbar": {
              "outlinewidth": 0,
              "ticks": ""
             }
            },
            "type": "scattermapbox"
           }
          ],
          "scatterpolar": [
           {
            "marker": {
             "colorbar": {
              "outlinewidth": 0,
              "ticks": ""
             }
            },
            "type": "scatterpolar"
           }
          ],
          "scatterpolargl": [
           {
            "marker": {
             "colorbar": {
              "outlinewidth": 0,
              "ticks": ""
             }
            },
            "type": "scatterpolargl"
           }
          ],
          "scatterternary": [
           {
            "marker": {
             "colorbar": {
              "outlinewidth": 0,
              "ticks": ""
             }
            },
            "type": "scatterternary"
           }
          ],
          "surface": [
           {
            "colorbar": {
             "outlinewidth": 0,
             "ticks": ""
            },
            "colorscale": [
             [
              0,
              "#0d0887"
             ],
             [
              0.1111111111111111,
              "#46039f"
             ],
             [
              0.2222222222222222,
              "#7201a8"
             ],
             [
              0.3333333333333333,
              "#9c179e"
             ],
             [
              0.4444444444444444,
              "#bd3786"
             ],
             [
              0.5555555555555556,
              "#d8576b"
             ],
             [
              0.6666666666666666,
              "#ed7953"
             ],
             [
              0.7777777777777778,
              "#fb9f3a"
             ],
             [
              0.8888888888888888,
              "#fdca26"
             ],
             [
              1,
              "#f0f921"
             ]
            ],
            "type": "surface"
           }
          ],
          "table": [
           {
            "cells": {
             "fill": {
              "color": "#EBF0F8"
             },
             "line": {
              "color": "white"
             }
            },
            "header": {
             "fill": {
              "color": "#C8D4E3"
             },
             "line": {
              "color": "white"
             }
            },
            "type": "table"
           }
          ]
         },
         "layout": {
          "annotationdefaults": {
           "arrowcolor": "#2a3f5f",
           "arrowhead": 0,
           "arrowwidth": 1
          },
          "autotypenumbers": "strict",
          "coloraxis": {
           "colorbar": {
            "outlinewidth": 0,
            "ticks": ""
           }
          },
          "colorscale": {
           "diverging": [
            [
             0,
             "#8e0152"
            ],
            [
             0.1,
             "#c51b7d"
            ],
            [
             0.2,
             "#de77ae"
            ],
            [
             0.3,
             "#f1b6da"
            ],
            [
             0.4,
             "#fde0ef"
            ],
            [
             0.5,
             "#f7f7f7"
            ],
            [
             0.6,
             "#e6f5d0"
            ],
            [
             0.7,
             "#b8e186"
            ],
            [
             0.8,
             "#7fbc41"
            ],
            [
             0.9,
             "#4d9221"
            ],
            [
             1,
             "#276419"
            ]
           ],
           "sequential": [
            [
             0,
             "#0d0887"
            ],
            [
             0.1111111111111111,
             "#46039f"
            ],
            [
             0.2222222222222222,
             "#7201a8"
            ],
            [
             0.3333333333333333,
             "#9c179e"
            ],
            [
             0.4444444444444444,
             "#bd3786"
            ],
            [
             0.5555555555555556,
             "#d8576b"
            ],
            [
             0.6666666666666666,
             "#ed7953"
            ],
            [
             0.7777777777777778,
             "#fb9f3a"
            ],
            [
             0.8888888888888888,
             "#fdca26"
            ],
            [
             1,
             "#f0f921"
            ]
           ],
           "sequentialminus": [
            [
             0,
             "#0d0887"
            ],
            [
             0.1111111111111111,
             "#46039f"
            ],
            [
             0.2222222222222222,
             "#7201a8"
            ],
            [
             0.3333333333333333,
             "#9c179e"
            ],
            [
             0.4444444444444444,
             "#bd3786"
            ],
            [
             0.5555555555555556,
             "#d8576b"
            ],
            [
             0.6666666666666666,
             "#ed7953"
            ],
            [
             0.7777777777777778,
             "#fb9f3a"
            ],
            [
             0.8888888888888888,
             "#fdca26"
            ],
            [
             1,
             "#f0f921"
            ]
           ]
          },
          "colorway": [
           "#636efa",
           "#EF553B",
           "#00cc96",
           "#ab63fa",
           "#FFA15A",
           "#19d3f3",
           "#FF6692",
           "#B6E880",
           "#FF97FF",
           "#FECB52"
          ],
          "font": {
           "color": "#2a3f5f"
          },
          "geo": {
           "bgcolor": "white",
           "lakecolor": "white",
           "landcolor": "#E5ECF6",
           "showlakes": true,
           "showland": true,
           "subunitcolor": "white"
          },
          "hoverlabel": {
           "align": "left"
          },
          "hovermode": "closest",
          "mapbox": {
           "style": "light"
          },
          "paper_bgcolor": "white",
          "plot_bgcolor": "#E5ECF6",
          "polar": {
           "angularaxis": {
            "gridcolor": "white",
            "linecolor": "white",
            "ticks": ""
           },
           "bgcolor": "#E5ECF6",
           "radialaxis": {
            "gridcolor": "white",
            "linecolor": "white",
            "ticks": ""
           }
          },
          "scene": {
           "xaxis": {
            "backgroundcolor": "#E5ECF6",
            "gridcolor": "white",
            "gridwidth": 2,
            "linecolor": "white",
            "showbackground": true,
            "ticks": "",
            "zerolinecolor": "white"
           },
           "yaxis": {
            "backgroundcolor": "#E5ECF6",
            "gridcolor": "white",
            "gridwidth": 2,
            "linecolor": "white",
            "showbackground": true,
            "ticks": "",
            "zerolinecolor": "white"
           },
           "zaxis": {
            "backgroundcolor": "#E5ECF6",
            "gridcolor": "white",
            "gridwidth": 2,
            "linecolor": "white",
            "showbackground": true,
            "ticks": "",
            "zerolinecolor": "white"
           }
          },
          "shapedefaults": {
           "line": {
            "color": "#2a3f5f"
           }
          },
          "ternary": {
           "aaxis": {
            "gridcolor": "white",
            "linecolor": "white",
            "ticks": ""
           },
           "baxis": {
            "gridcolor": "white",
            "linecolor": "white",
            "ticks": ""
           },
           "bgcolor": "#E5ECF6",
           "caxis": {
            "gridcolor": "white",
            "linecolor": "white",
            "ticks": ""
           }
          },
          "title": {
           "x": 0.05
          },
          "xaxis": {
           "automargin": true,
           "gridcolor": "white",
           "linecolor": "white",
           "ticks": "",
           "title": {
            "standoff": 15
           },
           "zerolinecolor": "white",
           "zerolinewidth": 2
          },
          "yaxis": {
           "automargin": true,
           "gridcolor": "white",
           "linecolor": "white",
           "ticks": "",
           "title": {
            "standoff": 15
           },
           "zerolinecolor": "white",
           "zerolinewidth": 2
          }
         }
        },
        "title": {
         "text": "Metricas 2.0"
        },
        "xaxis": {
         "anchor": "y",
         "domain": [
          0,
          1
         ],
         "title": {
          "text": "MAE"
         }
        },
        "yaxis": {
         "anchor": "x",
         "categoryarray": [
          "GradientBoostingRegressor",
          "AdaBoostRegressor",
          "DecisionTreeRegressor",
          "KNeighborsRegressor",
          "LinearRegression"
         ],
         "categoryorder": "array",
         "domain": [
          0,
          1
         ],
         "title": {
          "text": "Modelo"
         }
        }
       }
      }
     },
     "metadata": {},
     "output_type": "display_data"
    }
   ],
   "source": [
    "px.bar(data_frame = df_metricas_2,\n",
    "       x          = \"MAE\",\n",
    "       y          = \"Modelo\",\n",
    "       hover_data = [\"karma_Q3\",\"karma_Q1\",\"Bigote superior\",\"Bigote inferior\",\"MAE\",\"MSE\",\"RMSE\",\"R2\"],\n",
    "       color      = \"Modelo\",\n",
    "       title      = \"Metricas 2.0\"\n",
    "      )"
   ]
  },
  {
   "cell_type": "markdown",
   "metadata": {},
   "source": [
    "## Metricas segun cuartiles a 2.4"
   ]
  },
  {
   "cell_type": "code",
   "execution_count": 12,
   "metadata": {},
   "outputs": [
    {
     "data": {
      "text/html": [
       "<div>\n",
       "<style scoped>\n",
       "    .dataframe tbody tr th:only-of-type {\n",
       "        vertical-align: middle;\n",
       "    }\n",
       "\n",
       "    .dataframe tbody tr th {\n",
       "        vertical-align: top;\n",
       "    }\n",
       "\n",
       "    .dataframe thead th {\n",
       "        text-align: right;\n",
       "    }\n",
       "</style>\n",
       "<table border=\"1\" class=\"dataframe\">\n",
       "  <thead>\n",
       "    <tr style=\"text-align: right;\">\n",
       "      <th></th>\n",
       "      <th>Modelo</th>\n",
       "      <th>karma_Q3</th>\n",
       "      <th>karma_Q1</th>\n",
       "      <th>Bigote superior</th>\n",
       "      <th>Bigote inferior</th>\n",
       "      <th>MAE</th>\n",
       "      <th>MSE</th>\n",
       "      <th>RMSE</th>\n",
       "      <th>R2</th>\n",
       "    </tr>\n",
       "  </thead>\n",
       "  <tbody>\n",
       "    <tr>\n",
       "      <th>0</th>\n",
       "      <td>LinearRegression</td>\n",
       "      <td>2.4</td>\n",
       "      <td>2.4</td>\n",
       "      <td>76</td>\n",
       "      <td>-40</td>\n",
       "      <td>20.793171</td>\n",
       "      <td>2388.225948</td>\n",
       "      <td>48.869479</td>\n",
       "      <td>-9.417451</td>\n",
       "    </tr>\n",
       "    <tr>\n",
       "      <th>1</th>\n",
       "      <td>KNeighborsRegressor</td>\n",
       "      <td>2.4</td>\n",
       "      <td>2.4</td>\n",
       "      <td>76</td>\n",
       "      <td>-40</td>\n",
       "      <td>11.419645</td>\n",
       "      <td>261.685158</td>\n",
       "      <td>16.176686</td>\n",
       "      <td>-0.141472</td>\n",
       "    </tr>\n",
       "    <tr>\n",
       "      <th>2</th>\n",
       "      <td>DecisionTreeRegressor</td>\n",
       "      <td>2.4</td>\n",
       "      <td>2.4</td>\n",
       "      <td>76</td>\n",
       "      <td>-40</td>\n",
       "      <td>14.047628</td>\n",
       "      <td>423.427268</td>\n",
       "      <td>20.577348</td>\n",
       "      <td>-0.846991</td>\n",
       "    </tr>\n",
       "    <tr>\n",
       "      <th>3</th>\n",
       "      <td>AdaBoostRegressor</td>\n",
       "      <td>2.4</td>\n",
       "      <td>2.4</td>\n",
       "      <td>76</td>\n",
       "      <td>-40</td>\n",
       "      <td>11.811220</td>\n",
       "      <td>232.332238</td>\n",
       "      <td>15.242449</td>\n",
       "      <td>-0.013434</td>\n",
       "    </tr>\n",
       "    <tr>\n",
       "      <th>4</th>\n",
       "      <td>GradientBoostingRegressor</td>\n",
       "      <td>2.4</td>\n",
       "      <td>2.4</td>\n",
       "      <td>76</td>\n",
       "      <td>-40</td>\n",
       "      <td>10.983117</td>\n",
       "      <td>229.111213</td>\n",
       "      <td>15.136420</td>\n",
       "      <td>0.000616</td>\n",
       "    </tr>\n",
       "  </tbody>\n",
       "</table>\n",
       "</div>"
      ],
      "text/plain": [
       "                      Modelo  karma_Q3  karma_Q1  Bigote superior  \\\n",
       "0           LinearRegression       2.4       2.4               76   \n",
       "1        KNeighborsRegressor       2.4       2.4               76   \n",
       "2      DecisionTreeRegressor       2.4       2.4               76   \n",
       "3          AdaBoostRegressor       2.4       2.4               76   \n",
       "4  GradientBoostingRegressor       2.4       2.4               76   \n",
       "\n",
       "   Bigote inferior        MAE          MSE       RMSE        R2  \n",
       "0              -40  20.793171  2388.225948  48.869479 -9.417451  \n",
       "1              -40  11.419645   261.685158  16.176686 -0.141472  \n",
       "2              -40  14.047628   423.427268  20.577348 -0.846991  \n",
       "3              -40  11.811220   232.332238  15.242449 -0.013434  \n",
       "4              -40  10.983117   229.111213  15.136420  0.000616  "
      ]
     },
     "execution_count": 12,
     "metadata": {},
     "output_type": "execute_result"
    }
   ],
   "source": [
    "df_metricas_2_4"
   ]
  },
  {
   "cell_type": "code",
   "execution_count": 32,
   "metadata": {},
   "outputs": [
    {
     "data": {
      "application/vnd.plotly.v1+json": {
       "config": {
        "plotlyServerURL": "https://plot.ly"
       },
       "data": [
        {
         "branchvalues": "total",
         "customdata": [
          [
           "AdaBoostRegressor"
          ],
          [
           "KNeighborsRegressor"
          ],
          [
           "GradientBoostingRegressor"
          ],
          [
           "DecisionTreeRegressor"
          ],
          [
           "LinearRegression"
          ],
          [
           "GradientBoostingRegressor"
          ],
          [
           "AdaBoostRegressor"
          ],
          [
           "KNeighborsRegressor"
          ],
          [
           "DecisionTreeRegressor"
          ],
          [
           "LinearRegression"
          ],
          [
           "GradientBoostingRegressor"
          ],
          [
           "AdaBoostRegressor"
          ],
          [
           "KNeighborsRegressor"
          ],
          [
           "DecisionTreeRegressor"
          ],
          [
           "LinearRegression"
          ],
          [
           "GradientBoostingRegressor"
          ],
          [
           "KNeighborsRegressor"
          ],
          [
           "AdaBoostRegressor"
          ],
          [
           "DecisionTreeRegressor"
          ],
          [
           "LinearRegression"
          ],
          [
           "AdaBoostRegressor"
          ],
          [
           "DecisionTreeRegressor"
          ],
          [
           "GradientBoostingRegressor"
          ],
          [
           "KNeighborsRegressor"
          ],
          [
           "LinearRegression"
          ],
          [
           "AdaBoostRegressor"
          ],
          [
           "DecisionTreeRegressor"
          ],
          [
           "GradientBoostingRegressor"
          ],
          [
           "KNeighborsRegressor"
          ],
          [
           "LinearRegression"
          ],
          [
           "AdaBoostRegressor"
          ],
          [
           "DecisionTreeRegressor"
          ],
          [
           "GradientBoostingRegressor"
          ],
          [
           "KNeighborsRegressor"
          ],
          [
           "LinearRegression"
          ],
          [
           "AdaBoostRegressor"
          ],
          [
           "DecisionTreeRegressor"
          ],
          [
           "GradientBoostingRegressor"
          ],
          [
           "KNeighborsRegressor"
          ],
          [
           "LinearRegression"
          ],
          [
           "AdaBoostRegressor"
          ],
          [
           "DecisionTreeRegressor"
          ],
          [
           "GradientBoostingRegressor"
          ],
          [
           "KNeighborsRegressor"
          ],
          [
           "LinearRegression"
          ]
         ],
         "domain": {
          "x": [
           0,
           1
          ],
          "y": [
           0,
           1
          ]
         },
         "hovertemplate": "<b>%{hovertext}</b><br><br>labels=%{label}<br>MAE=%{value}<br>parent=%{parent}<br>id=%{id}<br>Modelo=%{customdata[0]}<extra></extra>",
         "hovertext": [
          "AdaBoostRegressor",
          "KNeighborsRegressor",
          "GradientBoostingRegressor",
          "DecisionTreeRegressor",
          "LinearRegression",
          "GradientBoostingRegressor",
          "AdaBoostRegressor",
          "KNeighborsRegressor",
          "DecisionTreeRegressor",
          "LinearRegression",
          "GradientBoostingRegressor",
          "AdaBoostRegressor",
          "KNeighborsRegressor",
          "DecisionTreeRegressor",
          "LinearRegression",
          "GradientBoostingRegressor",
          "KNeighborsRegressor",
          "AdaBoostRegressor",
          "DecisionTreeRegressor",
          "LinearRegression",
          "AdaBoostRegressor",
          "DecisionTreeRegressor",
          "GradientBoostingRegressor",
          "KNeighborsRegressor",
          "LinearRegression",
          "AdaBoostRegressor",
          "DecisionTreeRegressor",
          "GradientBoostingRegressor",
          "KNeighborsRegressor",
          "LinearRegression",
          "AdaBoostRegressor",
          "DecisionTreeRegressor",
          "GradientBoostingRegressor",
          "KNeighborsRegressor",
          "LinearRegression",
          "AdaBoostRegressor",
          "DecisionTreeRegressor",
          "GradientBoostingRegressor",
          "KNeighborsRegressor",
          "LinearRegression",
          "AdaBoostRegressor",
          "DecisionTreeRegressor",
          "GradientBoostingRegressor",
          "KNeighborsRegressor",
          "LinearRegression"
         ],
         "ids": [
          "AdaBoostRegressor/2.4/2.4/76/-40/11.811220169149749/232.3322376023912/15.24244854353759/-0.013434130754485185",
          "KNeighborsRegressor/2.4/2.4/76/-40/11.419645384617338/261.68515817579623/16.176685636303755/-0.1414716853073883",
          "GradientBoostingRegressor/2.4/2.4/76/-40/10.983117307478775/229.11121344458275/15.136420100029687/0.0006159892426123026",
          "DecisionTreeRegressor/2.4/2.4/76/-40/14.04762790033801/423.4272680404674/20.577348421030038/-0.8469914022810627",
          "LinearRegression/2.4/2.4/76/-40/20.793170734521254/2388.225948179828/48.86947869764755/-9.41745094359656",
          "GradientBoostingRegressor/2.4/2.4/76/-40/10.983117307478775/229.11121344458275/15.136420100029687",
          "AdaBoostRegressor/2.4/2.4/76/-40/11.811220169149749/232.3322376023912/15.24244854353759",
          "KNeighborsRegressor/2.4/2.4/76/-40/11.419645384617338/261.68515817579623/16.176685636303755",
          "DecisionTreeRegressor/2.4/2.4/76/-40/14.04762790033801/423.4272680404674/20.577348421030038",
          "LinearRegression/2.4/2.4/76/-40/20.793170734521254/2388.225948179828/48.86947869764755",
          "GradientBoostingRegressor/2.4/2.4/76/-40/10.983117307478775/229.11121344458275",
          "AdaBoostRegressor/2.4/2.4/76/-40/11.811220169149749/232.3322376023912",
          "KNeighborsRegressor/2.4/2.4/76/-40/11.419645384617338/261.68515817579623",
          "DecisionTreeRegressor/2.4/2.4/76/-40/14.04762790033801/423.4272680404674",
          "LinearRegression/2.4/2.4/76/-40/20.793170734521254/2388.225948179828",
          "GradientBoostingRegressor/2.4/2.4/76/-40/10.983117307478775",
          "KNeighborsRegressor/2.4/2.4/76/-40/11.419645384617338",
          "AdaBoostRegressor/2.4/2.4/76/-40/11.811220169149749",
          "DecisionTreeRegressor/2.4/2.4/76/-40/14.04762790033801",
          "LinearRegression/2.4/2.4/76/-40/20.793170734521254",
          "AdaBoostRegressor/2.4/2.4/76/-40",
          "DecisionTreeRegressor/2.4/2.4/76/-40",
          "GradientBoostingRegressor/2.4/2.4/76/-40",
          "KNeighborsRegressor/2.4/2.4/76/-40",
          "LinearRegression/2.4/2.4/76/-40",
          "AdaBoostRegressor/2.4/2.4/76",
          "DecisionTreeRegressor/2.4/2.4/76",
          "GradientBoostingRegressor/2.4/2.4/76",
          "KNeighborsRegressor/2.4/2.4/76",
          "LinearRegression/2.4/2.4/76",
          "AdaBoostRegressor/2.4/2.4",
          "DecisionTreeRegressor/2.4/2.4",
          "GradientBoostingRegressor/2.4/2.4",
          "KNeighborsRegressor/2.4/2.4",
          "LinearRegression/2.4/2.4",
          "AdaBoostRegressor/2.4",
          "DecisionTreeRegressor/2.4",
          "GradientBoostingRegressor/2.4",
          "KNeighborsRegressor/2.4",
          "LinearRegression/2.4",
          "AdaBoostRegressor",
          "DecisionTreeRegressor",
          "GradientBoostingRegressor",
          "KNeighborsRegressor",
          "LinearRegression"
         ],
         "labels": [
          "-0.013434130754485185",
          "-0.1414716853073883",
          "0.0006159892426123026",
          "-0.8469914022810627",
          "-9.41745094359656",
          "15.136420100029687",
          "15.24244854353759",
          "16.176685636303755",
          "20.577348421030038",
          "48.86947869764755",
          "229.11121344458275",
          "232.3322376023912",
          "261.68515817579623",
          "423.4272680404674",
          "2388.225948179828",
          "10.983117307478775",
          "11.419645384617338",
          "11.811220169149749",
          "14.04762790033801",
          "20.793170734521254",
          "-40",
          "-40",
          "-40",
          "-40",
          "-40",
          "76",
          "76",
          "76",
          "76",
          "76",
          "2.4",
          "2.4",
          "2.4",
          "2.4",
          "2.4",
          "2.4",
          "2.4",
          "2.4",
          "2.4",
          "2.4",
          "AdaBoostRegressor",
          "DecisionTreeRegressor",
          "GradientBoostingRegressor",
          "KNeighborsRegressor",
          "LinearRegression"
         ],
         "marker": {
          "colors": [
           "#636efa",
           "#EF553B",
           "#00cc96",
           "#ab63fa",
           "#FFA15A",
           "#00cc96",
           "#636efa",
           "#EF553B",
           "#ab63fa",
           "#FFA15A",
           "#00cc96",
           "#636efa",
           "#EF553B",
           "#ab63fa",
           "#FFA15A",
           "#00cc96",
           "#EF553B",
           "#636efa",
           "#ab63fa",
           "#FFA15A",
           "#636efa",
           "#ab63fa",
           "#00cc96",
           "#EF553B",
           "#FFA15A",
           "#636efa",
           "#ab63fa",
           "#00cc96",
           "#EF553B",
           "#FFA15A",
           "#636efa",
           "#ab63fa",
           "#00cc96",
           "#EF553B",
           "#FFA15A",
           "#636efa",
           "#ab63fa",
           "#00cc96",
           "#EF553B",
           "#FFA15A",
           "#636efa",
           "#ab63fa",
           "#00cc96",
           "#EF553B",
           "#FFA15A"
          ]
         },
         "name": "",
         "parents": [
          "AdaBoostRegressor/2.4/2.4/76/-40/11.811220169149749/232.3322376023912/15.24244854353759",
          "KNeighborsRegressor/2.4/2.4/76/-40/11.419645384617338/261.68515817579623/16.176685636303755",
          "GradientBoostingRegressor/2.4/2.4/76/-40/10.983117307478775/229.11121344458275/15.136420100029687",
          "DecisionTreeRegressor/2.4/2.4/76/-40/14.04762790033801/423.4272680404674/20.577348421030038",
          "LinearRegression/2.4/2.4/76/-40/20.793170734521254/2388.225948179828/48.86947869764755",
          "GradientBoostingRegressor/2.4/2.4/76/-40/10.983117307478775/229.11121344458275",
          "AdaBoostRegressor/2.4/2.4/76/-40/11.811220169149749/232.3322376023912",
          "KNeighborsRegressor/2.4/2.4/76/-40/11.419645384617338/261.68515817579623",
          "DecisionTreeRegressor/2.4/2.4/76/-40/14.04762790033801/423.4272680404674",
          "LinearRegression/2.4/2.4/76/-40/20.793170734521254/2388.225948179828",
          "GradientBoostingRegressor/2.4/2.4/76/-40/10.983117307478775",
          "AdaBoostRegressor/2.4/2.4/76/-40/11.811220169149749",
          "KNeighborsRegressor/2.4/2.4/76/-40/11.419645384617338",
          "DecisionTreeRegressor/2.4/2.4/76/-40/14.04762790033801",
          "LinearRegression/2.4/2.4/76/-40/20.793170734521254",
          "GradientBoostingRegressor/2.4/2.4/76/-40",
          "KNeighborsRegressor/2.4/2.4/76/-40",
          "AdaBoostRegressor/2.4/2.4/76/-40",
          "DecisionTreeRegressor/2.4/2.4/76/-40",
          "LinearRegression/2.4/2.4/76/-40",
          "AdaBoostRegressor/2.4/2.4/76",
          "DecisionTreeRegressor/2.4/2.4/76",
          "GradientBoostingRegressor/2.4/2.4/76",
          "KNeighborsRegressor/2.4/2.4/76",
          "LinearRegression/2.4/2.4/76",
          "AdaBoostRegressor/2.4/2.4",
          "DecisionTreeRegressor/2.4/2.4",
          "GradientBoostingRegressor/2.4/2.4",
          "KNeighborsRegressor/2.4/2.4",
          "LinearRegression/2.4/2.4",
          "AdaBoostRegressor/2.4",
          "DecisionTreeRegressor/2.4",
          "GradientBoostingRegressor/2.4",
          "KNeighborsRegressor/2.4",
          "LinearRegression/2.4",
          "AdaBoostRegressor",
          "DecisionTreeRegressor",
          "GradientBoostingRegressor",
          "KNeighborsRegressor",
          "LinearRegression",
          "",
          "",
          "",
          "",
          ""
         ],
         "type": "treemap",
         "values": [
          11.811220169149749,
          11.419645384617338,
          10.983117307478775,
          14.04762790033801,
          20.793170734521254,
          10.983117307478775,
          11.811220169149749,
          11.419645384617338,
          14.04762790033801,
          20.793170734521254,
          10.983117307478775,
          11.811220169149749,
          11.419645384617338,
          14.04762790033801,
          20.793170734521254,
          10.983117307478775,
          11.419645384617338,
          11.811220169149749,
          14.04762790033801,
          20.793170734521254,
          11.811220169149749,
          14.04762790033801,
          10.983117307478775,
          11.419645384617338,
          20.793170734521254,
          11.811220169149749,
          14.04762790033801,
          10.983117307478775,
          11.419645384617338,
          20.793170734521254,
          11.811220169149749,
          14.04762790033801,
          10.983117307478775,
          11.419645384617338,
          20.793170734521254,
          11.811220169149749,
          14.04762790033801,
          10.983117307478775,
          11.419645384617338,
          20.793170734521254,
          11.811220169149749,
          14.04762790033801,
          10.983117307478775,
          11.419645384617338,
          20.793170734521254
         ]
        }
       ],
       "layout": {
        "legend": {
         "tracegroupgap": 0
        },
        "template": {
         "data": {
          "bar": [
           {
            "error_x": {
             "color": "#2a3f5f"
            },
            "error_y": {
             "color": "#2a3f5f"
            },
            "marker": {
             "line": {
              "color": "#E5ECF6",
              "width": 0.5
             },
             "pattern": {
              "fillmode": "overlay",
              "size": 10,
              "solidity": 0.2
             }
            },
            "type": "bar"
           }
          ],
          "barpolar": [
           {
            "marker": {
             "line": {
              "color": "#E5ECF6",
              "width": 0.5
             },
             "pattern": {
              "fillmode": "overlay",
              "size": 10,
              "solidity": 0.2
             }
            },
            "type": "barpolar"
           }
          ],
          "carpet": [
           {
            "aaxis": {
             "endlinecolor": "#2a3f5f",
             "gridcolor": "white",
             "linecolor": "white",
             "minorgridcolor": "white",
             "startlinecolor": "#2a3f5f"
            },
            "baxis": {
             "endlinecolor": "#2a3f5f",
             "gridcolor": "white",
             "linecolor": "white",
             "minorgridcolor": "white",
             "startlinecolor": "#2a3f5f"
            },
            "type": "carpet"
           }
          ],
          "choropleth": [
           {
            "colorbar": {
             "outlinewidth": 0,
             "ticks": ""
            },
            "type": "choropleth"
           }
          ],
          "contour": [
           {
            "colorbar": {
             "outlinewidth": 0,
             "ticks": ""
            },
            "colorscale": [
             [
              0,
              "#0d0887"
             ],
             [
              0.1111111111111111,
              "#46039f"
             ],
             [
              0.2222222222222222,
              "#7201a8"
             ],
             [
              0.3333333333333333,
              "#9c179e"
             ],
             [
              0.4444444444444444,
              "#bd3786"
             ],
             [
              0.5555555555555556,
              "#d8576b"
             ],
             [
              0.6666666666666666,
              "#ed7953"
             ],
             [
              0.7777777777777778,
              "#fb9f3a"
             ],
             [
              0.8888888888888888,
              "#fdca26"
             ],
             [
              1,
              "#f0f921"
             ]
            ],
            "type": "contour"
           }
          ],
          "contourcarpet": [
           {
            "colorbar": {
             "outlinewidth": 0,
             "ticks": ""
            },
            "type": "contourcarpet"
           }
          ],
          "heatmap": [
           {
            "colorbar": {
             "outlinewidth": 0,
             "ticks": ""
            },
            "colorscale": [
             [
              0,
              "#0d0887"
             ],
             [
              0.1111111111111111,
              "#46039f"
             ],
             [
              0.2222222222222222,
              "#7201a8"
             ],
             [
              0.3333333333333333,
              "#9c179e"
             ],
             [
              0.4444444444444444,
              "#bd3786"
             ],
             [
              0.5555555555555556,
              "#d8576b"
             ],
             [
              0.6666666666666666,
              "#ed7953"
             ],
             [
              0.7777777777777778,
              "#fb9f3a"
             ],
             [
              0.8888888888888888,
              "#fdca26"
             ],
             [
              1,
              "#f0f921"
             ]
            ],
            "type": "heatmap"
           }
          ],
          "heatmapgl": [
           {
            "colorbar": {
             "outlinewidth": 0,
             "ticks": ""
            },
            "colorscale": [
             [
              0,
              "#0d0887"
             ],
             [
              0.1111111111111111,
              "#46039f"
             ],
             [
              0.2222222222222222,
              "#7201a8"
             ],
             [
              0.3333333333333333,
              "#9c179e"
             ],
             [
              0.4444444444444444,
              "#bd3786"
             ],
             [
              0.5555555555555556,
              "#d8576b"
             ],
             [
              0.6666666666666666,
              "#ed7953"
             ],
             [
              0.7777777777777778,
              "#fb9f3a"
             ],
             [
              0.8888888888888888,
              "#fdca26"
             ],
             [
              1,
              "#f0f921"
             ]
            ],
            "type": "heatmapgl"
           }
          ],
          "histogram": [
           {
            "marker": {
             "pattern": {
              "fillmode": "overlay",
              "size": 10,
              "solidity": 0.2
             }
            },
            "type": "histogram"
           }
          ],
          "histogram2d": [
           {
            "colorbar": {
             "outlinewidth": 0,
             "ticks": ""
            },
            "colorscale": [
             [
              0,
              "#0d0887"
             ],
             [
              0.1111111111111111,
              "#46039f"
             ],
             [
              0.2222222222222222,
              "#7201a8"
             ],
             [
              0.3333333333333333,
              "#9c179e"
             ],
             [
              0.4444444444444444,
              "#bd3786"
             ],
             [
              0.5555555555555556,
              "#d8576b"
             ],
             [
              0.6666666666666666,
              "#ed7953"
             ],
             [
              0.7777777777777778,
              "#fb9f3a"
             ],
             [
              0.8888888888888888,
              "#fdca26"
             ],
             [
              1,
              "#f0f921"
             ]
            ],
            "type": "histogram2d"
           }
          ],
          "histogram2dcontour": [
           {
            "colorbar": {
             "outlinewidth": 0,
             "ticks": ""
            },
            "colorscale": [
             [
              0,
              "#0d0887"
             ],
             [
              0.1111111111111111,
              "#46039f"
             ],
             [
              0.2222222222222222,
              "#7201a8"
             ],
             [
              0.3333333333333333,
              "#9c179e"
             ],
             [
              0.4444444444444444,
              "#bd3786"
             ],
             [
              0.5555555555555556,
              "#d8576b"
             ],
             [
              0.6666666666666666,
              "#ed7953"
             ],
             [
              0.7777777777777778,
              "#fb9f3a"
             ],
             [
              0.8888888888888888,
              "#fdca26"
             ],
             [
              1,
              "#f0f921"
             ]
            ],
            "type": "histogram2dcontour"
           }
          ],
          "mesh3d": [
           {
            "colorbar": {
             "outlinewidth": 0,
             "ticks": ""
            },
            "type": "mesh3d"
           }
          ],
          "parcoords": [
           {
            "line": {
             "colorbar": {
              "outlinewidth": 0,
              "ticks": ""
             }
            },
            "type": "parcoords"
           }
          ],
          "pie": [
           {
            "automargin": true,
            "type": "pie"
           }
          ],
          "scatter": [
           {
            "fillpattern": {
             "fillmode": "overlay",
             "size": 10,
             "solidity": 0.2
            },
            "type": "scatter"
           }
          ],
          "scatter3d": [
           {
            "line": {
             "colorbar": {
              "outlinewidth": 0,
              "ticks": ""
             }
            },
            "marker": {
             "colorbar": {
              "outlinewidth": 0,
              "ticks": ""
             }
            },
            "type": "scatter3d"
           }
          ],
          "scattercarpet": [
           {
            "marker": {
             "colorbar": {
              "outlinewidth": 0,
              "ticks": ""
             }
            },
            "type": "scattercarpet"
           }
          ],
          "scattergeo": [
           {
            "marker": {
             "colorbar": {
              "outlinewidth": 0,
              "ticks": ""
             }
            },
            "type": "scattergeo"
           }
          ],
          "scattergl": [
           {
            "marker": {
             "colorbar": {
              "outlinewidth": 0,
              "ticks": ""
             }
            },
            "type": "scattergl"
           }
          ],
          "scattermapbox": [
           {
            "marker": {
             "colorbar": {
              "outlinewidth": 0,
              "ticks": ""
             }
            },
            "type": "scattermapbox"
           }
          ],
          "scatterpolar": [
           {
            "marker": {
             "colorbar": {
              "outlinewidth": 0,
              "ticks": ""
             }
            },
            "type": "scatterpolar"
           }
          ],
          "scatterpolargl": [
           {
            "marker": {
             "colorbar": {
              "outlinewidth": 0,
              "ticks": ""
             }
            },
            "type": "scatterpolargl"
           }
          ],
          "scatterternary": [
           {
            "marker": {
             "colorbar": {
              "outlinewidth": 0,
              "ticks": ""
             }
            },
            "type": "scatterternary"
           }
          ],
          "surface": [
           {
            "colorbar": {
             "outlinewidth": 0,
             "ticks": ""
            },
            "colorscale": [
             [
              0,
              "#0d0887"
             ],
             [
              0.1111111111111111,
              "#46039f"
             ],
             [
              0.2222222222222222,
              "#7201a8"
             ],
             [
              0.3333333333333333,
              "#9c179e"
             ],
             [
              0.4444444444444444,
              "#bd3786"
             ],
             [
              0.5555555555555556,
              "#d8576b"
             ],
             [
              0.6666666666666666,
              "#ed7953"
             ],
             [
              0.7777777777777778,
              "#fb9f3a"
             ],
             [
              0.8888888888888888,
              "#fdca26"
             ],
             [
              1,
              "#f0f921"
             ]
            ],
            "type": "surface"
           }
          ],
          "table": [
           {
            "cells": {
             "fill": {
              "color": "#EBF0F8"
             },
             "line": {
              "color": "white"
             }
            },
            "header": {
             "fill": {
              "color": "#C8D4E3"
             },
             "line": {
              "color": "white"
             }
            },
            "type": "table"
           }
          ]
         },
         "layout": {
          "annotationdefaults": {
           "arrowcolor": "#2a3f5f",
           "arrowhead": 0,
           "arrowwidth": 1
          },
          "autotypenumbers": "strict",
          "coloraxis": {
           "colorbar": {
            "outlinewidth": 0,
            "ticks": ""
           }
          },
          "colorscale": {
           "diverging": [
            [
             0,
             "#8e0152"
            ],
            [
             0.1,
             "#c51b7d"
            ],
            [
             0.2,
             "#de77ae"
            ],
            [
             0.3,
             "#f1b6da"
            ],
            [
             0.4,
             "#fde0ef"
            ],
            [
             0.5,
             "#f7f7f7"
            ],
            [
             0.6,
             "#e6f5d0"
            ],
            [
             0.7,
             "#b8e186"
            ],
            [
             0.8,
             "#7fbc41"
            ],
            [
             0.9,
             "#4d9221"
            ],
            [
             1,
             "#276419"
            ]
           ],
           "sequential": [
            [
             0,
             "#0d0887"
            ],
            [
             0.1111111111111111,
             "#46039f"
            ],
            [
             0.2222222222222222,
             "#7201a8"
            ],
            [
             0.3333333333333333,
             "#9c179e"
            ],
            [
             0.4444444444444444,
             "#bd3786"
            ],
            [
             0.5555555555555556,
             "#d8576b"
            ],
            [
             0.6666666666666666,
             "#ed7953"
            ],
            [
             0.7777777777777778,
             "#fb9f3a"
            ],
            [
             0.8888888888888888,
             "#fdca26"
            ],
            [
             1,
             "#f0f921"
            ]
           ],
           "sequentialminus": [
            [
             0,
             "#0d0887"
            ],
            [
             0.1111111111111111,
             "#46039f"
            ],
            [
             0.2222222222222222,
             "#7201a8"
            ],
            [
             0.3333333333333333,
             "#9c179e"
            ],
            [
             0.4444444444444444,
             "#bd3786"
            ],
            [
             0.5555555555555556,
             "#d8576b"
            ],
            [
             0.6666666666666666,
             "#ed7953"
            ],
            [
             0.7777777777777778,
             "#fb9f3a"
            ],
            [
             0.8888888888888888,
             "#fdca26"
            ],
            [
             1,
             "#f0f921"
            ]
           ]
          },
          "colorway": [
           "#636efa",
           "#EF553B",
           "#00cc96",
           "#ab63fa",
           "#FFA15A",
           "#19d3f3",
           "#FF6692",
           "#B6E880",
           "#FF97FF",
           "#FECB52"
          ],
          "font": {
           "color": "#2a3f5f"
          },
          "geo": {
           "bgcolor": "white",
           "lakecolor": "white",
           "landcolor": "#E5ECF6",
           "showlakes": true,
           "showland": true,
           "subunitcolor": "white"
          },
          "hoverlabel": {
           "align": "left"
          },
          "hovermode": "closest",
          "mapbox": {
           "style": "light"
          },
          "paper_bgcolor": "white",
          "plot_bgcolor": "#E5ECF6",
          "polar": {
           "angularaxis": {
            "gridcolor": "white",
            "linecolor": "white",
            "ticks": ""
           },
           "bgcolor": "#E5ECF6",
           "radialaxis": {
            "gridcolor": "white",
            "linecolor": "white",
            "ticks": ""
           }
          },
          "scene": {
           "xaxis": {
            "backgroundcolor": "#E5ECF6",
            "gridcolor": "white",
            "gridwidth": 2,
            "linecolor": "white",
            "showbackground": true,
            "ticks": "",
            "zerolinecolor": "white"
           },
           "yaxis": {
            "backgroundcolor": "#E5ECF6",
            "gridcolor": "white",
            "gridwidth": 2,
            "linecolor": "white",
            "showbackground": true,
            "ticks": "",
            "zerolinecolor": "white"
           },
           "zaxis": {
            "backgroundcolor": "#E5ECF6",
            "gridcolor": "white",
            "gridwidth": 2,
            "linecolor": "white",
            "showbackground": true,
            "ticks": "",
            "zerolinecolor": "white"
           }
          },
          "shapedefaults": {
           "line": {
            "color": "#2a3f5f"
           }
          },
          "ternary": {
           "aaxis": {
            "gridcolor": "white",
            "linecolor": "white",
            "ticks": ""
           },
           "baxis": {
            "gridcolor": "white",
            "linecolor": "white",
            "ticks": ""
           },
           "bgcolor": "#E5ECF6",
           "caxis": {
            "gridcolor": "white",
            "linecolor": "white",
            "ticks": ""
           }
          },
          "title": {
           "x": 0.05
          },
          "xaxis": {
           "automargin": true,
           "gridcolor": "white",
           "linecolor": "white",
           "ticks": "",
           "title": {
            "standoff": 15
           },
           "zerolinecolor": "white",
           "zerolinewidth": 2
          },
          "yaxis": {
           "automargin": true,
           "gridcolor": "white",
           "linecolor": "white",
           "ticks": "",
           "title": {
            "standoff": 15
           },
           "zerolinecolor": "white",
           "zerolinewidth": 2
          }
         }
        },
        "title": {
         "text": "Metricas 2.4"
        }
       }
      }
     },
     "metadata": {},
     "output_type": "display_data"
    }
   ],
   "source": [
    "px.treemap(data_frame = df_metricas_2_4,\n",
    "           values     = \"MAE\",\n",
    "           path       = [\"Modelo\",\"karma_Q3\",\"karma_Q1\",\"Bigote superior\",\"Bigote inferior\",\"MAE\",\"MSE\",\"RMSE\",\"R2\"],\n",
    "           hover_name = \"Modelo\",\n",
    "           color      = \"Modelo\",\n",
    "           title      = \"Metricas 2.4\")"
   ]
  },
  {
   "cell_type": "code",
   "execution_count": 33,
   "metadata": {},
   "outputs": [
    {
     "data": {
      "application/vnd.plotly.v1+json": {
       "config": {
        "plotlyServerURL": "https://plot.ly"
       },
       "data": [
        {
         "alignmentgroup": "True",
         "customdata": [
          [
           2.4,
           2.4,
           76,
           -40,
           2388.225948179828,
           48.86947869764755,
           -9.41745094359656
          ]
         ],
         "hovertemplate": "Modelo=%{y}<br>MAE=%{x}<br>karma_Q3=%{customdata[0]}<br>karma_Q1=%{customdata[1]}<br>Bigote superior=%{customdata[2]}<br>Bigote inferior=%{customdata[3]}<br>MSE=%{customdata[4]}<br>RMSE=%{customdata[5]}<br>R2=%{customdata[6]}<extra></extra>",
         "legendgroup": "LinearRegression",
         "marker": {
          "color": "#636efa",
          "pattern": {
           "shape": ""
          }
         },
         "name": "LinearRegression",
         "offsetgroup": "LinearRegression",
         "orientation": "h",
         "showlegend": true,
         "textposition": "auto",
         "type": "bar",
         "x": [
          20.793170734521254
         ],
         "xaxis": "x",
         "y": [
          "LinearRegression"
         ],
         "yaxis": "y"
        },
        {
         "alignmentgroup": "True",
         "customdata": [
          [
           2.4,
           2.4,
           76,
           -40,
           261.68515817579623,
           16.176685636303755,
           -0.1414716853073883
          ]
         ],
         "hovertemplate": "Modelo=%{y}<br>MAE=%{x}<br>karma_Q3=%{customdata[0]}<br>karma_Q1=%{customdata[1]}<br>Bigote superior=%{customdata[2]}<br>Bigote inferior=%{customdata[3]}<br>MSE=%{customdata[4]}<br>RMSE=%{customdata[5]}<br>R2=%{customdata[6]}<extra></extra>",
         "legendgroup": "KNeighborsRegressor",
         "marker": {
          "color": "#EF553B",
          "pattern": {
           "shape": ""
          }
         },
         "name": "KNeighborsRegressor",
         "offsetgroup": "KNeighborsRegressor",
         "orientation": "h",
         "showlegend": true,
         "textposition": "auto",
         "type": "bar",
         "x": [
          11.419645384617338
         ],
         "xaxis": "x",
         "y": [
          "KNeighborsRegressor"
         ],
         "yaxis": "y"
        },
        {
         "alignmentgroup": "True",
         "customdata": [
          [
           2.4,
           2.4,
           76,
           -40,
           423.4272680404674,
           20.577348421030038,
           -0.8469914022810627
          ]
         ],
         "hovertemplate": "Modelo=%{y}<br>MAE=%{x}<br>karma_Q3=%{customdata[0]}<br>karma_Q1=%{customdata[1]}<br>Bigote superior=%{customdata[2]}<br>Bigote inferior=%{customdata[3]}<br>MSE=%{customdata[4]}<br>RMSE=%{customdata[5]}<br>R2=%{customdata[6]}<extra></extra>",
         "legendgroup": "DecisionTreeRegressor",
         "marker": {
          "color": "#00cc96",
          "pattern": {
           "shape": ""
          }
         },
         "name": "DecisionTreeRegressor",
         "offsetgroup": "DecisionTreeRegressor",
         "orientation": "h",
         "showlegend": true,
         "textposition": "auto",
         "type": "bar",
         "x": [
          14.04762790033801
         ],
         "xaxis": "x",
         "y": [
          "DecisionTreeRegressor"
         ],
         "yaxis": "y"
        },
        {
         "alignmentgroup": "True",
         "customdata": [
          [
           2.4,
           2.4,
           76,
           -40,
           232.3322376023912,
           15.24244854353759,
           -0.013434130754485185
          ]
         ],
         "hovertemplate": "Modelo=%{y}<br>MAE=%{x}<br>karma_Q3=%{customdata[0]}<br>karma_Q1=%{customdata[1]}<br>Bigote superior=%{customdata[2]}<br>Bigote inferior=%{customdata[3]}<br>MSE=%{customdata[4]}<br>RMSE=%{customdata[5]}<br>R2=%{customdata[6]}<extra></extra>",
         "legendgroup": "AdaBoostRegressor",
         "marker": {
          "color": "#ab63fa",
          "pattern": {
           "shape": ""
          }
         },
         "name": "AdaBoostRegressor",
         "offsetgroup": "AdaBoostRegressor",
         "orientation": "h",
         "showlegend": true,
         "textposition": "auto",
         "type": "bar",
         "x": [
          11.811220169149749
         ],
         "xaxis": "x",
         "y": [
          "AdaBoostRegressor"
         ],
         "yaxis": "y"
        },
        {
         "alignmentgroup": "True",
         "customdata": [
          [
           2.4,
           2.4,
           76,
           -40,
           229.11121344458275,
           15.136420100029687,
           0.0006159892426123026
          ]
         ],
         "hovertemplate": "Modelo=%{y}<br>MAE=%{x}<br>karma_Q3=%{customdata[0]}<br>karma_Q1=%{customdata[1]}<br>Bigote superior=%{customdata[2]}<br>Bigote inferior=%{customdata[3]}<br>MSE=%{customdata[4]}<br>RMSE=%{customdata[5]}<br>R2=%{customdata[6]}<extra></extra>",
         "legendgroup": "GradientBoostingRegressor",
         "marker": {
          "color": "#FFA15A",
          "pattern": {
           "shape": ""
          }
         },
         "name": "GradientBoostingRegressor",
         "offsetgroup": "GradientBoostingRegressor",
         "orientation": "h",
         "showlegend": true,
         "textposition": "auto",
         "type": "bar",
         "x": [
          10.983117307478775
         ],
         "xaxis": "x",
         "y": [
          "GradientBoostingRegressor"
         ],
         "yaxis": "y"
        }
       ],
       "layout": {
        "barmode": "relative",
        "legend": {
         "title": {
          "text": "Modelo"
         },
         "tracegroupgap": 0
        },
        "template": {
         "data": {
          "bar": [
           {
            "error_x": {
             "color": "#2a3f5f"
            },
            "error_y": {
             "color": "#2a3f5f"
            },
            "marker": {
             "line": {
              "color": "#E5ECF6",
              "width": 0.5
             },
             "pattern": {
              "fillmode": "overlay",
              "size": 10,
              "solidity": 0.2
             }
            },
            "type": "bar"
           }
          ],
          "barpolar": [
           {
            "marker": {
             "line": {
              "color": "#E5ECF6",
              "width": 0.5
             },
             "pattern": {
              "fillmode": "overlay",
              "size": 10,
              "solidity": 0.2
             }
            },
            "type": "barpolar"
           }
          ],
          "carpet": [
           {
            "aaxis": {
             "endlinecolor": "#2a3f5f",
             "gridcolor": "white",
             "linecolor": "white",
             "minorgridcolor": "white",
             "startlinecolor": "#2a3f5f"
            },
            "baxis": {
             "endlinecolor": "#2a3f5f",
             "gridcolor": "white",
             "linecolor": "white",
             "minorgridcolor": "white",
             "startlinecolor": "#2a3f5f"
            },
            "type": "carpet"
           }
          ],
          "choropleth": [
           {
            "colorbar": {
             "outlinewidth": 0,
             "ticks": ""
            },
            "type": "choropleth"
           }
          ],
          "contour": [
           {
            "colorbar": {
             "outlinewidth": 0,
             "ticks": ""
            },
            "colorscale": [
             [
              0,
              "#0d0887"
             ],
             [
              0.1111111111111111,
              "#46039f"
             ],
             [
              0.2222222222222222,
              "#7201a8"
             ],
             [
              0.3333333333333333,
              "#9c179e"
             ],
             [
              0.4444444444444444,
              "#bd3786"
             ],
             [
              0.5555555555555556,
              "#d8576b"
             ],
             [
              0.6666666666666666,
              "#ed7953"
             ],
             [
              0.7777777777777778,
              "#fb9f3a"
             ],
             [
              0.8888888888888888,
              "#fdca26"
             ],
             [
              1,
              "#f0f921"
             ]
            ],
            "type": "contour"
           }
          ],
          "contourcarpet": [
           {
            "colorbar": {
             "outlinewidth": 0,
             "ticks": ""
            },
            "type": "contourcarpet"
           }
          ],
          "heatmap": [
           {
            "colorbar": {
             "outlinewidth": 0,
             "ticks": ""
            },
            "colorscale": [
             [
              0,
              "#0d0887"
             ],
             [
              0.1111111111111111,
              "#46039f"
             ],
             [
              0.2222222222222222,
              "#7201a8"
             ],
             [
              0.3333333333333333,
              "#9c179e"
             ],
             [
              0.4444444444444444,
              "#bd3786"
             ],
             [
              0.5555555555555556,
              "#d8576b"
             ],
             [
              0.6666666666666666,
              "#ed7953"
             ],
             [
              0.7777777777777778,
              "#fb9f3a"
             ],
             [
              0.8888888888888888,
              "#fdca26"
             ],
             [
              1,
              "#f0f921"
             ]
            ],
            "type": "heatmap"
           }
          ],
          "heatmapgl": [
           {
            "colorbar": {
             "outlinewidth": 0,
             "ticks": ""
            },
            "colorscale": [
             [
              0,
              "#0d0887"
             ],
             [
              0.1111111111111111,
              "#46039f"
             ],
             [
              0.2222222222222222,
              "#7201a8"
             ],
             [
              0.3333333333333333,
              "#9c179e"
             ],
             [
              0.4444444444444444,
              "#bd3786"
             ],
             [
              0.5555555555555556,
              "#d8576b"
             ],
             [
              0.6666666666666666,
              "#ed7953"
             ],
             [
              0.7777777777777778,
              "#fb9f3a"
             ],
             [
              0.8888888888888888,
              "#fdca26"
             ],
             [
              1,
              "#f0f921"
             ]
            ],
            "type": "heatmapgl"
           }
          ],
          "histogram": [
           {
            "marker": {
             "pattern": {
              "fillmode": "overlay",
              "size": 10,
              "solidity": 0.2
             }
            },
            "type": "histogram"
           }
          ],
          "histogram2d": [
           {
            "colorbar": {
             "outlinewidth": 0,
             "ticks": ""
            },
            "colorscale": [
             [
              0,
              "#0d0887"
             ],
             [
              0.1111111111111111,
              "#46039f"
             ],
             [
              0.2222222222222222,
              "#7201a8"
             ],
             [
              0.3333333333333333,
              "#9c179e"
             ],
             [
              0.4444444444444444,
              "#bd3786"
             ],
             [
              0.5555555555555556,
              "#d8576b"
             ],
             [
              0.6666666666666666,
              "#ed7953"
             ],
             [
              0.7777777777777778,
              "#fb9f3a"
             ],
             [
              0.8888888888888888,
              "#fdca26"
             ],
             [
              1,
              "#f0f921"
             ]
            ],
            "type": "histogram2d"
           }
          ],
          "histogram2dcontour": [
           {
            "colorbar": {
             "outlinewidth": 0,
             "ticks": ""
            },
            "colorscale": [
             [
              0,
              "#0d0887"
             ],
             [
              0.1111111111111111,
              "#46039f"
             ],
             [
              0.2222222222222222,
              "#7201a8"
             ],
             [
              0.3333333333333333,
              "#9c179e"
             ],
             [
              0.4444444444444444,
              "#bd3786"
             ],
             [
              0.5555555555555556,
              "#d8576b"
             ],
             [
              0.6666666666666666,
              "#ed7953"
             ],
             [
              0.7777777777777778,
              "#fb9f3a"
             ],
             [
              0.8888888888888888,
              "#fdca26"
             ],
             [
              1,
              "#f0f921"
             ]
            ],
            "type": "histogram2dcontour"
           }
          ],
          "mesh3d": [
           {
            "colorbar": {
             "outlinewidth": 0,
             "ticks": ""
            },
            "type": "mesh3d"
           }
          ],
          "parcoords": [
           {
            "line": {
             "colorbar": {
              "outlinewidth": 0,
              "ticks": ""
             }
            },
            "type": "parcoords"
           }
          ],
          "pie": [
           {
            "automargin": true,
            "type": "pie"
           }
          ],
          "scatter": [
           {
            "fillpattern": {
             "fillmode": "overlay",
             "size": 10,
             "solidity": 0.2
            },
            "type": "scatter"
           }
          ],
          "scatter3d": [
           {
            "line": {
             "colorbar": {
              "outlinewidth": 0,
              "ticks": ""
             }
            },
            "marker": {
             "colorbar": {
              "outlinewidth": 0,
              "ticks": ""
             }
            },
            "type": "scatter3d"
           }
          ],
          "scattercarpet": [
           {
            "marker": {
             "colorbar": {
              "outlinewidth": 0,
              "ticks": ""
             }
            },
            "type": "scattercarpet"
           }
          ],
          "scattergeo": [
           {
            "marker": {
             "colorbar": {
              "outlinewidth": 0,
              "ticks": ""
             }
            },
            "type": "scattergeo"
           }
          ],
          "scattergl": [
           {
            "marker": {
             "colorbar": {
              "outlinewidth": 0,
              "ticks": ""
             }
            },
            "type": "scattergl"
           }
          ],
          "scattermapbox": [
           {
            "marker": {
             "colorbar": {
              "outlinewidth": 0,
              "ticks": ""
             }
            },
            "type": "scattermapbox"
           }
          ],
          "scatterpolar": [
           {
            "marker": {
             "colorbar": {
              "outlinewidth": 0,
              "ticks": ""
             }
            },
            "type": "scatterpolar"
           }
          ],
          "scatterpolargl": [
           {
            "marker": {
             "colorbar": {
              "outlinewidth": 0,
              "ticks": ""
             }
            },
            "type": "scatterpolargl"
           }
          ],
          "scatterternary": [
           {
            "marker": {
             "colorbar": {
              "outlinewidth": 0,
              "ticks": ""
             }
            },
            "type": "scatterternary"
           }
          ],
          "surface": [
           {
            "colorbar": {
             "outlinewidth": 0,
             "ticks": ""
            },
            "colorscale": [
             [
              0,
              "#0d0887"
             ],
             [
              0.1111111111111111,
              "#46039f"
             ],
             [
              0.2222222222222222,
              "#7201a8"
             ],
             [
              0.3333333333333333,
              "#9c179e"
             ],
             [
              0.4444444444444444,
              "#bd3786"
             ],
             [
              0.5555555555555556,
              "#d8576b"
             ],
             [
              0.6666666666666666,
              "#ed7953"
             ],
             [
              0.7777777777777778,
              "#fb9f3a"
             ],
             [
              0.8888888888888888,
              "#fdca26"
             ],
             [
              1,
              "#f0f921"
             ]
            ],
            "type": "surface"
           }
          ],
          "table": [
           {
            "cells": {
             "fill": {
              "color": "#EBF0F8"
             },
             "line": {
              "color": "white"
             }
            },
            "header": {
             "fill": {
              "color": "#C8D4E3"
             },
             "line": {
              "color": "white"
             }
            },
            "type": "table"
           }
          ]
         },
         "layout": {
          "annotationdefaults": {
           "arrowcolor": "#2a3f5f",
           "arrowhead": 0,
           "arrowwidth": 1
          },
          "autotypenumbers": "strict",
          "coloraxis": {
           "colorbar": {
            "outlinewidth": 0,
            "ticks": ""
           }
          },
          "colorscale": {
           "diverging": [
            [
             0,
             "#8e0152"
            ],
            [
             0.1,
             "#c51b7d"
            ],
            [
             0.2,
             "#de77ae"
            ],
            [
             0.3,
             "#f1b6da"
            ],
            [
             0.4,
             "#fde0ef"
            ],
            [
             0.5,
             "#f7f7f7"
            ],
            [
             0.6,
             "#e6f5d0"
            ],
            [
             0.7,
             "#b8e186"
            ],
            [
             0.8,
             "#7fbc41"
            ],
            [
             0.9,
             "#4d9221"
            ],
            [
             1,
             "#276419"
            ]
           ],
           "sequential": [
            [
             0,
             "#0d0887"
            ],
            [
             0.1111111111111111,
             "#46039f"
            ],
            [
             0.2222222222222222,
             "#7201a8"
            ],
            [
             0.3333333333333333,
             "#9c179e"
            ],
            [
             0.4444444444444444,
             "#bd3786"
            ],
            [
             0.5555555555555556,
             "#d8576b"
            ],
            [
             0.6666666666666666,
             "#ed7953"
            ],
            [
             0.7777777777777778,
             "#fb9f3a"
            ],
            [
             0.8888888888888888,
             "#fdca26"
            ],
            [
             1,
             "#f0f921"
            ]
           ],
           "sequentialminus": [
            [
             0,
             "#0d0887"
            ],
            [
             0.1111111111111111,
             "#46039f"
            ],
            [
             0.2222222222222222,
             "#7201a8"
            ],
            [
             0.3333333333333333,
             "#9c179e"
            ],
            [
             0.4444444444444444,
             "#bd3786"
            ],
            [
             0.5555555555555556,
             "#d8576b"
            ],
            [
             0.6666666666666666,
             "#ed7953"
            ],
            [
             0.7777777777777778,
             "#fb9f3a"
            ],
            [
             0.8888888888888888,
             "#fdca26"
            ],
            [
             1,
             "#f0f921"
            ]
           ]
          },
          "colorway": [
           "#636efa",
           "#EF553B",
           "#00cc96",
           "#ab63fa",
           "#FFA15A",
           "#19d3f3",
           "#FF6692",
           "#B6E880",
           "#FF97FF",
           "#FECB52"
          ],
          "font": {
           "color": "#2a3f5f"
          },
          "geo": {
           "bgcolor": "white",
           "lakecolor": "white",
           "landcolor": "#E5ECF6",
           "showlakes": true,
           "showland": true,
           "subunitcolor": "white"
          },
          "hoverlabel": {
           "align": "left"
          },
          "hovermode": "closest",
          "mapbox": {
           "style": "light"
          },
          "paper_bgcolor": "white",
          "plot_bgcolor": "#E5ECF6",
          "polar": {
           "angularaxis": {
            "gridcolor": "white",
            "linecolor": "white",
            "ticks": ""
           },
           "bgcolor": "#E5ECF6",
           "radialaxis": {
            "gridcolor": "white",
            "linecolor": "white",
            "ticks": ""
           }
          },
          "scene": {
           "xaxis": {
            "backgroundcolor": "#E5ECF6",
            "gridcolor": "white",
            "gridwidth": 2,
            "linecolor": "white",
            "showbackground": true,
            "ticks": "",
            "zerolinecolor": "white"
           },
           "yaxis": {
            "backgroundcolor": "#E5ECF6",
            "gridcolor": "white",
            "gridwidth": 2,
            "linecolor": "white",
            "showbackground": true,
            "ticks": "",
            "zerolinecolor": "white"
           },
           "zaxis": {
            "backgroundcolor": "#E5ECF6",
            "gridcolor": "white",
            "gridwidth": 2,
            "linecolor": "white",
            "showbackground": true,
            "ticks": "",
            "zerolinecolor": "white"
           }
          },
          "shapedefaults": {
           "line": {
            "color": "#2a3f5f"
           }
          },
          "ternary": {
           "aaxis": {
            "gridcolor": "white",
            "linecolor": "white",
            "ticks": ""
           },
           "baxis": {
            "gridcolor": "white",
            "linecolor": "white",
            "ticks": ""
           },
           "bgcolor": "#E5ECF6",
           "caxis": {
            "gridcolor": "white",
            "linecolor": "white",
            "ticks": ""
           }
          },
          "title": {
           "x": 0.05
          },
          "xaxis": {
           "automargin": true,
           "gridcolor": "white",
           "linecolor": "white",
           "ticks": "",
           "title": {
            "standoff": 15
           },
           "zerolinecolor": "white",
           "zerolinewidth": 2
          },
          "yaxis": {
           "automargin": true,
           "gridcolor": "white",
           "linecolor": "white",
           "ticks": "",
           "title": {
            "standoff": 15
           },
           "zerolinecolor": "white",
           "zerolinewidth": 2
          }
         }
        },
        "title": {
         "text": "Metricas 2.4"
        },
        "xaxis": {
         "anchor": "y",
         "domain": [
          0,
          1
         ],
         "title": {
          "text": "MAE"
         }
        },
        "yaxis": {
         "anchor": "x",
         "categoryarray": [
          "GradientBoostingRegressor",
          "AdaBoostRegressor",
          "DecisionTreeRegressor",
          "KNeighborsRegressor",
          "LinearRegression"
         ],
         "categoryorder": "array",
         "domain": [
          0,
          1
         ],
         "title": {
          "text": "Modelo"
         }
        }
       }
      }
     },
     "metadata": {},
     "output_type": "display_data"
    }
   ],
   "source": [
    "px.bar(data_frame = df_metricas_2_4,\n",
    "       x          = \"MAE\",\n",
    "       y          = \"Modelo\",\n",
    "       hover_data = [\"karma_Q3\",\"karma_Q1\",\"Bigote superior\",\"Bigote inferior\",\"MAE\",\"MSE\",\"RMSE\",\"R2\"],\n",
    "       color      = \"Modelo\",\n",
    "       title      = \"Metricas 2.4\"\n",
    "      )"
   ]
  },
  {
   "cell_type": "markdown",
   "metadata": {},
   "source": [
    "## Metricas segun cuartiles a 3.0"
   ]
  },
  {
   "cell_type": "code",
   "execution_count": 15,
   "metadata": {},
   "outputs": [
    {
     "data": {
      "text/html": [
       "<div>\n",
       "<style scoped>\n",
       "    .dataframe tbody tr th:only-of-type {\n",
       "        vertical-align: middle;\n",
       "    }\n",
       "\n",
       "    .dataframe tbody tr th {\n",
       "        vertical-align: top;\n",
       "    }\n",
       "\n",
       "    .dataframe thead th {\n",
       "        text-align: right;\n",
       "    }\n",
       "</style>\n",
       "<table border=\"1\" class=\"dataframe\">\n",
       "  <thead>\n",
       "    <tr style=\"text-align: right;\">\n",
       "      <th></th>\n",
       "      <th>Modelo</th>\n",
       "      <th>karma_Q3</th>\n",
       "      <th>karma_Q1</th>\n",
       "      <th>Bigote superior</th>\n",
       "      <th>Bigote inferior</th>\n",
       "      <th>MAE</th>\n",
       "      <th>MSE</th>\n",
       "      <th>RMSE</th>\n",
       "      <th>R2</th>\n",
       "    </tr>\n",
       "  </thead>\n",
       "  <tbody>\n",
       "    <tr>\n",
       "      <th>0</th>\n",
       "      <td>LinearRegression</td>\n",
       "      <td>3.0</td>\n",
       "      <td>3.0</td>\n",
       "      <td>89</td>\n",
       "      <td>-51</td>\n",
       "      <td>23.351643</td>\n",
       "      <td>5079.315462</td>\n",
       "      <td>71.269316</td>\n",
       "      <td>-16.421428</td>\n",
       "    </tr>\n",
       "    <tr>\n",
       "      <th>1</th>\n",
       "      <td>KNeighborsRegressor</td>\n",
       "      <td>3.0</td>\n",
       "      <td>3.0</td>\n",
       "      <td>89</td>\n",
       "      <td>-51</td>\n",
       "      <td>12.575909</td>\n",
       "      <td>331.295298</td>\n",
       "      <td>18.201519</td>\n",
       "      <td>-0.136302</td>\n",
       "    </tr>\n",
       "    <tr>\n",
       "      <th>2</th>\n",
       "      <td>DecisionTreeRegressor</td>\n",
       "      <td>3.0</td>\n",
       "      <td>3.0</td>\n",
       "      <td>89</td>\n",
       "      <td>-51</td>\n",
       "      <td>15.162366</td>\n",
       "      <td>521.431699</td>\n",
       "      <td>22.834879</td>\n",
       "      <td>-0.788447</td>\n",
       "    </tr>\n",
       "    <tr>\n",
       "      <th>3</th>\n",
       "      <td>AdaBoostRegressor</td>\n",
       "      <td>3.0</td>\n",
       "      <td>3.0</td>\n",
       "      <td>89</td>\n",
       "      <td>-51</td>\n",
       "      <td>13.298182</td>\n",
       "      <td>297.760810</td>\n",
       "      <td>17.255747</td>\n",
       "      <td>-0.021283</td>\n",
       "    </tr>\n",
       "    <tr>\n",
       "      <th>4</th>\n",
       "      <td>GradientBoostingRegressor</td>\n",
       "      <td>3.0</td>\n",
       "      <td>3.0</td>\n",
       "      <td>89</td>\n",
       "      <td>-51</td>\n",
       "      <td>12.120131</td>\n",
       "      <td>290.901887</td>\n",
       "      <td>17.055846</td>\n",
       "      <td>0.002242</td>\n",
       "    </tr>\n",
       "  </tbody>\n",
       "</table>\n",
       "</div>"
      ],
      "text/plain": [
       "                      Modelo  karma_Q3  karma_Q1  Bigote superior  \\\n",
       "0           LinearRegression       3.0       3.0               89   \n",
       "1        KNeighborsRegressor       3.0       3.0               89   \n",
       "2      DecisionTreeRegressor       3.0       3.0               89   \n",
       "3          AdaBoostRegressor       3.0       3.0               89   \n",
       "4  GradientBoostingRegressor       3.0       3.0               89   \n",
       "\n",
       "   Bigote inferior        MAE          MSE       RMSE         R2  \n",
       "0              -51  23.351643  5079.315462  71.269316 -16.421428  \n",
       "1              -51  12.575909   331.295298  18.201519  -0.136302  \n",
       "2              -51  15.162366   521.431699  22.834879  -0.788447  \n",
       "3              -51  13.298182   297.760810  17.255747  -0.021283  \n",
       "4              -51  12.120131   290.901887  17.055846   0.002242  "
      ]
     },
     "execution_count": 15,
     "metadata": {},
     "output_type": "execute_result"
    }
   ],
   "source": [
    "df_metricas_3"
   ]
  },
  {
   "cell_type": "code",
   "execution_count": 34,
   "metadata": {},
   "outputs": [
    {
     "data": {
      "application/vnd.plotly.v1+json": {
       "config": {
        "plotlyServerURL": "https://plot.ly"
       },
       "data": [
        {
         "branchvalues": "total",
         "customdata": [
          [
           "AdaBoostRegressor"
          ],
          [
           "KNeighborsRegressor"
          ],
          [
           "GradientBoostingRegressor"
          ],
          [
           "DecisionTreeRegressor"
          ],
          [
           "LinearRegression"
          ],
          [
           "GradientBoostingRegressor"
          ],
          [
           "AdaBoostRegressor"
          ],
          [
           "KNeighborsRegressor"
          ],
          [
           "DecisionTreeRegressor"
          ],
          [
           "LinearRegression"
          ],
          [
           "GradientBoostingRegressor"
          ],
          [
           "AdaBoostRegressor"
          ],
          [
           "KNeighborsRegressor"
          ],
          [
           "DecisionTreeRegressor"
          ],
          [
           "LinearRegression"
          ],
          [
           "GradientBoostingRegressor"
          ],
          [
           "KNeighborsRegressor"
          ],
          [
           "AdaBoostRegressor"
          ],
          [
           "DecisionTreeRegressor"
          ],
          [
           "LinearRegression"
          ],
          [
           "AdaBoostRegressor"
          ],
          [
           "DecisionTreeRegressor"
          ],
          [
           "GradientBoostingRegressor"
          ],
          [
           "KNeighborsRegressor"
          ],
          [
           "LinearRegression"
          ],
          [
           "AdaBoostRegressor"
          ],
          [
           "DecisionTreeRegressor"
          ],
          [
           "GradientBoostingRegressor"
          ],
          [
           "KNeighborsRegressor"
          ],
          [
           "LinearRegression"
          ],
          [
           "AdaBoostRegressor"
          ],
          [
           "DecisionTreeRegressor"
          ],
          [
           "GradientBoostingRegressor"
          ],
          [
           "KNeighborsRegressor"
          ],
          [
           "LinearRegression"
          ],
          [
           "AdaBoostRegressor"
          ],
          [
           "DecisionTreeRegressor"
          ],
          [
           "GradientBoostingRegressor"
          ],
          [
           "KNeighborsRegressor"
          ],
          [
           "LinearRegression"
          ],
          [
           "AdaBoostRegressor"
          ],
          [
           "DecisionTreeRegressor"
          ],
          [
           "GradientBoostingRegressor"
          ],
          [
           "KNeighborsRegressor"
          ],
          [
           "LinearRegression"
          ]
         ],
         "domain": {
          "x": [
           0,
           1
          ],
          "y": [
           0,
           1
          ]
         },
         "hovertemplate": "<b>%{hovertext}</b><br><br>labels=%{label}<br>MAE=%{value}<br>parent=%{parent}<br>id=%{id}<br>Modelo=%{customdata[0]}<extra></extra>",
         "hovertext": [
          "AdaBoostRegressor",
          "KNeighborsRegressor",
          "GradientBoostingRegressor",
          "DecisionTreeRegressor",
          "LinearRegression",
          "GradientBoostingRegressor",
          "AdaBoostRegressor",
          "KNeighborsRegressor",
          "DecisionTreeRegressor",
          "LinearRegression",
          "GradientBoostingRegressor",
          "AdaBoostRegressor",
          "KNeighborsRegressor",
          "DecisionTreeRegressor",
          "LinearRegression",
          "GradientBoostingRegressor",
          "KNeighborsRegressor",
          "AdaBoostRegressor",
          "DecisionTreeRegressor",
          "LinearRegression",
          "AdaBoostRegressor",
          "DecisionTreeRegressor",
          "GradientBoostingRegressor",
          "KNeighborsRegressor",
          "LinearRegression",
          "AdaBoostRegressor",
          "DecisionTreeRegressor",
          "GradientBoostingRegressor",
          "KNeighborsRegressor",
          "LinearRegression",
          "AdaBoostRegressor",
          "DecisionTreeRegressor",
          "GradientBoostingRegressor",
          "KNeighborsRegressor",
          "LinearRegression",
          "AdaBoostRegressor",
          "DecisionTreeRegressor",
          "GradientBoostingRegressor",
          "KNeighborsRegressor",
          "LinearRegression",
          "AdaBoostRegressor",
          "DecisionTreeRegressor",
          "GradientBoostingRegressor",
          "KNeighborsRegressor",
          "LinearRegression"
         ],
         "ids": [
          "AdaBoostRegressor/3.0/3.0/89/-51/13.29818214271661/297.7608103697654/17.255747169269878/-0.021283020725063384",
          "KNeighborsRegressor/3.0/3.0/89/-51/12.575908941942131/331.29529808346416/18.201519114718533/-0.1363021962444464",
          "GradientBoostingRegressor/3.0/3.0/89/-51/12.120131092594018/290.90188720005244/17.055846129701465/0.0022422436137418122",
          "DecisionTreeRegressor/3.0/3.0/89/-51/15.162366468787791/521.4316990733921/22.834879002819175/-0.7884467068388561",
          "LinearRegression/3.0/3.0/89/-51/23.35164288654165/5079.315461829055/71.2693164119669/-16.42142839962873",
          "GradientBoostingRegressor/3.0/3.0/89/-51/12.120131092594018/290.90188720005244/17.055846129701465",
          "AdaBoostRegressor/3.0/3.0/89/-51/13.29818214271661/297.7608103697654/17.255747169269878",
          "KNeighborsRegressor/3.0/3.0/89/-51/12.575908941942131/331.29529808346416/18.201519114718533",
          "DecisionTreeRegressor/3.0/3.0/89/-51/15.162366468787791/521.4316990733921/22.834879002819175",
          "LinearRegression/3.0/3.0/89/-51/23.35164288654165/5079.315461829055/71.2693164119669",
          "GradientBoostingRegressor/3.0/3.0/89/-51/12.120131092594018/290.90188720005244",
          "AdaBoostRegressor/3.0/3.0/89/-51/13.29818214271661/297.7608103697654",
          "KNeighborsRegressor/3.0/3.0/89/-51/12.575908941942131/331.29529808346416",
          "DecisionTreeRegressor/3.0/3.0/89/-51/15.162366468787791/521.4316990733921",
          "LinearRegression/3.0/3.0/89/-51/23.35164288654165/5079.315461829055",
          "GradientBoostingRegressor/3.0/3.0/89/-51/12.120131092594018",
          "KNeighborsRegressor/3.0/3.0/89/-51/12.575908941942131",
          "AdaBoostRegressor/3.0/3.0/89/-51/13.29818214271661",
          "DecisionTreeRegressor/3.0/3.0/89/-51/15.162366468787791",
          "LinearRegression/3.0/3.0/89/-51/23.35164288654165",
          "AdaBoostRegressor/3.0/3.0/89/-51",
          "DecisionTreeRegressor/3.0/3.0/89/-51",
          "GradientBoostingRegressor/3.0/3.0/89/-51",
          "KNeighborsRegressor/3.0/3.0/89/-51",
          "LinearRegression/3.0/3.0/89/-51",
          "AdaBoostRegressor/3.0/3.0/89",
          "DecisionTreeRegressor/3.0/3.0/89",
          "GradientBoostingRegressor/3.0/3.0/89",
          "KNeighborsRegressor/3.0/3.0/89",
          "LinearRegression/3.0/3.0/89",
          "AdaBoostRegressor/3.0/3.0",
          "DecisionTreeRegressor/3.0/3.0",
          "GradientBoostingRegressor/3.0/3.0",
          "KNeighborsRegressor/3.0/3.0",
          "LinearRegression/3.0/3.0",
          "AdaBoostRegressor/3.0",
          "DecisionTreeRegressor/3.0",
          "GradientBoostingRegressor/3.0",
          "KNeighborsRegressor/3.0",
          "LinearRegression/3.0",
          "AdaBoostRegressor",
          "DecisionTreeRegressor",
          "GradientBoostingRegressor",
          "KNeighborsRegressor",
          "LinearRegression"
         ],
         "labels": [
          "-0.021283020725063384",
          "-0.1363021962444464",
          "0.0022422436137418122",
          "-0.7884467068388561",
          "-16.42142839962873",
          "17.055846129701465",
          "17.255747169269878",
          "18.201519114718533",
          "22.834879002819175",
          "71.2693164119669",
          "290.90188720005244",
          "297.7608103697654",
          "331.29529808346416",
          "521.4316990733921",
          "5079.315461829055",
          "12.120131092594018",
          "12.575908941942131",
          "13.29818214271661",
          "15.162366468787791",
          "23.35164288654165",
          "-51",
          "-51",
          "-51",
          "-51",
          "-51",
          "89",
          "89",
          "89",
          "89",
          "89",
          "3.0",
          "3.0",
          "3.0",
          "3.0",
          "3.0",
          "3.0",
          "3.0",
          "3.0",
          "3.0",
          "3.0",
          "AdaBoostRegressor",
          "DecisionTreeRegressor",
          "GradientBoostingRegressor",
          "KNeighborsRegressor",
          "LinearRegression"
         ],
         "marker": {
          "colors": [
           "#636efa",
           "#EF553B",
           "#00cc96",
           "#ab63fa",
           "#FFA15A",
           "#00cc96",
           "#636efa",
           "#EF553B",
           "#ab63fa",
           "#FFA15A",
           "#00cc96",
           "#636efa",
           "#EF553B",
           "#ab63fa",
           "#FFA15A",
           "#00cc96",
           "#EF553B",
           "#636efa",
           "#ab63fa",
           "#FFA15A",
           "#636efa",
           "#ab63fa",
           "#00cc96",
           "#EF553B",
           "#FFA15A",
           "#636efa",
           "#ab63fa",
           "#00cc96",
           "#EF553B",
           "#FFA15A",
           "#636efa",
           "#ab63fa",
           "#00cc96",
           "#EF553B",
           "#FFA15A",
           "#636efa",
           "#ab63fa",
           "#00cc96",
           "#EF553B",
           "#FFA15A",
           "#636efa",
           "#ab63fa",
           "#00cc96",
           "#EF553B",
           "#FFA15A"
          ]
         },
         "name": "",
         "parents": [
          "AdaBoostRegressor/3.0/3.0/89/-51/13.29818214271661/297.7608103697654/17.255747169269878",
          "KNeighborsRegressor/3.0/3.0/89/-51/12.575908941942131/331.29529808346416/18.201519114718533",
          "GradientBoostingRegressor/3.0/3.0/89/-51/12.120131092594018/290.90188720005244/17.055846129701465",
          "DecisionTreeRegressor/3.0/3.0/89/-51/15.162366468787791/521.4316990733921/22.834879002819175",
          "LinearRegression/3.0/3.0/89/-51/23.35164288654165/5079.315461829055/71.2693164119669",
          "GradientBoostingRegressor/3.0/3.0/89/-51/12.120131092594018/290.90188720005244",
          "AdaBoostRegressor/3.0/3.0/89/-51/13.29818214271661/297.7608103697654",
          "KNeighborsRegressor/3.0/3.0/89/-51/12.575908941942131/331.29529808346416",
          "DecisionTreeRegressor/3.0/3.0/89/-51/15.162366468787791/521.4316990733921",
          "LinearRegression/3.0/3.0/89/-51/23.35164288654165/5079.315461829055",
          "GradientBoostingRegressor/3.0/3.0/89/-51/12.120131092594018",
          "AdaBoostRegressor/3.0/3.0/89/-51/13.29818214271661",
          "KNeighborsRegressor/3.0/3.0/89/-51/12.575908941942131",
          "DecisionTreeRegressor/3.0/3.0/89/-51/15.162366468787791",
          "LinearRegression/3.0/3.0/89/-51/23.35164288654165",
          "GradientBoostingRegressor/3.0/3.0/89/-51",
          "KNeighborsRegressor/3.0/3.0/89/-51",
          "AdaBoostRegressor/3.0/3.0/89/-51",
          "DecisionTreeRegressor/3.0/3.0/89/-51",
          "LinearRegression/3.0/3.0/89/-51",
          "AdaBoostRegressor/3.0/3.0/89",
          "DecisionTreeRegressor/3.0/3.0/89",
          "GradientBoostingRegressor/3.0/3.0/89",
          "KNeighborsRegressor/3.0/3.0/89",
          "LinearRegression/3.0/3.0/89",
          "AdaBoostRegressor/3.0/3.0",
          "DecisionTreeRegressor/3.0/3.0",
          "GradientBoostingRegressor/3.0/3.0",
          "KNeighborsRegressor/3.0/3.0",
          "LinearRegression/3.0/3.0",
          "AdaBoostRegressor/3.0",
          "DecisionTreeRegressor/3.0",
          "GradientBoostingRegressor/3.0",
          "KNeighborsRegressor/3.0",
          "LinearRegression/3.0",
          "AdaBoostRegressor",
          "DecisionTreeRegressor",
          "GradientBoostingRegressor",
          "KNeighborsRegressor",
          "LinearRegression",
          "",
          "",
          "",
          "",
          ""
         ],
         "type": "treemap",
         "values": [
          13.29818214271661,
          12.575908941942131,
          12.120131092594018,
          15.162366468787791,
          23.35164288654165,
          12.120131092594018,
          13.29818214271661,
          12.575908941942131,
          15.162366468787791,
          23.35164288654165,
          12.120131092594018,
          13.29818214271661,
          12.575908941942131,
          15.162366468787791,
          23.35164288654165,
          12.120131092594018,
          12.575908941942131,
          13.29818214271661,
          15.162366468787791,
          23.35164288654165,
          13.29818214271661,
          15.162366468787791,
          12.120131092594018,
          12.575908941942131,
          23.35164288654165,
          13.29818214271661,
          15.162366468787791,
          12.120131092594018,
          12.575908941942131,
          23.35164288654165,
          13.29818214271661,
          15.162366468787791,
          12.120131092594018,
          12.575908941942131,
          23.35164288654165,
          13.29818214271661,
          15.162366468787791,
          12.120131092594018,
          12.575908941942131,
          23.35164288654165,
          13.29818214271661,
          15.162366468787791,
          12.120131092594018,
          12.575908941942131,
          23.35164288654165
         ]
        }
       ],
       "layout": {
        "legend": {
         "tracegroupgap": 0
        },
        "template": {
         "data": {
          "bar": [
           {
            "error_x": {
             "color": "#2a3f5f"
            },
            "error_y": {
             "color": "#2a3f5f"
            },
            "marker": {
             "line": {
              "color": "#E5ECF6",
              "width": 0.5
             },
             "pattern": {
              "fillmode": "overlay",
              "size": 10,
              "solidity": 0.2
             }
            },
            "type": "bar"
           }
          ],
          "barpolar": [
           {
            "marker": {
             "line": {
              "color": "#E5ECF6",
              "width": 0.5
             },
             "pattern": {
              "fillmode": "overlay",
              "size": 10,
              "solidity": 0.2
             }
            },
            "type": "barpolar"
           }
          ],
          "carpet": [
           {
            "aaxis": {
             "endlinecolor": "#2a3f5f",
             "gridcolor": "white",
             "linecolor": "white",
             "minorgridcolor": "white",
             "startlinecolor": "#2a3f5f"
            },
            "baxis": {
             "endlinecolor": "#2a3f5f",
             "gridcolor": "white",
             "linecolor": "white",
             "minorgridcolor": "white",
             "startlinecolor": "#2a3f5f"
            },
            "type": "carpet"
           }
          ],
          "choropleth": [
           {
            "colorbar": {
             "outlinewidth": 0,
             "ticks": ""
            },
            "type": "choropleth"
           }
          ],
          "contour": [
           {
            "colorbar": {
             "outlinewidth": 0,
             "ticks": ""
            },
            "colorscale": [
             [
              0,
              "#0d0887"
             ],
             [
              0.1111111111111111,
              "#46039f"
             ],
             [
              0.2222222222222222,
              "#7201a8"
             ],
             [
              0.3333333333333333,
              "#9c179e"
             ],
             [
              0.4444444444444444,
              "#bd3786"
             ],
             [
              0.5555555555555556,
              "#d8576b"
             ],
             [
              0.6666666666666666,
              "#ed7953"
             ],
             [
              0.7777777777777778,
              "#fb9f3a"
             ],
             [
              0.8888888888888888,
              "#fdca26"
             ],
             [
              1,
              "#f0f921"
             ]
            ],
            "type": "contour"
           }
          ],
          "contourcarpet": [
           {
            "colorbar": {
             "outlinewidth": 0,
             "ticks": ""
            },
            "type": "contourcarpet"
           }
          ],
          "heatmap": [
           {
            "colorbar": {
             "outlinewidth": 0,
             "ticks": ""
            },
            "colorscale": [
             [
              0,
              "#0d0887"
             ],
             [
              0.1111111111111111,
              "#46039f"
             ],
             [
              0.2222222222222222,
              "#7201a8"
             ],
             [
              0.3333333333333333,
              "#9c179e"
             ],
             [
              0.4444444444444444,
              "#bd3786"
             ],
             [
              0.5555555555555556,
              "#d8576b"
             ],
             [
              0.6666666666666666,
              "#ed7953"
             ],
             [
              0.7777777777777778,
              "#fb9f3a"
             ],
             [
              0.8888888888888888,
              "#fdca26"
             ],
             [
              1,
              "#f0f921"
             ]
            ],
            "type": "heatmap"
           }
          ],
          "heatmapgl": [
           {
            "colorbar": {
             "outlinewidth": 0,
             "ticks": ""
            },
            "colorscale": [
             [
              0,
              "#0d0887"
             ],
             [
              0.1111111111111111,
              "#46039f"
             ],
             [
              0.2222222222222222,
              "#7201a8"
             ],
             [
              0.3333333333333333,
              "#9c179e"
             ],
             [
              0.4444444444444444,
              "#bd3786"
             ],
             [
              0.5555555555555556,
              "#d8576b"
             ],
             [
              0.6666666666666666,
              "#ed7953"
             ],
             [
              0.7777777777777778,
              "#fb9f3a"
             ],
             [
              0.8888888888888888,
              "#fdca26"
             ],
             [
              1,
              "#f0f921"
             ]
            ],
            "type": "heatmapgl"
           }
          ],
          "histogram": [
           {
            "marker": {
             "pattern": {
              "fillmode": "overlay",
              "size": 10,
              "solidity": 0.2
             }
            },
            "type": "histogram"
           }
          ],
          "histogram2d": [
           {
            "colorbar": {
             "outlinewidth": 0,
             "ticks": ""
            },
            "colorscale": [
             [
              0,
              "#0d0887"
             ],
             [
              0.1111111111111111,
              "#46039f"
             ],
             [
              0.2222222222222222,
              "#7201a8"
             ],
             [
              0.3333333333333333,
              "#9c179e"
             ],
             [
              0.4444444444444444,
              "#bd3786"
             ],
             [
              0.5555555555555556,
              "#d8576b"
             ],
             [
              0.6666666666666666,
              "#ed7953"
             ],
             [
              0.7777777777777778,
              "#fb9f3a"
             ],
             [
              0.8888888888888888,
              "#fdca26"
             ],
             [
              1,
              "#f0f921"
             ]
            ],
            "type": "histogram2d"
           }
          ],
          "histogram2dcontour": [
           {
            "colorbar": {
             "outlinewidth": 0,
             "ticks": ""
            },
            "colorscale": [
             [
              0,
              "#0d0887"
             ],
             [
              0.1111111111111111,
              "#46039f"
             ],
             [
              0.2222222222222222,
              "#7201a8"
             ],
             [
              0.3333333333333333,
              "#9c179e"
             ],
             [
              0.4444444444444444,
              "#bd3786"
             ],
             [
              0.5555555555555556,
              "#d8576b"
             ],
             [
              0.6666666666666666,
              "#ed7953"
             ],
             [
              0.7777777777777778,
              "#fb9f3a"
             ],
             [
              0.8888888888888888,
              "#fdca26"
             ],
             [
              1,
              "#f0f921"
             ]
            ],
            "type": "histogram2dcontour"
           }
          ],
          "mesh3d": [
           {
            "colorbar": {
             "outlinewidth": 0,
             "ticks": ""
            },
            "type": "mesh3d"
           }
          ],
          "parcoords": [
           {
            "line": {
             "colorbar": {
              "outlinewidth": 0,
              "ticks": ""
             }
            },
            "type": "parcoords"
           }
          ],
          "pie": [
           {
            "automargin": true,
            "type": "pie"
           }
          ],
          "scatter": [
           {
            "fillpattern": {
             "fillmode": "overlay",
             "size": 10,
             "solidity": 0.2
            },
            "type": "scatter"
           }
          ],
          "scatter3d": [
           {
            "line": {
             "colorbar": {
              "outlinewidth": 0,
              "ticks": ""
             }
            },
            "marker": {
             "colorbar": {
              "outlinewidth": 0,
              "ticks": ""
             }
            },
            "type": "scatter3d"
           }
          ],
          "scattercarpet": [
           {
            "marker": {
             "colorbar": {
              "outlinewidth": 0,
              "ticks": ""
             }
            },
            "type": "scattercarpet"
           }
          ],
          "scattergeo": [
           {
            "marker": {
             "colorbar": {
              "outlinewidth": 0,
              "ticks": ""
             }
            },
            "type": "scattergeo"
           }
          ],
          "scattergl": [
           {
            "marker": {
             "colorbar": {
              "outlinewidth": 0,
              "ticks": ""
             }
            },
            "type": "scattergl"
           }
          ],
          "scattermapbox": [
           {
            "marker": {
             "colorbar": {
              "outlinewidth": 0,
              "ticks": ""
             }
            },
            "type": "scattermapbox"
           }
          ],
          "scatterpolar": [
           {
            "marker": {
             "colorbar": {
              "outlinewidth": 0,
              "ticks": ""
             }
            },
            "type": "scatterpolar"
           }
          ],
          "scatterpolargl": [
           {
            "marker": {
             "colorbar": {
              "outlinewidth": 0,
              "ticks": ""
             }
            },
            "type": "scatterpolargl"
           }
          ],
          "scatterternary": [
           {
            "marker": {
             "colorbar": {
              "outlinewidth": 0,
              "ticks": ""
             }
            },
            "type": "scatterternary"
           }
          ],
          "surface": [
           {
            "colorbar": {
             "outlinewidth": 0,
             "ticks": ""
            },
            "colorscale": [
             [
              0,
              "#0d0887"
             ],
             [
              0.1111111111111111,
              "#46039f"
             ],
             [
              0.2222222222222222,
              "#7201a8"
             ],
             [
              0.3333333333333333,
              "#9c179e"
             ],
             [
              0.4444444444444444,
              "#bd3786"
             ],
             [
              0.5555555555555556,
              "#d8576b"
             ],
             [
              0.6666666666666666,
              "#ed7953"
             ],
             [
              0.7777777777777778,
              "#fb9f3a"
             ],
             [
              0.8888888888888888,
              "#fdca26"
             ],
             [
              1,
              "#f0f921"
             ]
            ],
            "type": "surface"
           }
          ],
          "table": [
           {
            "cells": {
             "fill": {
              "color": "#EBF0F8"
             },
             "line": {
              "color": "white"
             }
            },
            "header": {
             "fill": {
              "color": "#C8D4E3"
             },
             "line": {
              "color": "white"
             }
            },
            "type": "table"
           }
          ]
         },
         "layout": {
          "annotationdefaults": {
           "arrowcolor": "#2a3f5f",
           "arrowhead": 0,
           "arrowwidth": 1
          },
          "autotypenumbers": "strict",
          "coloraxis": {
           "colorbar": {
            "outlinewidth": 0,
            "ticks": ""
           }
          },
          "colorscale": {
           "diverging": [
            [
             0,
             "#8e0152"
            ],
            [
             0.1,
             "#c51b7d"
            ],
            [
             0.2,
             "#de77ae"
            ],
            [
             0.3,
             "#f1b6da"
            ],
            [
             0.4,
             "#fde0ef"
            ],
            [
             0.5,
             "#f7f7f7"
            ],
            [
             0.6,
             "#e6f5d0"
            ],
            [
             0.7,
             "#b8e186"
            ],
            [
             0.8,
             "#7fbc41"
            ],
            [
             0.9,
             "#4d9221"
            ],
            [
             1,
             "#276419"
            ]
           ],
           "sequential": [
            [
             0,
             "#0d0887"
            ],
            [
             0.1111111111111111,
             "#46039f"
            ],
            [
             0.2222222222222222,
             "#7201a8"
            ],
            [
             0.3333333333333333,
             "#9c179e"
            ],
            [
             0.4444444444444444,
             "#bd3786"
            ],
            [
             0.5555555555555556,
             "#d8576b"
            ],
            [
             0.6666666666666666,
             "#ed7953"
            ],
            [
             0.7777777777777778,
             "#fb9f3a"
            ],
            [
             0.8888888888888888,
             "#fdca26"
            ],
            [
             1,
             "#f0f921"
            ]
           ],
           "sequentialminus": [
            [
             0,
             "#0d0887"
            ],
            [
             0.1111111111111111,
             "#46039f"
            ],
            [
             0.2222222222222222,
             "#7201a8"
            ],
            [
             0.3333333333333333,
             "#9c179e"
            ],
            [
             0.4444444444444444,
             "#bd3786"
            ],
            [
             0.5555555555555556,
             "#d8576b"
            ],
            [
             0.6666666666666666,
             "#ed7953"
            ],
            [
             0.7777777777777778,
             "#fb9f3a"
            ],
            [
             0.8888888888888888,
             "#fdca26"
            ],
            [
             1,
             "#f0f921"
            ]
           ]
          },
          "colorway": [
           "#636efa",
           "#EF553B",
           "#00cc96",
           "#ab63fa",
           "#FFA15A",
           "#19d3f3",
           "#FF6692",
           "#B6E880",
           "#FF97FF",
           "#FECB52"
          ],
          "font": {
           "color": "#2a3f5f"
          },
          "geo": {
           "bgcolor": "white",
           "lakecolor": "white",
           "landcolor": "#E5ECF6",
           "showlakes": true,
           "showland": true,
           "subunitcolor": "white"
          },
          "hoverlabel": {
           "align": "left"
          },
          "hovermode": "closest",
          "mapbox": {
           "style": "light"
          },
          "paper_bgcolor": "white",
          "plot_bgcolor": "#E5ECF6",
          "polar": {
           "angularaxis": {
            "gridcolor": "white",
            "linecolor": "white",
            "ticks": ""
           },
           "bgcolor": "#E5ECF6",
           "radialaxis": {
            "gridcolor": "white",
            "linecolor": "white",
            "ticks": ""
           }
          },
          "scene": {
           "xaxis": {
            "backgroundcolor": "#E5ECF6",
            "gridcolor": "white",
            "gridwidth": 2,
            "linecolor": "white",
            "showbackground": true,
            "ticks": "",
            "zerolinecolor": "white"
           },
           "yaxis": {
            "backgroundcolor": "#E5ECF6",
            "gridcolor": "white",
            "gridwidth": 2,
            "linecolor": "white",
            "showbackground": true,
            "ticks": "",
            "zerolinecolor": "white"
           },
           "zaxis": {
            "backgroundcolor": "#E5ECF6",
            "gridcolor": "white",
            "gridwidth": 2,
            "linecolor": "white",
            "showbackground": true,
            "ticks": "",
            "zerolinecolor": "white"
           }
          },
          "shapedefaults": {
           "line": {
            "color": "#2a3f5f"
           }
          },
          "ternary": {
           "aaxis": {
            "gridcolor": "white",
            "linecolor": "white",
            "ticks": ""
           },
           "baxis": {
            "gridcolor": "white",
            "linecolor": "white",
            "ticks": ""
           },
           "bgcolor": "#E5ECF6",
           "caxis": {
            "gridcolor": "white",
            "linecolor": "white",
            "ticks": ""
           }
          },
          "title": {
           "x": 0.05
          },
          "xaxis": {
           "automargin": true,
           "gridcolor": "white",
           "linecolor": "white",
           "ticks": "",
           "title": {
            "standoff": 15
           },
           "zerolinecolor": "white",
           "zerolinewidth": 2
          },
          "yaxis": {
           "automargin": true,
           "gridcolor": "white",
           "linecolor": "white",
           "ticks": "",
           "title": {
            "standoff": 15
           },
           "zerolinecolor": "white",
           "zerolinewidth": 2
          }
         }
        },
        "title": {
         "text": "Metricas 3.0"
        }
       }
      }
     },
     "metadata": {},
     "output_type": "display_data"
    }
   ],
   "source": [
    "px.treemap(data_frame = df_metricas_3,\n",
    "           values     = \"MAE\",\n",
    "           path       = [\"Modelo\",\"karma_Q3\",\"karma_Q1\",\"Bigote superior\",\"Bigote inferior\",\"MAE\",\"MSE\",\"RMSE\",\"R2\"],\n",
    "           hover_name = \"Modelo\",\n",
    "           color      = \"Modelo\",\n",
    "           title      = \"Metricas 3.0\")"
   ]
  },
  {
   "cell_type": "code",
   "execution_count": 35,
   "metadata": {},
   "outputs": [
    {
     "data": {
      "application/vnd.plotly.v1+json": {
       "config": {
        "plotlyServerURL": "https://plot.ly"
       },
       "data": [
        {
         "alignmentgroup": "True",
         "customdata": [
          [
           3,
           3,
           89,
           -51,
           5079.315461829055,
           71.2693164119669,
           -16.42142839962873
          ]
         ],
         "hovertemplate": "Modelo=%{y}<br>MAE=%{x}<br>karma_Q3=%{customdata[0]}<br>karma_Q1=%{customdata[1]}<br>Bigote superior=%{customdata[2]}<br>Bigote inferior=%{customdata[3]}<br>MSE=%{customdata[4]}<br>RMSE=%{customdata[5]}<br>R2=%{customdata[6]}<extra></extra>",
         "legendgroup": "LinearRegression",
         "marker": {
          "color": "#636efa",
          "pattern": {
           "shape": ""
          }
         },
         "name": "LinearRegression",
         "offsetgroup": "LinearRegression",
         "orientation": "h",
         "showlegend": true,
         "textposition": "auto",
         "type": "bar",
         "x": [
          23.35164288654165
         ],
         "xaxis": "x",
         "y": [
          "LinearRegression"
         ],
         "yaxis": "y"
        },
        {
         "alignmentgroup": "True",
         "customdata": [
          [
           3,
           3,
           89,
           -51,
           331.29529808346416,
           18.201519114718533,
           -0.1363021962444464
          ]
         ],
         "hovertemplate": "Modelo=%{y}<br>MAE=%{x}<br>karma_Q3=%{customdata[0]}<br>karma_Q1=%{customdata[1]}<br>Bigote superior=%{customdata[2]}<br>Bigote inferior=%{customdata[3]}<br>MSE=%{customdata[4]}<br>RMSE=%{customdata[5]}<br>R2=%{customdata[6]}<extra></extra>",
         "legendgroup": "KNeighborsRegressor",
         "marker": {
          "color": "#EF553B",
          "pattern": {
           "shape": ""
          }
         },
         "name": "KNeighborsRegressor",
         "offsetgroup": "KNeighborsRegressor",
         "orientation": "h",
         "showlegend": true,
         "textposition": "auto",
         "type": "bar",
         "x": [
          12.575908941942131
         ],
         "xaxis": "x",
         "y": [
          "KNeighborsRegressor"
         ],
         "yaxis": "y"
        },
        {
         "alignmentgroup": "True",
         "customdata": [
          [
           3,
           3,
           89,
           -51,
           521.4316990733921,
           22.834879002819175,
           -0.7884467068388561
          ]
         ],
         "hovertemplate": "Modelo=%{y}<br>MAE=%{x}<br>karma_Q3=%{customdata[0]}<br>karma_Q1=%{customdata[1]}<br>Bigote superior=%{customdata[2]}<br>Bigote inferior=%{customdata[3]}<br>MSE=%{customdata[4]}<br>RMSE=%{customdata[5]}<br>R2=%{customdata[6]}<extra></extra>",
         "legendgroup": "DecisionTreeRegressor",
         "marker": {
          "color": "#00cc96",
          "pattern": {
           "shape": ""
          }
         },
         "name": "DecisionTreeRegressor",
         "offsetgroup": "DecisionTreeRegressor",
         "orientation": "h",
         "showlegend": true,
         "textposition": "auto",
         "type": "bar",
         "x": [
          15.162366468787791
         ],
         "xaxis": "x",
         "y": [
          "DecisionTreeRegressor"
         ],
         "yaxis": "y"
        },
        {
         "alignmentgroup": "True",
         "customdata": [
          [
           3,
           3,
           89,
           -51,
           297.7608103697654,
           17.255747169269878,
           -0.021283020725063384
          ]
         ],
         "hovertemplate": "Modelo=%{y}<br>MAE=%{x}<br>karma_Q3=%{customdata[0]}<br>karma_Q1=%{customdata[1]}<br>Bigote superior=%{customdata[2]}<br>Bigote inferior=%{customdata[3]}<br>MSE=%{customdata[4]}<br>RMSE=%{customdata[5]}<br>R2=%{customdata[6]}<extra></extra>",
         "legendgroup": "AdaBoostRegressor",
         "marker": {
          "color": "#ab63fa",
          "pattern": {
           "shape": ""
          }
         },
         "name": "AdaBoostRegressor",
         "offsetgroup": "AdaBoostRegressor",
         "orientation": "h",
         "showlegend": true,
         "textposition": "auto",
         "type": "bar",
         "x": [
          13.29818214271661
         ],
         "xaxis": "x",
         "y": [
          "AdaBoostRegressor"
         ],
         "yaxis": "y"
        },
        {
         "alignmentgroup": "True",
         "customdata": [
          [
           3,
           3,
           89,
           -51,
           290.90188720005244,
           17.055846129701465,
           0.0022422436137418122
          ]
         ],
         "hovertemplate": "Modelo=%{y}<br>MAE=%{x}<br>karma_Q3=%{customdata[0]}<br>karma_Q1=%{customdata[1]}<br>Bigote superior=%{customdata[2]}<br>Bigote inferior=%{customdata[3]}<br>MSE=%{customdata[4]}<br>RMSE=%{customdata[5]}<br>R2=%{customdata[6]}<extra></extra>",
         "legendgroup": "GradientBoostingRegressor",
         "marker": {
          "color": "#FFA15A",
          "pattern": {
           "shape": ""
          }
         },
         "name": "GradientBoostingRegressor",
         "offsetgroup": "GradientBoostingRegressor",
         "orientation": "h",
         "showlegend": true,
         "textposition": "auto",
         "type": "bar",
         "x": [
          12.120131092594018
         ],
         "xaxis": "x",
         "y": [
          "GradientBoostingRegressor"
         ],
         "yaxis": "y"
        }
       ],
       "layout": {
        "barmode": "relative",
        "legend": {
         "title": {
          "text": "Modelo"
         },
         "tracegroupgap": 0
        },
        "template": {
         "data": {
          "bar": [
           {
            "error_x": {
             "color": "#2a3f5f"
            },
            "error_y": {
             "color": "#2a3f5f"
            },
            "marker": {
             "line": {
              "color": "#E5ECF6",
              "width": 0.5
             },
             "pattern": {
              "fillmode": "overlay",
              "size": 10,
              "solidity": 0.2
             }
            },
            "type": "bar"
           }
          ],
          "barpolar": [
           {
            "marker": {
             "line": {
              "color": "#E5ECF6",
              "width": 0.5
             },
             "pattern": {
              "fillmode": "overlay",
              "size": 10,
              "solidity": 0.2
             }
            },
            "type": "barpolar"
           }
          ],
          "carpet": [
           {
            "aaxis": {
             "endlinecolor": "#2a3f5f",
             "gridcolor": "white",
             "linecolor": "white",
             "minorgridcolor": "white",
             "startlinecolor": "#2a3f5f"
            },
            "baxis": {
             "endlinecolor": "#2a3f5f",
             "gridcolor": "white",
             "linecolor": "white",
             "minorgridcolor": "white",
             "startlinecolor": "#2a3f5f"
            },
            "type": "carpet"
           }
          ],
          "choropleth": [
           {
            "colorbar": {
             "outlinewidth": 0,
             "ticks": ""
            },
            "type": "choropleth"
           }
          ],
          "contour": [
           {
            "colorbar": {
             "outlinewidth": 0,
             "ticks": ""
            },
            "colorscale": [
             [
              0,
              "#0d0887"
             ],
             [
              0.1111111111111111,
              "#46039f"
             ],
             [
              0.2222222222222222,
              "#7201a8"
             ],
             [
              0.3333333333333333,
              "#9c179e"
             ],
             [
              0.4444444444444444,
              "#bd3786"
             ],
             [
              0.5555555555555556,
              "#d8576b"
             ],
             [
              0.6666666666666666,
              "#ed7953"
             ],
             [
              0.7777777777777778,
              "#fb9f3a"
             ],
             [
              0.8888888888888888,
              "#fdca26"
             ],
             [
              1,
              "#f0f921"
             ]
            ],
            "type": "contour"
           }
          ],
          "contourcarpet": [
           {
            "colorbar": {
             "outlinewidth": 0,
             "ticks": ""
            },
            "type": "contourcarpet"
           }
          ],
          "heatmap": [
           {
            "colorbar": {
             "outlinewidth": 0,
             "ticks": ""
            },
            "colorscale": [
             [
              0,
              "#0d0887"
             ],
             [
              0.1111111111111111,
              "#46039f"
             ],
             [
              0.2222222222222222,
              "#7201a8"
             ],
             [
              0.3333333333333333,
              "#9c179e"
             ],
             [
              0.4444444444444444,
              "#bd3786"
             ],
             [
              0.5555555555555556,
              "#d8576b"
             ],
             [
              0.6666666666666666,
              "#ed7953"
             ],
             [
              0.7777777777777778,
              "#fb9f3a"
             ],
             [
              0.8888888888888888,
              "#fdca26"
             ],
             [
              1,
              "#f0f921"
             ]
            ],
            "type": "heatmap"
           }
          ],
          "heatmapgl": [
           {
            "colorbar": {
             "outlinewidth": 0,
             "ticks": ""
            },
            "colorscale": [
             [
              0,
              "#0d0887"
             ],
             [
              0.1111111111111111,
              "#46039f"
             ],
             [
              0.2222222222222222,
              "#7201a8"
             ],
             [
              0.3333333333333333,
              "#9c179e"
             ],
             [
              0.4444444444444444,
              "#bd3786"
             ],
             [
              0.5555555555555556,
              "#d8576b"
             ],
             [
              0.6666666666666666,
              "#ed7953"
             ],
             [
              0.7777777777777778,
              "#fb9f3a"
             ],
             [
              0.8888888888888888,
              "#fdca26"
             ],
             [
              1,
              "#f0f921"
             ]
            ],
            "type": "heatmapgl"
           }
          ],
          "histogram": [
           {
            "marker": {
             "pattern": {
              "fillmode": "overlay",
              "size": 10,
              "solidity": 0.2
             }
            },
            "type": "histogram"
           }
          ],
          "histogram2d": [
           {
            "colorbar": {
             "outlinewidth": 0,
             "ticks": ""
            },
            "colorscale": [
             [
              0,
              "#0d0887"
             ],
             [
              0.1111111111111111,
              "#46039f"
             ],
             [
              0.2222222222222222,
              "#7201a8"
             ],
             [
              0.3333333333333333,
              "#9c179e"
             ],
             [
              0.4444444444444444,
              "#bd3786"
             ],
             [
              0.5555555555555556,
              "#d8576b"
             ],
             [
              0.6666666666666666,
              "#ed7953"
             ],
             [
              0.7777777777777778,
              "#fb9f3a"
             ],
             [
              0.8888888888888888,
              "#fdca26"
             ],
             [
              1,
              "#f0f921"
             ]
            ],
            "type": "histogram2d"
           }
          ],
          "histogram2dcontour": [
           {
            "colorbar": {
             "outlinewidth": 0,
             "ticks": ""
            },
            "colorscale": [
             [
              0,
              "#0d0887"
             ],
             [
              0.1111111111111111,
              "#46039f"
             ],
             [
              0.2222222222222222,
              "#7201a8"
             ],
             [
              0.3333333333333333,
              "#9c179e"
             ],
             [
              0.4444444444444444,
              "#bd3786"
             ],
             [
              0.5555555555555556,
              "#d8576b"
             ],
             [
              0.6666666666666666,
              "#ed7953"
             ],
             [
              0.7777777777777778,
              "#fb9f3a"
             ],
             [
              0.8888888888888888,
              "#fdca26"
             ],
             [
              1,
              "#f0f921"
             ]
            ],
            "type": "histogram2dcontour"
           }
          ],
          "mesh3d": [
           {
            "colorbar": {
             "outlinewidth": 0,
             "ticks": ""
            },
            "type": "mesh3d"
           }
          ],
          "parcoords": [
           {
            "line": {
             "colorbar": {
              "outlinewidth": 0,
              "ticks": ""
             }
            },
            "type": "parcoords"
           }
          ],
          "pie": [
           {
            "automargin": true,
            "type": "pie"
           }
          ],
          "scatter": [
           {
            "fillpattern": {
             "fillmode": "overlay",
             "size": 10,
             "solidity": 0.2
            },
            "type": "scatter"
           }
          ],
          "scatter3d": [
           {
            "line": {
             "colorbar": {
              "outlinewidth": 0,
              "ticks": ""
             }
            },
            "marker": {
             "colorbar": {
              "outlinewidth": 0,
              "ticks": ""
             }
            },
            "type": "scatter3d"
           }
          ],
          "scattercarpet": [
           {
            "marker": {
             "colorbar": {
              "outlinewidth": 0,
              "ticks": ""
             }
            },
            "type": "scattercarpet"
           }
          ],
          "scattergeo": [
           {
            "marker": {
             "colorbar": {
              "outlinewidth": 0,
              "ticks": ""
             }
            },
            "type": "scattergeo"
           }
          ],
          "scattergl": [
           {
            "marker": {
             "colorbar": {
              "outlinewidth": 0,
              "ticks": ""
             }
            },
            "type": "scattergl"
           }
          ],
          "scattermapbox": [
           {
            "marker": {
             "colorbar": {
              "outlinewidth": 0,
              "ticks": ""
             }
            },
            "type": "scattermapbox"
           }
          ],
          "scatterpolar": [
           {
            "marker": {
             "colorbar": {
              "outlinewidth": 0,
              "ticks": ""
             }
            },
            "type": "scatterpolar"
           }
          ],
          "scatterpolargl": [
           {
            "marker": {
             "colorbar": {
              "outlinewidth": 0,
              "ticks": ""
             }
            },
            "type": "scatterpolargl"
           }
          ],
          "scatterternary": [
           {
            "marker": {
             "colorbar": {
              "outlinewidth": 0,
              "ticks": ""
             }
            },
            "type": "scatterternary"
           }
          ],
          "surface": [
           {
            "colorbar": {
             "outlinewidth": 0,
             "ticks": ""
            },
            "colorscale": [
             [
              0,
              "#0d0887"
             ],
             [
              0.1111111111111111,
              "#46039f"
             ],
             [
              0.2222222222222222,
              "#7201a8"
             ],
             [
              0.3333333333333333,
              "#9c179e"
             ],
             [
              0.4444444444444444,
              "#bd3786"
             ],
             [
              0.5555555555555556,
              "#d8576b"
             ],
             [
              0.6666666666666666,
              "#ed7953"
             ],
             [
              0.7777777777777778,
              "#fb9f3a"
             ],
             [
              0.8888888888888888,
              "#fdca26"
             ],
             [
              1,
              "#f0f921"
             ]
            ],
            "type": "surface"
           }
          ],
          "table": [
           {
            "cells": {
             "fill": {
              "color": "#EBF0F8"
             },
             "line": {
              "color": "white"
             }
            },
            "header": {
             "fill": {
              "color": "#C8D4E3"
             },
             "line": {
              "color": "white"
             }
            },
            "type": "table"
           }
          ]
         },
         "layout": {
          "annotationdefaults": {
           "arrowcolor": "#2a3f5f",
           "arrowhead": 0,
           "arrowwidth": 1
          },
          "autotypenumbers": "strict",
          "coloraxis": {
           "colorbar": {
            "outlinewidth": 0,
            "ticks": ""
           }
          },
          "colorscale": {
           "diverging": [
            [
             0,
             "#8e0152"
            ],
            [
             0.1,
             "#c51b7d"
            ],
            [
             0.2,
             "#de77ae"
            ],
            [
             0.3,
             "#f1b6da"
            ],
            [
             0.4,
             "#fde0ef"
            ],
            [
             0.5,
             "#f7f7f7"
            ],
            [
             0.6,
             "#e6f5d0"
            ],
            [
             0.7,
             "#b8e186"
            ],
            [
             0.8,
             "#7fbc41"
            ],
            [
             0.9,
             "#4d9221"
            ],
            [
             1,
             "#276419"
            ]
           ],
           "sequential": [
            [
             0,
             "#0d0887"
            ],
            [
             0.1111111111111111,
             "#46039f"
            ],
            [
             0.2222222222222222,
             "#7201a8"
            ],
            [
             0.3333333333333333,
             "#9c179e"
            ],
            [
             0.4444444444444444,
             "#bd3786"
            ],
            [
             0.5555555555555556,
             "#d8576b"
            ],
            [
             0.6666666666666666,
             "#ed7953"
            ],
            [
             0.7777777777777778,
             "#fb9f3a"
            ],
            [
             0.8888888888888888,
             "#fdca26"
            ],
            [
             1,
             "#f0f921"
            ]
           ],
           "sequentialminus": [
            [
             0,
             "#0d0887"
            ],
            [
             0.1111111111111111,
             "#46039f"
            ],
            [
             0.2222222222222222,
             "#7201a8"
            ],
            [
             0.3333333333333333,
             "#9c179e"
            ],
            [
             0.4444444444444444,
             "#bd3786"
            ],
            [
             0.5555555555555556,
             "#d8576b"
            ],
            [
             0.6666666666666666,
             "#ed7953"
            ],
            [
             0.7777777777777778,
             "#fb9f3a"
            ],
            [
             0.8888888888888888,
             "#fdca26"
            ],
            [
             1,
             "#f0f921"
            ]
           ]
          },
          "colorway": [
           "#636efa",
           "#EF553B",
           "#00cc96",
           "#ab63fa",
           "#FFA15A",
           "#19d3f3",
           "#FF6692",
           "#B6E880",
           "#FF97FF",
           "#FECB52"
          ],
          "font": {
           "color": "#2a3f5f"
          },
          "geo": {
           "bgcolor": "white",
           "lakecolor": "white",
           "landcolor": "#E5ECF6",
           "showlakes": true,
           "showland": true,
           "subunitcolor": "white"
          },
          "hoverlabel": {
           "align": "left"
          },
          "hovermode": "closest",
          "mapbox": {
           "style": "light"
          },
          "paper_bgcolor": "white",
          "plot_bgcolor": "#E5ECF6",
          "polar": {
           "angularaxis": {
            "gridcolor": "white",
            "linecolor": "white",
            "ticks": ""
           },
           "bgcolor": "#E5ECF6",
           "radialaxis": {
            "gridcolor": "white",
            "linecolor": "white",
            "ticks": ""
           }
          },
          "scene": {
           "xaxis": {
            "backgroundcolor": "#E5ECF6",
            "gridcolor": "white",
            "gridwidth": 2,
            "linecolor": "white",
            "showbackground": true,
            "ticks": "",
            "zerolinecolor": "white"
           },
           "yaxis": {
            "backgroundcolor": "#E5ECF6",
            "gridcolor": "white",
            "gridwidth": 2,
            "linecolor": "white",
            "showbackground": true,
            "ticks": "",
            "zerolinecolor": "white"
           },
           "zaxis": {
            "backgroundcolor": "#E5ECF6",
            "gridcolor": "white",
            "gridwidth": 2,
            "linecolor": "white",
            "showbackground": true,
            "ticks": "",
            "zerolinecolor": "white"
           }
          },
          "shapedefaults": {
           "line": {
            "color": "#2a3f5f"
           }
          },
          "ternary": {
           "aaxis": {
            "gridcolor": "white",
            "linecolor": "white",
            "ticks": ""
           },
           "baxis": {
            "gridcolor": "white",
            "linecolor": "white",
            "ticks": ""
           },
           "bgcolor": "#E5ECF6",
           "caxis": {
            "gridcolor": "white",
            "linecolor": "white",
            "ticks": ""
           }
          },
          "title": {
           "x": 0.05
          },
          "xaxis": {
           "automargin": true,
           "gridcolor": "white",
           "linecolor": "white",
           "ticks": "",
           "title": {
            "standoff": 15
           },
           "zerolinecolor": "white",
           "zerolinewidth": 2
          },
          "yaxis": {
           "automargin": true,
           "gridcolor": "white",
           "linecolor": "white",
           "ticks": "",
           "title": {
            "standoff": 15
           },
           "zerolinecolor": "white",
           "zerolinewidth": 2
          }
         }
        },
        "title": {
         "text": "Metricas 3.0"
        },
        "xaxis": {
         "anchor": "y",
         "domain": [
          0,
          1
         ],
         "title": {
          "text": "MAE"
         }
        },
        "yaxis": {
         "anchor": "x",
         "categoryarray": [
          "GradientBoostingRegressor",
          "AdaBoostRegressor",
          "DecisionTreeRegressor",
          "KNeighborsRegressor",
          "LinearRegression"
         ],
         "categoryorder": "array",
         "domain": [
          0,
          1
         ],
         "title": {
          "text": "Modelo"
         }
        }
       }
      }
     },
     "metadata": {},
     "output_type": "display_data"
    }
   ],
   "source": [
    "px.bar(data_frame = df_metricas_3,\n",
    "       x          = \"MAE\",\n",
    "       y          = \"Modelo\",\n",
    "       hover_data = [\"karma_Q3\",\"karma_Q1\",\"Bigote superior\",\"Bigote inferior\",\"MAE\",\"MSE\",\"RMSE\",\"R2\"],\n",
    "       color      = \"Modelo\",\n",
    "       title      = \"Metricas 3.0\"\n",
    "      )"
   ]
  }
 ],
 "metadata": {
  "kernelspec": {
   "display_name": "Python 3",
   "language": "python",
   "name": "python3"
  },
  "language_info": {
   "codemirror_mode": {
    "name": "ipython",
    "version": 3
   },
   "file_extension": ".py",
   "mimetype": "text/x-python",
   "name": "python",
   "nbconvert_exporter": "python",
   "pygments_lexer": "ipython3",
   "version": "3.12.2"
  }
 },
 "nbformat": 4,
 "nbformat_minor": 2
}
