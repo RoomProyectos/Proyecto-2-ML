{
 "cells": [
  {
   "cell_type": "code",
   "execution_count": 30,
   "metadata": {},
   "outputs": [],
   "source": [
    "import pandas as pd\n",
    "import re\n",
    "\n",
    "# NLP\n",
    "import nltk\n",
    "from sklearn.feature_extraction.text import CountVectorizer, TfidfTransformer\n",
    "\n",
    "# Train, Test\n",
    "from sklearn.model_selection import train_test_split\n",
    "\n",
    "# Regresores\n",
    "from sklearn.linear_model import LinearRegression\n",
    "from sklearn.neighbors import KNeighborsRegressor\n",
    "from sklearn.neighbors import RadiusNeighborsRegressor\n",
    "from sklearn.tree import DecisionTreeRegressor\n",
    "from sklearn.ensemble import RandomForestRegressor\n",
    "from sklearn.svm import SVR\n",
    "from sklearn.ensemble import AdaBoostRegressor\n",
    "from sklearn.ensemble import GradientBoostingRegressor\n",
    "\n",
    "# Metricas para regresiones\n",
    "from sklearn.metrics import mean_absolute_error\n",
    "from sklearn.metrics import mean_squared_error\n",
    "from sklearn.metrics import r2_score"
   ]
  },
  {
   "cell_type": "code",
   "execution_count": 2,
   "metadata": {},
   "outputs": [],
   "source": [
    "df_completo = pd.read_csv(\"Data/100178_Comentarios.csv\", sep=\";\")"
   ]
  },
  {
   "cell_type": "code",
   "execution_count": 20,
   "metadata": {},
   "outputs": [
    {
     "data": {
      "text/html": [
       "<div>\n",
       "<style scoped>\n",
       "    .dataframe tbody tr th:only-of-type {\n",
       "        vertical-align: middle;\n",
       "    }\n",
       "\n",
       "    .dataframe tbody tr th {\n",
       "        vertical-align: top;\n",
       "    }\n",
       "\n",
       "    .dataframe thead th {\n",
       "        text-align: right;\n",
       "    }\n",
       "</style>\n",
       "<table border=\"1\" class=\"dataframe\">\n",
       "  <thead>\n",
       "    <tr style=\"text-align: right;\">\n",
       "      <th></th>\n",
       "      <th>texto</th>\n",
       "      <th>karma</th>\n",
       "    </tr>\n",
       "  </thead>\n",
       "  <tbody>\n",
       "    <tr>\n",
       "      <th>0</th>\n",
       "      <td>O que les den de hostias hasta hartarse, son t...</td>\n",
       "      <td>77</td>\n",
       "    </tr>\n",
       "    <tr>\n",
       "      <th>1</th>\n",
       "      <td>#1 Sea cual sea la opción, seguro que preferir...</td>\n",
       "      <td>35</td>\n",
       "    </tr>\n",
       "    <tr>\n",
       "      <th>2</th>\n",
       "      <td>Un saludo Mysto, ¡hermoso!</td>\n",
       "      <td>51</td>\n",
       "    </tr>\n",
       "    <tr>\n",
       "      <th>3</th>\n",
       "      <td>Es tal es desproposito y la barbarie que no ca...</td>\n",
       "      <td>52</td>\n",
       "    </tr>\n",
       "    <tr>\n",
       "      <th>4</th>\n",
       "      <td>#1 Es el problema, uno no quiere rebajarse. Pe...</td>\n",
       "      <td>33</td>\n",
       "    </tr>\n",
       "  </tbody>\n",
       "</table>\n",
       "</div>"
      ],
      "text/plain": [
       "                                               texto  karma\n",
       "0  O que les den de hostias hasta hartarse, son t...     77\n",
       "1  #1 Sea cual sea la opción, seguro que preferir...     35\n",
       "2                         Un saludo Mysto, ¡hermoso!     51\n",
       "3  Es tal es desproposito y la barbarie que no ca...     52\n",
       "4  #1 Es el problema, uno no quiere rebajarse. Pe...     33"
      ]
     },
     "execution_count": 20,
     "metadata": {},
     "output_type": "execute_result"
    }
   ],
   "source": [
    "df = df_completo[[\"texto\", \"karma\"]]\n",
    "df = df.dropna()\n",
    "df.reset_index(inplace=True, drop=True)\n",
    "df[\"karma\"] = df[\"karma\"].astype(\"int32\")\n",
    "df.head()"
   ]
  },
  {
   "cell_type": "code",
   "execution_count": 21,
   "metadata": {},
   "outputs": [],
   "source": [
    "stopwords = nltk.corpus.stopwords.words(\"spanish\")\n",
    "\n",
    "def limpieza_comentarios(comentario):\n",
    "    comentario = re.sub(r'[^a-zA-Z0-9\\sáéíóúñçÁÉÍÓÚäëïöüàèìòù]', ' ', comentario)\n",
    "    comentario = re.sub(r'\\d+', '', comentario)    \n",
    "    tokens_limpios = [palabra for palabra in comentario.split(\" \") if palabra.lower() not in stopwords and len(palabra) > 2]\n",
    "    return ' '.join(tokens_limpios)"
   ]
  },
  {
   "cell_type": "code",
   "execution_count": 22,
   "metadata": {},
   "outputs": [
    {
     "data": {
      "text/html": [
       "<div>\n",
       "<style scoped>\n",
       "    .dataframe tbody tr th:only-of-type {\n",
       "        vertical-align: middle;\n",
       "    }\n",
       "\n",
       "    .dataframe tbody tr th {\n",
       "        vertical-align: top;\n",
       "    }\n",
       "\n",
       "    .dataframe thead th {\n",
       "        text-align: right;\n",
       "    }\n",
       "</style>\n",
       "<table border=\"1\" class=\"dataframe\">\n",
       "  <thead>\n",
       "    <tr style=\"text-align: right;\">\n",
       "      <th></th>\n",
       "      <th>texto</th>\n",
       "      <th>karma</th>\n",
       "    </tr>\n",
       "  </thead>\n",
       "  <tbody>\n",
       "    <tr>\n",
       "      <th>0</th>\n",
       "      <td>den hostias hartarse tan despreciables consegu...</td>\n",
       "      <td>77</td>\n",
       "    </tr>\n",
       "    <tr>\n",
       "      <th>1</th>\n",
       "      <td>opción seguro preferirán muertos cerdo llega s...</td>\n",
       "      <td>35</td>\n",
       "    </tr>\n",
       "    <tr>\n",
       "      <th>2</th>\n",
       "      <td>saludo Mysto hermoso</td>\n",
       "      <td>51</td>\n",
       "    </tr>\n",
       "    <tr>\n",
       "      <th>3</th>\n",
       "      <td>tal desproposito barbarie cabe cosa disolucion...</td>\n",
       "      <td>52</td>\n",
       "    </tr>\n",
       "    <tr>\n",
       "      <th>4</th>\n",
       "      <td>problema quiere rebajarse llega punto piensas ...</td>\n",
       "      <td>33</td>\n",
       "    </tr>\n",
       "  </tbody>\n",
       "</table>\n",
       "</div>"
      ],
      "text/plain": [
       "                                               texto  karma\n",
       "0  den hostias hartarse tan despreciables consegu...     77\n",
       "1  opción seguro preferirán muertos cerdo llega s...     35\n",
       "2                               saludo Mysto hermoso     51\n",
       "3  tal desproposito barbarie cabe cosa disolucion...     52\n",
       "4  problema quiere rebajarse llega punto piensas ...     33"
      ]
     },
     "execution_count": 22,
     "metadata": {},
     "output_type": "execute_result"
    }
   ],
   "source": [
    "df[\"texto\"] = df[\"texto\"].apply(limpieza_comentarios)\n",
    "df.head()"
   ]
  },
  {
   "cell_type": "code",
   "execution_count": 23,
   "metadata": {},
   "outputs": [
    {
     "data": {
      "text/plain": [
       "<99360x103226 sparse matrix of type '<class 'numpy.int64'>'\n",
       "\twith 1570030 stored elements in Compressed Sparse Row format>"
      ]
     },
     "execution_count": 23,
     "metadata": {},
     "output_type": "execute_result"
    }
   ],
   "source": [
    "# Inicializamos un objeto CountVecrtorizer()\n",
    "count_vectorizer = CountVectorizer()\n",
    "\n",
    "# Entrenamos el modelo y transformamos los datos.\n",
    "bag = count_vectorizer.fit_transform(df[\"texto\"])\n",
    "\n",
    "bag"
   ]
  },
  {
   "cell_type": "code",
   "execution_count": 24,
   "metadata": {},
   "outputs": [],
   "source": [
    "# Inicializamos un objeto Tfidf\n",
    "tfidf = TfidfTransformer()\n",
    "\n",
    "# Entrenamos el Tfidf y transformamos la variable bag\n",
    "bag_tfidf = tfidf.fit_transform(bag)"
   ]
  },
  {
   "cell_type": "code",
   "execution_count": 25,
   "metadata": {},
   "outputs": [
    {
     "name": "stdout",
     "output_type": "stream",
     "text": [
      "X_train: (69552, 103226), y_train: (69552,)\n",
      "X_test: (29808, 103226),  y_test: (29808,)\n"
     ]
    }
   ],
   "source": [
    "X_train, X_test, y_train, y_test = train_test_split(bag_tfidf, # X\n",
    "                                                    df[\"karma\"].values, # y\n",
    "                                                    test_size = 0.3, random_state = 42)\n",
    "\n",
    "print(f\"X_train: {X_train.shape}, y_train: {y_train.shape}\")\n",
    "print(f\"X_test: {X_test.shape},  y_test: {y_test.shape}\")"
   ]
  },
  {
   "cell_type": "code",
   "execution_count": 31,
   "metadata": {},
   "outputs": [],
   "source": [
    "modelos = [LinearRegression(),\n",
    "            KNeighborsRegressor(),\n",
    "            # RadiusNeighborsRegressor(),\n",
    "            DecisionTreeRegressor(),\n",
    "            # RandomForestRegressor(),\n",
    "            SVR(),\n",
    "            AdaBoostRegressor(),\n",
    "            GradientBoostingRegressor()]"
   ]
  },
  {
   "cell_type": "code",
   "execution_count": 32,
   "metadata": {},
   "outputs": [
    {
     "name": "stdout",
     "output_type": "stream",
     "text": [
      "#### Modelo: LinearRegression() ####\n",
      "#### Modelo: KNeighborsRegressor() ####\n",
      "#### Modelo: DecisionTreeRegressor() ####\n",
      "#### Modelo: SVR() ####\n",
      "#### Modelo: AdaBoostRegressor() ####\n",
      "#### Modelo: GradientBoostingRegressor() ####\n"
     ]
    },
    {
     "data": {
      "text/html": [
       "<div>\n",
       "<style scoped>\n",
       "    .dataframe tbody tr th:only-of-type {\n",
       "        vertical-align: middle;\n",
       "    }\n",
       "\n",
       "    .dataframe tbody tr th {\n",
       "        vertical-align: top;\n",
       "    }\n",
       "\n",
       "    .dataframe thead th {\n",
       "        text-align: right;\n",
       "    }\n",
       "</style>\n",
       "<table border=\"1\" class=\"dataframe\">\n",
       "  <thead>\n",
       "    <tr style=\"text-align: right;\">\n",
       "      <th></th>\n",
       "      <th>name</th>\n",
       "      <th>model</th>\n",
       "      <th>mae</th>\n",
       "      <th>mse</th>\n",
       "      <th>r2</th>\n",
       "    </tr>\n",
       "  </thead>\n",
       "  <tbody>\n",
       "    <tr>\n",
       "      <th>5</th>\n",
       "      <td>GradientBoostingRegressor</td>\n",
       "      <td>([DecisionTreeRegressor(criterion='friedman_ms...</td>\n",
       "      <td>28.533331</td>\n",
       "      <td>3734.574064</td>\n",
       "      <td>-0.008733</td>\n",
       "    </tr>\n",
       "    <tr>\n",
       "      <th>3</th>\n",
       "      <td>SVR</td>\n",
       "      <td>SVR()</td>\n",
       "      <td>22.818303</td>\n",
       "      <td>3924.834136</td>\n",
       "      <td>-0.060124</td>\n",
       "    </tr>\n",
       "    <tr>\n",
       "      <th>1</th>\n",
       "      <td>KNeighborsRegressor</td>\n",
       "      <td>KNeighborsRegressor()</td>\n",
       "      <td>25.740680</td>\n",
       "      <td>3957.799159</td>\n",
       "      <td>-0.069028</td>\n",
       "    </tr>\n",
       "    <tr>\n",
       "      <th>2</th>\n",
       "      <td>DecisionTreeRegressor</td>\n",
       "      <td>DecisionTreeRegressor()</td>\n",
       "      <td>33.581051</td>\n",
       "      <td>6629.940295</td>\n",
       "      <td>-0.790791</td>\n",
       "    </tr>\n",
       "    <tr>\n",
       "      <th>0</th>\n",
       "      <td>LinearRegression</td>\n",
       "      <td>LinearRegression()</td>\n",
       "      <td>127.199373</td>\n",
       "      <td>47521.646850</td>\n",
       "      <td>-11.835911</td>\n",
       "    </tr>\n",
       "    <tr>\n",
       "      <th>4</th>\n",
       "      <td>AdaBoostRegressor</td>\n",
       "      <td>(DecisionTreeRegressor(max_depth=3, random_sta...</td>\n",
       "      <td>450.312302</td>\n",
       "      <td>206366.135646</td>\n",
       "      <td>-54.740856</td>\n",
       "    </tr>\n",
       "  </tbody>\n",
       "</table>\n",
       "</div>"
      ],
      "text/plain": [
       "                        name  \\\n",
       "5  GradientBoostingRegressor   \n",
       "3                        SVR   \n",
       "1        KNeighborsRegressor   \n",
       "2      DecisionTreeRegressor   \n",
       "0           LinearRegression   \n",
       "4          AdaBoostRegressor   \n",
       "\n",
       "                                               model         mae  \\\n",
       "5  ([DecisionTreeRegressor(criterion='friedman_ms...   28.533331   \n",
       "3                                              SVR()   22.818303   \n",
       "1                              KNeighborsRegressor()   25.740680   \n",
       "2                            DecisionTreeRegressor()   33.581051   \n",
       "0                                 LinearRegression()  127.199373   \n",
       "4  (DecisionTreeRegressor(max_depth=3, random_sta...  450.312302   \n",
       "\n",
       "             mse         r2  \n",
       "5    3734.574064  -0.008733  \n",
       "3    3924.834136  -0.060124  \n",
       "1    3957.799159  -0.069028  \n",
       "2    6629.940295  -0.790791  \n",
       "0   47521.646850 -11.835911  \n",
       "4  206366.135646 -54.740856  "
      ]
     },
     "execution_count": 32,
     "metadata": {},
     "output_type": "execute_result"
    }
   ],
   "source": [
    "# model = LinearRegression()\n",
    "datos_modelos = list()\n",
    "\n",
    "for model in modelos:\n",
    "    print (f\"#### Modelo: {str(model)} ####\")\n",
    "    model.fit(X_train, y_train)\n",
    "    yhat = model.predict(X_test)\n",
    "\n",
    "    #Metricas\n",
    "    mae = mean_absolute_error(y_test, yhat)\n",
    "    mse = mean_squared_error(y_test, yhat)\n",
    "    r2 = r2_score(y_test, yhat)\n",
    "    datos_modelos.append([str(model).strip(\"()\"), model, mae, mse, r2])\n",
    "\n",
    "df_modelo = pd.DataFrame(data = datos_modelos, columns = [\"name\", \"model\", \"mae\", \"mse\", \"r2\"])\n",
    "df_modelo.sort_values(\"r2\", ascending = False)"
   ]
  }
 ],
 "metadata": {
  "kernelspec": {
   "display_name": "Python 3",
   "language": "python",
   "name": "python3"
  },
  "language_info": {
   "codemirror_mode": {
    "name": "ipython",
    "version": 3
   },
   "file_extension": ".py",
   "mimetype": "text/x-python",
   "name": "python",
   "nbconvert_exporter": "python",
   "pygments_lexer": "ipython3",
   "version": "3.12.2"
  }
 },
 "nbformat": 4,
 "nbformat_minor": 2
}
