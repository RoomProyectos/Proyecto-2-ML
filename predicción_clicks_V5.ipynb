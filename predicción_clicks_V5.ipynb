{
 "cells": [
  {
   "cell_type": "markdown",
   "metadata": {},
   "source": [
    "Probamos incluyendo de nuevo la columna Delay, pero pasándole primero una transformación logarítmica a aquellas columnas con una distribución asimétrica."
   ]
  },
  {
   "cell_type": "code",
   "execution_count": 1,
   "metadata": {},
   "outputs": [],
   "source": [
    "import pandas as pd\n",
    "import numpy as np\n",
    "import matplotlib.pyplot as plt\n",
    "import seaborn as sns\n",
    "import plotly.express as px\n",
    "\n",
    "# Preprocessing\n",
    "from sklearn.preprocessing import MinMaxScaler\n",
    "\n",
    "# Train, Test\n",
    "from sklearn.model_selection import train_test_split\n",
    "\n",
    "# Preprocessing\n",
    "from sklearn.preprocessing import MinMaxScaler\n",
    "\n",
    "# Train, Test\n",
    "from sklearn.model_selection import train_test_split\n",
    "\n",
    "# Metricas para regresiones\n",
    "from sklearn.metrics import mean_absolute_error, mean_squared_error, r2_score\n",
    "\n",
    "# Regresores\n",
    "from sklearn.linear_model import LinearRegression\n",
    "from sklearn.neighbors import KNeighborsRegressor, RadiusNeighborsRegressor\n",
    "from sklearn.tree import DecisionTreeRegressor\n",
    "from sklearn.ensemble import RandomForestRegressor, GradientBoostingRegressor, AdaBoostRegressor\n",
    "from sklearn.svm import SVR"
   ]
  },
  {
   "cell_type": "code",
   "execution_count": 2,
   "metadata": {},
   "outputs": [
    {
     "data": {
      "text/html": [
       "<div>\n",
       "<style scoped>\n",
       "    .dataframe tbody tr th:only-of-type {\n",
       "        vertical-align: middle;\n",
       "    }\n",
       "\n",
       "    .dataframe tbody tr th {\n",
       "        vertical-align: top;\n",
       "    }\n",
       "\n",
       "    .dataframe thead th {\n",
       "        text-align: right;\n",
       "    }\n",
       "</style>\n",
       "<table border=\"1\" class=\"dataframe\">\n",
       "  <thead>\n",
       "    <tr style=\"text-align: right;\">\n",
       "      <th></th>\n",
       "      <th>Titular</th>\n",
       "      <th>Medio</th>\n",
       "      <th>URL</th>\n",
       "      <th>Enviado</th>\n",
       "      <th>Publicado</th>\n",
       "      <th>Meneos</th>\n",
       "      <th>Clicks</th>\n",
       "      <th>Positivos</th>\n",
       "      <th>Anonimos</th>\n",
       "      <th>Negativos</th>\n",
       "      <th>Comentarios</th>\n",
       "      <th>Karma</th>\n",
       "    </tr>\n",
       "  </thead>\n",
       "  <tbody>\n",
       "    <tr>\n",
       "      <th>0</th>\n",
       "      <td>Que arresten a los líderes de Israel por críme...</td>\n",
       "      <td>ctxt.es</td>\n",
       "      <td>https://old.meneame.net/story/arresten-lideres...</td>\n",
       "      <td>1715371648.0</td>\n",
       "      <td>1715379303.0</td>\n",
       "      <td>81</td>\n",
       "      <td>111.0</td>\n",
       "      <td>51.0</td>\n",
       "      <td>30.0</td>\n",
       "      <td>4.0</td>\n",
       "      <td>11.0</td>\n",
       "      <td>463.0</td>\n",
       "    </tr>\n",
       "    <tr>\n",
       "      <th>1</th>\n",
       "      <td>El pelotazo de los curas salesianos con una pi...</td>\n",
       "      <td>elsaltodiario.com</td>\n",
       "      <td>https://old.meneame.net/story/pelotazo-curas-s...</td>\n",
       "      <td>1715367709.0</td>\n",
       "      <td>1715377802.0</td>\n",
       "      <td>73</td>\n",
       "      <td>336.0</td>\n",
       "      <td>43.0</td>\n",
       "      <td>30.0</td>\n",
       "      <td>3.0</td>\n",
       "      <td>20.0</td>\n",
       "      <td>441.0</td>\n",
       "    </tr>\n",
       "    <tr>\n",
       "      <th>2</th>\n",
       "      <td>Países Bajos no participa en el segundo ensayo...</td>\n",
       "      <td>hoy.es</td>\n",
       "      <td>https://old.meneame.net/story/paises-bajos-no-...</td>\n",
       "      <td>1715374020.0</td>\n",
       "      <td>1715375703.0</td>\n",
       "      <td>123</td>\n",
       "      <td>1275.0</td>\n",
       "      <td>72.0</td>\n",
       "      <td>51.0</td>\n",
       "      <td>3.0</td>\n",
       "      <td>39.0</td>\n",
       "      <td>460.0</td>\n",
       "    </tr>\n",
       "  </tbody>\n",
       "</table>\n",
       "</div>"
      ],
      "text/plain": [
       "                                             Titular              Medio  \\\n",
       "0  Que arresten a los líderes de Israel por críme...            ctxt.es   \n",
       "1  El pelotazo de los curas salesianos con una pi...  elsaltodiario.com   \n",
       "2  Países Bajos no participa en el segundo ensayo...             hoy.es   \n",
       "\n",
       "                                                 URL       Enviado  \\\n",
       "0  https://old.meneame.net/story/arresten-lideres...  1715371648.0   \n",
       "1  https://old.meneame.net/story/pelotazo-curas-s...  1715367709.0   \n",
       "2  https://old.meneame.net/story/paises-bajos-no-...  1715374020.0   \n",
       "\n",
       "      Publicado  Meneos  Clicks  Positivos  Anonimos  Negativos  Comentarios  \\\n",
       "0  1715379303.0      81   111.0       51.0      30.0        4.0         11.0   \n",
       "1  1715377802.0      73   336.0       43.0      30.0        3.0         20.0   \n",
       "2  1715375703.0     123  1275.0       72.0      51.0        3.0         39.0   \n",
       "\n",
       "   Karma  \n",
       "0  463.0  \n",
       "1  441.0  \n",
       "2  460.0  "
      ]
     },
     "execution_count": 2,
     "metadata": {},
     "output_type": "execute_result"
    }
   ],
   "source": [
    "df = pd.read_csv(\"Data/MeneosCompleto.csv\", delimiter=\";\")\n",
    "\n",
    "pd.set_option(\"display.precision\", 7)\n",
    "\n",
    "df.head(3)"
   ]
  },
  {
   "cell_type": "code",
   "execution_count": 3,
   "metadata": {},
   "outputs": [],
   "source": [
    "def limpieza_datos(df):\n",
    "    #Limpieza de duplicados\n",
    "    df.drop_duplicates()\n",
    "\n",
    "    #Elimina las filas con valores NaN de las columnas que no son Clicks.\n",
    "    lista_columnas = df.columns.to_list()\n",
    "    lista_columnas.remove(\"Clicks\")\n",
    "\n",
    "    for columna in lista_columnas:\n",
    "        lista_indices = df[df[columna].isna() == True].index.tolist()\n",
    "        df = df.drop(index = lista_indices)\n",
    "    \n",
    "    # Creamos la columna delay que es el tiempo que transcurre entre que se envía el meneo y se publica\n",
    "    df[\"Delay\"] = df[\"Publicado\"] - df[\"Enviado\"]\n",
    "    \n",
    "    #Eliminación de columnas innecesarias\n",
    "    df = df.drop(columns=[\"Medio\", \"Publicado\", \"Enviado\", \"Positivos\", \"Anonimos\"], axis=1)\n",
    "    \n",
    "    # Separamos nuestro dataframe en uno de train, test y otro de predicción\n",
    "    df_tt = df[df[\"Clicks\"].isna() == False]\n",
    "\n",
    "    df_pred = df[df[\"Clicks\"].isna() == True]\n",
    "    df_pred.to_csv(\"Data/Datos_Pred.csv\", index=False)\n",
    "\n",
    "    # # Eliminación de outliers\n",
    "    # df_tt = df_tt[df_tt[\"Meneos\"].between(50, 3000)]\n",
    "    # df_tt = df_tt[df_tt[\"Negativos\"] <= 13]\n",
    "    # df_tt = df_tt[df_tt[\"Comentarios\"].between(10, 150)]\n",
    "    # df_tt = df_tt[df_tt[\"Karma\"].between(230, 700)]\n",
    "    # df_tt = df_tt[df_tt[\"Clicks\"].between(263, 37946)]\n",
    "\n",
    "\n",
    "    # Guardamos nuestro dataframe de train, test\n",
    "    df_tt.to_csv(\"Data/Datos_TrainTest.csv\", index=False)\n",
    "\n",
    "    return(df_tt)"
   ]
  },
  {
   "cell_type": "code",
   "execution_count": 4,
   "metadata": {},
   "outputs": [],
   "source": [
    "df_tt = limpieza_datos(df)"
   ]
  },
  {
   "cell_type": "code",
   "execution_count": 5,
   "metadata": {},
   "outputs": [
    {
     "data": {
      "text/html": [
       "<div>\n",
       "<style scoped>\n",
       "    .dataframe tbody tr th:only-of-type {\n",
       "        vertical-align: middle;\n",
       "    }\n",
       "\n",
       "    .dataframe tbody tr th {\n",
       "        vertical-align: top;\n",
       "    }\n",
       "\n",
       "    .dataframe thead th {\n",
       "        text-align: right;\n",
       "    }\n",
       "</style>\n",
       "<table border=\"1\" class=\"dataframe\">\n",
       "  <thead>\n",
       "    <tr style=\"text-align: right;\">\n",
       "      <th></th>\n",
       "      <th>Titular</th>\n",
       "      <th>URL</th>\n",
       "      <th>Meneos</th>\n",
       "      <th>Clicks</th>\n",
       "      <th>Negativos</th>\n",
       "      <th>Comentarios</th>\n",
       "      <th>Karma</th>\n",
       "      <th>Delay</th>\n",
       "    </tr>\n",
       "  </thead>\n",
       "  <tbody>\n",
       "    <tr>\n",
       "      <th>0</th>\n",
       "      <td>Que arresten a los líderes de Israel por críme...</td>\n",
       "      <td>https://old.meneame.net/story/arresten-lideres...</td>\n",
       "      <td>81</td>\n",
       "      <td>111.0</td>\n",
       "      <td>4.0</td>\n",
       "      <td>11.0</td>\n",
       "      <td>463.0</td>\n",
       "      <td>7655.0</td>\n",
       "    </tr>\n",
       "    <tr>\n",
       "      <th>1</th>\n",
       "      <td>El pelotazo de los curas salesianos con una pi...</td>\n",
       "      <td>https://old.meneame.net/story/pelotazo-curas-s...</td>\n",
       "      <td>73</td>\n",
       "      <td>336.0</td>\n",
       "      <td>3.0</td>\n",
       "      <td>20.0</td>\n",
       "      <td>441.0</td>\n",
       "      <td>10093.0</td>\n",
       "    </tr>\n",
       "    <tr>\n",
       "      <th>2</th>\n",
       "      <td>Países Bajos no participa en el segundo ensayo...</td>\n",
       "      <td>https://old.meneame.net/story/paises-bajos-no-...</td>\n",
       "      <td>123</td>\n",
       "      <td>1275.0</td>\n",
       "      <td>3.0</td>\n",
       "      <td>39.0</td>\n",
       "      <td>460.0</td>\n",
       "      <td>1683.0</td>\n",
       "    </tr>\n",
       "    <tr>\n",
       "      <th>3</th>\n",
       "      <td>Todos los israelíes están entrenados en hasbar...</td>\n",
       "      <td>https://old.meneame.net/story/todos-israelies-...</td>\n",
       "      <td>117</td>\n",
       "      <td>1256.0</td>\n",
       "      <td>5.0</td>\n",
       "      <td>24.0</td>\n",
       "      <td>410.0</td>\n",
       "      <td>13713.0</td>\n",
       "    </tr>\n",
       "    <tr>\n",
       "      <th>4</th>\n",
       "      <td>Cuando Einstein llamó “fascistas” a los gobern...</td>\n",
       "      <td>https://old.meneame.net/story/cuando-einstein-...</td>\n",
       "      <td>260</td>\n",
       "      <td>415.0</td>\n",
       "      <td>2.0</td>\n",
       "      <td>17.0</td>\n",
       "      <td>461.0</td>\n",
       "      <td>26628.0</td>\n",
       "    </tr>\n",
       "  </tbody>\n",
       "</table>\n",
       "</div>"
      ],
      "text/plain": [
       "                                             Titular  \\\n",
       "0  Que arresten a los líderes de Israel por críme...   \n",
       "1  El pelotazo de los curas salesianos con una pi...   \n",
       "2  Países Bajos no participa en el segundo ensayo...   \n",
       "3  Todos los israelíes están entrenados en hasbar...   \n",
       "4  Cuando Einstein llamó “fascistas” a los gobern...   \n",
       "\n",
       "                                                 URL  Meneos  Clicks  \\\n",
       "0  https://old.meneame.net/story/arresten-lideres...      81   111.0   \n",
       "1  https://old.meneame.net/story/pelotazo-curas-s...      73   336.0   \n",
       "2  https://old.meneame.net/story/paises-bajos-no-...     123  1275.0   \n",
       "3  https://old.meneame.net/story/todos-israelies-...     117  1256.0   \n",
       "4  https://old.meneame.net/story/cuando-einstein-...     260   415.0   \n",
       "\n",
       "   Negativos  Comentarios  Karma    Delay  \n",
       "0        4.0         11.0  463.0   7655.0  \n",
       "1        3.0         20.0  441.0  10093.0  \n",
       "2        3.0         39.0  460.0   1683.0  \n",
       "3        5.0         24.0  410.0  13713.0  \n",
       "4        2.0         17.0  461.0  26628.0  "
      ]
     },
     "execution_count": 5,
     "metadata": {},
     "output_type": "execute_result"
    }
   ],
   "source": [
    "df_tt.head()"
   ]
  },
  {
   "cell_type": "markdown",
   "metadata": {},
   "source": [
    "## OUTLIERS ##"
   ]
  },
  {
   "cell_type": "code",
   "execution_count": 6,
   "metadata": {},
   "outputs": [],
   "source": [
    "def graficas_box(df_tt, feature, transform = None):\n",
    "    if transform == None:\n",
    "        return(px.histogram(df_tt[feature], marginal=\"box\"))\n",
    "    else:\n",
    "        return(px.histogram(df_tt[feature].apply(transform), marginal=\"box\"))"
   ]
  },
  {
   "cell_type": "code",
   "execution_count": 7,
   "metadata": {},
   "outputs": [],
   "source": [
    "def outliers_log(feature):\n",
    "    global df_tt\n",
    "    stats = df_tt[feature].apply(np.log).describe()\n",
    "    q1 = stats[\"25%\"]\n",
    "    q3 = stats[\"75%\"]\n",
    "    ric = q3 - q1\n",
    "\n",
    "    lim_inf = q1 - 1.5*ric\n",
    "    lim_sup = q3 + 1.5*ric\n",
    "\n",
    "    df_tt[feature] = df_tt[feature].apply(np.log)\n",
    "    return(df_tt[df_tt[feature].between(lim_inf, lim_sup)])"
   ]
  },
  {
   "cell_type": "markdown",
   "metadata": {},
   "source": [
    "# Meneos #"
   ]
  },
  {
   "cell_type": "code",
   "execution_count": null,
   "metadata": {},
   "outputs": [],
   "source": [
    "graficas_box(df_tt, \"Meneos\")"
   ]
  },
  {
   "cell_type": "code",
   "execution_count": null,
   "metadata": {},
   "outputs": [],
   "source": [
    "graficas_box(df_tt, \"Meneos\", transform=np.log)"
   ]
  },
  {
   "cell_type": "code",
   "execution_count": 10,
   "metadata": {},
   "outputs": [
    {
     "data": {
      "text/plain": [
       "(193671, 8)"
      ]
     },
     "execution_count": 10,
     "metadata": {},
     "output_type": "execute_result"
    }
   ],
   "source": [
    "df_tt.shape"
   ]
  },
  {
   "cell_type": "code",
   "execution_count": 11,
   "metadata": {},
   "outputs": [],
   "source": [
    "df_tt = outliers_log(\"Meneos\")"
   ]
  },
  {
   "cell_type": "code",
   "execution_count": 12,
   "metadata": {},
   "outputs": [
    {
     "data": {
      "text/plain": [
       "(193045, 8)"
      ]
     },
     "execution_count": 12,
     "metadata": {},
     "output_type": "execute_result"
    }
   ],
   "source": [
    "df_tt.shape"
   ]
  },
  {
   "cell_type": "markdown",
   "metadata": {},
   "source": [
    "# Negativos #"
   ]
  },
  {
   "cell_type": "code",
   "execution_count": null,
   "metadata": {},
   "outputs": [],
   "source": [
    "graficas_box(df_tt, \"Negativos\")"
   ]
  },
  {
   "cell_type": "code",
   "execution_count": null,
   "metadata": {},
   "outputs": [],
   "source": [
    "graficas_box(df_tt, \"Negativos\", transform = np.log)"
   ]
  },
  {
   "cell_type": "code",
   "execution_count": 15,
   "metadata": {},
   "outputs": [],
   "source": [
    "df_tt = outliers_log(\"Negativos\")"
   ]
  },
  {
   "cell_type": "markdown",
   "metadata": {},
   "source": [
    "# Comentarios # "
   ]
  },
  {
   "cell_type": "code",
   "execution_count": null,
   "metadata": {},
   "outputs": [],
   "source": [
    "graficas_box(df_tt, \"Comentarios\")"
   ]
  },
  {
   "cell_type": "code",
   "execution_count": null,
   "metadata": {},
   "outputs": [],
   "source": [
    "graficas_box(df_tt, \"Comentarios\", transform = np.log)"
   ]
  },
  {
   "cell_type": "code",
   "execution_count": 18,
   "metadata": {},
   "outputs": [],
   "source": [
    "df_tt = outliers_log(\"Comentarios\")"
   ]
  },
  {
   "cell_type": "code",
   "execution_count": 19,
   "metadata": {},
   "outputs": [
    {
     "data": {
      "text/plain": [
       "(149306, 8)"
      ]
     },
     "execution_count": 19,
     "metadata": {},
     "output_type": "execute_result"
    }
   ],
   "source": [
    "df_tt.shape"
   ]
  },
  {
   "cell_type": "markdown",
   "metadata": {},
   "source": [
    "# Karma #"
   ]
  },
  {
   "cell_type": "code",
   "execution_count": null,
   "metadata": {},
   "outputs": [],
   "source": [
    "graficas_box(df_tt, \"Karma\")"
   ]
  },
  {
   "cell_type": "code",
   "execution_count": null,
   "metadata": {},
   "outputs": [],
   "source": [
    "graficas_box(df_tt, \"Karma\", transform = np.log)"
   ]
  },
  {
   "cell_type": "code",
   "execution_count": 22,
   "metadata": {},
   "outputs": [],
   "source": [
    "df_tt = outliers_log(\"Karma\")"
   ]
  },
  {
   "cell_type": "code",
   "execution_count": 23,
   "metadata": {},
   "outputs": [
    {
     "data": {
      "text/plain": [
       "(149079, 8)"
      ]
     },
     "execution_count": 23,
     "metadata": {},
     "output_type": "execute_result"
    }
   ],
   "source": [
    "df_tt.shape"
   ]
  },
  {
   "cell_type": "markdown",
   "metadata": {},
   "source": [
    "## Delay ##"
   ]
  },
  {
   "cell_type": "code",
   "execution_count": 24,
   "metadata": {},
   "outputs": [
    {
     "data": {
      "text/plain": [
       "0          7655.0\n",
       "1         10093.0\n",
       "2          1683.0\n",
       "3         13713.0\n",
       "4         26628.0\n",
       "           ...   \n",
       "193671     1502.0\n",
       "193672    31884.0\n",
       "193675    17777.0\n",
       "193680    10532.0\n",
       "193686     6423.0\n",
       "Name: Delay, Length: 149079, dtype: float64"
      ]
     },
     "execution_count": 24,
     "metadata": {},
     "output_type": "execute_result"
    }
   ],
   "source": [
    "df_tt[\"Delay\"]"
   ]
  },
  {
   "cell_type": "code",
   "execution_count": null,
   "metadata": {},
   "outputs": [],
   "source": [
    "graficas_box(df_tt, \"Delay\")"
   ]
  },
  {
   "cell_type": "code",
   "execution_count": null,
   "metadata": {},
   "outputs": [],
   "source": [
    "graficas_box(df_tt, \"Delay\", transform=np.log)"
   ]
  },
  {
   "cell_type": "code",
   "execution_count": 27,
   "metadata": {},
   "outputs": [],
   "source": [
    "df_tt = outliers_log(\"Delay\")"
   ]
  },
  {
   "cell_type": "markdown",
   "metadata": {},
   "source": [
    "## Clicks ##"
   ]
  },
  {
   "cell_type": "code",
   "execution_count": null,
   "metadata": {},
   "outputs": [],
   "source": [
    "graficas_box(df_tt, \"Clicks\")"
   ]
  },
  {
   "cell_type": "code",
   "execution_count": null,
   "metadata": {},
   "outputs": [],
   "source": [
    "graficas_box(df_tt, \"Clicks\", transform = np.log)"
   ]
  },
  {
   "cell_type": "code",
   "execution_count": 30,
   "metadata": {},
   "outputs": [],
   "source": [
    "df_tt = outliers_log(\"Clicks\")"
   ]
  },
  {
   "cell_type": "code",
   "execution_count": 31,
   "metadata": {},
   "outputs": [
    {
     "data": {
      "text/plain": [
       "(148913, 8)"
      ]
     },
     "execution_count": 31,
     "metadata": {},
     "output_type": "execute_result"
    }
   ],
   "source": [
    "df_tt.shape"
   ]
  },
  {
   "cell_type": "code",
   "execution_count": 32,
   "metadata": {},
   "outputs": [
    {
     "data": {
      "text/plain": [
       "Negativos\n",
       "0.0000000    32774\n",
       "0.6931472    24547\n",
       "1.0986123    18583\n",
       "1.3862944    13901\n",
       "1.6094379    10649\n",
       "             ...  \n",
       "4.3944492       12\n",
       "4.4188406       10\n",
       "4.4773368        8\n",
       "4.4543473        8\n",
       "4.4426513        5\n",
       "Name: count, Length: 88, dtype: int64"
      ]
     },
     "execution_count": 32,
     "metadata": {},
     "output_type": "execute_result"
    }
   ],
   "source": [
    "df_tt[\"Negativos\"].value_counts()"
   ]
  },
  {
   "cell_type": "markdown",
   "metadata": {},
   "source": [
    "## ***VISUALIZACIONES***"
   ]
  },
  {
   "cell_type": "code",
   "execution_count": 33,
   "metadata": {},
   "outputs": [
    {
     "data": {
      "image/png": "[encoded data removed]",
      "text/plain": [
       "<Figure size 1200x800 with 2 Axes>"
      ]
     },
     "metadata": {},
     "output_type": "display_data"
    }
   ],
   "source": [
    "plt.figure(figsize = (12, 8))\n",
    "sns.heatmap(data = df_tt._get_numeric_data().corr(), annot = True)\n",
    "plt.show()"
   ]
  },
  {
   "cell_type": "markdown",
   "metadata": {},
   "source": [
    "## PREPROCESAMIENTO ##"
   ]
  },
  {
   "cell_type": "code",
   "execution_count": 34,
   "metadata": {},
   "outputs": [
    {
     "data": {
      "text/html": [
       "<div>\n",
       "<style scoped>\n",
       "    .dataframe tbody tr th:only-of-type {\n",
       "        vertical-align: middle;\n",
       "    }\n",
       "\n",
       "    .dataframe tbody tr th {\n",
       "        vertical-align: top;\n",
       "    }\n",
       "\n",
       "    .dataframe thead th {\n",
       "        text-align: right;\n",
       "    }\n",
       "</style>\n",
       "<table border=\"1\" class=\"dataframe\">\n",
       "  <thead>\n",
       "    <tr style=\"text-align: right;\">\n",
       "      <th></th>\n",
       "      <th>Titular</th>\n",
       "      <th>URL</th>\n",
       "      <th>Meneos</th>\n",
       "      <th>Clicks</th>\n",
       "      <th>Negativos</th>\n",
       "      <th>Comentarios</th>\n",
       "      <th>Karma</th>\n",
       "      <th>Delay</th>\n",
       "    </tr>\n",
       "  </thead>\n",
       "  <tbody>\n",
       "    <tr>\n",
       "      <th>1</th>\n",
       "      <td>El pelotazo de los curas salesianos con una pi...</td>\n",
       "      <td>https://old.meneame.net/story/pelotazo-curas-s...</td>\n",
       "      <td>4.2904594</td>\n",
       "      <td>5.8171112</td>\n",
       "      <td>1.0986123</td>\n",
       "      <td>2.9957323</td>\n",
       "      <td>6.0890449</td>\n",
       "      <td>9.2195974</td>\n",
       "    </tr>\n",
       "    <tr>\n",
       "      <th>2</th>\n",
       "      <td>Países Bajos no participa en el segundo ensayo...</td>\n",
       "      <td>https://old.meneame.net/story/paises-bajos-no-...</td>\n",
       "      <td>4.8121844</td>\n",
       "      <td>7.1507015</td>\n",
       "      <td>1.0986123</td>\n",
       "      <td>3.6635616</td>\n",
       "      <td>6.1312265</td>\n",
       "      <td>7.4283332</td>\n",
       "    </tr>\n",
       "    <tr>\n",
       "      <th>3</th>\n",
       "      <td>Todos los israelíes están entrenados en hasbar...</td>\n",
       "      <td>https://old.meneame.net/story/todos-israelies-...</td>\n",
       "      <td>4.7621739</td>\n",
       "      <td>7.1356873</td>\n",
       "      <td>1.6094379</td>\n",
       "      <td>3.1780538</td>\n",
       "      <td>6.0161572</td>\n",
       "      <td>9.5260996</td>\n",
       "    </tr>\n",
       "  </tbody>\n",
       "</table>\n",
       "</div>"
      ],
      "text/plain": [
       "                                             Titular  \\\n",
       "1  El pelotazo de los curas salesianos con una pi...   \n",
       "2  Países Bajos no participa en el segundo ensayo...   \n",
       "3  Todos los israelíes están entrenados en hasbar...   \n",
       "\n",
       "                                                 URL     Meneos     Clicks  \\\n",
       "1  https://old.meneame.net/story/pelotazo-curas-s...  4.2904594  5.8171112   \n",
       "2  https://old.meneame.net/story/paises-bajos-no-...  4.8121844  7.1507015   \n",
       "3  https://old.meneame.net/story/todos-israelies-...  4.7621739  7.1356873   \n",
       "\n",
       "   Negativos  Comentarios      Karma      Delay  \n",
       "1  1.0986123    2.9957323  6.0890449  9.2195974  \n",
       "2  1.0986123    3.6635616  6.1312265  7.4283332  \n",
       "3  1.6094379    3.1780538  6.0161572  9.5260996  "
      ]
     },
     "execution_count": 34,
     "metadata": {},
     "output_type": "execute_result"
    }
   ],
   "source": [
    "df_tt.head(3)"
   ]
  },
  {
   "cell_type": "code",
   "execution_count": 35,
   "metadata": {},
   "outputs": [],
   "source": [
    "modelos = [LinearRegression(),\n",
    "            KNeighborsRegressor(),\n",
    "            # RadiusNeighborsRegressor(),\n",
    "            DecisionTreeRegressor(),\n",
    "            RandomForestRegressor(),\n",
    "            SVR(),\n",
    "            AdaBoostRegressor(),\n",
    "            GradientBoostingRegressor()]"
   ]
  },
  {
   "cell_type": "code",
   "execution_count": 36,
   "metadata": {},
   "outputs": [
    {
     "data": {
      "text/html": [
       "<div>\n",
       "<style scoped>\n",
       "    .dataframe tbody tr th:only-of-type {\n",
       "        vertical-align: middle;\n",
       "    }\n",
       "\n",
       "    .dataframe tbody tr th {\n",
       "        vertical-align: top;\n",
       "    }\n",
       "\n",
       "    .dataframe thead th {\n",
       "        text-align: right;\n",
       "    }\n",
       "</style>\n",
       "<table border=\"1\" class=\"dataframe\">\n",
       "  <thead>\n",
       "    <tr style=\"text-align: right;\">\n",
       "      <th></th>\n",
       "      <th>name</th>\n",
       "      <th>model</th>\n",
       "      <th>mae</th>\n",
       "      <th>mse</th>\n",
       "      <th>r2</th>\n",
       "    </tr>\n",
       "  </thead>\n",
       "  <tbody>\n",
       "    <tr>\n",
       "      <th>4</th>\n",
       "      <td>SVR</td>\n",
       "      <td>SVR()</td>\n",
       "      <td>2915.2939863</td>\n",
       "      <td>2.2260210e+07</td>\n",
       "      <td>0.1184232</td>\n",
       "    </tr>\n",
       "    <tr>\n",
       "      <th>6</th>\n",
       "      <td>GradientBoostingRegressor</td>\n",
       "      <td>([DecisionTreeRegressor(criterion='friedman_ms...</td>\n",
       "      <td>2948.8330984</td>\n",
       "      <td>2.2894612e+07</td>\n",
       "      <td>0.0932988</td>\n",
       "    </tr>\n",
       "    <tr>\n",
       "      <th>3</th>\n",
       "      <td>RandomForestRegressor</td>\n",
       "      <td>(DecisionTreeRegressor(max_features=1.0, rando...</td>\n",
       "      <td>2985.1456339</td>\n",
       "      <td>2.2900096e+07</td>\n",
       "      <td>0.0930816</td>\n",
       "    </tr>\n",
       "    <tr>\n",
       "      <th>0</th>\n",
       "      <td>LinearRegression</td>\n",
       "      <td>LinearRegression()</td>\n",
       "      <td>3042.3327657</td>\n",
       "      <td>2.4114065e+07</td>\n",
       "      <td>0.0450045</td>\n",
       "    </tr>\n",
       "    <tr>\n",
       "      <th>1</th>\n",
       "      <td>KNeighborsRegressor</td>\n",
       "      <td>KNeighborsRegressor()</td>\n",
       "      <td>3148.3232138</td>\n",
       "      <td>2.4312646e+07</td>\n",
       "      <td>0.0371400</td>\n",
       "    </tr>\n",
       "    <tr>\n",
       "      <th>5</th>\n",
       "      <td>AdaBoostRegressor</td>\n",
       "      <td>(DecisionTreeRegressor(max_depth=3, random_sta...</td>\n",
       "      <td>3050.2236103</td>\n",
       "      <td>2.4566115e+07</td>\n",
       "      <td>0.0271018</td>\n",
       "    </tr>\n",
       "    <tr>\n",
       "      <th>2</th>\n",
       "      <td>DecisionTreeRegressor</td>\n",
       "      <td>DecisionTreeRegressor()</td>\n",
       "      <td>4329.3565121</td>\n",
       "      <td>4.2497065e+07</td>\n",
       "      <td>-0.6830222</td>\n",
       "    </tr>\n",
       "  </tbody>\n",
       "</table>\n",
       "</div>"
      ],
      "text/plain": [
       "                        name  \\\n",
       "4                        SVR   \n",
       "6  GradientBoostingRegressor   \n",
       "3      RandomForestRegressor   \n",
       "0           LinearRegression   \n",
       "1        KNeighborsRegressor   \n",
       "5          AdaBoostRegressor   \n",
       "2      DecisionTreeRegressor   \n",
       "\n",
       "                                               model           mae  \\\n",
       "4                                              SVR()  2915.2939863   \n",
       "6  ([DecisionTreeRegressor(criterion='friedman_ms...  2948.8330984   \n",
       "3  (DecisionTreeRegressor(max_features=1.0, rando...  2985.1456339   \n",
       "0                                 LinearRegression()  3042.3327657   \n",
       "1                              KNeighborsRegressor()  3148.3232138   \n",
       "5  (DecisionTreeRegressor(max_depth=3, random_sta...  3050.2236103   \n",
       "2                            DecisionTreeRegressor()  4329.3565121   \n",
       "\n",
       "             mse         r2  \n",
       "4  2.2260210e+07  0.1184232  \n",
       "6  2.2894612e+07  0.0932988  \n",
       "3  2.2900096e+07  0.0930816  \n",
       "0  2.4114065e+07  0.0450045  \n",
       "1  2.4312646e+07  0.0371400  \n",
       "5  2.4566115e+07  0.0271018  \n",
       "2  4.2497065e+07 -0.6830222  "
      ]
     },
     "execution_count": 36,
     "metadata": {},
     "output_type": "execute_result"
    }
   ],
   "source": [
    "# train, test split\n",
    "\n",
    "X = df_tt.iloc[:, 2:].drop([\"Clicks\"], axis = 1)\n",
    "y = df_tt[[\"Clicks\"]]\n",
    "\n",
    "X_train, X_test, y_train, y_test = train_test_split(X, y, test_size = 0.2, random_state=42)\n",
    "\n",
    "x_scaler = MinMaxScaler()\n",
    "X_train = x_scaler.fit_transform(X_train)\n",
    "X_test = x_scaler.transform(X_test)\n",
    "\n",
    "y_scaler = MinMaxScaler()\n",
    "y_train = y_scaler.fit_transform(y_train)\n",
    "y_test = y_scaler.transform(y_test)\n",
    "\n",
    "datos_modelos = list()\n",
    "\n",
    "for model in modelos:\n",
    "\n",
    "    model.fit(X_train, y_train.ravel())\n",
    "    yhat = model.predict(X_test)\n",
    "\n",
    "    y_test_inv = np.exp(y_scaler.inverse_transform(y_test.reshape(-1, 1)))\n",
    "    yhat_inv = np.exp(y_scaler.inverse_transform(yhat.reshape(-1, 1)))\n",
    "\n",
    "    #Metricas\n",
    "    mae = mean_absolute_error(y_test_inv, yhat_inv)\n",
    "    mse = mean_squared_error(y_test_inv, yhat_inv)\n",
    "    r2 = r2_score(y_test_inv, yhat_inv)\n",
    "\n",
    "    datos_modelos.append([str(model).strip(\"()\"), model, mae, mse, r2])\n",
    "\n",
    "df_modelo = pd.DataFrame(data = datos_modelos, columns = [\"name\", \"model\", \"mae\", \"mse\", \"r2\"])\n",
    "\n",
    "df_modelo.sort_values(\"r2\", ascending = False)\n",
    "\n"
   ]
  }
 ],
 "metadata": {
  "kernelspec": {
   "display_name": "base",
   "language": "python",
   "name": "python3"
  },
  "language_info": {
   "codemirror_mode": {
    "name": "ipython",
    "version": 3
   },
   "file_extension": ".py",
   "mimetype": "text/x-python",
   "name": "python",
   "nbconvert_exporter": "python",
   "pygments_lexer": "ipython3",
   "version": "3.11.8"
  }
 },
 "nbformat": 4,
 "nbformat_minor": 2
}
