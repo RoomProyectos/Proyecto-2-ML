{
 "cells": [
  {
   "cell_type": "markdown",
   "metadata": {},
   "source": [
    "# Proyecto ETL\n",
    "#### Grupo 1:  Gledson - Eva - Sara - Rubén - Luis Q"
   ]
  },
  {
   "cell_type": "markdown",
   "metadata": {},
   "source": [
    "### - - Importación de módulos y librerías - - "
   ]
  },
  {
   "cell_type": "code",
   "execution_count": 1,
   "metadata": {},
   "outputs": [],
   "source": [
    "import pandas as pd\n",
    "import numpy as np\n",
    "\n",
    "from bs4 import BeautifulSoup\n",
    "from selenium import webdriver"
   ]
  },
  {
   "cell_type": "markdown",
   "metadata": {},
   "source": [
    "# Extracción de datos\n",
    "\n",
    "Se definen las funciónes auxiliares para la extracción"
   ]
  },
  {
   "cell_type": "code",
   "execution_count": 2,
   "metadata": {},
   "outputs": [],
   "source": [
    "# Función principal de extracción de datos\n",
    "def extrae_datos_meneos (lista_meneos):\n",
    "    ''' \n",
    "        Función para la extración de todos los meneos con clicks\n",
    "    '''\n",
    "    datos = []\n",
    "    \n",
    "    for meneo in lista_meneos:\n",
    "        dicc_aux = {}\n",
    "      \n",
    "        ###################################    Titular    ####################################################################\n",
    "        try:\n",
    "            dicc_aux[\"Titular\"] = meneo.find(\"h2\").text.replace(\"\\n\", \" \").strip()\n",
    "        except:\n",
    "            dicc_aux[\"Titular\"] = np.nan\n",
    "        \n",
    "        ###################################    Medio    ######################################################################\n",
    "        try:\n",
    "            dicc_aux[\"Medio\"] = meneo.find(\"span\", class_=\"showmytitle\").text.strip()\n",
    "        except:            \n",
    "            dicc_aux[\"Medio\"] = \"meneame.net\"\n",
    "\n",
    "        ###################################    URL    ######################################################################\n",
    "        try:\n",
    "            dicc_aux[\"URL\"] = \"https://old.meneame.net\" + meneo.find(\"a\", class_=\"comments\")[\"href\"].strip()\n",
    "        except:            \n",
    "            dicc_aux[\"URL\"] = np.nan\n",
    "\n",
    "        ###################################    Fechas    ######################################################################    \n",
    "        try:\n",
    "            fechas = meneo.find(\"div\", class_=\"news-submitted\").find_all(\"span\", class_=\"ts\")\n",
    "            dicc_aux[\"Enviado\"] = fechas[0][\"data-ts\"].strip()\n",
    "            dicc_aux[\"Publicado\"] = fechas[1][\"data-ts\"].strip()\n",
    "        except:\n",
    "            dicc_aux[\"Enviado\"] = np.nan\n",
    "            dicc_aux[\"Publicado\"] = np.nan\n",
    "\n",
    "        ###################################    Meneos    ######################################################################\n",
    "        try:\n",
    "            dicc_aux[\"Meneos\"] = meneo.find(\"div\", class_=\"votes\").find(\"a\").text.strip()\n",
    "        except:\n",
    "            dicc_aux[\"Meneos\"] = np.nan\n",
    "\n",
    "        ###################################    Click    ######################################################################\n",
    "        try:\n",
    "            dicc_aux[\"Clicks\"] = meneo.find(\"div\", class_=\"clics\").find(\"span\").text.strip()\n",
    "        except:        \n",
    "            dicc_aux[\"Clicks\"] = np.nan\n",
    "\n",
    "        ###################################    Positivos    ###################################################################\n",
    "        try:\n",
    "            dicc_aux[\"Positivos\"] = meneo.find(\"span\", class_=\"positive-vote-number\").text.strip()\n",
    "        except:\n",
    "            dicc_aux[\"Positivos\"] = np.nan\n",
    "\n",
    "        ###################################    Votos Anónimos    ##############################################################\n",
    "        try:\n",
    "            dicc_aux[\"Anonimos\"] = meneo.find(\"span\", class_=\"anonymous-vote-number\").text.strip()\n",
    "        except:\n",
    "            dicc_aux[\"Anonimos\"] = np.nan\n",
    "\n",
    "        ###################################    Votos Negativos    ##############################################################\n",
    "        try:\n",
    "            dicc_aux[\"Negativos\"] = meneo.find(\"span\", class_=\"negative-vote-number\").text.strip()\n",
    "        except:\n",
    "            dicc_aux[\"Negativos\"] = np.nan\n",
    "\n",
    "        ###################################    Número comentarios    ###########################################################\n",
    "        try:\n",
    "            dicc_aux[\"Comentarios\"] = meneo.find(\"a\", class_=\"comments\")[\"data-comments-number\"].strip()\n",
    "        except:\n",
    "            dicc_aux[\"Comentarios\"] = np.nan\n",
    "\n",
    "        ###################################    Karma    ########################################################################\n",
    "        try:\n",
    "            dicc_aux[\"Karma\"] = meneo.find(\"span\", class_=\"karma-number\").text.strip()\n",
    "        except:\n",
    "            dicc_aux[\"Karma\"] = np.nan\n",
    "\n",
    "        datos.append(dicc_aux)       \n",
    "\n",
    "    return datos"
   ]
  },
  {
   "cell_type": "markdown",
   "metadata": {},
   "source": [
    "#### Bucle para el Web Scrapping  ####"
   ]
  },
  {
   "cell_type": "code",
   "execution_count": 3,
   "metadata": {},
   "outputs": [
    {
     "name": "stdout",
     "output_type": "stream",
     "text": [
      " Escaneando página 4  \n",
      "\n",
      "----------------------------------\n",
      " Total paginas procesadas: 4\n",
      " Total noticias importadas: 88\n",
      " Total de errores: 0\n",
      "----------------------------------\n"
     ]
    }
   ],
   "source": [
    "URL_BASE = \"https://old.meneame.net/\"\n",
    "\n",
    "lista_aux = []\n",
    "contador_paginas = 0\n",
    "contador_errores = {\"Errores\" : 0, \"Paginas_Error\" : []}\n",
    "\n",
    "browser = webdriver.Chrome()\n",
    "browser.get(f\"{URL_BASE}\")\n",
    "\n",
    "# Se obtiene el número total de páginas de noticias y se calcula la página de inicio para el año elegido\n",
    "total_paginas = int(BeautifulSoup(browser.page_source, \"html.parser\").find(\"div\", class_=\"pages\").find_all(\"a\")[-2].text)\n",
    "pagina = 1\n",
    "\n",
    "try:\n",
    "    while pagina <= total_paginas:          \n",
    "        try:\n",
    "            # Se solicita al navegador la apertura de la URL de la página\n",
    "            if pagina >= 2: \n",
    "                browser.get(f\"{URL_BASE}?page={pagina}\")\n",
    "\n",
    "            # Se obtiene el BeautifulSoup a partir del código fuente de la página\n",
    "            Soup_pagina_meneos = BeautifulSoup(browser.page_source, \"html.parser\")\n",
    "\n",
    "            # Se extrae el listado de noticias\n",
    "            lista_meneos = Soup_pagina_meneos.find_all(\"div\", class_=\"news-summary\")\n",
    "\n",
    "            # Se analiza el listado con la función de extracción\n",
    "            resultado = extrae_datos_meneos(lista_meneos)\n",
    "            \n",
    "            # Se añaden los resultados de la extracción a una lista\n",
    "            lista_aux.extend(resultado)\n",
    "\n",
    "            # Se aumenta el contador de páginas\n",
    "            pagina += 1\n",
    "            contador_paginas += 1\n",
    "            \n",
    "            print(f\" Escaneando página {contador_paginas}  \", end=\"\\r\")\n",
    "        except:            \n",
    "            contador_errores[\"Errores\"] += 1\n",
    "            contador_errores[\"Paginas_Error\"].append(pagina)\n",
    "except:\n",
    "    print(\"Ocurrido un error inesperado... ¿Estaba cargada la función?\")\n",
    "\n",
    "print(\"\\n\")\n",
    "print(\"-\"*34)\n",
    "print(f\" Total paginas procesadas: {contador_paginas}\")\n",
    "print(f\" Total noticias importadas: {len(lista_aux)}\")\n",
    "print(f\" Total de errores: {contador_errores['Errores']}\")\n",
    "print(\"-\"*34)\n",
    "\n",
    "browser.close()"
   ]
  },
  {
   "cell_type": "markdown",
   "metadata": {},
   "source": [
    "Creación del DataFrame con la lista de datos extraída y otro con los municipios para cruzar datos"
   ]
  },
  {
   "cell_type": "code",
   "execution_count": 4,
   "metadata": {},
   "outputs": [],
   "source": [
    "df = pd.DataFrame(lista_aux)"
   ]
  },
  {
   "cell_type": "code",
   "execution_count": 6,
   "metadata": {},
   "outputs": [],
   "source": [
    "df.to_csv('../Data/MeneosCompleto.csv', sep=';', encoding='utf-8', index=False)"
   ]
  },
  {
   "cell_type": "markdown",
   "metadata": {},
   "source": [
    "# TRANSFORMACIÓN\n",
    "\n",
    "##### Se definen funciones auxiliares"
   ]
  },
  {
   "cell_type": "markdown",
   "metadata": {},
   "source": [
    "##### Se hace tratamiento de Nans y cambios de tipo de dato"
   ]
  },
  {
   "cell_type": "code",
   "execution_count": null,
   "metadata": {},
   "outputs": [],
   "source": [
    "# df[\"Titular\"] = df[\"Titular\"].fillna(\"\")\n",
    "# df[\"Entradilla\"] = df[\"Entradilla\"].fillna(\"\")\n",
    "# df[\"Comunidad\"] = df[\"Comunidad\"].fillna(\"\")\n",
    "# df[\"Usuario\"] = df[\"Usuario\"].fillna(\"\")\n",
    "# df[\"Medio\"] = df[\"Medio\"].fillna(\"\")\n",
    "# df[\"URL\"] = df[\"URL\"].fillna(\"\")\n",
    "\n",
    "# df[\"Enviado\"] = df[\"Enviado\"].bfill()\n",
    "# df[\"Enviado\"] = df[\"Enviado\"].ffill()\n",
    "# df[\"Publicado\"] = df[\"Publicado\"].bfill()\n",
    "# df[\"Publicado\"] = df[\"Publicado\"].ffill()\n",
    "\n",
    "# df[\"Meneos\"] = df[\"Meneos\"].fillna(0)\n",
    "# # df[\"Clicks\"] = df[\"Clicks\"].fillna(0)\n",
    "# df[\"Positivos\"] = df[\"Positivos\"].fillna(0)\n",
    "# df[\"Anonimos\"] = df[\"Anonimos\"].fillna(0)\n",
    "# df[\"Negativos\"] = df[\"Negativos\"].fillna(0)\n",
    "# df[\"Comentarios\"] = df[\"Comentarios\"].fillna(0)\n",
    "# df[\"Karma\"] = df[\"Karma\"].fillna(0)\n",
    "\n",
    "\n",
    "# df['Enviado'] = pd.to_datetime(df['Enviado'], format=\"%d/%m/%Y %H:%M\")\n",
    "# df['Publicado'] = pd.to_datetime(df['Publicado'], format=\"%d/%m/%Y %H:%M\")\n",
    "\n",
    "# df[[\"Meneos\", \"Clicks\", \"Positivos\", \"Anonimos\",\"Negativos\", \"Comentarios\", \"Karma\"]] = df[[\"Meneos\", \"Clicks\", \"Positivos\", \"Anonimos\",\"Negativos\", \"Comentarios\", \"Karma\"]].astype(\"int64\")"
   ]
  },
  {
   "cell_type": "markdown",
   "metadata": {},
   "source": [
    "##### Se crean las columnas adicionales"
   ]
  },
  {
   "cell_type": "code",
   "execution_count": null,
   "metadata": {},
   "outputs": [],
   "source": [
    "# # Para tiempo que le ha tomado a la noticia en ser publicada\n",
    "# df[\"Delay\"] = df[\"Publicado\"] - df[\"Enviado\"]\n",
    "# df = df.drop([\"Enviado\", \"Publicado\"],axis=1)"
   ]
  },
  {
   "cell_type": "code",
   "execution_count": null,
   "metadata": {},
   "outputs": [],
   "source": []
  }
 ],
 "metadata": {
  "kernelspec": {
   "display_name": "Python 3",
   "language": "python",
   "name": "python3"
  },
  "language_info": {
   "codemirror_mode": {
    "name": "ipython",
    "version": 3
   },
   "file_extension": ".py",
   "mimetype": "text/x-python",
   "name": "python",
   "nbconvert_exporter": "python",
   "pygments_lexer": "ipython3",
   "version": "3.12.2"
  }
 },
 "nbformat": 4,
 "nbformat_minor": 2
}
