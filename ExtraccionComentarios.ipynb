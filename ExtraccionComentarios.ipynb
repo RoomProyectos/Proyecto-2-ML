{
 "cells": [
  {
   "cell_type": "markdown",
   "metadata": {},
   "source": [
    "# Proyecto ETL\n",
    "#### Grupo 1:  Gledson - Eva - Sara - Rubén - Luis Q"
   ]
  },
  {
   "cell_type": "markdown",
   "metadata": {},
   "source": [
    "### - - Importación de módulos y librerías - - "
   ]
  },
  {
   "cell_type": "code",
   "execution_count": 2,
   "metadata": {},
   "outputs": [],
   "source": [
    "import pandas as pd\n",
    "import numpy as np\n",
    "\n",
    "from bs4 import BeautifulSoup\n",
    "from selenium import webdriver\n",
    "\n",
    "from Scrappers.Scrapper_Comentarios import extrae_comentarios_meneo"
   ]
  },
  {
   "cell_type": "markdown",
   "metadata": {},
   "source": [
    "# Extracción de datos\n",
    "\n",
    "Se definen las funciónes auxiliares para la extracción"
   ]
  },
  {
   "cell_type": "markdown",
   "metadata": {},
   "source": [
    "#### Bucle para el Scrapping de Comentarios  ####"
   ]
  },
  {
   "cell_type": "code",
   "execution_count": 5,
   "metadata": {},
   "outputs": [
    {
     "name": "stdout",
     "output_type": "stream",
     "text": [
      "[{'num_comentario': '1', 'usuario': 'ingenierodepalillos', 'fecha': '1715371791', 'texto': 'O que les den de hostias hasta hartarse, son tan despreciables que han conseguido que me rebaje a su nivel, eso no lo consigue cualquiera.', 'votos': '8', 'karma': '77'}, {'num_comentario': '2', 'usuario': 'Top_Banana', 'fecha': '1715372035', 'texto': '#1 Sea cual sea la opción, seguro que preferirán estar muertos. \\n\\nY a todo cerdo le llega su san martin.', 'votos': '3', 'karma': '35'}, {'num_comentario': '3', 'usuario': 'Top_Banana', 'fecha': '1715372235', 'texto': 'Un saludo Mysto, ¡hermoso!', 'votos': '4', 'karma': '51'}, {'num_comentario': '4', 'usuario': 'CharlesBrowson', 'fecha': '1715372556', 'texto': 'Es tal es desproposito y la barbarie que no cabe otra cosa que la disolucion de ese infame estado y que haya una segunda diaspora, porque ya no es la clase dirigente que deberian acabar bailando el hava nagila hava con los pies en el aire, sino de toda la infame sociedad israeli, obligar a escribir en su pozoñosa torah un capitulo de esta barbarie para que nuca se olvide.', 'votos': '6', 'karma': '52'}, {'num_comentario': '5', 'usuario': 'BigMom', 'fecha': '1715372955', 'texto': '#1 Es el problema, uno no quiere rebajarse. Pero llega un punto en el que piensas que acabar con ellos al final es la solución. Y para mí se queda en pensarlo, pero otros no lo harán y pasará lo peor.', 'votos': '3', 'karma': '33'}, {'num_comentario': '6', 'usuario': 'Top_Banana', 'fecha': '1715372963', 'texto': '#4 Bueno, el que escribe es un periodista Israelí que lleva años informando de la ocupación.\\nSon parte de esa sociedad aunque esten \"silenciados\" y están en contra del genocidio, hay que darles voz.', 'votos': '9', 'karma': '88'}, {'num_comentario': '7', 'usuario': 'ur_quan_master', 'fecha': '1715374962', 'texto': '#1 una soga y a bailar. Como en los juicios de Núremberg', 'votos': '6', 'karma': '60'}, {'num_comentario': '8', 'usuario': 'cocolisto', 'fecha': '1715375180', 'texto': 'No se porqué cuando oigo hablar de los sionistas me viene la imagen de Mussolini colgado bocabajo.', 'votos': '4', 'karma': '64'}, {'num_comentario': '9', 'usuario': 'estemenda', 'fecha': '1715375640', 'texto': 'La clave de bóveda del sionismo es la aquiescencia usana, al final puede suceder como en Vietnam, que el catalizador de la retirada sean las manifestaciones en los colleges estadounidenses, aunque la situación ya venga siendo incómoda hasta para estos aprendices de pueblo elegido.', 'votos': '3', 'karma': '24'}, {'num_comentario': '10', 'usuario': 'BuckMulligan', 'fecha': '1715379934', 'texto': 'Israeli decente? Todo Israeli no juzgado debe pasar por un proceso de desnacificacion. Sin excepciónes', 'votos': '4', 'karma': '42'}, {'num_comentario': '11', 'usuario': 'Suleiman', 'fecha': '1715380150', 'texto': 'Tienen mamado el discurso desde que nacen. Jamás,ni por asomo dudarán que no están haciendo lo correcto.Más bien al contrario, que son unos mártires y que han de luchar a viento y marea contra todo el mal que les acosa... Solo hace falta ver cómo actúan y piensan la mayoria de civiles... Y más de uno cree que son muy blandos...', 'votos': '4', 'karma': '27'}, {'num_comentario': '12', 'usuario': 'xinxaxoxos', 'fecha': '1715380310', 'texto': '#1 ¿Pero quien se debe hartar? ¿El que ahostia, o el que recibe?', 'votos': '1', 'karma': '20'}, {'num_comentario': '13', 'usuario': 'Janssen', 'fecha': '1715380580', 'texto': '?Quién va a tener los cojones para hacerlo?... No veo a nadie. \"Papá\"(EEUU) y la UE no lo harán.', 'votos': '0', 'karma': '0'}, {'num_comentario': '14', 'usuario': 'sofazen', 'fecha': '1715381314', 'texto': 'Israel lleva decenas de años cometiendo abusos contra los palestinos. Aparte de los colonos robando propiedades, todos los chavales y chavalas que han hecho la mili, creo que de 2 años, han abusado de alguna forma de personas desarmadas e indefensas. Está todo tan podrido que es difícil poder separar el trigo limpio. Y más si lo han de hacer ellos.', 'votos': '5', 'karma': '53'}, {'num_comentario': '15', 'usuario': 'zeekren', 'fecha': '1715381483', 'texto': '#5 al final es la solución. Hay demasiados individuos que consumen y contaminan en un planeta al borde del colapso.\\n\\nSalvemos a la personas, la humanidad es una gran cosa, y no se merece irse a la mierda de la mano de tanto hijoputa.\\n\\nReduzcamos las emisiones de una puta vez, empezando por todos los votantes del actual gobierno israelí, luego ya veremos quién viene después, pero lo de estos es apremiante.', 'votos': '2', 'karma': '27'}, {'num_comentario': '16', 'usuario': 'zeekren', 'fecha': '1715381689', 'texto': '#14 chicas 2 años, chicos 3.', 'votos': '3', 'karma': '37'}, {'num_comentario': '17', 'usuario': 'Amonamantangorri', 'fecha': '1715382076', 'texto': '#6 Él mismo Gideon Levy ha reconocido que no le hacen caso ni sus propios hijos.', 'votos': '1', 'karma': '27'}, {'num_comentario': '18', 'usuario': 'manc0ntr0', 'fecha': '1715382120', 'texto': '#16 tela, 2 o 3 años de mili. No debe ser broma', 'votos': '1', 'karma': '15'}, {'num_comentario': '19', 'usuario': 'Kleshk', 'fecha': '1715382613', 'texto': 'Por menos se empezó una guerra en Irak hace 20 años...', 'votos': '0', 'karma': '0'}, {'num_comentario': '20', 'usuario': 'Cherenkov', 'fecha': '1715386692', 'texto': '#3 Es el sello de calidad bro, si pone el negativo probablemente saldrá a portada.', 'votos': '2', 'karma': '38'}, {'num_comentario': '21', 'usuario': 'Polarin', 'fecha': '1715394751', 'texto': '#4 Eso se llama limpieza etnica.', 'votos': '0', 'karma': '0'}, {'num_comentario': '22', 'usuario': 'aozora', 'fecha': '1715396362', 'texto': 'Cuanto odio, ¿no?', 'votos': '0', 'karma': '0'}, {'num_comentario': '23', 'usuario': 'moco36', 'fecha': '1715409967', 'texto': 'Una cancer no se arregla cambiándolo de sitio, erradicación de esta gentuza es lo que hay que hacer.', 'votos': '0', 'karma': '0'}, {'num_comentario': '24', 'usuario': 'Txape', 'fecha': '1715410117', 'texto': '#10 todo israelí que haya estado en el ejército debe de ser juzgado. Y mientras eso no pase, no permitir que puedan entrar en mi país esos criminales, por lo que dice #14. Por nuestra seguridad.', 'votos': '0', 'karma': '0'}, {'num_comentario': '25', 'usuario': 'solojavi', 'fecha': '1715410533', 'texto': 'Siguiendo su política habría que bombardear el país hasta que entreguen a los responsables del genocidio.\\nDe momento me confirmaría con que el cagón al que llaman biden retirara su flota de las inmediaciones (se lo han puesto fácil con las declaraciones de los últimos días dando a entender que pueden defenderse solitos), pero claramente lo de que no usen sus armas para matar ha sido un acto desesperado para tratar de evitar la sangría de votantes.', 'votos': '0', 'karma': '0'}, {'num_comentario': '26', 'usuario': 'Hamuchan', 'fecha': '1715411043', 'texto': 'Hamás haría exactamente lo mismo, es más uno de sus objetivos es erradicar Israel, no sé de por qué os sorprende que se odien tanto entre ellos, es lo que tienen sociedades basadas en religiones mierda, que mantienen el odio constante con sus vecinos por décadas, etc. No se le veía a ninguna parte muchas ganas de hacer paz.\\n\\nYo conocí musulmanes extremistas en una empresa que trabajé en Japón, de la gente más turbia que conocí en mi vida, mejor no digo que tipo de fotos se sentían orgullosos de enseñar.', 'votos': '1', 'karma': '13'}, {'num_comentario': '27', 'usuario': 'ErJakerNROL35', 'fecha': '1715414417', 'texto': '#24 lo mismo con los palestinos', 'votos': '0', 'karma': '0'}, {'num_comentario': '28', 'usuario': 'ErJakerNROL35', 'fecha': '1715414466', 'texto': '#22 mucho odio antisemita en MNM', 'votos': '0', 'karma': '0'}, {'num_comentario': '29', 'usuario': 'ErJakerNROL35', 'fecha': '1715414504', 'texto': '#23 reportado por incitacion al odio', 'votos': '0', 'karma': '0'}, {'num_comentario': '30', 'usuario': 'frankiegth', 'fecha': '1715419278', 'texto': '#0. La captura de la foto dice entre lineas : \"Cuando sonreir en la foto ya no puede ocultar tus miserias.\"', 'votos': '0', 'karma': '0'}, {'num_comentario': '31', 'usuario': 'crioyo', 'fecha': '1715420952', 'texto': 'Igual que en la Alemania nazi, eso no basta. Hace falta una intervención y un reciclado institucional profundo. Ah, y un control internacional que asegure que se respetan los ddhh de los palestinos.\\n\\nPor no hablar de sanciones ejemplares a los que han apoyado esta barbarie.\\n\\nQuizás en una realidad paralela, la historia la escriben los vencedores…', 'votos': '0', 'karma': '0'}]\n"
     ]
    }
   ],
   "source": [
    "\n",
    "df_completo = pd.read_csv(\"Data/MeneosCompleto.csv\", sep=\";\")\n",
    "\n",
    "browser = webdriver.Chrome()\n",
    "\n",
    "limite_comentarios = 1\n",
    "contador_comentarios = 0\n",
    "lista_aux_comentarios = []\n",
    "\n",
    "for meneo in df_completo[\"URL\"]:\n",
    "    mas_paginas_comentarios = True\n",
    "\n",
    "    if contador_comentarios <= limite_comentarios:\n",
    "        num_pag_comentarios = \"\"\n",
    "\n",
    "        while mas_paginas_comentarios:\n",
    "            \n",
    "            browser.get(f\"{meneo}/standard/{num_pag_comentarios}\")\n",
    "            Soup_pagina_meneo = BeautifulSoup(browser.page_source, \"html.parser\")\n",
    "\n",
    "            resultado = extrae_comentarios_meneo(Soup_pagina_meneo)            \n",
    "            print(resultado[0])\n",
    "            lista_aux_comentarios.extend(resultado[0])\n",
    "            contador_comentarios += len(resultado[0])\n",
    "            \n",
    "            if resultado[1] == False:\n",
    "                mas_paginas_comentarios = False\n",
    "            else:\n",
    "                num_pag_comentarios = 2\n",
    "    else:\n",
    "        break\n",
    "\n",
    "browser.close()\n",
    "\n",
    "# lista_aux = []\n",
    "# contador_paginas = 0\n",
    "# contador_errores = {\"Errores\" : 0, \"Paginas_Error\" : []}\n",
    "\n",
    "# browser = webdriver.Chrome()\n",
    "# browser.get(f\"{URL_BASE}\")\n",
    "\n",
    "# # Se obtiene el número total de páginas de noticias y se calcula la página de inicio para el año elegido\n",
    "# total_paginas = int(BeautifulSoup(browser.page_source, \"html.parser\").find(\"div\", class_=\"pages\").find_all(\"a\")[-2].text)\n",
    "# pagina = 1\n",
    "\n",
    "# try:\n",
    "#     while pagina <= total_paginas:          \n",
    "#         try:\n",
    "#             # Se solicita al navegador la apertura de la URL de la página\n",
    "#             if pagina >= 2: \n",
    "#                 browser.get(f\"{URL_BASE}?page={pagina}\")\n",
    "\n",
    "#             # Se obtiene el BeautifulSoup a partir del código fuente de la página\n",
    "#             Soup_pagina_meneos = BeautifulSoup(browser.page_source, \"html.parser\")\n",
    "\n",
    "#             # Se extrae el listado de noticias\n",
    "#             lista_meneos = Soup_pagina_meneos.find_all(\"div\", class_=\"news-summary\")\n",
    "\n",
    "#             # Se analiza el listado con la función de extracción\n",
    "#             resultado = extrae_datos_meneos(lista_meneos)\n",
    "            \n",
    "#             # Se añaden los resultados de la extracción a una lista\n",
    "#             lista_aux.extend(resultado)\n",
    "\n",
    "#             # Se aumenta el contador de páginas\n",
    "#             pagina += 1\n",
    "#             contador_paginas += 1\n",
    "            \n",
    "#             print(f\" Escaneando página {contador_paginas}  \", end=\"\\r\")\n",
    "#         except:            \n",
    "#             contador_errores[\"Errores\"] += 1\n",
    "#             contador_errores[\"Paginas_Error\"].append(pagina)\n",
    "# except:\n",
    "#     print(\"Ocurrido un error inesperado... ¿Estaba cargada la función?\")\n",
    "\n",
    "# print(\"\\n\")\n",
    "# print(\"-\"*34)\n",
    "# print(f\" Total paginas procesadas: {contador_paginas}\")\n",
    "# print(f\" Total noticias importadas: {len(lista_aux)}\")\n",
    "# print(f\" Total de errores: {contador_errores[\"Errores\"]}\")\n",
    "# print(\"-\"*34)\n",
    "\n",
    "# browser.close()"
   ]
  }
 ],
 "metadata": {
  "kernelspec": {
   "display_name": "Python 3",
   "language": "python",
   "name": "python3"
  },
  "language_info": {
   "codemirror_mode": {
    "name": "ipython",
    "version": 3
   },
   "file_extension": ".py",
   "mimetype": "text/x-python",
   "name": "python",
   "nbconvert_exporter": "python",
   "pygments_lexer": "ipython3",
   "version": "3.12.2"
  }
 },
 "nbformat": 4,
 "nbformat_minor": 2
}
