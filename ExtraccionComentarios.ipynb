{
 "cells": [
  {
   "cell_type": "markdown",
   "metadata": {},
   "source": [
    "# Proyecto ETL\n",
    "#### Grupo 1:  Gledson - Eva - Sara - Rubén - Luis Q"
   ]
  },
  {
   "cell_type": "markdown",
   "metadata": {},
   "source": [
    "### - - Importación de módulos y librerías - - "
   ]
  },
  {
   "cell_type": "code",
   "execution_count": null,
   "metadata": {},
   "outputs": [],
   "source": [
    "import pandas as pd\n",
    "import numpy as np\n",
    "\n",
    "from bs4 import BeautifulSoup\n",
    "from selenium import webdriver\n",
    "\n",
    "from Scrappers.Scrapper_Comentarios import extrae_comentarios_meneo"
   ]
  },
  {
   "cell_type": "markdown",
   "metadata": {},
   "source": [
    "# Extracción de datos\n",
    "\n",
    "Se definen las funciónes auxiliares para la extracción"
   ]
  },
  {
   "cell_type": "markdown",
   "metadata": {},
   "source": [
    "#### Bucle para el Scrapping de Comentarios  ####"
   ]
  },
  {
   "cell_type": "code",
   "execution_count": null,
   "metadata": {},
   "outputs": [],
   "source": [
    "df_completo = pd.read_csv(\"Data/MeneosCompleto.csv\", sep=\";\")\n",
    "\n",
    "browser = webdriver.Chrome()\n",
    "\n",
    "limite_comentarios = 1000\n",
    "contador_comentarios = 0\n",
    "lista_aux_comentarios = []\n",
    "\n",
    "for meneo in df_completo[\"URL\"]:\n",
    "    if contador_comentarios < limite_comentarios:\n",
    "        pagina_comentarios = 1\n",
    "\n",
    "        browser.get(f\"{meneo}/standard/\")\n",
    "        Soup_pagina_meneo = BeautifulSoup(browser.page_source, \"html.parser\")\n",
    "\n",
    "        try:\n",
    "            total_paginas_comentarios = int(Soup_pagina_meneo.find(\"div\", class_=\"pages\")[\"data-total-pages\"])\n",
    "        except:\n",
    "            total_paginas_comentarios = 1\n",
    "\n",
    "        while pagina_comentarios <= total_paginas_comentarios:\n",
    "            if pagina_comentarios == 1:\n",
    "                resultado = extrae_comentarios_meneo(Soup_pagina_meneo, pagina_comentarios)\n",
    "            else:\n",
    "                browser.get(f\"{meneo}/standard/{pagina_comentarios}\")\n",
    "                Soup_pagina_meneo = BeautifulSoup(browser.page_source, \"html.parser\")\n",
    "                resultado = extrae_comentarios_meneo(Soup_pagina_meneo, pagina_comentarios)\n",
    "            \n",
    "            lista_aux_comentarios.extend(resultado)\n",
    "            contador_comentarios += len(resultado)\n",
    "            pagina_comentarios += 1\n",
    "    else:\n",
    "        break\n",
    "    \n",
    "browser.close()"
   ]
  },
  {
   "cell_type": "code",
   "execution_count": null,
   "metadata": {},
   "outputs": [],
   "source": [
    "df = pd.DataFrame(lista_aux_comentarios)"
   ]
  },
  {
   "cell_type": "code",
   "execution_count": null,
   "metadata": {},
   "outputs": [],
   "source": [
    "df.to_csv(f'Data/{contador_comentarios}_Comentarios.csv', sep=';', encoding='utf-8', index=False)"
   ]
  }
 ],
 "metadata": {
  "kernelspec": {
   "display_name": "Python 3",
   "language": "python",
   "name": "python3"
  },
  "language_info": {
   "codemirror_mode": {
    "name": "ipython",
    "version": 3
   },
   "file_extension": ".py",
   "mimetype": "text/x-python",
   "name": "python",
   "nbconvert_exporter": "python",
   "pygments_lexer": "ipython3",
   "version": "3.12.2"
  }
 },
 "nbformat": 4,
 "nbformat_minor": 2
}
