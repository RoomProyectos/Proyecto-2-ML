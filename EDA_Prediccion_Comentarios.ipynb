{
 "cells": [
  {
   "cell_type": "markdown",
   "metadata": {},
   "source": [
    "El TARGET es el karma y los votos\n",
    "\n",
    "- Predicción de los sentimientos en los comentarios publicados de Meneame , teniendo en cuenta el karma de la publicación y los votos recividos a la misma."
   ]
  },
  {
   "cell_type": "code",
   "execution_count": 1,
   "metadata": {},
   "outputs": [],
   "source": [
    "import numpy as np\n",
    "import pandas as pd\n",
    "import matplotlib.pyplot as plt\n",
    "import seaborn as sns\n",
    "\n",
    "import nltk"
   ]
  },
  {
   "cell_type": "code",
   "execution_count": 2,
   "metadata": {},
   "outputs": [
    {
     "data": {
      "text/plain": [
       "(100178, 10)"
      ]
     },
     "execution_count": 2,
     "metadata": {},
     "output_type": "execute_result"
    }
   ],
   "source": [
    "df_completo = pd.read_csv(\"Data/100178_Comentarios.csv\", sep=\";\")\n",
    "df_completo.shape"
   ]
  },
  {
   "cell_type": "code",
   "execution_count": 5,
   "metadata": {},
   "outputs": [
    {
     "data": {
      "text/html": [
       "<div>\n",
       "<style scoped>\n",
       "    .dataframe tbody tr th:only-of-type {\n",
       "        vertical-align: middle;\n",
       "    }\n",
       "\n",
       "    .dataframe tbody tr th {\n",
       "        vertical-align: top;\n",
       "    }\n",
       "\n",
       "    .dataframe thead th {\n",
       "        text-align: right;\n",
       "    }\n",
       "</style>\n",
       "<table border=\"1\" class=\"dataframe\">\n",
       "  <thead>\n",
       "    <tr style=\"text-align: right;\">\n",
       "      <th></th>\n",
       "      <th>URL</th>\n",
       "      <th>fecha_envio</th>\n",
       "      <th>fecha_publicacion</th>\n",
       "      <th>pag_comentario</th>\n",
       "      <th>num_comentario</th>\n",
       "      <th>usuario</th>\n",
       "      <th>fecha</th>\n",
       "      <th>texto</th>\n",
       "      <th>votos</th>\n",
       "      <th>karma</th>\n",
       "    </tr>\n",
       "  </thead>\n",
       "  <tbody>\n",
       "    <tr>\n",
       "      <th>0</th>\n",
       "      <td>https://old.meneame.net/story/arresten-lideres...</td>\n",
       "      <td>1715371648</td>\n",
       "      <td>1715379303</td>\n",
       "      <td>1</td>\n",
       "      <td>1</td>\n",
       "      <td>ingenierodepalillos</td>\n",
       "      <td>1715371791</td>\n",
       "      <td>O que les den de hostias hasta hartarse, son t...</td>\n",
       "      <td>8.0</td>\n",
       "      <td>77.0</td>\n",
       "    </tr>\n",
       "    <tr>\n",
       "      <th>1</th>\n",
       "      <td>https://old.meneame.net/story/arresten-lideres...</td>\n",
       "      <td>1715371648</td>\n",
       "      <td>1715379303</td>\n",
       "      <td>1</td>\n",
       "      <td>2</td>\n",
       "      <td>Top_Banana</td>\n",
       "      <td>1715372035</td>\n",
       "      <td>#1 Sea cual sea la opción, seguro que preferir...</td>\n",
       "      <td>3.0</td>\n",
       "      <td>35.0</td>\n",
       "    </tr>\n",
       "    <tr>\n",
       "      <th>2</th>\n",
       "      <td>https://old.meneame.net/story/arresten-lideres...</td>\n",
       "      <td>1715371648</td>\n",
       "      <td>1715379303</td>\n",
       "      <td>1</td>\n",
       "      <td>3</td>\n",
       "      <td>Top_Banana</td>\n",
       "      <td>1715372235</td>\n",
       "      <td>Un saludo Mysto, ¡hermoso!</td>\n",
       "      <td>4.0</td>\n",
       "      <td>51.0</td>\n",
       "    </tr>\n",
       "    <tr>\n",
       "      <th>3</th>\n",
       "      <td>https://old.meneame.net/story/arresten-lideres...</td>\n",
       "      <td>1715371648</td>\n",
       "      <td>1715379303</td>\n",
       "      <td>1</td>\n",
       "      <td>4</td>\n",
       "      <td>CharlesBrowson</td>\n",
       "      <td>1715372556</td>\n",
       "      <td>Es tal es desproposito y la barbarie que no ca...</td>\n",
       "      <td>6.0</td>\n",
       "      <td>52.0</td>\n",
       "    </tr>\n",
       "    <tr>\n",
       "      <th>4</th>\n",
       "      <td>https://old.meneame.net/story/arresten-lideres...</td>\n",
       "      <td>1715371648</td>\n",
       "      <td>1715379303</td>\n",
       "      <td>1</td>\n",
       "      <td>5</td>\n",
       "      <td>BigMom</td>\n",
       "      <td>1715372955</td>\n",
       "      <td>#1 Es el problema, uno no quiere rebajarse. Pe...</td>\n",
       "      <td>3.0</td>\n",
       "      <td>33.0</td>\n",
       "    </tr>\n",
       "  </tbody>\n",
       "</table>\n",
       "</div>"
      ],
      "text/plain": [
       "                                                 URL  fecha_envio  \\\n",
       "0  https://old.meneame.net/story/arresten-lideres...   1715371648   \n",
       "1  https://old.meneame.net/story/arresten-lideres...   1715371648   \n",
       "2  https://old.meneame.net/story/arresten-lideres...   1715371648   \n",
       "3  https://old.meneame.net/story/arresten-lideres...   1715371648   \n",
       "4  https://old.meneame.net/story/arresten-lideres...   1715371648   \n",
       "\n",
       "   fecha_publicacion  pag_comentario  num_comentario              usuario  \\\n",
       "0         1715379303               1               1  ingenierodepalillos   \n",
       "1         1715379303               1               2           Top_Banana   \n",
       "2         1715379303               1               3           Top_Banana   \n",
       "3         1715379303               1               4       CharlesBrowson   \n",
       "4         1715379303               1               5               BigMom   \n",
       "\n",
       "        fecha                                              texto  votos  karma  \n",
       "0  1715371791  O que les den de hostias hasta hartarse, son t...    8.0   77.0  \n",
       "1  1715372035  #1 Sea cual sea la opción, seguro que preferir...    3.0   35.0  \n",
       "2  1715372235                         Un saludo Mysto, ¡hermoso!    4.0   51.0  \n",
       "3  1715372556  Es tal es desproposito y la barbarie que no ca...    6.0   52.0  \n",
       "4  1715372955  #1 Es el problema, uno no quiere rebajarse. Pe...    3.0   33.0  "
      ]
     },
     "execution_count": 5,
     "metadata": {},
     "output_type": "execute_result"
    }
   ],
   "source": [
    "df_completo.head()"
   ]
  },
  {
   "cell_type": "code",
   "execution_count": 7,
   "metadata": {},
   "outputs": [
    {
     "data": {
      "text/plain": [
       "(100178, 10)"
      ]
     },
     "execution_count": 7,
     "metadata": {},
     "output_type": "execute_result"
    }
   ],
   "source": [
    "df_completo.shape"
   ]
  },
  {
   "cell_type": "code",
   "execution_count": 8,
   "metadata": {},
   "outputs": [
    {
     "data": {
      "text/plain": [
       "URL                    0\n",
       "fecha_envio            0\n",
       "fecha_publicacion      0\n",
       "pag_comentario         0\n",
       "num_comentario         0\n",
       "usuario                2\n",
       "fecha                  0\n",
       "texto                 33\n",
       "votos                785\n",
       "karma                785\n",
       "dtype: int64"
      ]
     },
     "execution_count": 8,
     "metadata": {},
     "output_type": "execute_result"
    }
   ],
   "source": [
    "\n",
    "df_completo.isna().sum()"
   ]
  }
 ],
 "metadata": {
  "kernelspec": {
   "display_name": "Python 3",
   "language": "python",
   "name": "python3"
  },
  "language_info": {
   "codemirror_mode": {
    "name": "ipython",
    "version": 3
   },
   "file_extension": ".py",
   "mimetype": "text/x-python",
   "name": "python",
   "nbconvert_exporter": "python",
   "pygments_lexer": "ipython3",
   "version": "3.12.2"
  }
 },
 "nbformat": 4,
 "nbformat_minor": 2
}
