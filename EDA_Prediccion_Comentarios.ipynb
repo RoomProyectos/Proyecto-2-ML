{
 "cells": [
  {
   "cell_type": "markdown",
   "metadata": {},
   "source": [
    "El TARGET es el karma y los votos\n",
    "\n",
    "- Predicción de los sentimientos en los comentarios publicados de Meneame , teniendo en cuenta el karma de la publicación y los votos recividos a la misma."
   ]
  },
  {
   "cell_type": "code",
   "execution_count": 1,
   "metadata": {},
   "outputs": [],
   "source": [
    "\n",
    "# Limpieza\n",
    "import numpy as np\n",
    "import pandas as pd\n",
    "import nltk\n",
    "\n",
    "# Graficas\n",
    "import matplotlib.pyplot as plt\n",
    "import seaborn as sns\n",
    "\n",
    "# Normalizacion\n",
    "from sklearn.preprocessing import MinMaxScaler\n",
    "\n",
    "# GridSearchCV\n",
    "from sklearn.model_selection import GridSearchCV\n",
    "\n",
    "# Train, Test\n",
    "from sklearn.model_selection import train_test_split\n",
    "\n",
    "# Metricas\n",
    "from sklearn.metrics import jaccard_score\n",
    "from sklearn.metrics import accuracy_score\n",
    "from sklearn.metrics import precision_score\n",
    "from sklearn.metrics import recall_score\n",
    "from sklearn.metrics import f1_score\n",
    "from sklearn.metrics import roc_auc_score\n",
    "from sklearn.metrics import confusion_matrix\n",
    "from sklearn.metrics import classification_report\n",
    "\n",
    "# Clasificadores\n",
    "from sklearn.neighbors import KNeighborsClassifier\n",
    "from sklearn.neighbors import RadiusNeighborsClassifier\n",
    "from sklearn.neighbors import NearestCentroid\n",
    "from sklearn.naive_bayes import GaussianNB\n",
    "from sklearn.linear_model import LogisticRegression\n",
    "from sklearn.tree import DecisionTreeClassifier\n",
    "from sklearn.ensemble import RandomForestClassifier\n",
    "from sklearn.svm import SVC\n",
    "from sklearn.ensemble import AdaBoostClassifier\n",
    "from sklearn.ensemble import GradientBoostingClassifier\n",
    "\n",
    "# Validacion\n",
    "from sklearn.model_selection import StratifiedKFold"
   ]
  },
  {
   "cell_type": "code",
   "execution_count": 2,
   "metadata": {},
   "outputs": [
    {
     "data": {
      "text/plain": [
       "(100178, 10)"
      ]
     },
     "execution_count": 2,
     "metadata": {},
     "output_type": "execute_result"
    }
   ],
   "source": [
    "df_completo = pd.read_csv(\"Data/100178_Comentarios.csv\", sep=\";\")\n",
    "df_completo.shape"
   ]
  },
  {
   "cell_type": "code",
   "execution_count": 3,
   "metadata": {},
   "outputs": [
    {
     "data": {
      "text/html": [
       "<div>\n",
       "<style scoped>\n",
       "    .dataframe tbody tr th:only-of-type {\n",
       "        vertical-align: middle;\n",
       "    }\n",
       "\n",
       "    .dataframe tbody tr th {\n",
       "        vertical-align: top;\n",
       "    }\n",
       "\n",
       "    .dataframe thead th {\n",
       "        text-align: right;\n",
       "    }\n",
       "</style>\n",
       "<table border=\"1\" class=\"dataframe\">\n",
       "  <thead>\n",
       "    <tr style=\"text-align: right;\">\n",
       "      <th></th>\n",
       "      <th>URL</th>\n",
       "      <th>fecha_envio</th>\n",
       "      <th>fecha_publicacion</th>\n",
       "      <th>pag_comentario</th>\n",
       "      <th>num_comentario</th>\n",
       "      <th>usuario</th>\n",
       "      <th>fecha</th>\n",
       "      <th>texto</th>\n",
       "      <th>votos</th>\n",
       "      <th>karma</th>\n",
       "    </tr>\n",
       "  </thead>\n",
       "  <tbody>\n",
       "    <tr>\n",
       "      <th>0</th>\n",
       "      <td>https://old.meneame.net/story/arresten-lideres...</td>\n",
       "      <td>1715371648</td>\n",
       "      <td>1715379303</td>\n",
       "      <td>1</td>\n",
       "      <td>1</td>\n",
       "      <td>ingenierodepalillos</td>\n",
       "      <td>1715371791</td>\n",
       "      <td>O que les den de hostias hasta hartarse, son t...</td>\n",
       "      <td>8.0</td>\n",
       "      <td>77.0</td>\n",
       "    </tr>\n",
       "    <tr>\n",
       "      <th>1</th>\n",
       "      <td>https://old.meneame.net/story/arresten-lideres...</td>\n",
       "      <td>1715371648</td>\n",
       "      <td>1715379303</td>\n",
       "      <td>1</td>\n",
       "      <td>2</td>\n",
       "      <td>Top_Banana</td>\n",
       "      <td>1715372035</td>\n",
       "      <td>#1 Sea cual sea la opción, seguro que preferir...</td>\n",
       "      <td>3.0</td>\n",
       "      <td>35.0</td>\n",
       "    </tr>\n",
       "    <tr>\n",
       "      <th>2</th>\n",
       "      <td>https://old.meneame.net/story/arresten-lideres...</td>\n",
       "      <td>1715371648</td>\n",
       "      <td>1715379303</td>\n",
       "      <td>1</td>\n",
       "      <td>3</td>\n",
       "      <td>Top_Banana</td>\n",
       "      <td>1715372235</td>\n",
       "      <td>Un saludo Mysto, ¡hermoso!</td>\n",
       "      <td>4.0</td>\n",
       "      <td>51.0</td>\n",
       "    </tr>\n",
       "    <tr>\n",
       "      <th>3</th>\n",
       "      <td>https://old.meneame.net/story/arresten-lideres...</td>\n",
       "      <td>1715371648</td>\n",
       "      <td>1715379303</td>\n",
       "      <td>1</td>\n",
       "      <td>4</td>\n",
       "      <td>CharlesBrowson</td>\n",
       "      <td>1715372556</td>\n",
       "      <td>Es tal es desproposito y la barbarie que no ca...</td>\n",
       "      <td>6.0</td>\n",
       "      <td>52.0</td>\n",
       "    </tr>\n",
       "    <tr>\n",
       "      <th>4</th>\n",
       "      <td>https://old.meneame.net/story/arresten-lideres...</td>\n",
       "      <td>1715371648</td>\n",
       "      <td>1715379303</td>\n",
       "      <td>1</td>\n",
       "      <td>5</td>\n",
       "      <td>BigMom</td>\n",
       "      <td>1715372955</td>\n",
       "      <td>#1 Es el problema, uno no quiere rebajarse. Pe...</td>\n",
       "      <td>3.0</td>\n",
       "      <td>33.0</td>\n",
       "    </tr>\n",
       "  </tbody>\n",
       "</table>\n",
       "</div>"
      ],
      "text/plain": [
       "                                                 URL  fecha_envio  \\\n",
       "0  https://old.meneame.net/story/arresten-lideres...   1715371648   \n",
       "1  https://old.meneame.net/story/arresten-lideres...   1715371648   \n",
       "2  https://old.meneame.net/story/arresten-lideres...   1715371648   \n",
       "3  https://old.meneame.net/story/arresten-lideres...   1715371648   \n",
       "4  https://old.meneame.net/story/arresten-lideres...   1715371648   \n",
       "\n",
       "   fecha_publicacion  pag_comentario  num_comentario              usuario  \\\n",
       "0         1715379303               1               1  ingenierodepalillos   \n",
       "1         1715379303               1               2           Top_Banana   \n",
       "2         1715379303               1               3           Top_Banana   \n",
       "3         1715379303               1               4       CharlesBrowson   \n",
       "4         1715379303               1               5               BigMom   \n",
       "\n",
       "        fecha                                              texto  votos  karma  \n",
       "0  1715371791  O que les den de hostias hasta hartarse, son t...    8.0   77.0  \n",
       "1  1715372035  #1 Sea cual sea la opción, seguro que preferir...    3.0   35.0  \n",
       "2  1715372235                         Un saludo Mysto, ¡hermoso!    4.0   51.0  \n",
       "3  1715372556  Es tal es desproposito y la barbarie que no ca...    6.0   52.0  \n",
       "4  1715372955  #1 Es el problema, uno no quiere rebajarse. Pe...    3.0   33.0  "
      ]
     },
     "execution_count": 3,
     "metadata": {},
     "output_type": "execute_result"
    }
   ],
   "source": [
    "df_completo.head()"
   ]
  },
  {
   "cell_type": "code",
   "execution_count": 4,
   "metadata": {},
   "outputs": [
    {
     "data": {
      "text/plain": [
       "URL                    0\n",
       "fecha_envio            0\n",
       "fecha_publicacion      0\n",
       "pag_comentario         0\n",
       "num_comentario         0\n",
       "usuario                2\n",
       "fecha                  0\n",
       "texto                 33\n",
       "votos                785\n",
       "karma                785\n",
       "dtype: int64"
      ]
     },
     "execution_count": 4,
     "metadata": {},
     "output_type": "execute_result"
    }
   ],
   "source": [
    "\n",
    "df_completo.isna().sum()"
   ]
  },
  {
   "cell_type": "code",
   "execution_count": 5,
   "metadata": {},
   "outputs": [],
   "source": [
    "df_no_nan = df_completo.dropna()"
   ]
  },
  {
   "cell_type": "code",
   "execution_count": 6,
   "metadata": {},
   "outputs": [
    {
     "data": {
      "text/plain": [
       "URL                  0\n",
       "fecha_envio          0\n",
       "fecha_publicacion    0\n",
       "pag_comentario       0\n",
       "num_comentario       0\n",
       "usuario              0\n",
       "fecha                0\n",
       "texto                0\n",
       "votos                0\n",
       "karma                0\n",
       "dtype: int64"
      ]
     },
     "execution_count": 6,
     "metadata": {},
     "output_type": "execute_result"
    }
   ],
   "source": [
    "df_no_nan.isna().sum()"
   ]
  },
  {
   "cell_type": "code",
   "execution_count": 7,
   "metadata": {},
   "outputs": [
    {
     "data": {
      "text/plain": [
       "(99358, 10)"
      ]
     },
     "execution_count": 7,
     "metadata": {},
     "output_type": "execute_result"
    }
   ],
   "source": [
    "df_no_nan.shape"
   ]
  },
  {
   "cell_type": "code",
   "execution_count": 8,
   "metadata": {},
   "outputs": [
    {
     "data": {
      "text/html": [
       "<div>\n",
       "<style scoped>\n",
       "    .dataframe tbody tr th:only-of-type {\n",
       "        vertical-align: middle;\n",
       "    }\n",
       "\n",
       "    .dataframe tbody tr th {\n",
       "        vertical-align: top;\n",
       "    }\n",
       "\n",
       "    .dataframe thead th {\n",
       "        text-align: right;\n",
       "    }\n",
       "</style>\n",
       "<table border=\"1\" class=\"dataframe\">\n",
       "  <thead>\n",
       "    <tr style=\"text-align: right;\">\n",
       "      <th></th>\n",
       "      <th>URL</th>\n",
       "      <th>fecha_envio</th>\n",
       "      <th>fecha_publicacion</th>\n",
       "      <th>pag_comentario</th>\n",
       "      <th>num_comentario</th>\n",
       "      <th>usuario</th>\n",
       "      <th>fecha</th>\n",
       "      <th>texto</th>\n",
       "      <th>votos</th>\n",
       "      <th>karma</th>\n",
       "    </tr>\n",
       "  </thead>\n",
       "  <tbody>\n",
       "    <tr>\n",
       "      <th>0</th>\n",
       "      <td>https://old.meneame.net/story/arresten-lideres...</td>\n",
       "      <td>1715371648</td>\n",
       "      <td>1715379303</td>\n",
       "      <td>1</td>\n",
       "      <td>1</td>\n",
       "      <td>ingenierodepalillos</td>\n",
       "      <td>1715371791</td>\n",
       "      <td>O que les den de hostias hasta hartarse, son t...</td>\n",
       "      <td>8.0</td>\n",
       "      <td>77.0</td>\n",
       "    </tr>\n",
       "    <tr>\n",
       "      <th>1</th>\n",
       "      <td>https://old.meneame.net/story/arresten-lideres...</td>\n",
       "      <td>1715371648</td>\n",
       "      <td>1715379303</td>\n",
       "      <td>1</td>\n",
       "      <td>2</td>\n",
       "      <td>Top_Banana</td>\n",
       "      <td>1715372035</td>\n",
       "      <td>#1 Sea cual sea la opción, seguro que preferir...</td>\n",
       "      <td>3.0</td>\n",
       "      <td>35.0</td>\n",
       "    </tr>\n",
       "    <tr>\n",
       "      <th>2</th>\n",
       "      <td>https://old.meneame.net/story/arresten-lideres...</td>\n",
       "      <td>1715371648</td>\n",
       "      <td>1715379303</td>\n",
       "      <td>1</td>\n",
       "      <td>3</td>\n",
       "      <td>Top_Banana</td>\n",
       "      <td>1715372235</td>\n",
       "      <td>Un saludo Mysto, ¡hermoso!</td>\n",
       "      <td>4.0</td>\n",
       "      <td>51.0</td>\n",
       "    </tr>\n",
       "    <tr>\n",
       "      <th>3</th>\n",
       "      <td>https://old.meneame.net/story/arresten-lideres...</td>\n",
       "      <td>1715371648</td>\n",
       "      <td>1715379303</td>\n",
       "      <td>1</td>\n",
       "      <td>4</td>\n",
       "      <td>CharlesBrowson</td>\n",
       "      <td>1715372556</td>\n",
       "      <td>Es tal es desproposito y la barbarie que no ca...</td>\n",
       "      <td>6.0</td>\n",
       "      <td>52.0</td>\n",
       "    </tr>\n",
       "    <tr>\n",
       "      <th>4</th>\n",
       "      <td>https://old.meneame.net/story/arresten-lideres...</td>\n",
       "      <td>1715371648</td>\n",
       "      <td>1715379303</td>\n",
       "      <td>1</td>\n",
       "      <td>5</td>\n",
       "      <td>BigMom</td>\n",
       "      <td>1715372955</td>\n",
       "      <td>#1 Es el problema, uno no quiere rebajarse. Pe...</td>\n",
       "      <td>3.0</td>\n",
       "      <td>33.0</td>\n",
       "    </tr>\n",
       "  </tbody>\n",
       "</table>\n",
       "</div>"
      ],
      "text/plain": [
       "                                                 URL  fecha_envio  \\\n",
       "0  https://old.meneame.net/story/arresten-lideres...   1715371648   \n",
       "1  https://old.meneame.net/story/arresten-lideres...   1715371648   \n",
       "2  https://old.meneame.net/story/arresten-lideres...   1715371648   \n",
       "3  https://old.meneame.net/story/arresten-lideres...   1715371648   \n",
       "4  https://old.meneame.net/story/arresten-lideres...   1715371648   \n",
       "\n",
       "   fecha_publicacion  pag_comentario  num_comentario              usuario  \\\n",
       "0         1715379303               1               1  ingenierodepalillos   \n",
       "1         1715379303               1               2           Top_Banana   \n",
       "2         1715379303               1               3           Top_Banana   \n",
       "3         1715379303               1               4       CharlesBrowson   \n",
       "4         1715379303               1               5               BigMom   \n",
       "\n",
       "        fecha                                              texto  votos  karma  \n",
       "0  1715371791  O que les den de hostias hasta hartarse, son t...    8.0   77.0  \n",
       "1  1715372035  #1 Sea cual sea la opción, seguro que preferir...    3.0   35.0  \n",
       "2  1715372235                         Un saludo Mysto, ¡hermoso!    4.0   51.0  \n",
       "3  1715372556  Es tal es desproposito y la barbarie que no ca...    6.0   52.0  \n",
       "4  1715372955  #1 Es el problema, uno no quiere rebajarse. Pe...    3.0   33.0  "
      ]
     },
     "execution_count": 8,
     "metadata": {},
     "output_type": "execute_result"
    }
   ],
   "source": [
    "df_no_nan.head()"
   ]
  },
  {
   "cell_type": "code",
   "execution_count": 9,
   "metadata": {},
   "outputs": [
    {
     "name": "stdout",
     "output_type": "stream",
     "text": [
      "<class 'pandas.core.frame.DataFrame'>\n",
      "Index: 99358 entries, 0 to 100177\n",
      "Data columns (total 10 columns):\n",
      " #   Column             Non-Null Count  Dtype  \n",
      "---  ------             --------------  -----  \n",
      " 0   URL                99358 non-null  object \n",
      " 1   fecha_envio        99358 non-null  int64  \n",
      " 2   fecha_publicacion  99358 non-null  int64  \n",
      " 3   pag_comentario     99358 non-null  int64  \n",
      " 4   num_comentario     99358 non-null  int64  \n",
      " 5   usuario            99358 non-null  object \n",
      " 6   fecha              99358 non-null  int64  \n",
      " 7   texto              99358 non-null  object \n",
      " 8   votos              99358 non-null  float64\n",
      " 9   karma              99358 non-null  float64\n",
      "dtypes: float64(2), int64(5), object(3)\n",
      "memory usage: 8.3+ MB\n"
     ]
    }
   ],
   "source": [
    "df_no_nan.info()"
   ]
  },
  {
   "cell_type": "code",
   "execution_count": 39,
   "metadata": {},
   "outputs": [
    {
     "data": {
      "text/plain": [
       "(99358, 10)"
      ]
     },
     "execution_count": 39,
     "metadata": {},
     "output_type": "execute_result"
    }
   ],
   "source": [
    "df_no_nan.shape"
   ]
  },
  {
   "cell_type": "code",
   "execution_count": 100,
   "metadata": {},
   "outputs": [],
   "source": [
    "palabras_especificas = [\"www.youtube.\",\"»   ver comentario\",\"»   comentario oculto por penalización\",\"edit\",\"www.\",\".com\",\".net\",\".org\",\".nl\",\"mas.to\",\"youtu.be\",\"menea.me\",\".eu\",\"jaja\",\"jeje\"]\n",
    "\n",
    "mask = df_no_nan[\"texto\"].str.contains(\"|\".join(palabras_especificas), case=False)\n",
    "\n",
    "df_filtrado_text = df_no_nan[~mask]"
   ]
  },
  {
   "cell_type": "code",
   "execution_count": 101,
   "metadata": {},
   "outputs": [
    {
     "data": {
      "text/plain": [
       "(63824, 10)"
      ]
     },
     "execution_count": 101,
     "metadata": {},
     "output_type": "execute_result"
    }
   ],
   "source": [
    "df_filtrado_text.shape"
   ]
  },
  {
   "cell_type": "code",
   "execution_count": 102,
   "metadata": {},
   "outputs": [
    {
     "data": {
      "text/html": [
       "<div>\n",
       "<style scoped>\n",
       "    .dataframe tbody tr th:only-of-type {\n",
       "        vertical-align: middle;\n",
       "    }\n",
       "\n",
       "    .dataframe tbody tr th {\n",
       "        vertical-align: top;\n",
       "    }\n",
       "\n",
       "    .dataframe thead th {\n",
       "        text-align: right;\n",
       "    }\n",
       "</style>\n",
       "<table border=\"1\" class=\"dataframe\">\n",
       "  <thead>\n",
       "    <tr style=\"text-align: right;\">\n",
       "      <th></th>\n",
       "      <th>URL</th>\n",
       "      <th>fecha_envio</th>\n",
       "      <th>fecha_publicacion</th>\n",
       "      <th>pag_comentario</th>\n",
       "      <th>num_comentario</th>\n",
       "      <th>usuario</th>\n",
       "      <th>fecha</th>\n",
       "      <th>texto</th>\n",
       "      <th>votos</th>\n",
       "      <th>karma</th>\n",
       "    </tr>\n",
       "  </thead>\n",
       "  <tbody>\n",
       "    <tr>\n",
       "      <th>0</th>\n",
       "      <td>https://old.meneame.net/story/arresten-lideres...</td>\n",
       "      <td>1715371648</td>\n",
       "      <td>1715379303</td>\n",
       "      <td>1</td>\n",
       "      <td>1</td>\n",
       "      <td>ingenierodepalillos</td>\n",
       "      <td>1715371791</td>\n",
       "      <td>O que les den de hostias hasta hartarse, son t...</td>\n",
       "      <td>8.0</td>\n",
       "      <td>77.0</td>\n",
       "    </tr>\n",
       "    <tr>\n",
       "      <th>1</th>\n",
       "      <td>https://old.meneame.net/story/arresten-lideres...</td>\n",
       "      <td>1715371648</td>\n",
       "      <td>1715379303</td>\n",
       "      <td>1</td>\n",
       "      <td>2</td>\n",
       "      <td>Top_Banana</td>\n",
       "      <td>1715372035</td>\n",
       "      <td>#1 Sea cual sea la opción, seguro que preferir...</td>\n",
       "      <td>3.0</td>\n",
       "      <td>35.0</td>\n",
       "    </tr>\n",
       "    <tr>\n",
       "      <th>2</th>\n",
       "      <td>https://old.meneame.net/story/arresten-lideres...</td>\n",
       "      <td>1715371648</td>\n",
       "      <td>1715379303</td>\n",
       "      <td>1</td>\n",
       "      <td>3</td>\n",
       "      <td>Top_Banana</td>\n",
       "      <td>1715372235</td>\n",
       "      <td>Un saludo Mysto, ¡hermoso!</td>\n",
       "      <td>4.0</td>\n",
       "      <td>51.0</td>\n",
       "    </tr>\n",
       "    <tr>\n",
       "      <th>3</th>\n",
       "      <td>https://old.meneame.net/story/arresten-lideres...</td>\n",
       "      <td>1715371648</td>\n",
       "      <td>1715379303</td>\n",
       "      <td>1</td>\n",
       "      <td>4</td>\n",
       "      <td>CharlesBrowson</td>\n",
       "      <td>1715372556</td>\n",
       "      <td>Es tal es desproposito y la barbarie que no ca...</td>\n",
       "      <td>6.0</td>\n",
       "      <td>52.0</td>\n",
       "    </tr>\n",
       "    <tr>\n",
       "      <th>4</th>\n",
       "      <td>https://old.meneame.net/story/arresten-lideres...</td>\n",
       "      <td>1715371648</td>\n",
       "      <td>1715379303</td>\n",
       "      <td>1</td>\n",
       "      <td>5</td>\n",
       "      <td>BigMom</td>\n",
       "      <td>1715372955</td>\n",
       "      <td>#1 Es el problema, uno no quiere rebajarse. Pe...</td>\n",
       "      <td>3.0</td>\n",
       "      <td>33.0</td>\n",
       "    </tr>\n",
       "    <tr>\n",
       "      <th>...</th>\n",
       "      <td>...</td>\n",
       "      <td>...</td>\n",
       "      <td>...</td>\n",
       "      <td>...</td>\n",
       "      <td>...</td>\n",
       "      <td>...</td>\n",
       "      <td>...</td>\n",
       "      <td>...</td>\n",
       "      <td>...</td>\n",
       "      <td>...</td>\n",
       "    </tr>\n",
       "    <tr>\n",
       "      <th>100169</th>\n",
       "      <td>https://old.meneame.net/story/comprar-coche-ca...</td>\n",
       "      <td>1712652664</td>\n",
       "      <td>1712654409</td>\n",
       "      <td>3</td>\n",
       "      <td>202</td>\n",
       "      <td>kovaliov7_6199a4fdcb40a</td>\n",
       "      <td>1712715302</td>\n",
       "      <td>#188 Yo era un chaval en los ochenta y no he c...</td>\n",
       "      <td>0.0</td>\n",
       "      <td>6.0</td>\n",
       "    </tr>\n",
       "    <tr>\n",
       "      <th>100171</th>\n",
       "      <td>https://old.meneame.net/story/comprar-coche-ca...</td>\n",
       "      <td>1712652664</td>\n",
       "      <td>1712654409</td>\n",
       "      <td>3</td>\n",
       "      <td>204</td>\n",
       "      <td>eduardor2k</td>\n",
       "      <td>1712732099</td>\n",
       "      <td>#189 porque en general los nuevos tardan x mes...</td>\n",
       "      <td>0.0</td>\n",
       "      <td>10.0</td>\n",
       "    </tr>\n",
       "    <tr>\n",
       "      <th>100172</th>\n",
       "      <td>https://old.meneame.net/story/comprar-coche-ca...</td>\n",
       "      <td>1712652664</td>\n",
       "      <td>1712654409</td>\n",
       "      <td>3</td>\n",
       "      <td>205</td>\n",
       "      <td>jacinto9999</td>\n",
       "      <td>1712737734</td>\n",
       "      <td>Chavalito, te has metido en un bucle y tienes ...</td>\n",
       "      <td>0.0</td>\n",
       "      <td>6.0</td>\n",
       "    </tr>\n",
       "    <tr>\n",
       "      <th>100176</th>\n",
       "      <td>https://old.meneame.net/story/comprar-coche-ca...</td>\n",
       "      <td>1712652664</td>\n",
       "      <td>1712654409</td>\n",
       "      <td>3</td>\n",
       "      <td>209</td>\n",
       "      <td>fuemsa2004</td>\n",
       "      <td>1712741657</td>\n",
       "      <td>#100 si el transporte publico funcionara, esto...</td>\n",
       "      <td>1.0</td>\n",
       "      <td>16.0</td>\n",
       "    </tr>\n",
       "    <tr>\n",
       "      <th>100177</th>\n",
       "      <td>https://old.meneame.net/story/comprar-coche-ca...</td>\n",
       "      <td>1712652664</td>\n",
       "      <td>1712654409</td>\n",
       "      <td>3</td>\n",
       "      <td>210</td>\n",
       "      <td>Moreno81</td>\n",
       "      <td>1712748318</td>\n",
       "      <td>#164 Obviamente NO. el problema es que hay gen...</td>\n",
       "      <td>0.0</td>\n",
       "      <td>7.0</td>\n",
       "    </tr>\n",
       "  </tbody>\n",
       "</table>\n",
       "<p>63824 rows × 10 columns</p>\n",
       "</div>"
      ],
      "text/plain": [
       "                                                      URL  fecha_envio  \\\n",
       "0       https://old.meneame.net/story/arresten-lideres...   1715371648   \n",
       "1       https://old.meneame.net/story/arresten-lideres...   1715371648   \n",
       "2       https://old.meneame.net/story/arresten-lideres...   1715371648   \n",
       "3       https://old.meneame.net/story/arresten-lideres...   1715371648   \n",
       "4       https://old.meneame.net/story/arresten-lideres...   1715371648   \n",
       "...                                                   ...          ...   \n",
       "100169  https://old.meneame.net/story/comprar-coche-ca...   1712652664   \n",
       "100171  https://old.meneame.net/story/comprar-coche-ca...   1712652664   \n",
       "100172  https://old.meneame.net/story/comprar-coche-ca...   1712652664   \n",
       "100176  https://old.meneame.net/story/comprar-coche-ca...   1712652664   \n",
       "100177  https://old.meneame.net/story/comprar-coche-ca...   1712652664   \n",
       "\n",
       "        fecha_publicacion  pag_comentario  num_comentario  \\\n",
       "0              1715379303               1               1   \n",
       "1              1715379303               1               2   \n",
       "2              1715379303               1               3   \n",
       "3              1715379303               1               4   \n",
       "4              1715379303               1               5   \n",
       "...                   ...             ...             ...   \n",
       "100169         1712654409               3             202   \n",
       "100171         1712654409               3             204   \n",
       "100172         1712654409               3             205   \n",
       "100176         1712654409               3             209   \n",
       "100177         1712654409               3             210   \n",
       "\n",
       "                        usuario       fecha  \\\n",
       "0           ingenierodepalillos  1715371791   \n",
       "1                    Top_Banana  1715372035   \n",
       "2                    Top_Banana  1715372235   \n",
       "3                CharlesBrowson  1715372556   \n",
       "4                        BigMom  1715372955   \n",
       "...                         ...         ...   \n",
       "100169  kovaliov7_6199a4fdcb40a  1712715302   \n",
       "100171               eduardor2k  1712732099   \n",
       "100172              jacinto9999  1712737734   \n",
       "100176               fuemsa2004  1712741657   \n",
       "100177                 Moreno81  1712748318   \n",
       "\n",
       "                                                    texto  votos  karma  \n",
       "0       O que les den de hostias hasta hartarse, son t...    8.0   77.0  \n",
       "1       #1 Sea cual sea la opción, seguro que preferir...    3.0   35.0  \n",
       "2                              Un saludo Mysto, ¡hermoso!    4.0   51.0  \n",
       "3       Es tal es desproposito y la barbarie que no ca...    6.0   52.0  \n",
       "4       #1 Es el problema, uno no quiere rebajarse. Pe...    3.0   33.0  \n",
       "...                                                   ...    ...    ...  \n",
       "100169  #188 Yo era un chaval en los ochenta y no he c...    0.0    6.0  \n",
       "100171  #189 porque en general los nuevos tardan x mes...    0.0   10.0  \n",
       "100172  Chavalito, te has metido en un bucle y tienes ...    0.0    6.0  \n",
       "100176  #100 si el transporte publico funcionara, esto...    1.0   16.0  \n",
       "100177  #164 Obviamente NO. el problema es que hay gen...    0.0    7.0  \n",
       "\n",
       "[63824 rows x 10 columns]"
      ]
     },
     "execution_count": 102,
     "metadata": {},
     "output_type": "execute_result"
    }
   ],
   "source": [
    "df_filtrado_text"
   ]
  },
  {
   "cell_type": "code",
   "execution_count": 103,
   "metadata": {},
   "outputs": [
    {
     "data": {
      "text/plain": [
       "0         O que les den de hostias hasta hartarse, son t...\n",
       "1         #1 Sea cual sea la opción, seguro que preferir...\n",
       "2                                Un saludo Mysto, ¡hermoso!\n",
       "3         Es tal es desproposito y la barbarie que no ca...\n",
       "4         #1 Es el problema, uno no quiere rebajarse. Pe...\n",
       "                                ...                        \n",
       "100169    #188 Yo era un chaval en los ochenta y no he c...\n",
       "100171    #189 porque en general los nuevos tardan x mes...\n",
       "100172    Chavalito, te has metido en un bucle y tienes ...\n",
       "100176    #100 si el transporte publico funcionara, esto...\n",
       "100177    #164 Obviamente NO. el problema es que hay gen...\n",
       "Name: texto, Length: 63824, dtype: object"
      ]
     },
     "execution_count": 103,
     "metadata": {},
     "output_type": "execute_result"
    }
   ],
   "source": [
    "df_texto = df_filtrado_text[\"texto\"]\n",
    "\n",
    "df_texto"
   ]
  },
  {
   "cell_type": "code",
   "execution_count": 104,
   "metadata": {},
   "outputs": [
    {
     "data": {
      "text/plain": [
       "(63824,)"
      ]
     },
     "execution_count": 104,
     "metadata": {},
     "output_type": "execute_result"
    }
   ],
   "source": [
    "df_texto.shape"
   ]
  },
  {
   "cell_type": "code",
   "execution_count": null,
   "metadata": {},
   "outputs": [],
   "source": []
  },
  {
   "cell_type": "code",
   "execution_count": null,
   "metadata": {},
   "outputs": [],
   "source": []
  },
  {
   "cell_type": "code",
   "execution_count": null,
   "metadata": {},
   "outputs": [],
   "source": []
  },
  {
   "cell_type": "code",
   "execution_count": null,
   "metadata": {},
   "outputs": [],
   "source": []
  },
  {
   "cell_type": "code",
   "execution_count": null,
   "metadata": {},
   "outputs": [],
   "source": []
  },
  {
   "cell_type": "code",
   "execution_count": null,
   "metadata": {},
   "outputs": [],
   "source": []
  },
  {
   "cell_type": "code",
   "execution_count": null,
   "metadata": {},
   "outputs": [],
   "source": []
  },
  {
   "cell_type": "code",
   "execution_count": null,
   "metadata": {},
   "outputs": [],
   "source": []
  },
  {
   "cell_type": "code",
   "execution_count": null,
   "metadata": {},
   "outputs": [],
   "source": []
  },
  {
   "cell_type": "code",
   "execution_count": null,
   "metadata": {},
   "outputs": [],
   "source": []
  },
  {
   "cell_type": "code",
   "execution_count": null,
   "metadata": {},
   "outputs": [],
   "source": []
  },
  {
   "cell_type": "code",
   "execution_count": null,
   "metadata": {},
   "outputs": [],
   "source": []
  },
  {
   "cell_type": "code",
   "execution_count": null,
   "metadata": {},
   "outputs": [],
   "source": []
  },
  {
   "cell_type": "code",
   "execution_count": null,
   "metadata": {},
   "outputs": [],
   "source": []
  },
  {
   "cell_type": "code",
   "execution_count": 10,
   "metadata": {},
   "outputs": [
    {
     "data": {
      "text/plain": [
       "(array([-50.,   0.,  50., 100., 150., 200., 250., 300.]),\n",
       " [Text(-50.0, 0, '−50'),\n",
       "  Text(0.0, 0, '0'),\n",
       "  Text(50.0, 0, '50'),\n",
       "  Text(100.0, 0, '100'),\n",
       "  Text(150.0, 0, '150'),\n",
       "  Text(200.0, 0, '200'),\n",
       "  Text(250.0, 0, '250'),\n",
       "  Text(300.0, 0, '300')])"
      ]
     },
     "execution_count": 10,
     "metadata": {},
     "output_type": "execute_result"
    },
    {
     "data": {
      "image/png": "[encoded data removed]",
      "text/plain": [
       "<Figure size 1400x600 with 1 Axes>"
      ]
     },
     "metadata": {},
     "output_type": "display_data"
    }
   ],
   "source": [
    "plt.figure(figsize = (14,6))\n",
    "sns.boxplot(x=df_no_nan[\"votos\"])\n",
    "plt.xticks(rotation=45, ha=\"right\")"
   ]
  },
  {
   "cell_type": "code",
   "execution_count": 11,
   "metadata": {},
   "outputs": [
    {
     "data": {
      "text/plain": [
       "(array([-1000.,  -500.,     0.,   500.,  1000.,  1500.,  2000.]),\n",
       " [Text(-1000.0, 0, '−1000'),\n",
       "  Text(-500.0, 0, '−500'),\n",
       "  Text(0.0, 0, '0'),\n",
       "  Text(500.0, 0, '500'),\n",
       "  Text(1000.0, 0, '1000'),\n",
       "  Text(1500.0, 0, '1500'),\n",
       "  Text(2000.0, 0, '2000')])"
      ]
     },
     "execution_count": 11,
     "metadata": {},
     "output_type": "execute_result"
    },
    {
     "data": {
      "image/png": "[encoded data removed]",
      "text/plain": [
       "<Figure size 1400x600 with 1 Axes>"
      ]
     },
     "metadata": {},
     "output_type": "display_data"
    }
   ],
   "source": [
    "plt.figure(figsize = (14,6))\n",
    "sns.boxplot(x=df_no_nan[\"karma\"])\n",
    "plt.xticks(rotation=45, ha=\"right\")"
   ]
  }
 ],
 "metadata": {
  "kernelspec": {
   "display_name": "Python 3",
   "language": "python",
   "name": "python3"
  },
  "language_info": {
   "codemirror_mode": {
    "name": "ipython",
    "version": 3
   },
   "file_extension": ".py",
   "mimetype": "text/x-python",
   "name": "python",
   "nbconvert_exporter": "python",
   "pygments_lexer": "ipython3",
   "version": "3.12.2"
  }
 },
 "nbformat": 4,
 "nbformat_minor": 2
}
